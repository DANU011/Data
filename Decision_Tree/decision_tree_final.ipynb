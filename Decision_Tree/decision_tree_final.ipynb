{
 "cells": [
  {
   "cell_type": "markdown",
   "metadata": {
    "ExecuteTime": {
     "end_time": "2021-06-03T11:41:23.711780Z",
     "start_time": "2021-06-03T11:41:17.253051Z"
    },
    "id": "ZrB_rUcMEKhi"
   },
   "source": [
    "# Modules"
   ]
  },
  {
   "cell_type": "code",
   "execution_count": 1,
   "metadata": {
    "id": "49msIMiwEKhj",
    "ExecuteTime": {
     "end_time": "2023-05-01T02:56:09.501113400Z",
     "start_time": "2023-05-01T02:56:09.063780Z"
    }
   },
   "outputs": [
    {
     "ename": "ModuleNotFoundError",
     "evalue": "No module named 'graphviz'",
     "output_type": "error",
     "traceback": [
      "\u001B[1;31m---------------------------------------------------------------------------\u001B[0m",
      "\u001B[1;31mModuleNotFoundError\u001B[0m                       Traceback (most recent call last)",
      "Cell \u001B[1;32mIn[1], line 1\u001B[0m\n\u001B[1;32m----> 1\u001B[0m \u001B[38;5;28;01mfrom\u001B[39;00m \u001B[38;5;21;01mgraphviz\u001B[39;00m \u001B[38;5;28;01mimport\u001B[39;00m \u001B[38;5;241m*\u001B[39m\n\u001B[0;32m      2\u001B[0m \u001B[38;5;28;01mfrom\u001B[39;00m \u001B[38;5;21;01msklearn\u001B[39;00m\u001B[38;5;21;01m.\u001B[39;00m\u001B[38;5;21;01mdatasets\u001B[39;00m \u001B[38;5;28;01mimport\u001B[39;00m load_iris\n\u001B[0;32m      3\u001B[0m \u001B[38;5;28;01mfrom\u001B[39;00m \u001B[38;5;21;01msklearn\u001B[39;00m \u001B[38;5;28;01mimport\u001B[39;00m tree\n",
      "\u001B[1;31mModuleNotFoundError\u001B[0m: No module named 'graphviz'"
     ]
    }
   ],
   "source": [
    "from graphviz import *\n",
    "from sklearn.datasets import load_iris\n",
    "from sklearn import tree\n",
    "\n",
    "from collections import Counter\n",
    "from itertools import chain, combinations\n",
    "\n",
    "import ast\n",
    "import matplotlib.pyplot as plt\n",
    "import pandas as pd\n",
    "import numpy as np \n",
    "import graphviz\n",
    "import seaborn as sns"
   ]
  },
  {
   "cell_type": "markdown",
   "metadata": {
    "id": "-hCN6PFGEKhk"
   },
   "source": [
    "# Helper Tools"
   ]
  },
  {
   "cell_type": "code",
   "execution_count": 2,
   "metadata": {
    "ExecuteTime": {
     "end_time": "2021-06-10T12:00:02.128394Z",
     "start_time": "2021-06-10T12:00:02.040891Z"
    },
    "code_folding": [
     73,
     86,
     95,
     100,
     108,
     120,
     125,
     175,
     180,
     185,
     191,
     233,
     330
    ],
    "id": "mug-xf8LEKhk"
   },
   "outputs": [],
   "source": [
    "class Node:\n",
    "    def __init__(self,nodeId, label, isRoot=False,parentNode=None,\n",
    "               leftNode=None,rightNode=None,isTerminal=False, \n",
    "                 attr={}):\n",
    "        self.nodeId = nodeId ## 노드 식별 아이디\n",
    "        self.label = label ## 노드 텍스트\n",
    "        self.attr = attr ## 노드 스타일 속성\n",
    "        self.isRoot = isRoot ## 루트 노드 여부\n",
    "        self.parentNode = parentNode ## 부모 마디(노드)\n",
    "        self.leftNode = leftNode ## 왼쪽 자식 노드(마디)\n",
    "        self.rightNode = rightNode ## 오른쪽 자식 노드\n",
    "        self.isTerminal = isTerminal ## 터미널 노드 여부\n",
    "        self.level = 0 ## 노드가 속한 층\n",
    "        \n",
    "def visualize_tree(tree):\n",
    "    def add_node_edge(tree, dot=None):\n",
    "        if dot is None:\n",
    "            dot = Digraph()\n",
    "#             name = tree\n",
    "            dot.node(name = str(tree.nodeId), label = str(tree.label), **tree.attr)\n",
    "\n",
    "        ## left\n",
    "        if tree.leftNode:\n",
    "            dot.node(name=str(tree.leftNode.nodeId),label=str(tree.leftNode.label),\n",
    "                     **tree.leftNode.attr) \n",
    "            dot.edge(str(tree.nodeId), str(tree.leftNode.nodeId),\n",
    "                     **{'taillabel':\"yes\",'labeldistance':'2.5'})\n",
    "            dot = add_node_edge(tree.leftNode, dot)\n",
    "            \n",
    "        if tree.rightNode:\n",
    "            dot.node(name=str(tree.rightNode.nodeId),label=str(tree.rightNode.label),\n",
    "                     **tree.rightNode.attr)\n",
    "            dot.edge(str(tree.nodeId), str(tree.rightNode.nodeId),\n",
    "                    **{'headlabel':\" no\",'labeldistance':'2'})\n",
    "            dot = add_node_edge(tree.rightNode, dot)\n",
    "\n",
    "        return dot\n",
    "        \n",
    "    dot = add_node_edge(tree)\n",
    "    \n",
    "    return dot\n",
    "\n",
    "def RGBtoHex(vals, rgbtype=1):\n",
    "    \"\"\"Converts RGB values in a variety of formats to Hex values.\n",
    "\n",
    "     @param  vals     An RGB/RGBA tuple\n",
    "     @param  rgbtype  Valid valus are:\n",
    "                          1 - Inputs are in the range 0 to 1\n",
    "                        256 - Inputs are in the range 0 to 255\n",
    "\n",
    "     @return A hex string in the form '#RRGGBB' or '#RRGGBBAA'\n",
    "    \"\"\"\n",
    "\n",
    "    if len(vals)!=3 and len(vals)!=4:\n",
    "        raise Exception(\"RGB or RGBA inputs to RGBtoHex must have three or four elements!\")\n",
    "    if rgbtype!=1 and rgbtype!=256:\n",
    "        raise Exception(\"rgbtype must be 1 or 256!\")\n",
    "\n",
    "    #Convert from 0-1 RGB/RGBA to 0-255 RGB/RGBA\n",
    "    if rgbtype==1:\n",
    "        vals = [255*x for x in vals]\n",
    "\n",
    "    #Ensure values are rounded integers, convert to hex, and concatenate\n",
    "    return '#' + ''.join(['{:02X}'.format(int(round(x))) for x in vals])\n",
    "\n",
    "def is_integer_num(n):\n",
    "    if isinstance(n, int):\n",
    "        return True\n",
    "    if isinstance(n, float):\n",
    "        return n.is_integer()\n",
    "    return False\n",
    "\n",
    "class DecisionTree:\n",
    "    def __init__(self, tree_type='classification',):\n",
    "        tree_types = ['classification','regression']\n",
    "        assert tree_type in tree_types, f'tree_type must be the one of the {tree_types}'\n",
    "        self.tree_type = tree_type ## 트리 유형\n",
    "        self.impurity_measure = None ## 불순도 측도\n",
    "        self.root = None ## 트리 노드\n",
    "        self.node_id = 0 ## 노드 아이디\n",
    "        self.col_names = None ## 칼럼 이름\n",
    "        self.col_types = None ## 변수 타입\n",
    "        self.X = None ## train data X\n",
    "        self.y = None ## train data y\n",
    "        self.leaf_attr = None ## 끝마디 스타일 속성\n",
    "    \n",
    "    def traverseInOrder(self, node):\n",
    "        res = []\n",
    "        if node.leftNode != None:\n",
    "            res = res + self.traverseInOrder(node.leftNode)\n",
    "        res.append(node)\n",
    "        if node.rightNode != None:\n",
    "            res = res + self.traverseInOrder(node.rightNode)\n",
    "        return res\n",
    "    \n",
    "    def getDepth(self, root):\n",
    "        res = self.traverseInOrder(root)\n",
    "        res = [abs(node.level) for node in res]\n",
    "        return max(res)\n",
    "    \n",
    "    def getLevel(self, node, counter = 1):\n",
    "        if node.parentNode is None:\n",
    "            return counter\n",
    "        else:\n",
    "            counter += 1\n",
    "            counter = self.getLevel(node.parentNode,counter)\n",
    "        return counter\n",
    "    \n",
    "    def determineTypeOfCol(self,X, num_unique_values_threshold=15):\n",
    "        col_types = []\n",
    "        for col in X.columns:\n",
    "            unique_values = X[col].unique()\n",
    "            example_value = unique_values[0]\n",
    "            \n",
    "            if (isinstance(example_value, str)) or (len(unique_values) <= num_unique_values_threshold):\n",
    "                col_types.append('categorical')\n",
    "            else:\n",
    "                col_types.append('continuous')\n",
    "        self.col_types = col_types\n",
    "\n",
    "    def isPure(self,y):\n",
    "        if len(np.unique(y)) > 1:\n",
    "            return False\n",
    "        return True\n",
    "    \n",
    "    def impurity(self, left_y, right_y):\n",
    "#         impurity_val = 'no'\n",
    "#         if self.impurity_measure == 'entropy':\n",
    "#             n = len(left_y)+len(right_y)\n",
    "#             pl, pr = len(left_y)/n, len(right_y)/n\n",
    "#             impurity_val = pl*self.individualImpurity(left_y)+\\\n",
    "#                             pr*self.individualImpurity(right_y)\n",
    "#         elif self.impurity_measure == 'gini':\n",
    "#             n = len(left_y)+len(right_y)\n",
    "#             pl, pr = len(left_y)/n, len(right_y)/n\n",
    "#             impurity_val = pl*self.individualImpurity(left_y)+\\\n",
    "#                             pr*self.individualImpurity(right_y)\n",
    "#         elif self.impurity_measure == 'mse':\n",
    "        y = self.y\n",
    "        n = len(left_y)+len(right_y)\n",
    "        \n",
    "        if self.impurity_measure == 'chi2':\n",
    "            try:\n",
    "                label = np.unique(y)\n",
    "                contingency_table = dict()\n",
    "                expected_table = dict()\n",
    "                for l in label:\n",
    "                    temp1 = []\n",
    "                    temp1.append(np.sum(left_y==l))\n",
    "                    temp1.append(np.sum(right_y==l))\n",
    "                    contingency_table[l] = temp1\n",
    "                    temp2 = []\n",
    "                    temp2.append((np.sum(left_y==l) + np.sum(right_y==l))*len(left_y)/n)\n",
    "                    temp2.append((np.sum(left_y==l) + np.sum(right_y==l))*len(right_y)/n)\n",
    "                    expected_table[l] = temp2\n",
    "\n",
    "                observed = np.array([v for k,v in contingency_table.items()]).flatten()\n",
    "                expected = np.array([v for k,v in expected_table.items()]).flatten()\n",
    "                impurity_val = np.nansum(np.square(observed-expected)/expected)\n",
    "            except RuntimeWarning:\n",
    "                raise\n",
    "        else:\n",
    "            pl, pr = len(left_y)/n, len(right_y)/n\n",
    "            impurity_val = pl*self.individualImpurity(left_y)+\\\n",
    "                            pr*self.individualImpurity(right_y)\n",
    "        return impurity_val\n",
    "            \n",
    "    def individualImpurity(self, y):\n",
    "        if self.impurity_measure == 'entropy':\n",
    "            return self._entropy(y)\n",
    "        elif self.impurity_measure == 'gini':\n",
    "            return self._gini(y)\n",
    "        elif self.impurity_measure == 'mse':\n",
    "            return self._mse(y)\n",
    "    \n",
    "    def _entropy(self, y):\n",
    "        _, counts = np.unique(y, return_counts=True)\n",
    "        ps = counts / len(y)\n",
    "        return -np.sum([p * np.log2(p) for p in ps if p > 0])\n",
    "    \n",
    "    def _gini(self, y):\n",
    "        _, counts = np.unique(y, return_counts=True)\n",
    "        ps = counts / len(y)\n",
    "        return np.sum([p*(1-p) for p in ps if p > 0])\n",
    "    \n",
    "    def _mse(self, y):\n",
    "        if len(y) == 0:\n",
    "            return 0\n",
    "        mse = np.mean(np.square(y-np.mean(y)))\n",
    "        return mse\n",
    "    \n",
    "    def createLeaf(self, y, tree_type):\n",
    "        if tree_type == 'classification':\n",
    "            classes, counts = np.unique(y, return_counts=True)\n",
    "            index = counts.argmax()\n",
    "            return classes[index]\n",
    "        else:\n",
    "            return np.mean(y)\n",
    "    \n",
    "    def powerset_generator(self, i):\n",
    "        for subset in chain.from_iterable(combinations(i, r) for r in range(len(i)+1)):\n",
    "            yield set(subset)\n",
    "        \n",
    "    def splitSet(self, x):\n",
    "        ps = [i for i in self.powerset_generator(x) if i != set() and len(i) != len(x)]\n",
    "        idx = int(len(ps)/2)\n",
    "        split_set = []\n",
    "        for j in range(idx):\n",
    "            split_set.append(tuple(ps[j]))\n",
    "        return split_set\n",
    "        \n",
    "    def getPotentialSplits(self,X):\n",
    "        potential_splits = {}\n",
    "        col_types = self.col_types\n",
    "        for col_idx in range(X.shape[1]):\n",
    "            unique_value = np.unique(X[:,col_idx])\n",
    "            if col_types[col_idx] == 'continuous':\n",
    "                potential_splits[col_idx] = unique_value\n",
    "            else:\n",
    "                potential_splits[col_idx] = self.splitSet(unique_value)\n",
    "        return potential_splits\n",
    "    \n",
    "    def split(self, X, col_idx, threshold):\n",
    "        X_col = X[:,col_idx]\n",
    "        col_types = self.col_types\n",
    "        if col_types[col_idx] == 'continuous':\n",
    "            left_idx = np.argwhere(X_col<=threshold).flatten()\n",
    "            right_idx = np.argwhere(X_col>threshold).flatten()\n",
    "        else:\n",
    "            left_idx = np.argwhere(np.isin(X_col,threshold)).flatten()\n",
    "            right_idx = np.argwhere(~np.isin(X_col,threshold)).flatten()\n",
    "        return left_idx, right_idx\n",
    "    \n",
    "    def determinBestSplit(self, X, y, potential_splits):\n",
    "        best_split_column, best_split_value, opt_impurity = '', '', ''\n",
    "        if self.impurity_measure in ['entropy','gini','mse']: \n",
    "            opt_impurity = np.infty\n",
    "            for col in potential_splits:\n",
    "                for val in potential_splits[col]:\n",
    "                    left_idx, right_idx = self.split(X,col,val)\n",
    "                    cur_impurity = self.impurity(y[left_idx],y[right_idx])\n",
    "                    if cur_impurity <= opt_impurity:\n",
    "                        opt_impurity = cur_impurity\n",
    "                        best_split_column = col\n",
    "                        best_split_value = val\n",
    "        else:\n",
    "            opt_impurity = -np.infty\n",
    "            for col in potential_splits:\n",
    "                for val in potential_splits[col]:\n",
    "                    left_idx, right_idx = self.split(X,col,val)\n",
    "                    cur_impurity = self.impurity(y[left_idx],y[right_idx])\n",
    "                    if cur_impurity >= opt_impurity:\n",
    "                        opt_impurity = cur_impurity\n",
    "                        best_split_column = col\n",
    "                        best_split_value = val\n",
    "\n",
    "        return best_split_column, best_split_value, opt_impurity\n",
    "        \n",
    "    def fit(self,X,y,impurity_measure='entropy',min_sample=5, max_depth=5, \n",
    "            type_of_col=None, auto_determine_type_of_col=True,\n",
    "            num_unique_values_threshold = 15\n",
    "           ):\n",
    "        '''\n",
    "        impurity_measure : 불순도 측도\n",
    "        min_sample : 노드가 포함해야하는 최소 샘플 개수,\n",
    "        max_depth : 나무 최대 깊이 설정\n",
    "        type_of_col : 변수 타입 리스트\n",
    "        auto_determine_type_of_col : 변수 타입 자동 생성 여부\n",
    "        num_unique_values_threshold : 범주형으로 지정할 최대 유니크 원소 개수\n",
    "        '''\n",
    "        self.X = X\n",
    "        self.y = y\n",
    "        ### 랜덤으로 칼럼 선택하는 것도 고르자. X = X[random_indices,:]\n",
    "#         if type_of_col is None:\n",
    "#             type_of_col = determinTypeOfCol(X)\n",
    "        if auto_determine_type_of_col:\n",
    "            self.determineTypeOfCol(X, num_unique_values_threshold)\n",
    "        else:\n",
    "            if type_of_col is None:\n",
    "                raise ValueError('When auto_determine_type_of_col is False, then type_of_col must be specified')\n",
    "            assert X.shape[1] == len(type_of_col), 'type_of_col has the same length of X columns'\n",
    "            give_type_of_col = list(set(type_of_col))\n",
    "            for toc in give_type_of_col:\n",
    "                if toc != 'categorical' and toc != 'continuous':\n",
    "                    raise ValueError('type_of_col must contain categorical or continuous')\n",
    "            self.col_types = type_of_col\n",
    "            \n",
    "        tree_type = self.tree_type\n",
    "        impurity_measures = ['entropy','gini','chi2'] if tree_type == 'classification' else ['mse']\n",
    "        assert impurity_measure in impurity_measures,\\\n",
    "                f'impurity_measure must be the one of the {impurity_measures}'\n",
    "        self.impurity_measure = impurity_measure\n",
    "        tree_type = self.tree_type\n",
    "        self.root = self._growTree(X,y,tree_type,min_sample=min_sample, max_depth=max_depth)\n",
    "        \n",
    "        ### assign node a style\n",
    "        iod = self.traverseInOrder(self.root)\n",
    "        root_node = [node for node in iod if node.nodeId == 1][0]\n",
    "        root_node.isRoot = True\n",
    "        ## set node level\n",
    "        for nd in iod:\n",
    "            nd.level = self.getLevel(nd)\n",
    "        \n",
    "        colors = sns.color_palette('hls', self.getDepth(self.root))\n",
    "        \n",
    "        ## set node level\n",
    "        if tree_type == 'classification':\n",
    "            leaf_color = sns.color_palette('pastel', len(np.unique(y)))\n",
    "#             class_to_color = dict()\n",
    "#             for i, l in enumerate(np.unique(y)):\n",
    "#                 class_to_color[l] = RGBtoHex(leaf_color[i])\n",
    "            leaf_attr = dict()\n",
    "            for i, l in enumerate(np.unique(y)):\n",
    "                leaf_attr[l] = {'shape':'box', 'color':f'{RGBtoHex(leaf_color[i])}', \n",
    "                                       'fontcolor':f'{RGBtoHex(leaf_color[i])}','peripheries':'2'}\n",
    "            self.leaf_attr = leaf_attr\n",
    "        for l in range(1,self.getDepth(self.root)+1):\n",
    "            color = RGBtoHex(colors[l-1])\n",
    "            for nd in iod:\n",
    "                if nd.level == l:\n",
    "                    if nd.isTerminal:\n",
    "                        if tree_type == 'classification':\n",
    "                            nd.attr =  leaf_attr[nd.label]\n",
    "#                             nd.attr = {'shape':'box', 'color':f'{class_to_color[nd.label]}', \n",
    "#                                        'fontcolor':f'{class_to_color[nd.label]}','peripheries':'2'}\n",
    "                        else:\n",
    "                            nd.attr = {'shape':'box','peripheries':'2'}\n",
    "                    else:\n",
    "                        nd.attr = {'shape':'box','style':'filled',\n",
    "                                   'fillcolor':f'{color}'}\n",
    "        \n",
    "    def _growTree(self, X, y, tree_type, counter=0, min_sample=5, max_depth=5): ## Tree 배고 노드 클래스만 가지고 해야겠다.\n",
    "        self.node_id += 1\n",
    "        \n",
    "        if counter == 0:\n",
    "            global col_names\n",
    "#             col_types = self.col_types\n",
    "            col_names = X.columns\n",
    "            self.col_names = X.columns\n",
    "            if isinstance(X, pd.DataFrame):\n",
    "                X = X.values\n",
    "            if isinstance(y, pd.Series):\n",
    "                y = y.values\n",
    "        else:\n",
    "            X = X\n",
    "        if (self.isPure(y)) or (len(y) <= min_sample) or (counter == max_depth):\n",
    "            leaf = self.createLeaf(y, tree_type)\n",
    "            if isinstance(leaf, float):\n",
    "                if not leaf.is_integer():\n",
    "                    leaf = round(leaf,2)\n",
    "            return Node(self.node_id, label=leaf, isTerminal=True)\n",
    "\n",
    "        else:\n",
    "            counter += 1\n",
    "            potential_splits = self.getPotentialSplits(X)\n",
    "            best_split_column, best_split_value, opt_impurity =\\\n",
    "                self.determinBestSplit(X, y, potential_splits)\n",
    "            opt_impurity = round(opt_impurity,4)\n",
    "            left_idx, right_idx = self.split(X,best_split_column,best_split_value)\n",
    "            \n",
    "            ## check for empty data\n",
    "            if len(left_idx) == 0 or len(right_idx) == 0:\n",
    "                leaf = self.createLeaf(y, tree_type)\n",
    "                if isinstance(leaf, float):\n",
    "                    if not leaf.is_integer():\n",
    "                        leaf = round(leaf,2)\n",
    "                return Node(self.node_id, label=round(leaf,4), isTerminal=True)\n",
    "            \n",
    "            total_sample = len(y)\n",
    "            \n",
    "            col_name = col_names[best_split_column]\n",
    "#             if self.tree_type == 'classification':\n",
    "            if self.col_types[best_split_column] == 'continuous':\n",
    "                question = f'{col_name} <= {best_split_value}\\n'+\\\n",
    "                            f'{self.impurity_measure} : {opt_impurity}\\n'+\\\n",
    "                            f'Samples : {total_sample}'\n",
    "            else:\n",
    "                question = f'{col_name} in {best_split_value}\\n'+\\\n",
    "                            f'{self.impurity_measure} : {opt_impurity}\\n'+\\\n",
    "                            f'Samples : {total_sample}'\n",
    "#             sub_tree = {question:[]}\n",
    "            node = Node(self.node_id, label=question)\n",
    "            \n",
    "            left_child = self._growTree(X[left_idx,:],y[left_idx],tree_type,counter, min_sample, max_depth)  \n",
    "            right_child = self._growTree(X[right_idx,:],y[right_idx],tree_type,counter, min_sample, max_depth)\n",
    "            \n",
    "\n",
    "            if left_child.label == right_child.label:\n",
    "                node = left_child\n",
    "            else:\n",
    "                node.leftNode = left_child\n",
    "                node.rightNode = right_child\n",
    "                left_child.parentNode = node\n",
    "                right_child.parentNode = node\n",
    "\n",
    "            return node\n",
    "    \n",
    "    def predict(self,X):\n",
    "        return np.array([self._traverse_tree(x, self.root) for _, x in X.iterrows()])\n",
    "    \n",
    "    def _traverse_tree(self, x, node):\n",
    "        if node.isTerminal:\n",
    "            if isinstance(node.label, str):\n",
    "                node.label = node.label.replace('\\n','')\n",
    "            return node.label\n",
    "        \n",
    "        question = node.label.split('\\n')[0]\n",
    "        \n",
    "        if ' <= ' in question:\n",
    "            col_name, value = question.split(' <= ')\n",
    "            if x[col_name] <= float(value):\n",
    "                return self._traverse_tree(x, node.leftNode)\n",
    "            return self._traverse_tree(x, node.rightNode)\n",
    "        else:\n",
    "            col_name, value = question.split(' in ')\n",
    "            if x[col_name] in ast.literal_eval(value):\n",
    "                return self._traverse_tree(x, node.leftNode)\n",
    "            return self._traverse_tree(x, node.rightNode)\n",
    "        \n",
    "    def pruning(self, node, X_val, y_val):\n",
    "        X = self.X\n",
    "        y = self.y\n",
    "        if isinstance(y, pd.Series):\n",
    "            y = y.values\n",
    "        return self._pruning(node, X, y, X_val, y_val)\n",
    "    \n",
    "    def _filterX(self, X, node):\n",
    "        question = node.label.split('\\n')[0]\n",
    "        if ' <= ' in question:\n",
    "            col_name, value = question.split(' <= ')\n",
    "            yes_index = X.loc[X[col_name] <= float(value)].index\n",
    "            no_index = X.loc[X[col_name] > float(value)].index\n",
    "        else:\n",
    "            col_name, value = question.split(' in ')\n",
    "            yes_index = X.loc[X[col_name].isin(ast.literal_eval(value))].index\n",
    "            no_index = X.loc[~X[col_name].isin(ast.literal_eval(value))].index\n",
    "        return yes_index, no_index\n",
    "    \n",
    "    def _pruning_leaf(self, node, X, y, X_val, y_val):\n",
    "        if self.tree_type == 'classification':\n",
    "            classes, counts = np.unique(y, return_counts=True)\n",
    "            index = counts.argmax()\n",
    "            leaf = classes[index]\n",
    "            errors_leaf = np.sum(y_val != leaf)\n",
    "            errors_decision_node = np.sum(y_val != self.predict(X_val)) ##<---self로 바꿔야해\n",
    "            if errors_leaf <= errors_decision_node:\n",
    "                if isinstance(leaf, float):\n",
    "                    if not leaf.is_integer():\n",
    "                        leaf = round(leaf,2)\n",
    "                return Node(node.nodeId, label=leaf, isTerminal=True,\n",
    "                            attr=self.leaf_attr[leaf])\n",
    "            else:\n",
    "                return node\n",
    "        else:\n",
    "            return\n",
    "    \n",
    "    def _pruning(self, node, X, y, X_val, y_val):\n",
    "#         assert self.root is not None, 'you must fit first'\n",
    "        X = X.reset_index(drop=True)\n",
    "        left_child = node.leftNode\n",
    "        right_child = node.rightNode\n",
    "        if node.leftNode.isTerminal == True and node.rightNode.isTerminal == True:\n",
    "            return self._pruning_leaf(node, X, y, X_val, y_val)\n",
    "        else:\n",
    "            if self.tree_type == 'classification':\n",
    "                tr_yes_idx, tr_no_idx = self._filterX(X, node)\n",
    "                val_yes_idx, val_no_idx = self._filterX(X_val, node)\n",
    "                \n",
    "                if node.leftNode.isTerminal == False:\n",
    "                    left_child = self._pruning(node.leftNode, X.loc[tr_yes_idx], y[tr_yes_idx],\n",
    "                                  X_val.loc[val_yes_idx], y_val[val_yes_idx])\n",
    "#                     node.leftNode = left_child\n",
    "#                     left_child.parentNode = node\n",
    "                if node.rightNode.isTerminal == False:\n",
    "                    right_child = self._pruning(node.rightNode, X.loc[tr_no_idx], y[tr_no_idx],\n",
    "                                  X_val.loc[val_no_idx], y_val[val_no_idx])\n",
    "                \n",
    "#                     node.rightNode = right_child\n",
    "#                     right_child.parentNode = node\n",
    "#                 question = node.label.split('\\n')[0]\n",
    "                attr = node.attr\n",
    "                node = Node(node.nodeId, label=node.label, isTerminal=node.isTerminal)\n",
    "                node.attr = attr\n",
    "                node.leftNode = left_child\n",
    "                left_child.parentNode = node\n",
    "                node.rightNode = right_child\n",
    "                right_child.parentNode = node\n",
    "            else:\n",
    "                return\n",
    "        return self._pruning_leaf(node, X, y, X_val, y_val)"
   ]
  },
  {
   "cell_type": "markdown",
   "metadata": {
    "id": "fMxuNI9hEKhn"
   },
   "source": [
    "# Iris Data"
   ]
  },
  {
   "cell_type": "markdown",
   "metadata": {
    "id": "ICEuiZDLEKhn"
   },
   "source": [
    "## Load Data"
   ]
  },
  {
   "cell_type": "code",
   "execution_count": 3,
   "metadata": {
    "ExecuteTime": {
     "end_time": "2021-06-10T12:00:02.188265Z",
     "start_time": "2021-06-10T12:00:02.144352Z"
    },
    "colab": {
     "base_uri": "https://localhost:8080/",
     "height": 206
    },
    "id": "P-qMk3UqEKhn",
    "outputId": "6e53b77d-4ecd-47e6-fa87-2f94183d22b4"
   },
   "outputs": [
    {
     "output_type": "execute_result",
     "data": {
      "text/plain": [
       "   sepal length (cm)  sepal width (cm)  petal length (cm)  petal width (cm)  \\\n",
       "0                5.1               3.5                1.4               0.2   \n",
       "1                4.9               3.0                1.4               0.2   \n",
       "2                4.7               3.2                1.3               0.2   \n",
       "3                4.6               3.1                1.5               0.2   \n",
       "4                5.0               3.6                1.4               0.2   \n",
       "\n",
       "  species  \n",
       "0  setosa  \n",
       "1  setosa  \n",
       "2  setosa  \n",
       "3  setosa  \n",
       "4  setosa  "
      ],
      "text/html": [
       "\n",
       "  <div id=\"df-4ddca604-2ab7-4c95-b5a2-60e10109b4a3\">\n",
       "    <div class=\"colab-df-container\">\n",
       "      <div>\n",
       "<style scoped>\n",
       "    .dataframe tbody tr th:only-of-type {\n",
       "        vertical-align: middle;\n",
       "    }\n",
       "\n",
       "    .dataframe tbody tr th {\n",
       "        vertical-align: top;\n",
       "    }\n",
       "\n",
       "    .dataframe thead th {\n",
       "        text-align: right;\n",
       "    }\n",
       "</style>\n",
       "<table border=\"1\" class=\"dataframe\">\n",
       "  <thead>\n",
       "    <tr style=\"text-align: right;\">\n",
       "      <th></th>\n",
       "      <th>sepal length (cm)</th>\n",
       "      <th>sepal width (cm)</th>\n",
       "      <th>petal length (cm)</th>\n",
       "      <th>petal width (cm)</th>\n",
       "      <th>species</th>\n",
       "    </tr>\n",
       "  </thead>\n",
       "  <tbody>\n",
       "    <tr>\n",
       "      <th>0</th>\n",
       "      <td>5.1</td>\n",
       "      <td>3.5</td>\n",
       "      <td>1.4</td>\n",
       "      <td>0.2</td>\n",
       "      <td>setosa</td>\n",
       "    </tr>\n",
       "    <tr>\n",
       "      <th>1</th>\n",
       "      <td>4.9</td>\n",
       "      <td>3.0</td>\n",
       "      <td>1.4</td>\n",
       "      <td>0.2</td>\n",
       "      <td>setosa</td>\n",
       "    </tr>\n",
       "    <tr>\n",
       "      <th>2</th>\n",
       "      <td>4.7</td>\n",
       "      <td>3.2</td>\n",
       "      <td>1.3</td>\n",
       "      <td>0.2</td>\n",
       "      <td>setosa</td>\n",
       "    </tr>\n",
       "    <tr>\n",
       "      <th>3</th>\n",
       "      <td>4.6</td>\n",
       "      <td>3.1</td>\n",
       "      <td>1.5</td>\n",
       "      <td>0.2</td>\n",
       "      <td>setosa</td>\n",
       "    </tr>\n",
       "    <tr>\n",
       "      <th>4</th>\n",
       "      <td>5.0</td>\n",
       "      <td>3.6</td>\n",
       "      <td>1.4</td>\n",
       "      <td>0.2</td>\n",
       "      <td>setosa</td>\n",
       "    </tr>\n",
       "  </tbody>\n",
       "</table>\n",
       "</div>\n",
       "      <button class=\"colab-df-convert\" onclick=\"convertToInteractive('df-4ddca604-2ab7-4c95-b5a2-60e10109b4a3')\"\n",
       "              title=\"Convert this dataframe to an interactive table.\"\n",
       "              style=\"display:none;\">\n",
       "        \n",
       "  <svg xmlns=\"http://www.w3.org/2000/svg\" height=\"24px\"viewBox=\"0 0 24 24\"\n",
       "       width=\"24px\">\n",
       "    <path d=\"M0 0h24v24H0V0z\" fill=\"none\"/>\n",
       "    <path d=\"M18.56 5.44l.94 2.06.94-2.06 2.06-.94-2.06-.94-.94-2.06-.94 2.06-2.06.94zm-11 1L8.5 8.5l.94-2.06 2.06-.94-2.06-.94L8.5 2.5l-.94 2.06-2.06.94zm10 10l.94 2.06.94-2.06 2.06-.94-2.06-.94-.94-2.06-.94 2.06-2.06.94z\"/><path d=\"M17.41 7.96l-1.37-1.37c-.4-.4-.92-.59-1.43-.59-.52 0-1.04.2-1.43.59L10.3 9.45l-7.72 7.72c-.78.78-.78 2.05 0 2.83L4 21.41c.39.39.9.59 1.41.59.51 0 1.02-.2 1.41-.59l7.78-7.78 2.81-2.81c.8-.78.8-2.07 0-2.86zM5.41 20L4 18.59l7.72-7.72 1.47 1.35L5.41 20z\"/>\n",
       "  </svg>\n",
       "      </button>\n",
       "      \n",
       "  <style>\n",
       "    .colab-df-container {\n",
       "      display:flex;\n",
       "      flex-wrap:wrap;\n",
       "      gap: 12px;\n",
       "    }\n",
       "\n",
       "    .colab-df-convert {\n",
       "      background-color: #E8F0FE;\n",
       "      border: none;\n",
       "      border-radius: 50%;\n",
       "      cursor: pointer;\n",
       "      display: none;\n",
       "      fill: #1967D2;\n",
       "      height: 32px;\n",
       "      padding: 0 0 0 0;\n",
       "      width: 32px;\n",
       "    }\n",
       "\n",
       "    .colab-df-convert:hover {\n",
       "      background-color: #E2EBFA;\n",
       "      box-shadow: 0px 1px 2px rgba(60, 64, 67, 0.3), 0px 1px 3px 1px rgba(60, 64, 67, 0.15);\n",
       "      fill: #174EA6;\n",
       "    }\n",
       "\n",
       "    [theme=dark] .colab-df-convert {\n",
       "      background-color: #3B4455;\n",
       "      fill: #D2E3FC;\n",
       "    }\n",
       "\n",
       "    [theme=dark] .colab-df-convert:hover {\n",
       "      background-color: #434B5C;\n",
       "      box-shadow: 0px 1px 3px 1px rgba(0, 0, 0, 0.15);\n",
       "      filter: drop-shadow(0px 1px 2px rgba(0, 0, 0, 0.3));\n",
       "      fill: #FFFFFF;\n",
       "    }\n",
       "  </style>\n",
       "\n",
       "      <script>\n",
       "        const buttonEl =\n",
       "          document.querySelector('#df-4ddca604-2ab7-4c95-b5a2-60e10109b4a3 button.colab-df-convert');\n",
       "        buttonEl.style.display =\n",
       "          google.colab.kernel.accessAllowed ? 'block' : 'none';\n",
       "\n",
       "        async function convertToInteractive(key) {\n",
       "          const element = document.querySelector('#df-4ddca604-2ab7-4c95-b5a2-60e10109b4a3');\n",
       "          const dataTable =\n",
       "            await google.colab.kernel.invokeFunction('convertToInteractive',\n",
       "                                                     [key], {});\n",
       "          if (!dataTable) return;\n",
       "\n",
       "          const docLinkHtml = 'Like what you see? Visit the ' +\n",
       "            '<a target=\"_blank\" href=https://colab.research.google.com/notebooks/data_table.ipynb>data table notebook</a>'\n",
       "            + ' to learn more about interactive tables.';\n",
       "          element.innerHTML = '';\n",
       "          dataTable['output_type'] = 'display_data';\n",
       "          await google.colab.output.renderOutput(dataTable, element);\n",
       "          const docLink = document.createElement('div');\n",
       "          docLink.innerHTML = docLinkHtml;\n",
       "          element.appendChild(docLink);\n",
       "        }\n",
       "      </script>\n",
       "    </div>\n",
       "  </div>\n",
       "  "
      ]
     },
     "metadata": {},
     "execution_count": 3
    }
   ],
   "source": [
    "iris = load_iris()\n",
    "df = pd.DataFrame(iris.data, columns=iris.feature_names)\n",
    "df['species'] = [iris.target_names[x] for x in iris.target]\n",
    "df.head()"
   ]
  },
  {
   "cell_type": "markdown",
   "metadata": {
    "ExecuteTime": {
     "end_time": "2021-06-04T16:22:47.103939Z",
     "start_time": "2021-06-04T16:22:47.098941Z"
    },
    "id": "kVdToozzEKhn"
   },
   "source": [
    "## Model"
   ]
  },
  {
   "cell_type": "code",
   "execution_count": 4,
   "metadata": {
    "ExecuteTime": {
     "end_time": "2021-06-10T12:00:02.248205Z",
     "start_time": "2021-06-10T12:00:02.204223Z"
    },
    "id": "bIOxwSJZEKho"
   },
   "outputs": [],
   "source": [
    "X, y = df.iloc[:,:4], df['species'].values\n",
    "clf = DecisionTree()\n",
    "clf.fit(X,y, max_depth=3, type_of_col=['continuous']*4,\n",
    "        auto_determine_type_of_col=False)"
   ]
  },
  {
   "cell_type": "markdown",
   "metadata": {
    "id": "ENFegSTkEKho"
   },
   "source": [
    "## Visualize"
   ]
  },
  {
   "cell_type": "code",
   "execution_count": 5,
   "metadata": {
    "ExecuteTime": {
     "end_time": "2021-06-10T12:00:02.805415Z",
     "start_time": "2021-06-10T12:00:02.279023Z"
    },
    "colab": {
     "base_uri": "https://localhost:8080/",
     "height": 446
    },
    "id": "_6IxF96KEKho",
    "outputId": "d50369eb-3f0f-49bc-fe56-ddd2513f38d5"
   },
   "outputs": [
    {
     "output_type": "execute_result",
     "data": {
      "image/svg+xml": "<?xml version=\"1.0\" encoding=\"UTF-8\" standalone=\"no\"?>\n<!DOCTYPE svg PUBLIC \"-//W3C//DTD SVG 1.1//EN\"\n \"http://www.w3.org/Graphics/SVG/1.1/DTD/svg11.dtd\">\n<!-- Generated by graphviz version 2.43.0 (0)\n -->\n<!-- Title: %3 Pages: 1 -->\n<svg width=\"265pt\" height=\"319pt\"\n viewBox=\"0.00 0.00 264.50 319.00\" xmlns=\"http://www.w3.org/2000/svg\" xmlns:xlink=\"http://www.w3.org/1999/xlink\">\n<g id=\"graph0\" class=\"graph\" transform=\"scale(1 1) rotate(0) translate(4 315)\">\n<title>%3</title>\n<polygon fill=\"white\" stroke=\"transparent\" points=\"-4,4 -4,-315 260.5,-315 260.5,4 -4,4\"/>\n<!-- 1 -->\n<g id=\"node1\" class=\"node\">\n<title>1</title>\n<polygon fill=\"#db5f57\" stroke=\"black\" points=\"166.5,-311 17.5,-311 17.5,-258 166.5,-258 166.5,-311\"/>\n<text text-anchor=\"middle\" x=\"92\" y=\"-295.8\" font-family=\"Times,serif\" font-size=\"14.00\">petal width (cm) &lt;= 0.6</text>\n<text text-anchor=\"middle\" x=\"92\" y=\"-280.8\" font-family=\"Times,serif\" font-size=\"14.00\">entropy : 0.6667</text>\n<text text-anchor=\"middle\" x=\"92\" y=\"-265.8\" font-family=\"Times,serif\" font-size=\"14.00\">Samples : 150</text>\n</g>\n<!-- 2 -->\n<g id=\"node2\" class=\"node\">\n<title>2</title>\n<polygon fill=\"none\" stroke=\"#a1c9f4\" points=\"58,-213.5 4,-213.5 4,-177.5 58,-177.5 58,-213.5\"/>\n<polygon fill=\"none\" stroke=\"#a1c9f4\" points=\"62,-217.5 0,-217.5 0,-173.5 62,-173.5 62,-217.5\"/>\n<text text-anchor=\"middle\" x=\"31\" y=\"-191.8\" font-family=\"Times,serif\" font-size=\"14.00\" fill=\"#a1c9f4\">setosa</text>\n</g>\n<!-- 1&#45;&gt;2 -->\n<g id=\"edge1\" class=\"edge\">\n<title>1&#45;&gt;2</title>\n<path fill=\"none\" stroke=\"black\" d=\"M74.03,-257.87C67,-247.84 58.9,-236.29 51.63,-225.92\"/>\n<polygon fill=\"black\" stroke=\"black\" points=\"54.37,-223.74 45.77,-217.56 48.64,-227.76 54.37,-223.74\"/>\n<text text-anchor=\"middle\" x=\"52.37\" y=\"-241.68\" font-family=\"Times,serif\" font-size=\"14.00\">yes</text>\n</g>\n<!-- 3 -->\n<g id=\"node3\" class=\"node\">\n<title>3</title>\n<polygon fill=\"#91db57\" stroke=\"black\" points=\"228.5,-222 79.5,-222 79.5,-169 228.5,-169 228.5,-222\"/>\n<text text-anchor=\"middle\" x=\"154\" y=\"-206.8\" font-family=\"Times,serif\" font-size=\"14.00\">petal width (cm) &lt;= 1.7</text>\n<text text-anchor=\"middle\" x=\"154\" y=\"-191.8\" font-family=\"Times,serif\" font-size=\"14.00\">entropy : 0.3098</text>\n<text text-anchor=\"middle\" x=\"154\" y=\"-176.8\" font-family=\"Times,serif\" font-size=\"14.00\">Samples : 100</text>\n</g>\n<!-- 1&#45;&gt;3 -->\n<g id=\"edge2\" class=\"edge\">\n<title>1&#45;&gt;3</title>\n<path fill=\"none\" stroke=\"black\" d=\"M110.27,-257.87C116.39,-249.27 123.32,-239.55 129.83,-230.42\"/>\n<polygon fill=\"black\" stroke=\"black\" points=\"132.7,-232.42 135.65,-222.25 127,-228.36 132.7,-232.42\"/>\n<text text-anchor=\"middle\" x=\"132.01\" y=\"-238.22\" font-family=\"Times,serif\" font-size=\"14.00\"> no</text>\n</g>\n<!-- 4 -->\n<g id=\"node4\" class=\"node\">\n<title>4</title>\n<polygon fill=\"#57d3db\" stroke=\"black\" points=\"165,-133 13,-133 13,-80 165,-80 165,-133\"/>\n<text text-anchor=\"middle\" x=\"89\" y=\"-117.8\" font-family=\"Times,serif\" font-size=\"14.00\">petal length (cm) &lt;= 4.9</text>\n<text text-anchor=\"middle\" x=\"89\" y=\"-102.8\" font-family=\"Times,serif\" font-size=\"14.00\">entropy : 0.2319</text>\n<text text-anchor=\"middle\" x=\"89\" y=\"-87.8\" font-family=\"Times,serif\" font-size=\"14.00\">Samples : 54</text>\n</g>\n<!-- 3&#45;&gt;4 -->\n<g id=\"edge3\" class=\"edge\">\n<title>3&#45;&gt;4</title>\n<path fill=\"none\" stroke=\"black\" d=\"M134.85,-168.87C128.43,-160.27 121.16,-150.55 114.34,-141.42\"/>\n<polygon fill=\"black\" stroke=\"black\" points=\"117.03,-139.17 108.24,-133.25 111.42,-143.36 117.03,-139.17\"/>\n<text text-anchor=\"middle\" x=\"112.82\" y=\"-153.34\" font-family=\"Times,serif\" font-size=\"14.00\">yes</text>\n</g>\n<!-- 8 -->\n<g id=\"node7\" class=\"node\">\n<title>8</title>\n<polygon fill=\"none\" stroke=\"#8de5a1\" points=\"252.5,-124.5 187.5,-124.5 187.5,-88.5 252.5,-88.5 252.5,-124.5\"/>\n<polygon fill=\"none\" stroke=\"#8de5a1\" points=\"256.5,-128.5 183.5,-128.5 183.5,-84.5 256.5,-84.5 256.5,-128.5\"/>\n<text text-anchor=\"middle\" x=\"220\" y=\"-102.8\" font-family=\"Times,serif\" font-size=\"14.00\" fill=\"#8de5a1\">virginica</text>\n</g>\n<!-- 3&#45;&gt;8 -->\n<g id=\"edge6\" class=\"edge\">\n<title>3&#45;&gt;8</title>\n<path fill=\"none\" stroke=\"black\" d=\"M173.45,-168.87C181.13,-158.74 189.99,-147.06 197.91,-136.61\"/>\n<polygon fill=\"black\" stroke=\"black\" points=\"200.77,-138.64 204.02,-128.56 195.19,-134.41 200.77,-138.64\"/>\n<text text-anchor=\"middle\" x=\"199.8\" y=\"-144.41\" font-family=\"Times,serif\" font-size=\"14.00\"> no</text>\n</g>\n<!-- 5 -->\n<g id=\"node5\" class=\"node\">\n<title>5</title>\n<polygon fill=\"none\" stroke=\"#ffb482\" points=\"77.5,-40 6.5,-40 6.5,-4 77.5,-4 77.5,-40\"/>\n<polygon fill=\"none\" stroke=\"#ffb482\" points=\"81.5,-44 2.5,-44 2.5,0 81.5,0 81.5,-44\"/>\n<text text-anchor=\"middle\" x=\"42\" y=\"-18.3\" font-family=\"Times,serif\" font-size=\"14.00\" fill=\"#ffb482\">versicolor</text>\n</g>\n<!-- 4&#45;&gt;5 -->\n<g id=\"edge4\" class=\"edge\">\n<title>4&#45;&gt;5</title>\n<path fill=\"none\" stroke=\"black\" d=\"M74.39,-79.85C69.55,-71.35 64.12,-61.82 59.11,-53.03\"/>\n<polygon fill=\"black\" stroke=\"black\" points=\"62.07,-51.16 54.08,-44.2 55.99,-54.63 62.07,-51.16\"/>\n<text text-anchor=\"middle\" x=\"53.99\" y=\"-61.69\" font-family=\"Times,serif\" font-size=\"14.00\">yes</text>\n</g>\n<!-- 6 -->\n<g id=\"node6\" class=\"node\">\n<title>6</title>\n<polygon fill=\"none\" stroke=\"#8de5a1\" points=\"168.5,-40 103.5,-40 103.5,-4 168.5,-4 168.5,-40\"/>\n<polygon fill=\"none\" stroke=\"#8de5a1\" points=\"172.5,-44 99.5,-44 99.5,0 172.5,0 172.5,-44\"/>\n<text text-anchor=\"middle\" x=\"136\" y=\"-18.3\" font-family=\"Times,serif\" font-size=\"14.00\" fill=\"#8de5a1\">virginica</text>\n</g>\n<!-- 4&#45;&gt;6 -->\n<g id=\"edge5\" class=\"edge\">\n<title>4&#45;&gt;6</title>\n<path fill=\"none\" stroke=\"black\" d=\"M103.61,-79.85C108.45,-71.35 113.88,-61.82 118.89,-53.03\"/>\n<polygon fill=\"black\" stroke=\"black\" points=\"122.01,-54.63 123.92,-44.2 115.93,-51.16 122.01,-54.63\"/>\n<text text-anchor=\"middle\" x=\"122.29\" y=\"-60.44\" font-family=\"Times,serif\" font-size=\"14.00\"> no</text>\n</g>\n</g>\n</svg>\n",
      "text/plain": [
       "<graphviz.graphs.Digraph at 0x7f180630a920>"
      ]
     },
     "metadata": {},
     "execution_count": 5
    }
   ],
   "source": [
    "visualize_tree(clf.root)"
   ]
  },
  {
   "cell_type": "markdown",
   "metadata": {
    "ExecuteTime": {
     "end_time": "2021-06-04T16:22:48.454896Z",
     "start_time": "2021-06-04T16:22:48.440964Z"
    },
    "id": "QPI1UJoUEKho"
   },
   "source": [
    "## Test"
   ]
  },
  {
   "cell_type": "code",
   "execution_count": 6,
   "metadata": {
    "ExecuteTime": {
     "end_time": "2021-06-10T12:00:02.865760Z",
     "start_time": "2021-06-10T12:00:02.839821Z"
    },
    "colab": {
     "base_uri": "https://localhost:8080/"
    },
    "id": "YvX5LwiJEKho",
    "outputId": "1a077814-83d9-4611-9ed1-d2140e938863"
   },
   "outputs": [
    {
     "output_type": "execute_result",
     "data": {
      "text/plain": [
       "0.9733333333333334"
      ]
     },
     "metadata": {},
     "execution_count": 6
    }
   ],
   "source": [
    "np.sum(y == clf.predict(X))/len(y)"
   ]
  },
  {
   "cell_type": "markdown",
   "metadata": {
    "id": "Aitkx8RYEKho"
   },
   "source": [
    "## Using SKlearn"
   ]
  },
  {
   "cell_type": "code",
   "execution_count": 7,
   "metadata": {
    "ExecuteTime": {
     "end_time": "2021-06-10T12:00:04.482969Z",
     "start_time": "2021-06-10T12:00:04.477982Z"
    },
    "id": "BBLlY-sOEKhp"
   },
   "outputs": [],
   "source": [
    "X, y = iris.data, iris.target\n",
    "clf = tree.DecisionTreeClassifier(criterion='entropy', max_depth=3, min_samples_split=5)\n",
    "clf = clf.fit(X, y)"
   ]
  },
  {
   "cell_type": "code",
   "execution_count": 8,
   "metadata": {
    "ExecuteTime": {
     "end_time": "2021-06-10T12:00:05.570287Z",
     "start_time": "2021-06-10T12:00:05.558294Z"
    },
    "colab": {
     "base_uri": "https://localhost:8080/"
    },
    "id": "wu4bsNmvEKhp",
    "outputId": "9e303a83-c017-4fe2-b95d-5937ab9c77ba"
   },
   "outputs": [
    {
     "output_type": "execute_result",
     "data": {
      "text/plain": [
       "0.9733333333333334"
      ]
     },
     "metadata": {},
     "execution_count": 8
    }
   ],
   "source": [
    "np.sum(y == clf.predict(X))/len(y)"
   ]
  },
  {
   "cell_type": "code",
   "execution_count": 9,
   "metadata": {
    "ExecuteTime": {
     "end_time": "2021-06-10T12:01:23.019781Z",
     "start_time": "2021-06-10T12:01:22.750276Z"
    },
    "colab": {
     "base_uri": "https://localhost:8080/",
     "height": 598
    },
    "id": "8EfCrCqSEKhp",
    "outputId": "593eb8a3-9234-4532-9ef6-b7f6d14cf2f3"
   },
   "outputs": [
    {
     "output_type": "execute_result",
     "data": {
      "image/svg+xml": "<?xml version=\"1.0\" encoding=\"UTF-8\" standalone=\"no\"?>\n<!DOCTYPE svg PUBLIC \"-//W3C//DTD SVG 1.1//EN\"\n \"http://www.w3.org/Graphics/SVG/1.1/DTD/svg11.dtd\">\n<!-- Generated by graphviz version 2.43.0 (0)\n -->\n<!-- Title: Tree Pages: 1 -->\n<svg width=\"553pt\" height=\"433pt\"\n viewBox=\"0.00 0.00 553.00 433.00\" xmlns=\"http://www.w3.org/2000/svg\" xmlns:xlink=\"http://www.w3.org/1999/xlink\">\n<g id=\"graph0\" class=\"graph\" transform=\"scale(1 1) rotate(0) translate(4 429)\">\n<title>Tree</title>\n<polygon fill=\"white\" stroke=\"transparent\" points=\"-4,4 -4,-429 549,-429 549,4 -4,4\"/>\n<!-- 0 -->\n<g id=\"node1\" class=\"node\">\n<title>0</title>\n<path fill=\"none\" stroke=\"black\" d=\"M267.5,-425C267.5,-425 123.5,-425 123.5,-425 117.5,-425 111.5,-419 111.5,-413 111.5,-413 111.5,-354 111.5,-354 111.5,-348 117.5,-342 123.5,-342 123.5,-342 267.5,-342 267.5,-342 273.5,-342 279.5,-348 279.5,-354 279.5,-354 279.5,-413 279.5,-413 279.5,-419 273.5,-425 267.5,-425\"/>\n<text text-anchor=\"middle\" x=\"195.5\" y=\"-409.8\" font-family=\"Helvetica,sans-Serif\" font-size=\"14.00\">petal length (cm) &lt;= 2.45</text>\n<text text-anchor=\"middle\" x=\"195.5\" y=\"-394.8\" font-family=\"Helvetica,sans-Serif\" font-size=\"14.00\">entropy = 1.585</text>\n<text text-anchor=\"middle\" x=\"195.5\" y=\"-379.8\" font-family=\"Helvetica,sans-Serif\" font-size=\"14.00\">samples = 150</text>\n<text text-anchor=\"middle\" x=\"195.5\" y=\"-364.8\" font-family=\"Helvetica,sans-Serif\" font-size=\"14.00\">value = [50, 50, 50]</text>\n<text text-anchor=\"middle\" x=\"195.5\" y=\"-349.8\" font-family=\"Helvetica,sans-Serif\" font-size=\"14.00\">class = setosa</text>\n</g>\n<!-- 1 -->\n<g id=\"node2\" class=\"node\">\n<title>1</title>\n<path fill=\"none\" stroke=\"black\" d=\"M163,-298.5C163,-298.5 70,-298.5 70,-298.5 64,-298.5 58,-292.5 58,-286.5 58,-286.5 58,-242.5 58,-242.5 58,-236.5 64,-230.5 70,-230.5 70,-230.5 163,-230.5 163,-230.5 169,-230.5 175,-236.5 175,-242.5 175,-242.5 175,-286.5 175,-286.5 175,-292.5 169,-298.5 163,-298.5\"/>\n<text text-anchor=\"middle\" x=\"116.5\" y=\"-283.3\" font-family=\"Helvetica,sans-Serif\" font-size=\"14.00\">entropy = 0.0</text>\n<text text-anchor=\"middle\" x=\"116.5\" y=\"-268.3\" font-family=\"Helvetica,sans-Serif\" font-size=\"14.00\">samples = 50</text>\n<text text-anchor=\"middle\" x=\"116.5\" y=\"-253.3\" font-family=\"Helvetica,sans-Serif\" font-size=\"14.00\">value = [50, 0, 0]</text>\n<text text-anchor=\"middle\" x=\"116.5\" y=\"-238.3\" font-family=\"Helvetica,sans-Serif\" font-size=\"14.00\">class = setosa</text>\n</g>\n<!-- 0&#45;&gt;1 -->\n<g id=\"edge1\" class=\"edge\">\n<title>0&#45;&gt;1</title>\n<path fill=\"none\" stroke=\"black\" d=\"M168.09,-341.91C160.49,-330.65 152.23,-318.42 144.59,-307.11\"/>\n<polygon fill=\"black\" stroke=\"black\" points=\"147.39,-305 138.89,-298.67 141.59,-308.91 147.39,-305\"/>\n<text text-anchor=\"middle\" x=\"134.14\" y=\"-319.51\" font-family=\"Helvetica,sans-Serif\" font-size=\"14.00\">True</text>\n</g>\n<!-- 2 -->\n<g id=\"node3\" class=\"node\">\n<title>2</title>\n<path fill=\"none\" stroke=\"black\" d=\"M344,-306C344,-306 205,-306 205,-306 199,-306 193,-300 193,-294 193,-294 193,-235 193,-235 193,-229 199,-223 205,-223 205,-223 344,-223 344,-223 350,-223 356,-229 356,-235 356,-235 356,-294 356,-294 356,-300 350,-306 344,-306\"/>\n<text text-anchor=\"middle\" x=\"274.5\" y=\"-290.8\" font-family=\"Helvetica,sans-Serif\" font-size=\"14.00\">petal width (cm) &lt;= 1.75</text>\n<text text-anchor=\"middle\" x=\"274.5\" y=\"-275.8\" font-family=\"Helvetica,sans-Serif\" font-size=\"14.00\">entropy = 1.0</text>\n<text text-anchor=\"middle\" x=\"274.5\" y=\"-260.8\" font-family=\"Helvetica,sans-Serif\" font-size=\"14.00\">samples = 100</text>\n<text text-anchor=\"middle\" x=\"274.5\" y=\"-245.8\" font-family=\"Helvetica,sans-Serif\" font-size=\"14.00\">value = [0, 50, 50]</text>\n<text text-anchor=\"middle\" x=\"274.5\" y=\"-230.8\" font-family=\"Helvetica,sans-Serif\" font-size=\"14.00\">class = versicolor</text>\n</g>\n<!-- 0&#45;&gt;2 -->\n<g id=\"edge2\" class=\"edge\">\n<title>0&#45;&gt;2</title>\n<path fill=\"none\" stroke=\"black\" d=\"M222.91,-341.91C228.91,-333.01 235.33,-323.51 241.53,-314.33\"/>\n<polygon fill=\"black\" stroke=\"black\" points=\"244.44,-316.27 247.14,-306.02 238.64,-312.35 244.44,-316.27\"/>\n<text text-anchor=\"middle\" x=\"251.9\" y=\"-326.86\" font-family=\"Helvetica,sans-Serif\" font-size=\"14.00\">False</text>\n</g>\n<!-- 3 -->\n<g id=\"node4\" class=\"node\">\n<title>3</title>\n<path fill=\"none\" stroke=\"black\" d=\"M253.5,-187C253.5,-187 109.5,-187 109.5,-187 103.5,-187 97.5,-181 97.5,-175 97.5,-175 97.5,-116 97.5,-116 97.5,-110 103.5,-104 109.5,-104 109.5,-104 253.5,-104 253.5,-104 259.5,-104 265.5,-110 265.5,-116 265.5,-116 265.5,-175 265.5,-175 265.5,-181 259.5,-187 253.5,-187\"/>\n<text text-anchor=\"middle\" x=\"181.5\" y=\"-171.8\" font-family=\"Helvetica,sans-Serif\" font-size=\"14.00\">petal length (cm) &lt;= 4.95</text>\n<text text-anchor=\"middle\" x=\"181.5\" y=\"-156.8\" font-family=\"Helvetica,sans-Serif\" font-size=\"14.00\">entropy = 0.445</text>\n<text text-anchor=\"middle\" x=\"181.5\" y=\"-141.8\" font-family=\"Helvetica,sans-Serif\" font-size=\"14.00\">samples = 54</text>\n<text text-anchor=\"middle\" x=\"181.5\" y=\"-126.8\" font-family=\"Helvetica,sans-Serif\" font-size=\"14.00\">value = [0, 49, 5]</text>\n<text text-anchor=\"middle\" x=\"181.5\" y=\"-111.8\" font-family=\"Helvetica,sans-Serif\" font-size=\"14.00\">class = versicolor</text>\n</g>\n<!-- 2&#45;&gt;3 -->\n<g id=\"edge3\" class=\"edge\">\n<title>2&#45;&gt;3</title>\n<path fill=\"none\" stroke=\"black\" d=\"M242.23,-222.91C235.09,-213.92 227.46,-204.32 220.09,-195.05\"/>\n<polygon fill=\"black\" stroke=\"black\" points=\"222.67,-192.67 213.71,-187.02 217.19,-197.03 222.67,-192.67\"/>\n</g>\n<!-- 6 -->\n<g id=\"node7\" class=\"node\">\n<title>6</title>\n<path fill=\"none\" stroke=\"black\" d=\"M439.5,-187C439.5,-187 295.5,-187 295.5,-187 289.5,-187 283.5,-181 283.5,-175 283.5,-175 283.5,-116 283.5,-116 283.5,-110 289.5,-104 295.5,-104 295.5,-104 439.5,-104 439.5,-104 445.5,-104 451.5,-110 451.5,-116 451.5,-116 451.5,-175 451.5,-175 451.5,-181 445.5,-187 439.5,-187\"/>\n<text text-anchor=\"middle\" x=\"367.5\" y=\"-171.8\" font-family=\"Helvetica,sans-Serif\" font-size=\"14.00\">petal length (cm) &lt;= 4.85</text>\n<text text-anchor=\"middle\" x=\"367.5\" y=\"-156.8\" font-family=\"Helvetica,sans-Serif\" font-size=\"14.00\">entropy = 0.151</text>\n<text text-anchor=\"middle\" x=\"367.5\" y=\"-141.8\" font-family=\"Helvetica,sans-Serif\" font-size=\"14.00\">samples = 46</text>\n<text text-anchor=\"middle\" x=\"367.5\" y=\"-126.8\" font-family=\"Helvetica,sans-Serif\" font-size=\"14.00\">value = [0, 1, 45]</text>\n<text text-anchor=\"middle\" x=\"367.5\" y=\"-111.8\" font-family=\"Helvetica,sans-Serif\" font-size=\"14.00\">class = virginica</text>\n</g>\n<!-- 2&#45;&gt;6 -->\n<g id=\"edge6\" class=\"edge\">\n<title>2&#45;&gt;6</title>\n<path fill=\"none\" stroke=\"black\" d=\"M306.77,-222.91C313.91,-213.92 321.54,-204.32 328.91,-195.05\"/>\n<polygon fill=\"black\" stroke=\"black\" points=\"331.81,-197.03 335.29,-187.02 326.33,-192.67 331.81,-197.03\"/>\n</g>\n<!-- 4 -->\n<g id=\"node5\" class=\"node\">\n<title>4</title>\n<path fill=\"none\" stroke=\"black\" d=\"M109,-68C109,-68 12,-68 12,-68 6,-68 0,-62 0,-56 0,-56 0,-12 0,-12 0,-6 6,0 12,0 12,0 109,0 109,0 115,0 121,-6 121,-12 121,-12 121,-56 121,-56 121,-62 115,-68 109,-68\"/>\n<text text-anchor=\"middle\" x=\"60.5\" y=\"-52.8\" font-family=\"Helvetica,sans-Serif\" font-size=\"14.00\">entropy = 0.146</text>\n<text text-anchor=\"middle\" x=\"60.5\" y=\"-37.8\" font-family=\"Helvetica,sans-Serif\" font-size=\"14.00\">samples = 48</text>\n<text text-anchor=\"middle\" x=\"60.5\" y=\"-22.8\" font-family=\"Helvetica,sans-Serif\" font-size=\"14.00\">value = [0, 47, 1]</text>\n<text text-anchor=\"middle\" x=\"60.5\" y=\"-7.8\" font-family=\"Helvetica,sans-Serif\" font-size=\"14.00\">class = versicolor</text>\n</g>\n<!-- 3&#45;&gt;4 -->\n<g id=\"edge4\" class=\"edge\">\n<title>3&#45;&gt;4</title>\n<path fill=\"none\" stroke=\"black\" d=\"M136.44,-103.73C126.16,-94.42 115.25,-84.54 104.99,-75.26\"/>\n<polygon fill=\"black\" stroke=\"black\" points=\"107.06,-72.41 97.3,-68.3 102.36,-77.6 107.06,-72.41\"/>\n</g>\n<!-- 5 -->\n<g id=\"node6\" class=\"node\">\n<title>5</title>\n<path fill=\"none\" stroke=\"black\" d=\"M240,-68C240,-68 151,-68 151,-68 145,-68 139,-62 139,-56 139,-56 139,-12 139,-12 139,-6 145,0 151,0 151,0 240,0 240,0 246,0 252,-6 252,-12 252,-12 252,-56 252,-56 252,-62 246,-68 240,-68\"/>\n<text text-anchor=\"middle\" x=\"195.5\" y=\"-52.8\" font-family=\"Helvetica,sans-Serif\" font-size=\"14.00\">entropy = 0.918</text>\n<text text-anchor=\"middle\" x=\"195.5\" y=\"-37.8\" font-family=\"Helvetica,sans-Serif\" font-size=\"14.00\">samples = 6</text>\n<text text-anchor=\"middle\" x=\"195.5\" y=\"-22.8\" font-family=\"Helvetica,sans-Serif\" font-size=\"14.00\">value = [0, 2, 4]</text>\n<text text-anchor=\"middle\" x=\"195.5\" y=\"-7.8\" font-family=\"Helvetica,sans-Serif\" font-size=\"14.00\">class = virginica</text>\n</g>\n<!-- 3&#45;&gt;5 -->\n<g id=\"edge5\" class=\"edge\">\n<title>3&#45;&gt;5</title>\n<path fill=\"none\" stroke=\"black\" d=\"M186.71,-103.73C187.77,-95.43 188.89,-86.67 189.97,-78.28\"/>\n<polygon fill=\"black\" stroke=\"black\" points=\"193.45,-78.66 191.24,-68.3 186.5,-77.77 193.45,-78.66\"/>\n</g>\n<!-- 7 -->\n<g id=\"node8\" class=\"node\">\n<title>7</title>\n<path fill=\"none\" stroke=\"black\" d=\"M398,-68C398,-68 309,-68 309,-68 303,-68 297,-62 297,-56 297,-56 297,-12 297,-12 297,-6 303,0 309,0 309,0 398,0 398,0 404,0 410,-6 410,-12 410,-12 410,-56 410,-56 410,-62 404,-68 398,-68\"/>\n<text text-anchor=\"middle\" x=\"353.5\" y=\"-52.8\" font-family=\"Helvetica,sans-Serif\" font-size=\"14.00\">entropy = 0.918</text>\n<text text-anchor=\"middle\" x=\"353.5\" y=\"-37.8\" font-family=\"Helvetica,sans-Serif\" font-size=\"14.00\">samples = 3</text>\n<text text-anchor=\"middle\" x=\"353.5\" y=\"-22.8\" font-family=\"Helvetica,sans-Serif\" font-size=\"14.00\">value = [0, 1, 2]</text>\n<text text-anchor=\"middle\" x=\"353.5\" y=\"-7.8\" font-family=\"Helvetica,sans-Serif\" font-size=\"14.00\">class = virginica</text>\n</g>\n<!-- 6&#45;&gt;7 -->\n<g id=\"edge7\" class=\"edge\">\n<title>6&#45;&gt;7</title>\n<path fill=\"none\" stroke=\"black\" d=\"M362.29,-103.73C361.23,-95.43 360.11,-86.67 359.03,-78.28\"/>\n<polygon fill=\"black\" stroke=\"black\" points=\"362.5,-77.77 357.76,-68.3 355.55,-78.66 362.5,-77.77\"/>\n</g>\n<!-- 8 -->\n<g id=\"node9\" class=\"node\">\n<title>8</title>\n<path fill=\"none\" stroke=\"black\" d=\"M533,-68C533,-68 440,-68 440,-68 434,-68 428,-62 428,-56 428,-56 428,-12 428,-12 428,-6 434,0 440,0 440,0 533,0 533,0 539,0 545,-6 545,-12 545,-12 545,-56 545,-56 545,-62 539,-68 533,-68\"/>\n<text text-anchor=\"middle\" x=\"486.5\" y=\"-52.8\" font-family=\"Helvetica,sans-Serif\" font-size=\"14.00\">entropy = 0.0</text>\n<text text-anchor=\"middle\" x=\"486.5\" y=\"-37.8\" font-family=\"Helvetica,sans-Serif\" font-size=\"14.00\">samples = 43</text>\n<text text-anchor=\"middle\" x=\"486.5\" y=\"-22.8\" font-family=\"Helvetica,sans-Serif\" font-size=\"14.00\">value = [0, 0, 43]</text>\n<text text-anchor=\"middle\" x=\"486.5\" y=\"-7.8\" font-family=\"Helvetica,sans-Serif\" font-size=\"14.00\">class = virginica</text>\n</g>\n<!-- 6&#45;&gt;8 -->\n<g id=\"edge8\" class=\"edge\">\n<title>6&#45;&gt;8</title>\n<path fill=\"none\" stroke=\"black\" d=\"M411.81,-103.73C421.92,-94.42 432.66,-84.54 442.75,-75.26\"/>\n<polygon fill=\"black\" stroke=\"black\" points=\"445.32,-77.65 450.31,-68.3 440.58,-72.5 445.32,-77.65\"/>\n</g>\n</g>\n</svg>\n",
      "text/plain": [
       "<graphviz.sources.Source at 0x7f180630ae60>"
      ]
     },
     "metadata": {},
     "execution_count": 9
    }
   ],
   "source": [
    "dot_data = tree.export_graphviz(clf, out_file=None, \n",
    "                     feature_names=iris.feature_names,  \n",
    "                     class_names=iris.target_names,  \n",
    "                     filled=False, rounded=True,  \n",
    "                     special_characters=False)  \n",
    "graph = graphviz.Source(dot_data)  \n",
    "graph "
   ]
  },
  {
   "cell_type": "code",
   "execution_count": 10,
   "metadata": {
    "ExecuteTime": {
     "end_time": "2021-06-09T13:13:19.642904Z",
     "start_time": "2021-06-09T13:13:19.479342Z"
    },
    "colab": {
     "base_uri": "https://localhost:8080/",
     "height": 696
    },
    "id": "2ov2l7uLEKhp",
    "outputId": "7434736e-4f77-4a60-c480-01b36a0a0244"
   },
   "outputs": [
    {
     "output_type": "display_data",
     "data": {
      "text/plain": [
       "<Figure size 800x800 with 1 Axes>"
      ],
      "image/png": "[encoded data removed]"
     },
     "metadata": {}
    }
   ],
   "source": [
    "fig = plt.figure(figsize=(8,8))\n",
    "fig.set_facecolor('white')\n",
    "sns.scatterplot(x='petal length (cm)', \n",
    "                y='petal width (cm)',\n",
    "                hue = 'species',\n",
    "                data=df\n",
    "               )\n",
    "plt.axhline(0.8, color='red')\n",
    "plt.axvline(2.45)\n",
    "plt.show()"
   ]
  },
  {
   "cell_type": "markdown",
   "metadata": {
    "id": "z0PoRDssEKhp"
   },
   "source": [
    "# Titanic Data"
   ]
  },
  {
   "cell_type": "markdown",
   "metadata": {
    "id": "OFFKIpQMEKhp"
   },
   "source": [
    "## Load Data"
   ]
  },
  {
   "cell_type": "code",
   "execution_count": 17,
   "metadata": {
    "ExecuteTime": {
     "end_time": "2021-06-10T12:06:09.387994Z",
     "start_time": "2021-06-10T12:06:09.364058Z"
    },
    "colab": {
     "base_uri": "https://localhost:8080/"
    },
    "id": "uDwUCCFUEKhp",
    "outputId": "deed7e91-86d0-4bb9-f51a-634cc41476c5"
   },
   "outputs": [
    {
     "output_type": "stream",
     "name": "stdout",
     "text": [
      "Mounted at /content/drive\n"
     ]
    }
   ],
   "source": [
    "# df = pd.read_csv('dataset/titanic.csv')\n",
    "# df.head()\n",
    "\n",
    "from google.colab import drive\n",
    "drive.mount('/content/drive')\n",
    "\n",
    "import pandas as pd\n",
    "\n",
    "file_path = '/content/drive/MyDrive/dataset/titanic.csv'\n",
    "df = pd.read_csv(file_path)\n"
   ]
  },
  {
   "cell_type": "markdown",
   "metadata": {
    "id": "fuwW_101EKhq"
   },
   "source": [
    "## Handle Missing Data\n",
    "Age는 중간값, Embark는 최빈값으로 채움."
   ]
  },
  {
   "cell_type": "code",
   "execution_count": 18,
   "metadata": {
    "ExecuteTime": {
     "end_time": "2021-06-10T12:06:10.368537Z",
     "start_time": "2021-06-10T12:06:10.348561Z"
    },
    "id": "G2MzavZFEKhq"
   },
   "outputs": [],
   "source": [
    "median_age = df['Age'].median()\n",
    "mode_embarked = df['Embarked'].mode()[0]\n",
    "df = df.fillna({'Age':median_age, 'Embarked':mode_embarked})"
   ]
  },
  {
   "cell_type": "markdown",
   "metadata": {
    "id": "vd5K8bcJEKhq"
   },
   "source": [
    "## Model"
   ]
  },
  {
   "cell_type": "markdown",
   "source": [
    "분류나무 생성 최대깊이 4, 변수타입 디폴트"
   ],
   "metadata": {
    "id": "QvreBAExJQfU"
   }
  },
  {
   "cell_type": "code",
   "execution_count": 19,
   "metadata": {
    "ExecuteTime": {
     "end_time": "2021-06-10T12:06:11.654627Z",
     "start_time": "2021-06-10T12:06:11.637671Z"
    },
    "id": "wwZOmZTpEKhq"
   },
   "outputs": [],
   "source": [
    "X = df[['Pclass', 'Sex', 'Age', 'SibSp', 'Parch', 'Fare', 'Embarked']]\n",
    "y = df['Survived'].values"
   ]
  },
  {
   "cell_type": "code",
   "execution_count": 20,
   "metadata": {
    "ExecuteTime": {
     "end_time": "2021-06-10T12:06:12.485931Z",
     "start_time": "2021-06-10T12:06:12.101060Z"
    },
    "id": "k9akT32KEKhq"
   },
   "outputs": [],
   "source": [
    "clf = DecisionTree()\n",
    "clf.fit(X,y,max_depth=4)"
   ]
  },
  {
   "cell_type": "markdown",
   "metadata": {
    "id": "-ZzIShmAEKhq"
   },
   "source": [
    "## Visualize\n",
    "시각화"
   ]
  },
  {
   "cell_type": "code",
   "execution_count": 21,
   "metadata": {
    "ExecuteTime": {
     "end_time": "2021-06-10T12:13:33.413915Z",
     "start_time": "2021-06-10T12:13:33.126356Z"
    },
    "colab": {
     "base_uri": "https://localhost:8080/",
     "height": 584
    },
    "id": "qVNC0TElEKhq",
    "outputId": "4a47f09b-940e-4ebc-d9bf-932f5b6ba3cb"
   },
   "outputs": [
    {
     "output_type": "execute_result",
     "data": {
      "image/svg+xml": "<?xml version=\"1.0\" encoding=\"UTF-8\" standalone=\"no\"?>\n<!DOCTYPE svg PUBLIC \"-//W3C//DTD SVG 1.1//EN\"\n \"http://www.w3.org/Graphics/SVG/1.1/DTD/svg11.dtd\">\n<!-- Generated by graphviz version 2.43.0 (0)\n -->\n<!-- Title: %3 Pages: 1 -->\n<svg width=\"830pt\" height=\"408pt\"\n viewBox=\"0.00 0.00 830.00 408.00\" xmlns=\"http://www.w3.org/2000/svg\" xmlns:xlink=\"http://www.w3.org/1999/xlink\">\n<g id=\"graph0\" class=\"graph\" transform=\"scale(1 1) rotate(0) translate(4 404)\">\n<title>%3</title>\n<polygon fill=\"white\" stroke=\"transparent\" points=\"-4,4 -4,-404 826,-404 826,4 -4,4\"/>\n<!-- 1 -->\n<g id=\"node1\" class=\"node\">\n<title>1</title>\n<polygon fill=\"#db5f57\" stroke=\"black\" points=\"486,-400 376,-400 376,-347 486,-347 486,-400\"/>\n<text text-anchor=\"middle\" x=\"431\" y=\"-384.8\" font-family=\"Times,serif\" font-size=\"14.00\">Sex in (&#39;female&#39;,)</text>\n<text text-anchor=\"middle\" x=\"431\" y=\"-369.8\" font-family=\"Times,serif\" font-size=\"14.00\">entropy : 0.743</text>\n<text text-anchor=\"middle\" x=\"431\" y=\"-354.8\" font-family=\"Times,serif\" font-size=\"14.00\">Samples : 891</text>\n</g>\n<!-- 2 -->\n<g id=\"node2\" class=\"node\">\n<title>2</title>\n<polygon fill=\"#b9db57\" stroke=\"black\" points=\"421.5,-311 314.5,-311 314.5,-258 421.5,-258 421.5,-311\"/>\n<text text-anchor=\"middle\" x=\"368\" y=\"-295.8\" font-family=\"Times,serif\" font-size=\"14.00\">Pclass in (3,)</text>\n<text text-anchor=\"middle\" x=\"368\" y=\"-280.8\" font-family=\"Times,serif\" font-size=\"14.00\">entropy : 0.6203</text>\n<text text-anchor=\"middle\" x=\"368\" y=\"-265.8\" font-family=\"Times,serif\" font-size=\"14.00\">Samples : 314</text>\n</g>\n<!-- 1&#45;&gt;2 -->\n<g id=\"edge1\" class=\"edge\">\n<title>1&#45;&gt;2</title>\n<path fill=\"none\" stroke=\"black\" d=\"M412.44,-346.87C406.21,-338.27 399.17,-328.55 392.56,-319.42\"/>\n<polygon fill=\"black\" stroke=\"black\" points=\"395.35,-317.3 386.65,-311.25 389.68,-321.4 395.35,-317.3\"/>\n<text text-anchor=\"middle\" x=\"390.59\" y=\"-331.01\" font-family=\"Times,serif\" font-size=\"14.00\">yes</text>\n</g>\n<!-- 17 -->\n<g id=\"node15\" class=\"node\">\n<title>17</title>\n<polygon fill=\"#b9db57\" stroke=\"black\" points=\"586.5,-311 479.5,-311 479.5,-258 586.5,-258 586.5,-311\"/>\n<text text-anchor=\"middle\" x=\"533\" y=\"-295.8\" font-family=\"Times,serif\" font-size=\"14.00\">Fare &lt;= 26.25</text>\n<text text-anchor=\"middle\" x=\"533\" y=\"-280.8\" font-family=\"Times,serif\" font-size=\"14.00\">entropy : 0.6607</text>\n<text text-anchor=\"middle\" x=\"533\" y=\"-265.8\" font-family=\"Times,serif\" font-size=\"14.00\">Samples : 577</text>\n</g>\n<!-- 1&#45;&gt;17 -->\n<g id=\"edge14\" class=\"edge\">\n<title>1&#45;&gt;17</title>\n<path fill=\"none\" stroke=\"black\" d=\"M461.05,-346.87C471.75,-337.75 483.93,-327.35 495.19,-317.75\"/>\n<polygon fill=\"black\" stroke=\"black\" points=\"497.47,-320.4 502.81,-311.25 492.93,-315.08 497.47,-320.4\"/>\n<text text-anchor=\"middle\" x=\"494.5\" y=\"-325.74\" font-family=\"Times,serif\" font-size=\"14.00\"> no</text>\n</g>\n<!-- 3 -->\n<g id=\"node3\" class=\"node\">\n<title>3</title>\n<polygon fill=\"#57db94\" stroke=\"black\" points=\"227.5,-222 120.5,-222 120.5,-169 227.5,-169 227.5,-222\"/>\n<text text-anchor=\"middle\" x=\"174\" y=\"-206.8\" font-family=\"Times,serif\" font-size=\"14.00\">Fare &lt;= 23.25</text>\n<text text-anchor=\"middle\" x=\"174\" y=\"-191.8\" font-family=\"Times,serif\" font-size=\"14.00\">entropy : 0.8879</text>\n<text text-anchor=\"middle\" x=\"174\" y=\"-176.8\" font-family=\"Times,serif\" font-size=\"14.00\">Samples : 144</text>\n</g>\n<!-- 2&#45;&gt;3 -->\n<g id=\"edge2\" class=\"edge\">\n<title>2&#45;&gt;3</title>\n<path fill=\"none\" stroke=\"black\" d=\"M314.48,-259.5C290.51,-248.75 262.08,-236 237.08,-224.79\"/>\n<polygon fill=\"black\" stroke=\"black\" points=\"238.24,-221.47 227.69,-220.58 235.38,-227.86 238.24,-221.47\"/>\n<text text-anchor=\"middle\" x=\"289.48\" y=\"-256.17\" font-family=\"Times,serif\" font-size=\"14.00\">yes</text>\n</g>\n<!-- 10 -->\n<g id=\"node8\" class=\"node\">\n<title>10</title>\n<polygon fill=\"#57db94\" stroke=\"black\" points=\"422.5,-222 313.5,-222 313.5,-169 422.5,-169 422.5,-222\"/>\n<text text-anchor=\"middle\" x=\"368\" y=\"-206.8\" font-family=\"Times,serif\" font-size=\"14.00\">Fare &lt;= 28.7125</text>\n<text text-anchor=\"middle\" x=\"368\" y=\"-191.8\" font-family=\"Times,serif\" font-size=\"14.00\">entropy : 0.2763</text>\n<text text-anchor=\"middle\" x=\"368\" y=\"-176.8\" font-family=\"Times,serif\" font-size=\"14.00\">Samples : 170</text>\n</g>\n<!-- 2&#45;&gt;10 -->\n<g id=\"edge7\" class=\"edge\">\n<title>2&#45;&gt;10</title>\n<path fill=\"none\" stroke=\"black\" d=\"M368,-257.87C368,-249.89 368,-240.93 368,-232.38\"/>\n<polygon fill=\"black\" stroke=\"black\" points=\"371.5,-232.25 368,-222.25 364.5,-232.25 371.5,-232.25\"/>\n<text text-anchor=\"middle\" x=\"376.45\" y=\"-236.68\" font-family=\"Times,serif\" font-size=\"14.00\"> no</text>\n</g>\n<!-- 4 -->\n<g id=\"node4\" class=\"node\">\n<title>4</title>\n<polygon fill=\"#5784db\" stroke=\"black\" points=\"124.5,-133 17.5,-133 17.5,-80 124.5,-80 124.5,-133\"/>\n<text text-anchor=\"middle\" x=\"71\" y=\"-117.8\" font-family=\"Times,serif\" font-size=\"14.00\">Age &lt;= 36.0</text>\n<text text-anchor=\"middle\" x=\"71\" y=\"-102.8\" font-family=\"Times,serif\" font-size=\"14.00\">entropy : 0.9373</text>\n<text text-anchor=\"middle\" x=\"71\" y=\"-87.8\" font-family=\"Times,serif\" font-size=\"14.00\">Samples : 117</text>\n</g>\n<!-- 3&#45;&gt;4 -->\n<g id=\"edge3\" class=\"edge\">\n<title>3&#45;&gt;4</title>\n<path fill=\"none\" stroke=\"black\" d=\"M143.65,-168.87C132.85,-159.75 120.55,-149.35 109.18,-139.75\"/>\n<polygon fill=\"black\" stroke=\"black\" points=\"111.38,-137.03 101.49,-133.25 106.87,-142.38 111.38,-137.03\"/>\n<text text-anchor=\"middle\" x=\"119.53\" y=\"-158.62\" font-family=\"Times,serif\" font-size=\"14.00\">yes</text>\n</g>\n<!-- 8 -->\n<g id=\"node7\" class=\"node\">\n<title>8</title>\n<polygon fill=\"none\" stroke=\"#a1c9f4\" points=\"201,-124.5 147,-124.5 147,-88.5 201,-88.5 201,-124.5\"/>\n<polygon fill=\"none\" stroke=\"#a1c9f4\" points=\"205,-128.5 143,-128.5 143,-84.5 205,-84.5 205,-128.5\"/>\n<text text-anchor=\"middle\" x=\"174\" y=\"-102.8\" font-family=\"Times,serif\" font-size=\"14.00\" fill=\"#a1c9f4\">0</text>\n</g>\n<!-- 3&#45;&gt;8 -->\n<g id=\"edge6\" class=\"edge\">\n<title>3&#45;&gt;8</title>\n<path fill=\"none\" stroke=\"black\" d=\"M174,-168.87C174,-159.44 174,-148.67 174,-138.8\"/>\n<polygon fill=\"black\" stroke=\"black\" points=\"177.5,-138.56 174,-128.56 170.5,-138.56 177.5,-138.56\"/>\n<text text-anchor=\"middle\" x=\"182.45\" y=\"-142.99\" font-family=\"Times,serif\" font-size=\"14.00\"> no</text>\n</g>\n<!-- 5 -->\n<g id=\"node5\" class=\"node\">\n<title>5</title>\n<polygon fill=\"none\" stroke=\"#ffb482\" points=\"58,-40 4,-40 4,-4 58,-4 58,-40\"/>\n<polygon fill=\"none\" stroke=\"#ffb482\" points=\"62,-44 0,-44 0,0 62,0 62,-44\"/>\n<text text-anchor=\"middle\" x=\"31\" y=\"-18.3\" font-family=\"Times,serif\" font-size=\"14.00\" fill=\"#ffb482\">1</text>\n</g>\n<!-- 4&#45;&gt;5 -->\n<g id=\"edge4\" class=\"edge\">\n<title>4&#45;&gt;5</title>\n<path fill=\"none\" stroke=\"black\" d=\"M58.56,-79.85C54.49,-71.44 49.92,-62.02 45.69,-53.31\"/>\n<polygon fill=\"black\" stroke=\"black\" points=\"48.79,-51.68 41.28,-44.2 42.49,-54.73 48.79,-51.68\"/>\n<text text-anchor=\"middle\" x=\"39.17\" y=\"-60.37\" font-family=\"Times,serif\" font-size=\"14.00\">yes</text>\n</g>\n<!-- 6 -->\n<g id=\"node6\" class=\"node\">\n<title>6</title>\n<polygon fill=\"none\" stroke=\"#a1c9f4\" points=\"138,-40 84,-40 84,-4 138,-4 138,-40\"/>\n<polygon fill=\"none\" stroke=\"#a1c9f4\" points=\"142,-44 80,-44 80,0 142,0 142,-44\"/>\n<text text-anchor=\"middle\" x=\"111\" y=\"-18.3\" font-family=\"Times,serif\" font-size=\"14.00\" fill=\"#a1c9f4\">0</text>\n</g>\n<!-- 4&#45;&gt;6 -->\n<g id=\"edge5\" class=\"edge\">\n<title>4&#45;&gt;6</title>\n<path fill=\"none\" stroke=\"black\" d=\"M83.44,-79.85C87.51,-71.44 92.08,-62.02 96.31,-53.31\"/>\n<polygon fill=\"black\" stroke=\"black\" points=\"99.51,-54.73 100.72,-44.2 93.21,-51.68 99.51,-54.73\"/>\n<text text-anchor=\"middle\" x=\"100.42\" y=\"-60.5\" font-family=\"Times,serif\" font-size=\"14.00\"> no</text>\n</g>\n<!-- 11 -->\n<g id=\"node9\" class=\"node\">\n<title>11</title>\n<polygon fill=\"#5784db\" stroke=\"black\" points=\"330.5,-133 223.5,-133 223.5,-80 330.5,-80 330.5,-133\"/>\n<text text-anchor=\"middle\" x=\"277\" y=\"-117.8\" font-family=\"Times,serif\" font-size=\"14.00\">Fare &lt;= 27.75</text>\n<text text-anchor=\"middle\" x=\"277\" y=\"-102.8\" font-family=\"Times,serif\" font-size=\"14.00\">entropy : 0.4201</text>\n<text text-anchor=\"middle\" x=\"277\" y=\"-87.8\" font-family=\"Times,serif\" font-size=\"14.00\">Samples : 70</text>\n</g>\n<!-- 10&#45;&gt;11 -->\n<g id=\"edge8\" class=\"edge\">\n<title>10&#45;&gt;11</title>\n<path fill=\"none\" stroke=\"black\" d=\"M341.19,-168.87C331.83,-159.92 321.2,-149.75 311.31,-140.3\"/>\n<polygon fill=\"black\" stroke=\"black\" points=\"313.58,-137.63 303.93,-133.25 308.74,-142.69 313.58,-137.63\"/>\n<text text-anchor=\"middle\" x=\"317.51\" y=\"-157.15\" font-family=\"Times,serif\" font-size=\"14.00\">yes</text>\n</g>\n<!-- 14 -->\n<g id=\"node12\" class=\"node\">\n<title>14</title>\n<polygon fill=\"#5784db\" stroke=\"black\" points=\"455.5,-133 348.5,-133 348.5,-80 455.5,-80 455.5,-133\"/>\n<text text-anchor=\"middle\" x=\"402\" y=\"-117.8\" font-family=\"Times,serif\" font-size=\"14.00\">Age &lt;= 2.0</text>\n<text text-anchor=\"middle\" x=\"402\" y=\"-102.8\" font-family=\"Times,serif\" font-size=\"14.00\">entropy : 0.0806</text>\n<text text-anchor=\"middle\" x=\"402\" y=\"-87.8\" font-family=\"Times,serif\" font-size=\"14.00\">Samples : 100</text>\n</g>\n<!-- 10&#45;&gt;14 -->\n<g id=\"edge11\" class=\"edge\">\n<title>10&#45;&gt;14</title>\n<path fill=\"none\" stroke=\"black\" d=\"M378.02,-168.87C381.21,-160.71 384.79,-151.54 388.2,-142.82\"/>\n<polygon fill=\"black\" stroke=\"black\" points=\"391.56,-143.84 391.94,-133.25 385.04,-141.29 391.56,-143.84\"/>\n<text text-anchor=\"middle\" x=\"393.21\" y=\"-149.51\" font-family=\"Times,serif\" font-size=\"14.00\"> no</text>\n</g>\n<!-- 12 -->\n<g id=\"node10\" class=\"node\">\n<title>12</title>\n<polygon fill=\"none\" stroke=\"#ffb482\" points=\"236,-40 182,-40 182,-4 236,-4 236,-40\"/>\n<polygon fill=\"none\" stroke=\"#ffb482\" points=\"240,-44 178,-44 178,0 240,0 240,-44\"/>\n<text text-anchor=\"middle\" x=\"209\" y=\"-18.3\" font-family=\"Times,serif\" font-size=\"14.00\" fill=\"#ffb482\">1</text>\n</g>\n<!-- 11&#45;&gt;12 -->\n<g id=\"edge9\" class=\"edge\">\n<title>11&#45;&gt;12</title>\n<path fill=\"none\" stroke=\"black\" d=\"M255.86,-79.85C248.56,-71 240.34,-61.02 232.84,-51.92\"/>\n<polygon fill=\"black\" stroke=\"black\" points=\"235.54,-49.69 226.48,-44.2 230.14,-54.15 235.54,-49.69\"/>\n<text text-anchor=\"middle\" x=\"233.29\" y=\"-65.38\" font-family=\"Times,serif\" font-size=\"14.00\">yes</text>\n</g>\n<!-- 13 -->\n<g id=\"node11\" class=\"node\">\n<title>13</title>\n<polygon fill=\"none\" stroke=\"#a1c9f4\" points=\"316,-40 262,-40 262,-4 316,-4 316,-40\"/>\n<polygon fill=\"none\" stroke=\"#a1c9f4\" points=\"320,-44 258,-44 258,0 320,0 320,-44\"/>\n<text text-anchor=\"middle\" x=\"289\" y=\"-18.3\" font-family=\"Times,serif\" font-size=\"14.00\" fill=\"#a1c9f4\">0</text>\n</g>\n<!-- 11&#45;&gt;13 -->\n<g id=\"edge10\" class=\"edge\">\n<title>11&#45;&gt;13</title>\n<path fill=\"none\" stroke=\"black\" d=\"M280.73,-79.85C281.91,-71.71 283.24,-62.62 284.47,-54.14\"/>\n<polygon fill=\"black\" stroke=\"black\" points=\"287.94,-54.6 285.92,-44.2 281.01,-53.6 287.94,-54.6\"/>\n<text text-anchor=\"middle\" x=\"291.67\" y=\"-59.66\" font-family=\"Times,serif\" font-size=\"14.00\"> no</text>\n</g>\n<!-- 15 -->\n<g id=\"node13\" class=\"node\">\n<title>15</title>\n<polygon fill=\"none\" stroke=\"#a1c9f4\" points=\"407,-40 353,-40 353,-4 407,-4 407,-40\"/>\n<polygon fill=\"none\" stroke=\"#a1c9f4\" points=\"411,-44 349,-44 349,0 411,0 411,-44\"/>\n<text text-anchor=\"middle\" x=\"380\" y=\"-18.3\" font-family=\"Times,serif\" font-size=\"14.00\" fill=\"#a1c9f4\">0</text>\n</g>\n<!-- 14&#45;&gt;15 -->\n<g id=\"edge12\" class=\"edge\">\n<title>14&#45;&gt;15</title>\n<path fill=\"none\" stroke=\"black\" d=\"M395.16,-79.85C392.99,-71.71 390.57,-62.62 388.3,-54.14\"/>\n<polygon fill=\"black\" stroke=\"black\" points=\"391.61,-52.96 385.65,-44.2 384.85,-54.77 391.61,-52.96\"/>\n<text text-anchor=\"middle\" x=\"379.11\" y=\"-56.98\" font-family=\"Times,serif\" font-size=\"14.00\">yes</text>\n</g>\n<!-- 16 -->\n<g id=\"node14\" class=\"node\">\n<title>16</title>\n<polygon fill=\"none\" stroke=\"#ffb482\" points=\"487,-40 433,-40 433,-4 487,-4 487,-40\"/>\n<polygon fill=\"none\" stroke=\"#ffb482\" points=\"491,-44 429,-44 429,0 491,0 491,-44\"/>\n<text text-anchor=\"middle\" x=\"460\" y=\"-18.3\" font-family=\"Times,serif\" font-size=\"14.00\" fill=\"#ffb482\">1</text>\n</g>\n<!-- 14&#45;&gt;16 -->\n<g id=\"edge13\" class=\"edge\">\n<title>14&#45;&gt;16</title>\n<path fill=\"none\" stroke=\"black\" d=\"M420.03,-79.85C426.13,-71.17 432.99,-61.42 439.28,-52.47\"/>\n<polygon fill=\"black\" stroke=\"black\" points=\"442.2,-54.4 445.09,-44.2 436.48,-50.37 442.2,-54.4\"/>\n<text text-anchor=\"middle\" x=\"441.58\" y=\"-60.19\" font-family=\"Times,serif\" font-size=\"14.00\"> no</text>\n</g>\n<!-- 18 -->\n<g id=\"node16\" class=\"node\">\n<title>18</title>\n<polygon fill=\"#57db94\" stroke=\"black\" points=\"586.5,-222 479.5,-222 479.5,-169 586.5,-169 586.5,-222\"/>\n<text text-anchor=\"middle\" x=\"533\" y=\"-206.8\" font-family=\"Times,serif\" font-size=\"14.00\">Age &lt;= 12.0</text>\n<text text-anchor=\"middle\" x=\"533\" y=\"-191.8\" font-family=\"Times,serif\" font-size=\"14.00\">entropy : 0.4801</text>\n<text text-anchor=\"middle\" x=\"533\" y=\"-176.8\" font-family=\"Times,serif\" font-size=\"14.00\">Samples : 415</text>\n</g>\n<!-- 17&#45;&gt;18 -->\n<g id=\"edge15\" class=\"edge\">\n<title>17&#45;&gt;18</title>\n<path fill=\"none\" stroke=\"black\" d=\"M533,-257.87C533,-249.89 533,-240.93 533,-232.38\"/>\n<polygon fill=\"black\" stroke=\"black\" points=\"536.5,-232.25 533,-222.25 529.5,-232.25 536.5,-232.25\"/>\n<text text-anchor=\"middle\" x=\"522.43\" y=\"-231.51\" font-family=\"Times,serif\" font-size=\"14.00\">yes</text>\n</g>\n<!-- 25 -->\n<g id=\"node19\" class=\"node\">\n<title>25</title>\n<polygon fill=\"#57db94\" stroke=\"black\" points=\"743.5,-222 632.5,-222 632.5,-169 743.5,-169 743.5,-222\"/>\n<text text-anchor=\"middle\" x=\"688\" y=\"-206.8\" font-family=\"Times,serif\" font-size=\"14.00\">SibSp in (0, 1, 2)</text>\n<text text-anchor=\"middle\" x=\"688\" y=\"-191.8\" font-family=\"Times,serif\" font-size=\"14.00\">entropy : 0.8636</text>\n<text text-anchor=\"middle\" x=\"688\" y=\"-176.8\" font-family=\"Times,serif\" font-size=\"14.00\">Samples : 162</text>\n</g>\n<!-- 17&#45;&gt;25 -->\n<g id=\"edge18\" class=\"edge\">\n<title>17&#45;&gt;25</title>\n<path fill=\"none\" stroke=\"black\" d=\"M578.67,-257.87C595.78,-248.26 615.39,-237.25 633.24,-227.24\"/>\n<polygon fill=\"black\" stroke=\"black\" points=\"635.38,-230.05 642.39,-222.1 631.96,-223.94 635.38,-230.05\"/>\n<text text-anchor=\"middle\" x=\"630.72\" y=\"-234.64\" font-family=\"Times,serif\" font-size=\"14.00\"> no</text>\n</g>\n<!-- 20 -->\n<g id=\"node17\" class=\"node\">\n<title>20</title>\n<polygon fill=\"none\" stroke=\"#ffb482\" points=\"532,-124.5 478,-124.5 478,-88.5 532,-88.5 532,-124.5\"/>\n<polygon fill=\"none\" stroke=\"#ffb482\" points=\"536,-128.5 474,-128.5 474,-84.5 536,-84.5 536,-128.5\"/>\n<text text-anchor=\"middle\" x=\"505\" y=\"-102.8\" font-family=\"Times,serif\" font-size=\"14.00\" fill=\"#ffb482\">1</text>\n</g>\n<!-- 18&#45;&gt;20 -->\n<g id=\"edge16\" class=\"edge\">\n<title>18&#45;&gt;20</title>\n<path fill=\"none\" stroke=\"black\" d=\"M524.75,-168.87C521.65,-159.24 518.1,-148.21 514.87,-138.17\"/>\n<polygon fill=\"black\" stroke=\"black\" points=\"518.17,-137.01 511.78,-128.56 511.51,-139.15 518.17,-137.01\"/>\n<text text-anchor=\"middle\" x=\"507.75\" y=\"-146.84\" font-family=\"Times,serif\" font-size=\"14.00\">yes</text>\n</g>\n<!-- 23 -->\n<g id=\"node18\" class=\"node\">\n<title>23</title>\n<polygon fill=\"none\" stroke=\"#a1c9f4\" points=\"612,-124.5 558,-124.5 558,-88.5 612,-88.5 612,-124.5\"/>\n<polygon fill=\"none\" stroke=\"#a1c9f4\" points=\"616,-128.5 554,-128.5 554,-84.5 616,-84.5 616,-128.5\"/>\n<text text-anchor=\"middle\" x=\"585\" y=\"-102.8\" font-family=\"Times,serif\" font-size=\"14.00\" fill=\"#a1c9f4\">0</text>\n</g>\n<!-- 18&#45;&gt;23 -->\n<g id=\"edge17\" class=\"edge\">\n<title>18&#45;&gt;23</title>\n<path fill=\"none\" stroke=\"black\" d=\"M548.32,-168.87C554.25,-158.94 561.08,-147.52 567.23,-137.24\"/>\n<polygon fill=\"black\" stroke=\"black\" points=\"570.29,-138.94 572.41,-128.56 564.28,-135.35 570.29,-138.94\"/>\n<text text-anchor=\"middle\" x=\"570.37\" y=\"-144.76\" font-family=\"Times,serif\" font-size=\"14.00\"> no</text>\n</g>\n<!-- 26 -->\n<g id=\"node20\" class=\"node\">\n<title>26</title>\n<polygon fill=\"#5784db\" stroke=\"black\" points=\"741.5,-133 634.5,-133 634.5,-80 741.5,-80 741.5,-133\"/>\n<text text-anchor=\"middle\" x=\"688\" y=\"-117.8\" font-family=\"Times,serif\" font-size=\"14.00\">Age &lt;= 11.0</text>\n<text text-anchor=\"middle\" x=\"688\" y=\"-102.8\" font-family=\"Times,serif\" font-size=\"14.00\">entropy : 0.8921</text>\n<text text-anchor=\"middle\" x=\"688\" y=\"-87.8\" font-family=\"Times,serif\" font-size=\"14.00\">Samples : 139</text>\n</g>\n<!-- 25&#45;&gt;26 -->\n<g id=\"edge19\" class=\"edge\">\n<title>25&#45;&gt;26</title>\n<path fill=\"none\" stroke=\"black\" d=\"M688,-168.87C688,-160.89 688,-151.93 688,-143.38\"/>\n<polygon fill=\"black\" stroke=\"black\" points=\"691.5,-143.25 688,-133.25 684.5,-143.25 691.5,-143.25\"/>\n<text text-anchor=\"middle\" x=\"677.43\" y=\"-142.51\" font-family=\"Times,serif\" font-size=\"14.00\">yes</text>\n</g>\n<!-- 30 -->\n<g id=\"node23\" class=\"node\">\n<title>30</title>\n<polygon fill=\"none\" stroke=\"#a1c9f4\" points=\"818,-124.5 764,-124.5 764,-88.5 818,-88.5 818,-124.5\"/>\n<polygon fill=\"none\" stroke=\"#a1c9f4\" points=\"822,-128.5 760,-128.5 760,-84.5 822,-84.5 822,-128.5\"/>\n<text text-anchor=\"middle\" x=\"791\" y=\"-102.8\" font-family=\"Times,serif\" font-size=\"14.00\" fill=\"#a1c9f4\">0</text>\n</g>\n<!-- 25&#45;&gt;30 -->\n<g id=\"edge22\" class=\"edge\">\n<title>25&#45;&gt;30</title>\n<path fill=\"none\" stroke=\"black\" d=\"M718.35,-168.87C730.93,-158.24 745.55,-145.89 758.36,-135.07\"/>\n<polygon fill=\"black\" stroke=\"black\" points=\"760.69,-137.69 766.07,-128.56 756.17,-132.34 760.69,-137.69\"/>\n<text text-anchor=\"middle\" x=\"757.67\" y=\"-143.01\" font-family=\"Times,serif\" font-size=\"14.00\"> no</text>\n</g>\n<!-- 27 -->\n<g id=\"node21\" class=\"node\">\n<title>27</title>\n<polygon fill=\"none\" stroke=\"#ffb482\" points=\"675,-40 621,-40 621,-4 675,-4 675,-40\"/>\n<polygon fill=\"none\" stroke=\"#ffb482\" points=\"679,-44 617,-44 617,0 679,0 679,-44\"/>\n<text text-anchor=\"middle\" x=\"648\" y=\"-18.3\" font-family=\"Times,serif\" font-size=\"14.00\" fill=\"#ffb482\">1</text>\n</g>\n<!-- 26&#45;&gt;27 -->\n<g id=\"edge20\" class=\"edge\">\n<title>26&#45;&gt;27</title>\n<path fill=\"none\" stroke=\"black\" d=\"M675.56,-79.85C671.49,-71.44 666.92,-62.02 662.69,-53.31\"/>\n<polygon fill=\"black\" stroke=\"black\" points=\"665.79,-51.68 658.28,-44.2 659.49,-54.73 665.79,-51.68\"/>\n<text text-anchor=\"middle\" x=\"656.17\" y=\"-60.37\" font-family=\"Times,serif\" font-size=\"14.00\">yes</text>\n</g>\n<!-- 28 -->\n<g id=\"node22\" class=\"node\">\n<title>28</title>\n<polygon fill=\"none\" stroke=\"#a1c9f4\" points=\"755,-40 701,-40 701,-4 755,-4 755,-40\"/>\n<polygon fill=\"none\" stroke=\"#a1c9f4\" points=\"759,-44 697,-44 697,0 759,0 759,-44\"/>\n<text text-anchor=\"middle\" x=\"728\" y=\"-18.3\" font-family=\"Times,serif\" font-size=\"14.00\" fill=\"#a1c9f4\">0</text>\n</g>\n<!-- 26&#45;&gt;28 -->\n<g id=\"edge21\" class=\"edge\">\n<title>26&#45;&gt;28</title>\n<path fill=\"none\" stroke=\"black\" d=\"M700.44,-79.85C704.51,-71.44 709.08,-62.02 713.31,-53.31\"/>\n<polygon fill=\"black\" stroke=\"black\" points=\"716.51,-54.73 717.72,-44.2 710.21,-51.68 716.51,-54.73\"/>\n<text text-anchor=\"middle\" x=\"717.42\" y=\"-60.5\" font-family=\"Times,serif\" font-size=\"14.00\"> no</text>\n</g>\n</g>\n</svg>\n",
      "text/plain": [
       "<graphviz.graphs.Digraph at 0x7f1803e5f5b0>"
      ]
     },
     "metadata": {},
     "execution_count": 21
    }
   ],
   "source": [
    "visualize_tree(clf.root)"
   ]
  },
  {
   "cell_type": "code",
   "execution_count": 22,
   "metadata": {
    "ExecuteTime": {
     "end_time": "2021-06-10T12:07:00.094742Z",
     "start_time": "2021-06-10T12:06:59.781684Z"
    },
    "colab": {
     "base_uri": "https://localhost:8080/",
     "height": 35
    },
    "id": "htei-cwTEKhr",
    "outputId": "ae2bac06-3f69-4aae-ef7d-23b0cf51ac88"
   },
   "outputs": [
    {
     "output_type": "execute_result",
     "data": {
      "text/plain": [
       "'titanic_tree.png'"
      ],
      "application/vnd.google.colaboratory.intrinsic+json": {
       "type": "string"
      }
     },
     "metadata": {},
     "execution_count": 22
    }
   ],
   "source": [
    "dot = visualize_tree(clf.root)\n",
    "dot.format = 'png'\n",
    "dot.render(filename='titanic_tree', directory='./', cleanup=True)"
   ]
  },
  {
   "cell_type": "markdown",
   "metadata": {
    "id": "xvlavOcfEKhr"
   },
   "source": [
    "## Test\n",
    "훈련 정확도 체크"
   ]
  },
  {
   "cell_type": "code",
   "execution_count": 23,
   "metadata": {
    "ExecuteTime": {
     "end_time": "2021-06-10T12:14:00.017276Z",
     "start_time": "2021-06-10T12:13:59.918564Z"
    },
    "colab": {
     "base_uri": "https://localhost:8080/"
    },
    "id": "Kvq9fc3pEKhr",
    "outputId": "fefaeba6-fb13-46ba-e1a5-6d09ef6bbc77"
   },
   "outputs": [
    {
     "output_type": "execute_result",
     "data": {
      "text/plain": [
       "0.8383838383838383"
      ]
     },
     "metadata": {},
     "execution_count": 23
    }
   ],
   "source": [
    "np.sum(y == clf.predict(X))/len(y)"
   ]
  },
  {
   "cell_type": "markdown",
   "metadata": {
    "ExecuteTime": {
     "end_time": "2021-06-06T05:29:17.496543Z",
     "start_time": "2021-06-06T05:29:17.484585Z"
    },
    "id": "9PVp5226EKhr"
   },
   "source": [
    "## Using Sklearn - only continuous variables\n",
    "사이킷런에서는 변수가 범주형인 경우는 구현되지 않음."
   ]
  },
  {
   "cell_type": "code",
   "execution_count": 26,
   "metadata": {
    "ExecuteTime": {
     "end_time": "2021-06-10T12:22:35.702968Z",
     "start_time": "2021-06-10T12:22:35.692995Z"
    },
    "id": "CKoB-ytZEKhr"
   },
   "outputs": [],
   "source": [
    "# 연속형 변수만 뽑아줌.\n",
    "X = df[['Age', 'Fare']]\n",
    "y = df['Survived']"
   ]
  },
  {
   "cell_type": "code",
   "execution_count": 27,
   "metadata": {
    "ExecuteTime": {
     "end_time": "2021-06-10T12:22:36.246599Z",
     "start_time": "2021-06-10T12:22:36.076897Z"
    },
    "id": "_ngcusAsEKhr"
   },
   "outputs": [],
   "source": [
    "# 분류나무 생성\n",
    "myclf = DecisionTree()\n",
    "myclf.fit(X,y,impurity_measure='gini',type_of_col=['continuous']*2, max_depth=4)"
   ]
  },
  {
   "cell_type": "code",
   "execution_count": 28,
   "metadata": {
    "ExecuteTime": {
     "end_time": "2021-06-10T12:22:36.833275Z",
     "start_time": "2021-06-10T12:22:36.565488Z"
    },
    "colab": {
     "base_uri": "https://localhost:8080/",
     "height": 584
    },
    "id": "CkymXoWVEKhr",
    "outputId": "f8af15b5-609c-486b-ed93-bb6356d2d2e6"
   },
   "outputs": [
    {
     "output_type": "execute_result",
     "data": {
      "image/svg+xml": "<?xml version=\"1.0\" encoding=\"UTF-8\" standalone=\"no\"?>\n<!DOCTYPE svg PUBLIC \"-//W3C//DTD SVG 1.1//EN\"\n \"http://www.w3.org/Graphics/SVG/1.1/DTD/svg11.dtd\">\n<!-- Generated by graphviz version 2.43.0 (0)\n -->\n<!-- Title: %3 Pages: 1 -->\n<svg width=\"641pt\" height=\"408pt\"\n viewBox=\"0.00 0.00 641.00 408.00\" xmlns=\"http://www.w3.org/2000/svg\" xmlns:xlink=\"http://www.w3.org/1999/xlink\">\n<g id=\"graph0\" class=\"graph\" transform=\"scale(1 1) rotate(0) translate(4 404)\">\n<title>%3</title>\n<polygon fill=\"white\" stroke=\"transparent\" points=\"-4,4 -4,-404 637,-404 637,4 -4,4\"/>\n<!-- 1 -->\n<g id=\"node1\" class=\"node\">\n<title>1</title>\n<polygon fill=\"#db5f57\" stroke=\"black\" points=\"409.5,-400 300.5,-400 300.5,-347 409.5,-347 409.5,-400\"/>\n<text text-anchor=\"middle\" x=\"355\" y=\"-384.8\" font-family=\"Times,serif\" font-size=\"14.00\">Fare &lt;= 10.4625</text>\n<text text-anchor=\"middle\" x=\"355\" y=\"-369.8\" font-family=\"Times,serif\" font-size=\"14.00\">gini : 0.4304</text>\n<text text-anchor=\"middle\" x=\"355\" y=\"-354.8\" font-family=\"Times,serif\" font-size=\"14.00\">Samples : 891</text>\n</g>\n<!-- 2 -->\n<g id=\"node2\" class=\"node\">\n<title>2</title>\n<polygon fill=\"#b9db57\" stroke=\"black\" points=\"345.5,-311 250.5,-311 250.5,-258 345.5,-258 345.5,-311\"/>\n<text text-anchor=\"middle\" x=\"298\" y=\"-295.8\" font-family=\"Times,serif\" font-size=\"14.00\">Age &lt;= 32.0</text>\n<text text-anchor=\"middle\" x=\"298\" y=\"-280.8\" font-family=\"Times,serif\" font-size=\"14.00\">gini : 0.3092</text>\n<text text-anchor=\"middle\" x=\"298\" y=\"-265.8\" font-family=\"Times,serif\" font-size=\"14.00\">Samples : 339</text>\n</g>\n<!-- 1&#45;&gt;2 -->\n<g id=\"edge1\" class=\"edge\">\n<title>1&#45;&gt;2</title>\n<path fill=\"none\" stroke=\"black\" d=\"M338.21,-346.87C332.63,-338.36 326.33,-328.75 320.41,-319.7\"/>\n<polygon fill=\"black\" stroke=\"black\" points=\"323.28,-317.7 314.87,-311.25 317.42,-321.53 323.28,-317.7\"/>\n<text text-anchor=\"middle\" x=\"316.95\" y=\"-330.01\" font-family=\"Times,serif\" font-size=\"14.00\">yes</text>\n</g>\n<!-- 15 -->\n<g id=\"node9\" class=\"node\">\n<title>15</title>\n<polygon fill=\"#b9db57\" stroke=\"black\" points=\"459.5,-311 364.5,-311 364.5,-258 459.5,-258 459.5,-311\"/>\n<text text-anchor=\"middle\" x=\"412\" y=\"-295.8\" font-family=\"Times,serif\" font-size=\"14.00\">Fare &lt;= 73.5</text>\n<text text-anchor=\"middle\" x=\"412\" y=\"-280.8\" font-family=\"Times,serif\" font-size=\"14.00\">gini : 0.4701</text>\n<text text-anchor=\"middle\" x=\"412\" y=\"-265.8\" font-family=\"Times,serif\" font-size=\"14.00\">Samples : 552</text>\n</g>\n<!-- 1&#45;&gt;15 -->\n<g id=\"edge8\" class=\"edge\">\n<title>1&#45;&gt;15</title>\n<path fill=\"none\" stroke=\"black\" d=\"M371.79,-346.87C377.37,-338.36 383.67,-328.75 389.59,-319.7\"/>\n<polygon fill=\"black\" stroke=\"black\" points=\"392.58,-321.53 395.13,-311.25 386.72,-317.7 392.58,-321.53\"/>\n<text text-anchor=\"middle\" x=\"392.27\" y=\"-327.34\" font-family=\"Times,serif\" font-size=\"14.00\"> no</text>\n</g>\n<!-- 3 -->\n<g id=\"node3\" class=\"node\">\n<title>3</title>\n<polygon fill=\"#57db94\" stroke=\"black\" points=\"248.5,-222 153.5,-222 153.5,-169 248.5,-169 248.5,-222\"/>\n<text text-anchor=\"middle\" x=\"201\" y=\"-206.8\" font-family=\"Times,serif\" font-size=\"14.00\">Age &lt;= 16.0</text>\n<text text-anchor=\"middle\" x=\"201\" y=\"-191.8\" font-family=\"Times,serif\" font-size=\"14.00\">gini : 0.3435</text>\n<text text-anchor=\"middle\" x=\"201\" y=\"-176.8\" font-family=\"Times,serif\" font-size=\"14.00\">Samples : 277</text>\n</g>\n<!-- 2&#45;&gt;3 -->\n<g id=\"edge2\" class=\"edge\">\n<title>2&#45;&gt;3</title>\n<path fill=\"none\" stroke=\"black\" d=\"M269.42,-257.87C259.35,-248.83 247.89,-238.55 237.26,-229.03\"/>\n<polygon fill=\"black\" stroke=\"black\" points=\"239.49,-226.32 229.71,-222.25 234.82,-231.53 239.49,-226.32\"/>\n<text text-anchor=\"middle\" x=\"245.5\" y=\"-246.9\" font-family=\"Times,serif\" font-size=\"14.00\">yes</text>\n</g>\n<!-- 12 -->\n<g id=\"node8\" class=\"node\">\n<title>12</title>\n<polygon fill=\"none\" stroke=\"#a1c9f4\" points=\"325,-213.5 271,-213.5 271,-177.5 325,-177.5 325,-213.5\"/>\n<polygon fill=\"none\" stroke=\"#a1c9f4\" points=\"329,-217.5 267,-217.5 267,-173.5 329,-173.5 329,-217.5\"/>\n<text text-anchor=\"middle\" x=\"298\" y=\"-191.8\" font-family=\"Times,serif\" font-size=\"14.00\" fill=\"#a1c9f4\">0</text>\n</g>\n<!-- 2&#45;&gt;12 -->\n<g id=\"edge7\" class=\"edge\">\n<title>2&#45;&gt;12</title>\n<path fill=\"none\" stroke=\"black\" d=\"M298,-257.87C298,-248.44 298,-237.67 298,-227.8\"/>\n<polygon fill=\"black\" stroke=\"black\" points=\"301.5,-227.56 298,-217.56 294.5,-227.56 301.5,-227.56\"/>\n<text text-anchor=\"middle\" x=\"306.45\" y=\"-231.99\" font-family=\"Times,serif\" font-size=\"14.00\"> no</text>\n</g>\n<!-- 4 -->\n<g id=\"node4\" class=\"node\">\n<title>4</title>\n<polygon fill=\"#5784db\" stroke=\"black\" points=\"152,-133 50,-133 50,-80 152,-80 152,-133\"/>\n<text text-anchor=\"middle\" x=\"101\" y=\"-117.8\" font-family=\"Times,serif\" font-size=\"14.00\">Fare &lt;= 8.5167</text>\n<text text-anchor=\"middle\" x=\"101\" y=\"-102.8\" font-family=\"Times,serif\" font-size=\"14.00\">gini : 0.3636</text>\n<text text-anchor=\"middle\" x=\"101\" y=\"-87.8\" font-family=\"Times,serif\" font-size=\"14.00\">Samples : 14</text>\n</g>\n<!-- 3&#45;&gt;4 -->\n<g id=\"edge3\" class=\"edge\">\n<title>3&#45;&gt;4</title>\n<path fill=\"none\" stroke=\"black\" d=\"M171.54,-168.87C161.15,-159.83 149.34,-149.55 138.39,-140.03\"/>\n<polygon fill=\"black\" stroke=\"black\" points=\"140.44,-137.17 130.6,-133.25 135.84,-142.45 140.44,-137.17\"/>\n<text text-anchor=\"middle\" x=\"147.51\" y=\"-158.27\" font-family=\"Times,serif\" font-size=\"14.00\">yes</text>\n</g>\n<!-- 8 -->\n<g id=\"node7\" class=\"node\">\n<title>8</title>\n<polygon fill=\"none\" stroke=\"#a1c9f4\" points=\"228,-124.5 174,-124.5 174,-88.5 228,-88.5 228,-124.5\"/>\n<polygon fill=\"none\" stroke=\"#a1c9f4\" points=\"232,-128.5 170,-128.5 170,-84.5 232,-84.5 232,-128.5\"/>\n<text text-anchor=\"middle\" x=\"201\" y=\"-102.8\" font-family=\"Times,serif\" font-size=\"14.00\" fill=\"#a1c9f4\">0</text>\n</g>\n<!-- 3&#45;&gt;8 -->\n<g id=\"edge6\" class=\"edge\">\n<title>3&#45;&gt;8</title>\n<path fill=\"none\" stroke=\"black\" d=\"M201,-168.87C201,-159.44 201,-148.67 201,-138.8\"/>\n<polygon fill=\"black\" stroke=\"black\" points=\"204.5,-138.56 201,-128.56 197.5,-138.56 204.5,-138.56\"/>\n<text text-anchor=\"middle\" x=\"209.45\" y=\"-142.99\" font-family=\"Times,serif\" font-size=\"14.00\"> no</text>\n</g>\n<!-- 5 -->\n<g id=\"node5\" class=\"node\">\n<title>5</title>\n<polygon fill=\"none\" stroke=\"#ffb482\" points=\"58,-40 4,-40 4,-4 58,-4 58,-40\"/>\n<polygon fill=\"none\" stroke=\"#ffb482\" points=\"62,-44 0,-44 0,0 62,0 62,-44\"/>\n<text text-anchor=\"middle\" x=\"31\" y=\"-18.3\" font-family=\"Times,serif\" font-size=\"14.00\" fill=\"#ffb482\">1</text>\n</g>\n<!-- 4&#45;&gt;5 -->\n<g id=\"edge4\" class=\"edge\">\n<title>4&#45;&gt;5</title>\n<path fill=\"none\" stroke=\"black\" d=\"M79.24,-79.85C71.72,-71 63.26,-61.02 55.54,-51.92\"/>\n<polygon fill=\"black\" stroke=\"black\" points=\"58.13,-49.56 48.99,-44.2 52.79,-54.09 58.13,-49.56\"/>\n<text text-anchor=\"middle\" x=\"56.52\" y=\"-65.71\" font-family=\"Times,serif\" font-size=\"14.00\">yes</text>\n</g>\n<!-- 6 -->\n<g id=\"node6\" class=\"node\">\n<title>6</title>\n<polygon fill=\"none\" stroke=\"#a1c9f4\" points=\"138,-40 84,-40 84,-4 138,-4 138,-40\"/>\n<polygon fill=\"none\" stroke=\"#a1c9f4\" points=\"142,-44 80,-44 80,0 142,0 142,-44\"/>\n<text text-anchor=\"middle\" x=\"111\" y=\"-18.3\" font-family=\"Times,serif\" font-size=\"14.00\" fill=\"#a1c9f4\">0</text>\n</g>\n<!-- 4&#45;&gt;6 -->\n<g id=\"edge5\" class=\"edge\">\n<title>4&#45;&gt;6</title>\n<path fill=\"none\" stroke=\"black\" d=\"M104.11,-79.85C105.1,-71.71 106.2,-62.62 107.23,-54.14\"/>\n<polygon fill=\"black\" stroke=\"black\" points=\"110.7,-54.55 108.43,-44.2 103.75,-53.71 110.7,-54.55\"/>\n<text text-anchor=\"middle\" x=\"114.64\" y=\"-59.52\" font-family=\"Times,serif\" font-size=\"14.00\"> no</text>\n</g>\n<!-- 16 -->\n<g id=\"node10\" class=\"node\">\n<title>16</title>\n<polygon fill=\"#57db94\" stroke=\"black\" points=\"459.5,-222 364.5,-222 364.5,-169 459.5,-169 459.5,-222\"/>\n<text text-anchor=\"middle\" x=\"412\" y=\"-206.8\" font-family=\"Times,serif\" font-size=\"14.00\">Age &lt;= 6.0</text>\n<text text-anchor=\"middle\" x=\"412\" y=\"-191.8\" font-family=\"Times,serif\" font-size=\"14.00\">gini : 0.4781</text>\n<text text-anchor=\"middle\" x=\"412\" y=\"-176.8\" font-family=\"Times,serif\" font-size=\"14.00\">Samples : 455</text>\n</g>\n<!-- 15&#45;&gt;16 -->\n<g id=\"edge9\" class=\"edge\">\n<title>15&#45;&gt;16</title>\n<path fill=\"none\" stroke=\"black\" d=\"M412,-257.87C412,-249.89 412,-240.93 412,-232.38\"/>\n<polygon fill=\"black\" stroke=\"black\" points=\"415.5,-232.25 412,-222.25 408.5,-232.25 415.5,-232.25\"/>\n<text text-anchor=\"middle\" x=\"401.43\" y=\"-231.51\" font-family=\"Times,serif\" font-size=\"14.00\">yes</text>\n</g>\n<!-- 23 -->\n<g id=\"node17\" class=\"node\">\n<title>23</title>\n<polygon fill=\"#57db94\" stroke=\"black\" points=\"566,-222 478,-222 478,-169 566,-169 566,-222\"/>\n<text text-anchor=\"middle\" x=\"522\" y=\"-206.8\" font-family=\"Times,serif\" font-size=\"14.00\">Age &lt;= 63.0</text>\n<text text-anchor=\"middle\" x=\"522\" y=\"-191.8\" font-family=\"Times,serif\" font-size=\"14.00\">gini : 0.3497</text>\n<text text-anchor=\"middle\" x=\"522\" y=\"-176.8\" font-family=\"Times,serif\" font-size=\"14.00\">Samples : 97</text>\n</g>\n<!-- 15&#45;&gt;23 -->\n<g id=\"edge16\" class=\"edge\">\n<title>15&#45;&gt;23</title>\n<path fill=\"none\" stroke=\"black\" d=\"M444.41,-257.87C456.05,-248.66 469.33,-238.15 481.58,-228.47\"/>\n<polygon fill=\"black\" stroke=\"black\" points=\"483.77,-231.2 489.44,-222.25 479.43,-225.71 483.77,-231.2\"/>\n<text text-anchor=\"middle\" x=\"480.47\" y=\"-236.42\" font-family=\"Times,serif\" font-size=\"14.00\"> no</text>\n</g>\n<!-- 17 -->\n<g id=\"node11\" class=\"node\">\n<title>17</title>\n<polygon fill=\"#5784db\" stroke=\"black\" points=\"345.5,-133 250.5,-133 250.5,-80 345.5,-80 345.5,-133\"/>\n<text text-anchor=\"middle\" x=\"298\" y=\"-117.8\" font-family=\"Times,serif\" font-size=\"14.00\">Fare &lt;= 27.75</text>\n<text text-anchor=\"middle\" x=\"298\" y=\"-102.8\" font-family=\"Times,serif\" font-size=\"14.00\">gini : 0.2989</text>\n<text text-anchor=\"middle\" x=\"298\" y=\"-87.8\" font-family=\"Times,serif\" font-size=\"14.00\">Samples : 42</text>\n</g>\n<!-- 16&#45;&gt;17 -->\n<g id=\"edge10\" class=\"edge\">\n<title>16&#45;&gt;17</title>\n<path fill=\"none\" stroke=\"black\" d=\"M378.41,-168.87C366.34,-159.66 352.58,-149.15 339.89,-139.47\"/>\n<polygon fill=\"black\" stroke=\"black\" points=\"341.81,-136.53 331.74,-133.25 337.57,-142.1 341.81,-136.53\"/>\n<text text-anchor=\"middle\" x=\"353.99\" y=\"-159.82\" font-family=\"Times,serif\" font-size=\"14.00\">yes</text>\n</g>\n<!-- 20 -->\n<g id=\"node14\" class=\"node\">\n<title>20</title>\n<polygon fill=\"#5784db\" stroke=\"black\" points=\"472.5,-133 363.5,-133 363.5,-80 472.5,-80 472.5,-133\"/>\n<text text-anchor=\"middle\" x=\"418\" y=\"-117.8\" font-family=\"Times,serif\" font-size=\"14.00\">Fare &lt;= 50.4958</text>\n<text text-anchor=\"middle\" x=\"418\" y=\"-102.8\" font-family=\"Times,serif\" font-size=\"14.00\">gini : 0.4772</text>\n<text text-anchor=\"middle\" x=\"418\" y=\"-87.8\" font-family=\"Times,serif\" font-size=\"14.00\">Samples : 413</text>\n</g>\n<!-- 16&#45;&gt;20 -->\n<g id=\"edge13\" class=\"edge\">\n<title>16&#45;&gt;20</title>\n<path fill=\"none\" stroke=\"black\" d=\"M413.77,-168.87C414.32,-160.89 414.94,-151.93 415.53,-143.38\"/>\n<polygon fill=\"black\" stroke=\"black\" points=\"419.03,-143.47 416.22,-133.25 412.04,-142.99 419.03,-143.47\"/>\n<text text-anchor=\"middle\" x=\"423.41\" y=\"-148.21\" font-family=\"Times,serif\" font-size=\"14.00\"> no</text>\n</g>\n<!-- 18 -->\n<g id=\"node12\" class=\"node\">\n<title>18</title>\n<polygon fill=\"none\" stroke=\"#ffb482\" points=\"256,-40 202,-40 202,-4 256,-4 256,-40\"/>\n<polygon fill=\"none\" stroke=\"#ffb482\" points=\"260,-44 198,-44 198,0 260,0 260,-44\"/>\n<text text-anchor=\"middle\" x=\"229\" y=\"-18.3\" font-family=\"Times,serif\" font-size=\"14.00\" fill=\"#ffb482\">1</text>\n</g>\n<!-- 17&#45;&gt;18 -->\n<g id=\"edge11\" class=\"edge\">\n<title>17&#45;&gt;18</title>\n<path fill=\"none\" stroke=\"black\" d=\"M276.55,-79.85C269.14,-71 260.8,-61.02 253.19,-51.92\"/>\n<polygon fill=\"black\" stroke=\"black\" points=\"255.83,-49.63 246.73,-44.2 250.47,-54.12 255.83,-49.63\"/>\n<text text-anchor=\"middle\" x=\"253.91\" y=\"-65.55\" font-family=\"Times,serif\" font-size=\"14.00\">yes</text>\n</g>\n<!-- 19 -->\n<g id=\"node13\" class=\"node\">\n<title>19</title>\n<polygon fill=\"none\" stroke=\"#a1c9f4\" points=\"336,-40 282,-40 282,-4 336,-4 336,-40\"/>\n<polygon fill=\"none\" stroke=\"#a1c9f4\" points=\"340,-44 278,-44 278,0 340,0 340,-44\"/>\n<text text-anchor=\"middle\" x=\"309\" y=\"-18.3\" font-family=\"Times,serif\" font-size=\"14.00\" fill=\"#a1c9f4\">0</text>\n</g>\n<!-- 17&#45;&gt;19 -->\n<g id=\"edge12\" class=\"edge\">\n<title>17&#45;&gt;19</title>\n<path fill=\"none\" stroke=\"black\" d=\"M301.42,-79.85C302.51,-71.71 303.72,-62.62 304.85,-54.14\"/>\n<polygon fill=\"black\" stroke=\"black\" points=\"308.32,-54.58 306.17,-44.2 301.38,-53.65 308.32,-54.58\"/>\n<text text-anchor=\"middle\" x=\"312.16\" y=\"-59.59\" font-family=\"Times,serif\" font-size=\"14.00\"> no</text>\n</g>\n<!-- 21 -->\n<g id=\"node15\" class=\"node\">\n<title>21</title>\n<polygon fill=\"none\" stroke=\"#a1c9f4\" points=\"435,-40 381,-40 381,-4 435,-4 435,-40\"/>\n<polygon fill=\"none\" stroke=\"#a1c9f4\" points=\"439,-44 377,-44 377,0 439,0 439,-44\"/>\n<text text-anchor=\"middle\" x=\"408\" y=\"-18.3\" font-family=\"Times,serif\" font-size=\"14.00\" fill=\"#a1c9f4\">0</text>\n</g>\n<!-- 20&#45;&gt;21 -->\n<g id=\"edge14\" class=\"edge\">\n<title>20&#45;&gt;21</title>\n<path fill=\"none\" stroke=\"black\" d=\"M414.89,-79.85C413.9,-71.71 412.8,-62.62 411.77,-54.14\"/>\n<polygon fill=\"black\" stroke=\"black\" points=\"415.25,-53.71 410.57,-44.2 408.3,-54.55 415.25,-53.71\"/>\n<text text-anchor=\"middle\" x=\"401.68\" y=\"-54.93\" font-family=\"Times,serif\" font-size=\"14.00\">yes</text>\n</g>\n<!-- 22 -->\n<g id=\"node16\" class=\"node\">\n<title>22</title>\n<polygon fill=\"none\" stroke=\"#ffb482\" points=\"515,-40 461,-40 461,-4 515,-4 515,-40\"/>\n<polygon fill=\"none\" stroke=\"#ffb482\" points=\"519,-44 457,-44 457,0 519,0 519,-44\"/>\n<text text-anchor=\"middle\" x=\"488\" y=\"-18.3\" font-family=\"Times,serif\" font-size=\"14.00\" fill=\"#ffb482\">1</text>\n</g>\n<!-- 20&#45;&gt;22 -->\n<g id=\"edge15\" class=\"edge\">\n<title>20&#45;&gt;22</title>\n<path fill=\"none\" stroke=\"black\" d=\"M439.76,-79.85C447.28,-71 455.74,-61.02 463.46,-51.92\"/>\n<polygon fill=\"black\" stroke=\"black\" points=\"466.21,-54.09 470.01,-44.2 460.87,-49.56 466.21,-54.09\"/>\n<text text-anchor=\"middle\" x=\"464.73\" y=\"-59.79\" font-family=\"Times,serif\" font-size=\"14.00\"> no</text>\n</g>\n<!-- 25 -->\n<g id=\"node18\" class=\"node\">\n<title>25</title>\n<polygon fill=\"none\" stroke=\"#ffb482\" points=\"549,-124.5 495,-124.5 495,-88.5 549,-88.5 549,-124.5\"/>\n<polygon fill=\"none\" stroke=\"#ffb482\" points=\"553,-128.5 491,-128.5 491,-84.5 553,-84.5 553,-128.5\"/>\n<text text-anchor=\"middle\" x=\"522\" y=\"-102.8\" font-family=\"Times,serif\" font-size=\"14.00\" fill=\"#ffb482\">1</text>\n</g>\n<!-- 23&#45;&gt;25 -->\n<g id=\"edge17\" class=\"edge\">\n<title>23&#45;&gt;25</title>\n<path fill=\"none\" stroke=\"black\" d=\"M522,-168.87C522,-159.44 522,-148.67 522,-138.8\"/>\n<polygon fill=\"black\" stroke=\"black\" points=\"525.5,-138.56 522,-128.56 518.5,-138.56 525.5,-138.56\"/>\n<text text-anchor=\"middle\" x=\"511.43\" y=\"-142.51\" font-family=\"Times,serif\" font-size=\"14.00\">yes</text>\n</g>\n<!-- 27 -->\n<g id=\"node19\" class=\"node\">\n<title>27</title>\n<polygon fill=\"none\" stroke=\"#a1c9f4\" points=\"629,-124.5 575,-124.5 575,-88.5 629,-88.5 629,-124.5\"/>\n<polygon fill=\"none\" stroke=\"#a1c9f4\" points=\"633,-128.5 571,-128.5 571,-84.5 633,-84.5 633,-128.5\"/>\n<text text-anchor=\"middle\" x=\"602\" y=\"-102.8\" font-family=\"Times,serif\" font-size=\"14.00\" fill=\"#a1c9f4\">0</text>\n</g>\n<!-- 23&#45;&gt;27 -->\n<g id=\"edge18\" class=\"edge\">\n<title>23&#45;&gt;27</title>\n<path fill=\"none\" stroke=\"black\" d=\"M545.57,-168.87C555.06,-158.54 566.05,-146.59 575.8,-135.99\"/>\n<polygon fill=\"black\" stroke=\"black\" points=\"578.44,-138.29 582.63,-128.56 573.29,-133.55 578.44,-138.29\"/>\n<text text-anchor=\"middle\" x=\"576.59\" y=\"-143.92\" font-family=\"Times,serif\" font-size=\"14.00\"> no</text>\n</g>\n</g>\n</svg>\n",
      "text/plain": [
       "<graphviz.graphs.Digraph at 0x7f1806268f40>"
      ]
     },
     "metadata": {},
     "execution_count": 28
    }
   ],
   "source": [
    "# 시각화\n",
    "visualize_tree(myclf.root)"
   ]
  },
  {
   "cell_type": "code",
   "execution_count": 29,
   "metadata": {
    "ExecuteTime": {
     "end_time": "2021-06-10T12:22:37.634715Z",
     "start_time": "2021-06-10T12:22:37.556947Z"
    },
    "colab": {
     "base_uri": "https://localhost:8080/"
    },
    "id": "drrAZMY7EKhs",
    "outputId": "766f92be-7f7b-4df2-e65c-e7a8c18133cd"
   },
   "outputs": [
    {
     "output_type": "execute_result",
     "data": {
      "text/plain": [
       "0.7093153759820426"
      ]
     },
     "metadata": {},
     "execution_count": 29
    }
   ],
   "source": [
    "# 정확도 확인\n",
    "np.sum(y == myclf.predict(X))/len(y)"
   ]
  },
  {
   "cell_type": "code",
   "execution_count": 30,
   "metadata": {
    "ExecuteTime": {
     "end_time": "2021-06-10T12:22:38.223104Z",
     "start_time": "2021-06-10T12:22:38.206121Z"
    },
    "id": "kDqOGQt3EKhs"
   },
   "outputs": [],
   "source": [
    "clf = tree.DecisionTreeClassifier(max_depth=4, min_samples_split=5)\n",
    "clf = clf.fit(X, y)"
   ]
  },
  {
   "cell_type": "code",
   "execution_count": 31,
   "metadata": {
    "ExecuteTime": {
     "end_time": "2021-06-10T12:22:39.587751Z",
     "start_time": "2021-06-10T12:22:39.572792Z"
    },
    "colab": {
     "base_uri": "https://localhost:8080/"
    },
    "id": "FAfzabW0EKhs",
    "outputId": "a5e9cea1-0b8e-4d5d-fe39-db9393e4a6f8"
   },
   "outputs": [
    {
     "output_type": "execute_result",
     "data": {
      "text/plain": [
       "0.7093153759820426"
      ]
     },
     "metadata": {},
     "execution_count": 31
    }
   ],
   "source": [
    "np.sum(y == clf.predict(X))/len(y)"
   ]
  },
  {
   "cell_type": "code",
   "execution_count": 32,
   "metadata": {
    "ExecuteTime": {
     "end_time": "2021-06-10T12:22:53.389668Z",
     "start_time": "2021-06-10T12:22:53.116505Z"
    },
    "colab": {
     "base_uri": "https://localhost:8080/",
     "height": 776
    },
    "id": "spwB0iCLEKhs",
    "outputId": "a1b1b0b1-069c-4c7f-8f7d-b6180c297d7c"
   },
   "outputs": [
    {
     "output_type": "execute_result",
     "data": {
      "image/svg+xml": "<?xml version=\"1.0\" encoding=\"UTF-8\" standalone=\"no\"?>\n<!DOCTYPE svg PUBLIC \"-//W3C//DTD SVG 1.1//EN\"\n \"http://www.w3.org/Graphics/SVG/1.1/DTD/svg11.dtd\">\n<!-- Generated by graphviz version 2.43.0 (0)\n -->\n<!-- Title: Tree Pages: 1 -->\n<svg width=\"1498pt\" height=\"552pt\"\n viewBox=\"0.00 0.00 1498.00 552.00\" xmlns=\"http://www.w3.org/2000/svg\" xmlns:xlink=\"http://www.w3.org/1999/xlink\">\n<g id=\"graph0\" class=\"graph\" transform=\"scale(1 1) rotate(0) translate(4 548)\">\n<title>Tree</title>\n<polygon fill=\"white\" stroke=\"transparent\" points=\"-4,4 -4,-548 1494,-548 1494,4 -4,4\"/>\n<!-- 0 -->\n<g id=\"node1\" class=\"node\">\n<title>0</title>\n<path fill=\"none\" stroke=\"black\" d=\"M839.5,-544C839.5,-544 738.5,-544 738.5,-544 732.5,-544 726.5,-538 726.5,-532 726.5,-532 726.5,-473 726.5,-473 726.5,-467 732.5,-461 738.5,-461 738.5,-461 839.5,-461 839.5,-461 845.5,-461 851.5,-467 851.5,-473 851.5,-473 851.5,-532 851.5,-532 851.5,-538 845.5,-544 839.5,-544\"/>\n<text text-anchor=\"middle\" x=\"789\" y=\"-528.8\" font-family=\"Helvetica,sans-Serif\" font-size=\"14.00\">Fare &lt;= 10.481</text>\n<text text-anchor=\"middle\" x=\"789\" y=\"-513.8\" font-family=\"Helvetica,sans-Serif\" font-size=\"14.00\">gini = 0.473</text>\n<text text-anchor=\"middle\" x=\"789\" y=\"-498.8\" font-family=\"Helvetica,sans-Serif\" font-size=\"14.00\">samples = 891</text>\n<text text-anchor=\"middle\" x=\"789\" y=\"-483.8\" font-family=\"Helvetica,sans-Serif\" font-size=\"14.00\">value = [549, 342]</text>\n<text text-anchor=\"middle\" x=\"789\" y=\"-468.8\" font-family=\"Helvetica,sans-Serif\" font-size=\"14.00\">class = 0</text>\n</g>\n<!-- 1 -->\n<g id=\"node2\" class=\"node\">\n<title>1</title>\n<path fill=\"none\" stroke=\"black\" d=\"M716.5,-425C716.5,-425 623.5,-425 623.5,-425 617.5,-425 611.5,-419 611.5,-413 611.5,-413 611.5,-354 611.5,-354 611.5,-348 617.5,-342 623.5,-342 623.5,-342 716.5,-342 716.5,-342 722.5,-342 728.5,-348 728.5,-354 728.5,-354 728.5,-413 728.5,-413 728.5,-419 722.5,-425 716.5,-425\"/>\n<text text-anchor=\"middle\" x=\"670\" y=\"-409.8\" font-family=\"Helvetica,sans-Serif\" font-size=\"14.00\">Age &lt;= 32.5</text>\n<text text-anchor=\"middle\" x=\"670\" y=\"-394.8\" font-family=\"Helvetica,sans-Serif\" font-size=\"14.00\">gini = 0.317</text>\n<text text-anchor=\"middle\" x=\"670\" y=\"-379.8\" font-family=\"Helvetica,sans-Serif\" font-size=\"14.00\">samples = 339</text>\n<text text-anchor=\"middle\" x=\"670\" y=\"-364.8\" font-family=\"Helvetica,sans-Serif\" font-size=\"14.00\">value = [272, 67]</text>\n<text text-anchor=\"middle\" x=\"670\" y=\"-349.8\" font-family=\"Helvetica,sans-Serif\" font-size=\"14.00\">class = 0</text>\n</g>\n<!-- 0&#45;&gt;1 -->\n<g id=\"edge1\" class=\"edge\">\n<title>0&#45;&gt;1</title>\n<path fill=\"none\" stroke=\"black\" d=\"M747.71,-460.91C738.3,-451.65 728.21,-441.73 718.52,-432.21\"/>\n<polygon fill=\"black\" stroke=\"black\" points=\"720.8,-429.54 711.21,-425.02 715.89,-434.53 720.8,-429.54\"/>\n<text text-anchor=\"middle\" x=\"711.43\" y=\"-446.32\" font-family=\"Helvetica,sans-Serif\" font-size=\"14.00\">True</text>\n</g>\n<!-- 14 -->\n<g id=\"node15\" class=\"node\">\n<title>14</title>\n<path fill=\"none\" stroke=\"black\" d=\"M1027.5,-425C1027.5,-425 926.5,-425 926.5,-425 920.5,-425 914.5,-419 914.5,-413 914.5,-413 914.5,-354 914.5,-354 914.5,-348 920.5,-342 926.5,-342 926.5,-342 1027.5,-342 1027.5,-342 1033.5,-342 1039.5,-348 1039.5,-354 1039.5,-354 1039.5,-413 1039.5,-413 1039.5,-419 1033.5,-425 1027.5,-425\"/>\n<text text-anchor=\"middle\" x=\"977\" y=\"-409.8\" font-family=\"Helvetica,sans-Serif\" font-size=\"14.00\">Fare &lt;= 74.375</text>\n<text text-anchor=\"middle\" x=\"977\" y=\"-394.8\" font-family=\"Helvetica,sans-Serif\" font-size=\"14.00\">gini = 0.5</text>\n<text text-anchor=\"middle\" x=\"977\" y=\"-379.8\" font-family=\"Helvetica,sans-Serif\" font-size=\"14.00\">samples = 552</text>\n<text text-anchor=\"middle\" x=\"977\" y=\"-364.8\" font-family=\"Helvetica,sans-Serif\" font-size=\"14.00\">value = [277, 275]</text>\n<text text-anchor=\"middle\" x=\"977\" y=\"-349.8\" font-family=\"Helvetica,sans-Serif\" font-size=\"14.00\">class = 0</text>\n</g>\n<!-- 0&#45;&gt;14 -->\n<g id=\"edge14\" class=\"edge\">\n<title>0&#45;&gt;14</title>\n<path fill=\"none\" stroke=\"black\" d=\"M851.6,-462.54C868.95,-451.74 887.91,-439.94 905.72,-428.86\"/>\n<polygon fill=\"black\" stroke=\"black\" points=\"907.71,-431.74 914.35,-423.49 904.01,-425.8 907.71,-431.74\"/>\n<text text-anchor=\"middle\" x=\"908.68\" y=\"-444.14\" font-family=\"Helvetica,sans-Serif\" font-size=\"14.00\">False</text>\n</g>\n<!-- 2 -->\n<g id=\"node3\" class=\"node\">\n<title>2</title>\n<path fill=\"none\" stroke=\"black\" d=\"M403.5,-306C403.5,-306 310.5,-306 310.5,-306 304.5,-306 298.5,-300 298.5,-294 298.5,-294 298.5,-235 298.5,-235 298.5,-229 304.5,-223 310.5,-223 310.5,-223 403.5,-223 403.5,-223 409.5,-223 415.5,-229 415.5,-235 415.5,-235 415.5,-294 415.5,-294 415.5,-300 409.5,-306 403.5,-306\"/>\n<text text-anchor=\"middle\" x=\"357\" y=\"-290.8\" font-family=\"Helvetica,sans-Serif\" font-size=\"14.00\">Age &lt;= 16.5</text>\n<text text-anchor=\"middle\" x=\"357\" y=\"-275.8\" font-family=\"Helvetica,sans-Serif\" font-size=\"14.00\">gini = 0.351</text>\n<text text-anchor=\"middle\" x=\"357\" y=\"-260.8\" font-family=\"Helvetica,sans-Serif\" font-size=\"14.00\">samples = 277</text>\n<text text-anchor=\"middle\" x=\"357\" y=\"-245.8\" font-family=\"Helvetica,sans-Serif\" font-size=\"14.00\">value = [214, 63]</text>\n<text text-anchor=\"middle\" x=\"357\" y=\"-230.8\" font-family=\"Helvetica,sans-Serif\" font-size=\"14.00\">class = 0</text>\n</g>\n<!-- 1&#45;&gt;2 -->\n<g id=\"edge2\" class=\"edge\">\n<title>1&#45;&gt;2</title>\n<path fill=\"none\" stroke=\"black\" d=\"M611.49,-360.63C558.64,-340.87 480.83,-311.79 425.18,-290.98\"/>\n<polygon fill=\"black\" stroke=\"black\" points=\"426.34,-287.68 415.75,-287.46 423.89,-294.24 426.34,-287.68\"/>\n</g>\n<!-- 9 -->\n<g id=\"node10\" class=\"node\">\n<title>9</title>\n<path fill=\"none\" stroke=\"black\" d=\"M709,-306C709,-306 631,-306 631,-306 625,-306 619,-300 619,-294 619,-294 619,-235 619,-235 619,-229 625,-223 631,-223 631,-223 709,-223 709,-223 715,-223 721,-229 721,-235 721,-235 721,-294 721,-294 721,-300 715,-306 709,-306\"/>\n<text text-anchor=\"middle\" x=\"670\" y=\"-290.8\" font-family=\"Helvetica,sans-Serif\" font-size=\"14.00\">Fare &lt;= 9.544</text>\n<text text-anchor=\"middle\" x=\"670\" y=\"-275.8\" font-family=\"Helvetica,sans-Serif\" font-size=\"14.00\">gini = 0.121</text>\n<text text-anchor=\"middle\" x=\"670\" y=\"-260.8\" font-family=\"Helvetica,sans-Serif\" font-size=\"14.00\">samples = 62</text>\n<text text-anchor=\"middle\" x=\"670\" y=\"-245.8\" font-family=\"Helvetica,sans-Serif\" font-size=\"14.00\">value = [58, 4]</text>\n<text text-anchor=\"middle\" x=\"670\" y=\"-230.8\" font-family=\"Helvetica,sans-Serif\" font-size=\"14.00\">class = 0</text>\n</g>\n<!-- 1&#45;&gt;9 -->\n<g id=\"edge9\" class=\"edge\">\n<title>1&#45;&gt;9</title>\n<path fill=\"none\" stroke=\"black\" d=\"M670,-341.91C670,-333.65 670,-324.86 670,-316.3\"/>\n<polygon fill=\"black\" stroke=\"black\" points=\"673.5,-316.02 670,-306.02 666.5,-316.02 673.5,-316.02\"/>\n</g>\n<!-- 3 -->\n<g id=\"node4\" class=\"node\">\n<title>3</title>\n<path fill=\"none\" stroke=\"black\" d=\"M203,-187C203,-187 125,-187 125,-187 119,-187 113,-181 113,-175 113,-175 113,-116 113,-116 113,-110 119,-104 125,-104 125,-104 203,-104 203,-104 209,-104 215,-110 215,-116 215,-116 215,-175 215,-175 215,-181 209,-187 203,-187\"/>\n<text text-anchor=\"middle\" x=\"164\" y=\"-171.8\" font-family=\"Helvetica,sans-Serif\" font-size=\"14.00\">Fare &lt;= 8.867</text>\n<text text-anchor=\"middle\" x=\"164\" y=\"-156.8\" font-family=\"Helvetica,sans-Serif\" font-size=\"14.00\">gini = 0.5</text>\n<text text-anchor=\"middle\" x=\"164\" y=\"-141.8\" font-family=\"Helvetica,sans-Serif\" font-size=\"14.00\">samples = 14</text>\n<text text-anchor=\"middle\" x=\"164\" y=\"-126.8\" font-family=\"Helvetica,sans-Serif\" font-size=\"14.00\">value = [7, 7]</text>\n<text text-anchor=\"middle\" x=\"164\" y=\"-111.8\" font-family=\"Helvetica,sans-Serif\" font-size=\"14.00\">class = 0</text>\n</g>\n<!-- 2&#45;&gt;3 -->\n<g id=\"edge3\" class=\"edge\">\n<title>2&#45;&gt;3</title>\n<path fill=\"none\" stroke=\"black\" d=\"M298.31,-227.92C274.7,-213.61 247.51,-197.12 223.79,-182.75\"/>\n<polygon fill=\"black\" stroke=\"black\" points=\"225.59,-179.75 215.23,-177.55 221.96,-185.73 225.59,-179.75\"/>\n</g>\n<!-- 6 -->\n<g id=\"node7\" class=\"node\">\n<title>6</title>\n<path fill=\"none\" stroke=\"black\" d=\"M403.5,-187C403.5,-187 310.5,-187 310.5,-187 304.5,-187 298.5,-181 298.5,-175 298.5,-175 298.5,-116 298.5,-116 298.5,-110 304.5,-104 310.5,-104 310.5,-104 403.5,-104 403.5,-104 409.5,-104 415.5,-110 415.5,-116 415.5,-116 415.5,-175 415.5,-175 415.5,-181 409.5,-187 403.5,-187\"/>\n<text text-anchor=\"middle\" x=\"357\" y=\"-171.8\" font-family=\"Helvetica,sans-Serif\" font-size=\"14.00\">Fare &lt;= 7.883</text>\n<text text-anchor=\"middle\" x=\"357\" y=\"-156.8\" font-family=\"Helvetica,sans-Serif\" font-size=\"14.00\">gini = 0.335</text>\n<text text-anchor=\"middle\" x=\"357\" y=\"-141.8\" font-family=\"Helvetica,sans-Serif\" font-size=\"14.00\">samples = 263</text>\n<text text-anchor=\"middle\" x=\"357\" y=\"-126.8\" font-family=\"Helvetica,sans-Serif\" font-size=\"14.00\">value = [207, 56]</text>\n<text text-anchor=\"middle\" x=\"357\" y=\"-111.8\" font-family=\"Helvetica,sans-Serif\" font-size=\"14.00\">class = 0</text>\n</g>\n<!-- 2&#45;&gt;6 -->\n<g id=\"edge6\" class=\"edge\">\n<title>2&#45;&gt;6</title>\n<path fill=\"none\" stroke=\"black\" d=\"M357,-222.91C357,-214.65 357,-205.86 357,-197.3\"/>\n<polygon fill=\"black\" stroke=\"black\" points=\"360.5,-197.02 357,-187.02 353.5,-197.02 360.5,-197.02\"/>\n</g>\n<!-- 4 -->\n<g id=\"node5\" class=\"node\">\n<title>4</title>\n<path fill=\"none\" stroke=\"black\" d=\"M86,-68C86,-68 12,-68 12,-68 6,-68 0,-62 0,-56 0,-56 0,-12 0,-12 0,-6 6,0 12,0 12,0 86,0 86,0 92,0 98,-6 98,-12 98,-12 98,-56 98,-56 98,-62 92,-68 86,-68\"/>\n<text text-anchor=\"middle\" x=\"49\" y=\"-52.8\" font-family=\"Helvetica,sans-Serif\" font-size=\"14.00\">gini = 0.463</text>\n<text text-anchor=\"middle\" x=\"49\" y=\"-37.8\" font-family=\"Helvetica,sans-Serif\" font-size=\"14.00\">samples = 11</text>\n<text text-anchor=\"middle\" x=\"49\" y=\"-22.8\" font-family=\"Helvetica,sans-Serif\" font-size=\"14.00\">value = [4, 7]</text>\n<text text-anchor=\"middle\" x=\"49\" y=\"-7.8\" font-family=\"Helvetica,sans-Serif\" font-size=\"14.00\">class = 1</text>\n</g>\n<!-- 3&#45;&gt;4 -->\n<g id=\"edge4\" class=\"edge\">\n<title>3&#45;&gt;4</title>\n<path fill=\"none\" stroke=\"black\" d=\"M121.18,-103.73C111.41,-94.42 101.03,-84.54 91.28,-75.26\"/>\n<polygon fill=\"black\" stroke=\"black\" points=\"93.63,-72.66 83.97,-68.3 88.8,-77.73 93.63,-72.66\"/>\n</g>\n<!-- 5 -->\n<g id=\"node6\" class=\"node\">\n<title>5</title>\n<path fill=\"none\" stroke=\"black\" d=\"M199.5,-68C199.5,-68 128.5,-68 128.5,-68 122.5,-68 116.5,-62 116.5,-56 116.5,-56 116.5,-12 116.5,-12 116.5,-6 122.5,0 128.5,0 128.5,0 199.5,0 199.5,0 205.5,0 211.5,-6 211.5,-12 211.5,-12 211.5,-56 211.5,-56 211.5,-62 205.5,-68 199.5,-68\"/>\n<text text-anchor=\"middle\" x=\"164\" y=\"-52.8\" font-family=\"Helvetica,sans-Serif\" font-size=\"14.00\">gini = 0.0</text>\n<text text-anchor=\"middle\" x=\"164\" y=\"-37.8\" font-family=\"Helvetica,sans-Serif\" font-size=\"14.00\">samples = 3</text>\n<text text-anchor=\"middle\" x=\"164\" y=\"-22.8\" font-family=\"Helvetica,sans-Serif\" font-size=\"14.00\">value = [3, 0]</text>\n<text text-anchor=\"middle\" x=\"164\" y=\"-7.8\" font-family=\"Helvetica,sans-Serif\" font-size=\"14.00\">class = 0</text>\n</g>\n<!-- 3&#45;&gt;5 -->\n<g id=\"edge5\" class=\"edge\">\n<title>3&#45;&gt;5</title>\n<path fill=\"none\" stroke=\"black\" d=\"M164,-103.73C164,-95.52 164,-86.86 164,-78.56\"/>\n<polygon fill=\"black\" stroke=\"black\" points=\"167.5,-78.3 164,-68.3 160.5,-78.3 167.5,-78.3\"/>\n</g>\n<!-- 7 -->\n<g id=\"node8\" class=\"node\">\n<title>7</title>\n<path fill=\"none\" stroke=\"black\" d=\"M334.5,-68C334.5,-68 241.5,-68 241.5,-68 235.5,-68 229.5,-62 229.5,-56 229.5,-56 229.5,-12 229.5,-12 229.5,-6 235.5,0 241.5,0 241.5,0 334.5,0 334.5,0 340.5,0 346.5,-6 346.5,-12 346.5,-12 346.5,-56 346.5,-56 346.5,-62 340.5,-68 334.5,-68\"/>\n<text text-anchor=\"middle\" x=\"288\" y=\"-52.8\" font-family=\"Helvetica,sans-Serif\" font-size=\"14.00\">gini = 0.392</text>\n<text text-anchor=\"middle\" x=\"288\" y=\"-37.8\" font-family=\"Helvetica,sans-Serif\" font-size=\"14.00\">samples = 146</text>\n<text text-anchor=\"middle\" x=\"288\" y=\"-22.8\" font-family=\"Helvetica,sans-Serif\" font-size=\"14.00\">value = [107, 39]</text>\n<text text-anchor=\"middle\" x=\"288\" y=\"-7.8\" font-family=\"Helvetica,sans-Serif\" font-size=\"14.00\">class = 0</text>\n</g>\n<!-- 6&#45;&gt;7 -->\n<g id=\"edge7\" class=\"edge\">\n<title>6&#45;&gt;7</title>\n<path fill=\"none\" stroke=\"black\" d=\"M331.31,-103.73C325.79,-94.97 319.95,-85.7 314.41,-76.91\"/>\n<polygon fill=\"black\" stroke=\"black\" points=\"317.28,-74.89 308.98,-68.3 311.35,-78.63 317.28,-74.89\"/>\n</g>\n<!-- 8 -->\n<g id=\"node9\" class=\"node\">\n<title>8</title>\n<path fill=\"none\" stroke=\"black\" d=\"M469.5,-68C469.5,-68 376.5,-68 376.5,-68 370.5,-68 364.5,-62 364.5,-56 364.5,-56 364.5,-12 364.5,-12 364.5,-6 370.5,0 376.5,0 376.5,0 469.5,0 469.5,0 475.5,0 481.5,-6 481.5,-12 481.5,-12 481.5,-56 481.5,-56 481.5,-62 475.5,-68 469.5,-68\"/>\n<text text-anchor=\"middle\" x=\"423\" y=\"-52.8\" font-family=\"Helvetica,sans-Serif\" font-size=\"14.00\">gini = 0.248</text>\n<text text-anchor=\"middle\" x=\"423\" y=\"-37.8\" font-family=\"Helvetica,sans-Serif\" font-size=\"14.00\">samples = 117</text>\n<text text-anchor=\"middle\" x=\"423\" y=\"-22.8\" font-family=\"Helvetica,sans-Serif\" font-size=\"14.00\">value = [100, 17]</text>\n<text text-anchor=\"middle\" x=\"423\" y=\"-7.8\" font-family=\"Helvetica,sans-Serif\" font-size=\"14.00\">class = 0</text>\n</g>\n<!-- 6&#45;&gt;8 -->\n<g id=\"edge8\" class=\"edge\">\n<title>6&#45;&gt;8</title>\n<path fill=\"none\" stroke=\"black\" d=\"M381.58,-103.73C386.85,-94.97 392.44,-85.7 397.74,-76.91\"/>\n<polygon fill=\"black\" stroke=\"black\" points=\"400.76,-78.67 402.93,-68.3 394.77,-75.06 400.76,-78.67\"/>\n</g>\n<!-- 10 -->\n<g id=\"node11\" class=\"node\">\n<title>10</title>\n<path fill=\"none\" stroke=\"black\" d=\"M651,-187C651,-187 573,-187 573,-187 567,-187 561,-181 561,-175 561,-175 561,-116 561,-116 561,-110 567,-104 573,-104 573,-104 651,-104 651,-104 657,-104 663,-110 663,-116 663,-116 663,-175 663,-175 663,-181 657,-187 651,-187\"/>\n<text text-anchor=\"middle\" x=\"612\" y=\"-171.8\" font-family=\"Helvetica,sans-Serif\" font-size=\"14.00\">Fare &lt;= 7.91</text>\n<text text-anchor=\"middle\" x=\"612\" y=\"-156.8\" font-family=\"Helvetica,sans-Serif\" font-size=\"14.00\">gini = 0.095</text>\n<text text-anchor=\"middle\" x=\"612\" y=\"-141.8\" font-family=\"Helvetica,sans-Serif\" font-size=\"14.00\">samples = 60</text>\n<text text-anchor=\"middle\" x=\"612\" y=\"-126.8\" font-family=\"Helvetica,sans-Serif\" font-size=\"14.00\">value = [57, 3]</text>\n<text text-anchor=\"middle\" x=\"612\" y=\"-111.8\" font-family=\"Helvetica,sans-Serif\" font-size=\"14.00\">class = 0</text>\n</g>\n<!-- 9&#45;&gt;10 -->\n<g id=\"edge10\" class=\"edge\">\n<title>9&#45;&gt;10</title>\n<path fill=\"none\" stroke=\"black\" d=\"M649.88,-222.91C645.6,-214.29 641.04,-205.09 636.63,-196.17\"/>\n<polygon fill=\"black\" stroke=\"black\" points=\"639.66,-194.43 632.09,-187.02 633.39,-197.53 639.66,-194.43\"/>\n</g>\n<!-- 13 -->\n<g id=\"node14\" class=\"node\">\n<title>13</title>\n<path fill=\"none\" stroke=\"black\" d=\"M764.5,-179.5C764.5,-179.5 693.5,-179.5 693.5,-179.5 687.5,-179.5 681.5,-173.5 681.5,-167.5 681.5,-167.5 681.5,-123.5 681.5,-123.5 681.5,-117.5 687.5,-111.5 693.5,-111.5 693.5,-111.5 764.5,-111.5 764.5,-111.5 770.5,-111.5 776.5,-117.5 776.5,-123.5 776.5,-123.5 776.5,-167.5 776.5,-167.5 776.5,-173.5 770.5,-179.5 764.5,-179.5\"/>\n<text text-anchor=\"middle\" x=\"729\" y=\"-164.3\" font-family=\"Helvetica,sans-Serif\" font-size=\"14.00\">gini = 0.5</text>\n<text text-anchor=\"middle\" x=\"729\" y=\"-149.3\" font-family=\"Helvetica,sans-Serif\" font-size=\"14.00\">samples = 2</text>\n<text text-anchor=\"middle\" x=\"729\" y=\"-134.3\" font-family=\"Helvetica,sans-Serif\" font-size=\"14.00\">value = [1, 1]</text>\n<text text-anchor=\"middle\" x=\"729\" y=\"-119.3\" font-family=\"Helvetica,sans-Serif\" font-size=\"14.00\">class = 0</text>\n</g>\n<!-- 9&#45;&gt;13 -->\n<g id=\"edge13\" class=\"edge\">\n<title>9&#45;&gt;13</title>\n<path fill=\"none\" stroke=\"black\" d=\"M690.47,-222.91C696.03,-211.87 702.07,-199.9 707.68,-188.77\"/>\n<polygon fill=\"black\" stroke=\"black\" points=\"710.9,-190.17 712.27,-179.67 704.65,-187.02 710.9,-190.17\"/>\n</g>\n<!-- 11 -->\n<g id=\"node12\" class=\"node\">\n<title>11</title>\n<path fill=\"none\" stroke=\"black\" d=\"M590,-68C590,-68 512,-68 512,-68 506,-68 500,-62 500,-56 500,-56 500,-12 500,-12 500,-6 506,0 512,0 512,0 590,0 590,0 596,0 602,-6 602,-12 602,-12 602,-56 602,-56 602,-62 596,-68 590,-68\"/>\n<text text-anchor=\"middle\" x=\"551\" y=\"-52.8\" font-family=\"Helvetica,sans-Serif\" font-size=\"14.00\">gini = 0.0</text>\n<text text-anchor=\"middle\" x=\"551\" y=\"-37.8\" font-family=\"Helvetica,sans-Serif\" font-size=\"14.00\">samples = 37</text>\n<text text-anchor=\"middle\" x=\"551\" y=\"-22.8\" font-family=\"Helvetica,sans-Serif\" font-size=\"14.00\">value = [37, 0]</text>\n<text text-anchor=\"middle\" x=\"551\" y=\"-7.8\" font-family=\"Helvetica,sans-Serif\" font-size=\"14.00\">class = 0</text>\n</g>\n<!-- 10&#45;&gt;11 -->\n<g id=\"edge11\" class=\"edge\">\n<title>10&#45;&gt;11</title>\n<path fill=\"none\" stroke=\"black\" d=\"M589.29,-103.73C584.46,-95.06 579.35,-85.9 574.5,-77.18\"/>\n<polygon fill=\"black\" stroke=\"black\" points=\"577.47,-75.33 569.55,-68.3 571.36,-78.74 577.47,-75.33\"/>\n</g>\n<!-- 12 -->\n<g id=\"node13\" class=\"node\">\n<title>12</title>\n<path fill=\"none\" stroke=\"black\" d=\"M710,-68C710,-68 632,-68 632,-68 626,-68 620,-62 620,-56 620,-56 620,-12 620,-12 620,-6 626,0 632,0 632,0 710,0 710,0 716,0 722,-6 722,-12 722,-12 722,-56 722,-56 722,-62 716,-68 710,-68\"/>\n<text text-anchor=\"middle\" x=\"671\" y=\"-52.8\" font-family=\"Helvetica,sans-Serif\" font-size=\"14.00\">gini = 0.227</text>\n<text text-anchor=\"middle\" x=\"671\" y=\"-37.8\" font-family=\"Helvetica,sans-Serif\" font-size=\"14.00\">samples = 23</text>\n<text text-anchor=\"middle\" x=\"671\" y=\"-22.8\" font-family=\"Helvetica,sans-Serif\" font-size=\"14.00\">value = [20, 3]</text>\n<text text-anchor=\"middle\" x=\"671\" y=\"-7.8\" font-family=\"Helvetica,sans-Serif\" font-size=\"14.00\">class = 0</text>\n</g>\n<!-- 10&#45;&gt;12 -->\n<g id=\"edge12\" class=\"edge\">\n<title>10&#45;&gt;12</title>\n<path fill=\"none\" stroke=\"black\" d=\"M633.97,-103.73C638.64,-95.06 643.58,-85.9 648.27,-77.18\"/>\n<polygon fill=\"black\" stroke=\"black\" points=\"651.4,-78.76 653.06,-68.3 645.23,-75.44 651.4,-78.76\"/>\n</g>\n<!-- 15 -->\n<g id=\"node16\" class=\"node\">\n<title>15</title>\n<path fill=\"none\" stroke=\"black\" d=\"M1027.5,-306C1027.5,-306 926.5,-306 926.5,-306 920.5,-306 914.5,-300 914.5,-294 914.5,-294 914.5,-235 914.5,-235 914.5,-229 920.5,-223 926.5,-223 926.5,-223 1027.5,-223 1027.5,-223 1033.5,-223 1039.5,-229 1039.5,-235 1039.5,-235 1039.5,-294 1039.5,-294 1039.5,-300 1033.5,-306 1027.5,-306\"/>\n<text text-anchor=\"middle\" x=\"977\" y=\"-290.8\" font-family=\"Helvetica,sans-Serif\" font-size=\"14.00\">Age &lt;= 6.5</text>\n<text text-anchor=\"middle\" x=\"977\" y=\"-275.8\" font-family=\"Helvetica,sans-Serif\" font-size=\"14.00\">gini = 0.493</text>\n<text text-anchor=\"middle\" x=\"977\" y=\"-260.8\" font-family=\"Helvetica,sans-Serif\" font-size=\"14.00\">samples = 455</text>\n<text text-anchor=\"middle\" x=\"977\" y=\"-245.8\" font-family=\"Helvetica,sans-Serif\" font-size=\"14.00\">value = [254, 201]</text>\n<text text-anchor=\"middle\" x=\"977\" y=\"-230.8\" font-family=\"Helvetica,sans-Serif\" font-size=\"14.00\">class = 0</text>\n</g>\n<!-- 14&#45;&gt;15 -->\n<g id=\"edge15\" class=\"edge\">\n<title>14&#45;&gt;15</title>\n<path fill=\"none\" stroke=\"black\" d=\"M977,-341.91C977,-333.65 977,-324.86 977,-316.3\"/>\n<polygon fill=\"black\" stroke=\"black\" points=\"980.5,-316.02 977,-306.02 973.5,-316.02 980.5,-316.02\"/>\n</g>\n<!-- 22 -->\n<g id=\"node23\" class=\"node\">\n<title>22</title>\n<path fill=\"none\" stroke=\"black\" d=\"M1350,-306C1350,-306 1264,-306 1264,-306 1258,-306 1252,-300 1252,-294 1252,-294 1252,-235 1252,-235 1252,-229 1258,-223 1264,-223 1264,-223 1350,-223 1350,-223 1356,-223 1362,-229 1362,-235 1362,-235 1362,-294 1362,-294 1362,-300 1356,-306 1350,-306\"/>\n<text text-anchor=\"middle\" x=\"1307\" y=\"-290.8\" font-family=\"Helvetica,sans-Serif\" font-size=\"14.00\">Age &lt;= 63.5</text>\n<text text-anchor=\"middle\" x=\"1307\" y=\"-275.8\" font-family=\"Helvetica,sans-Serif\" font-size=\"14.00\">gini = 0.362</text>\n<text text-anchor=\"middle\" x=\"1307\" y=\"-260.8\" font-family=\"Helvetica,sans-Serif\" font-size=\"14.00\">samples = 97</text>\n<text text-anchor=\"middle\" x=\"1307\" y=\"-245.8\" font-family=\"Helvetica,sans-Serif\" font-size=\"14.00\">value = [23, 74]</text>\n<text text-anchor=\"middle\" x=\"1307\" y=\"-230.8\" font-family=\"Helvetica,sans-Serif\" font-size=\"14.00\">class = 1</text>\n</g>\n<!-- 14&#45;&gt;22 -->\n<g id=\"edge22\" class=\"edge\">\n<title>14&#45;&gt;22</title>\n<path fill=\"none\" stroke=\"black\" d=\"M1039.85,-360.22C1097.86,-339.65 1183.65,-309.23 1242.26,-288.45\"/>\n<polygon fill=\"black\" stroke=\"black\" points=\"1243.53,-291.72 1251.79,-285.08 1241.19,-285.12 1243.53,-291.72\"/>\n</g>\n<!-- 16 -->\n<g id=\"node17\" class=\"node\">\n<title>16</title>\n<path fill=\"none\" stroke=\"black\" d=\"M952,-187C952,-187 866,-187 866,-187 860,-187 854,-181 854,-175 854,-175 854,-116 854,-116 854,-110 860,-104 866,-104 866,-104 952,-104 952,-104 958,-104 964,-110 964,-116 964,-116 964,-175 964,-175 964,-181 958,-187 952,-187\"/>\n<text text-anchor=\"middle\" x=\"909\" y=\"-171.8\" font-family=\"Helvetica,sans-Serif\" font-size=\"14.00\">Fare &lt;= 27.825</text>\n<text text-anchor=\"middle\" x=\"909\" y=\"-156.8\" font-family=\"Helvetica,sans-Serif\" font-size=\"14.00\">gini = 0.408</text>\n<text text-anchor=\"middle\" x=\"909\" y=\"-141.8\" font-family=\"Helvetica,sans-Serif\" font-size=\"14.00\">samples = 42</text>\n<text text-anchor=\"middle\" x=\"909\" y=\"-126.8\" font-family=\"Helvetica,sans-Serif\" font-size=\"14.00\">value = [12, 30]</text>\n<text text-anchor=\"middle\" x=\"909\" y=\"-111.8\" font-family=\"Helvetica,sans-Serif\" font-size=\"14.00\">class = 1</text>\n</g>\n<!-- 15&#45;&gt;16 -->\n<g id=\"edge16\" class=\"edge\">\n<title>15&#45;&gt;16</title>\n<path fill=\"none\" stroke=\"black\" d=\"M953.41,-222.91C948.34,-214.2 942.94,-204.9 937.71,-195.89\"/>\n<polygon fill=\"black\" stroke=\"black\" points=\"940.6,-193.91 932.55,-187.02 934.55,-197.43 940.6,-193.91\"/>\n</g>\n<!-- 19 -->\n<g id=\"node20\" class=\"node\">\n<title>19</title>\n<path fill=\"none\" stroke=\"black\" d=\"M1095.5,-187C1095.5,-187 994.5,-187 994.5,-187 988.5,-187 982.5,-181 982.5,-175 982.5,-175 982.5,-116 982.5,-116 982.5,-110 988.5,-104 994.5,-104 994.5,-104 1095.5,-104 1095.5,-104 1101.5,-104 1107.5,-110 1107.5,-116 1107.5,-116 1107.5,-175 1107.5,-175 1107.5,-181 1101.5,-187 1095.5,-187\"/>\n<text text-anchor=\"middle\" x=\"1045\" y=\"-171.8\" font-family=\"Helvetica,sans-Serif\" font-size=\"14.00\">Fare &lt;= 50.987</text>\n<text text-anchor=\"middle\" x=\"1045\" y=\"-156.8\" font-family=\"Helvetica,sans-Serif\" font-size=\"14.00\">gini = 0.485</text>\n<text text-anchor=\"middle\" x=\"1045\" y=\"-141.8\" font-family=\"Helvetica,sans-Serif\" font-size=\"14.00\">samples = 413</text>\n<text text-anchor=\"middle\" x=\"1045\" y=\"-126.8\" font-family=\"Helvetica,sans-Serif\" font-size=\"14.00\">value = [242, 171]</text>\n<text text-anchor=\"middle\" x=\"1045\" y=\"-111.8\" font-family=\"Helvetica,sans-Serif\" font-size=\"14.00\">class = 0</text>\n</g>\n<!-- 15&#45;&gt;19 -->\n<g id=\"edge19\" class=\"edge\">\n<title>15&#45;&gt;19</title>\n<path fill=\"none\" stroke=\"black\" d=\"M1000.59,-222.91C1005.66,-214.2 1011.06,-204.9 1016.29,-195.89\"/>\n<polygon fill=\"black\" stroke=\"black\" points=\"1019.45,-197.43 1021.45,-187.02 1013.4,-193.91 1019.45,-197.43\"/>\n</g>\n<!-- 17 -->\n<g id=\"node18\" class=\"node\">\n<title>17</title>\n<path fill=\"none\" stroke=\"black\" d=\"M830,-68C830,-68 752,-68 752,-68 746,-68 740,-62 740,-56 740,-56 740,-12 740,-12 740,-6 746,0 752,0 752,0 830,0 830,0 836,0 842,-6 842,-12 842,-12 842,-56 842,-56 842,-62 836,-68 830,-68\"/>\n<text text-anchor=\"middle\" x=\"791\" y=\"-52.8\" font-family=\"Helvetica,sans-Serif\" font-size=\"14.00\">gini = 0.153</text>\n<text text-anchor=\"middle\" x=\"791\" y=\"-37.8\" font-family=\"Helvetica,sans-Serif\" font-size=\"14.00\">samples = 24</text>\n<text text-anchor=\"middle\" x=\"791\" y=\"-22.8\" font-family=\"Helvetica,sans-Serif\" font-size=\"14.00\">value = [2, 22]</text>\n<text text-anchor=\"middle\" x=\"791\" y=\"-7.8\" font-family=\"Helvetica,sans-Serif\" font-size=\"14.00\">class = 1</text>\n</g>\n<!-- 16&#45;&gt;17 -->\n<g id=\"edge17\" class=\"edge\">\n<title>16&#45;&gt;17</title>\n<path fill=\"none\" stroke=\"black\" d=\"M865.06,-103.73C855.04,-94.42 844.39,-84.54 834.39,-75.26\"/>\n<polygon fill=\"black\" stroke=\"black\" points=\"836.6,-72.54 826.88,-68.3 831.83,-77.67 836.6,-72.54\"/>\n</g>\n<!-- 18 -->\n<g id=\"node19\" class=\"node\">\n<title>18</title>\n<path fill=\"none\" stroke=\"black\" d=\"M950,-68C950,-68 872,-68 872,-68 866,-68 860,-62 860,-56 860,-56 860,-12 860,-12 860,-6 866,0 872,0 872,0 950,0 950,0 956,0 962,-6 962,-12 962,-12 962,-56 962,-56 962,-62 956,-68 950,-68\"/>\n<text text-anchor=\"middle\" x=\"911\" y=\"-52.8\" font-family=\"Helvetica,sans-Serif\" font-size=\"14.00\">gini = 0.494</text>\n<text text-anchor=\"middle\" x=\"911\" y=\"-37.8\" font-family=\"Helvetica,sans-Serif\" font-size=\"14.00\">samples = 18</text>\n<text text-anchor=\"middle\" x=\"911\" y=\"-22.8\" font-family=\"Helvetica,sans-Serif\" font-size=\"14.00\">value = [10, 8]</text>\n<text text-anchor=\"middle\" x=\"911\" y=\"-7.8\" font-family=\"Helvetica,sans-Serif\" font-size=\"14.00\">class = 0</text>\n</g>\n<!-- 16&#45;&gt;18 -->\n<g id=\"edge18\" class=\"edge\">\n<title>16&#45;&gt;18</title>\n<path fill=\"none\" stroke=\"black\" d=\"M909.74,-103.73C909.89,-95.52 910.05,-86.86 910.2,-78.56\"/>\n<polygon fill=\"black\" stroke=\"black\" points=\"913.71,-78.36 910.39,-68.3 906.71,-78.23 913.71,-78.36\"/>\n</g>\n<!-- 20 -->\n<g id=\"node21\" class=\"node\">\n<title>20</title>\n<path fill=\"none\" stroke=\"black\" d=\"M1093.5,-68C1093.5,-68 992.5,-68 992.5,-68 986.5,-68 980.5,-62 980.5,-56 980.5,-56 980.5,-12 980.5,-12 980.5,-6 986.5,0 992.5,0 992.5,0 1093.5,0 1093.5,0 1099.5,0 1105.5,-6 1105.5,-12 1105.5,-12 1105.5,-56 1105.5,-56 1105.5,-62 1099.5,-68 1093.5,-68\"/>\n<text text-anchor=\"middle\" x=\"1043\" y=\"-52.8\" font-family=\"Helvetica,sans-Serif\" font-size=\"14.00\">gini = 0.475</text>\n<text text-anchor=\"middle\" x=\"1043\" y=\"-37.8\" font-family=\"Helvetica,sans-Serif\" font-size=\"14.00\">samples = 351</text>\n<text text-anchor=\"middle\" x=\"1043\" y=\"-22.8\" font-family=\"Helvetica,sans-Serif\" font-size=\"14.00\">value = [215, 136]</text>\n<text text-anchor=\"middle\" x=\"1043\" y=\"-7.8\" font-family=\"Helvetica,sans-Serif\" font-size=\"14.00\">class = 0</text>\n</g>\n<!-- 19&#45;&gt;20 -->\n<g id=\"edge20\" class=\"edge\">\n<title>19&#45;&gt;20</title>\n<path fill=\"none\" stroke=\"black\" d=\"M1044.26,-103.73C1044.11,-95.52 1043.95,-86.86 1043.8,-78.56\"/>\n<polygon fill=\"black\" stroke=\"black\" points=\"1047.29,-78.23 1043.61,-68.3 1040.29,-78.36 1047.29,-78.23\"/>\n</g>\n<!-- 21 -->\n<g id=\"node22\" class=\"node\">\n<title>21</title>\n<path fill=\"none\" stroke=\"black\" d=\"M1222,-68C1222,-68 1136,-68 1136,-68 1130,-68 1124,-62 1124,-56 1124,-56 1124,-12 1124,-12 1124,-6 1130,0 1136,0 1136,0 1222,0 1222,0 1228,0 1234,-6 1234,-12 1234,-12 1234,-56 1234,-56 1234,-62 1228,-68 1222,-68\"/>\n<text text-anchor=\"middle\" x=\"1179\" y=\"-52.8\" font-family=\"Helvetica,sans-Serif\" font-size=\"14.00\">gini = 0.492</text>\n<text text-anchor=\"middle\" x=\"1179\" y=\"-37.8\" font-family=\"Helvetica,sans-Serif\" font-size=\"14.00\">samples = 62</text>\n<text text-anchor=\"middle\" x=\"1179\" y=\"-22.8\" font-family=\"Helvetica,sans-Serif\" font-size=\"14.00\">value = [27, 35]</text>\n<text text-anchor=\"middle\" x=\"1179\" y=\"-7.8\" font-family=\"Helvetica,sans-Serif\" font-size=\"14.00\">class = 1</text>\n</g>\n<!-- 19&#45;&gt;21 -->\n<g id=\"edge21\" class=\"edge\">\n<title>19&#45;&gt;21</title>\n<path fill=\"none\" stroke=\"black\" d=\"M1094.9,-103.73C1106.5,-94.24 1118.85,-84.16 1130.4,-74.72\"/>\n<polygon fill=\"black\" stroke=\"black\" points=\"1132.72,-77.34 1138.25,-68.3 1128.29,-71.92 1132.72,-77.34\"/>\n</g>\n<!-- 23 -->\n<g id=\"node24\" class=\"node\">\n<title>23</title>\n<path fill=\"none\" stroke=\"black\" d=\"M1350,-187C1350,-187 1264,-187 1264,-187 1258,-187 1252,-181 1252,-175 1252,-175 1252,-116 1252,-116 1252,-110 1258,-104 1264,-104 1264,-104 1350,-104 1350,-104 1356,-104 1362,-110 1362,-116 1362,-116 1362,-175 1362,-175 1362,-181 1356,-187 1350,-187\"/>\n<text text-anchor=\"middle\" x=\"1307\" y=\"-171.8\" font-family=\"Helvetica,sans-Serif\" font-size=\"14.00\">Age &lt;= 28.5</text>\n<text text-anchor=\"middle\" x=\"1307\" y=\"-156.8\" font-family=\"Helvetica,sans-Serif\" font-size=\"14.00\">gini = 0.353</text>\n<text text-anchor=\"middle\" x=\"1307\" y=\"-141.8\" font-family=\"Helvetica,sans-Serif\" font-size=\"14.00\">samples = 96</text>\n<text text-anchor=\"middle\" x=\"1307\" y=\"-126.8\" font-family=\"Helvetica,sans-Serif\" font-size=\"14.00\">value = [22, 74]</text>\n<text text-anchor=\"middle\" x=\"1307\" y=\"-111.8\" font-family=\"Helvetica,sans-Serif\" font-size=\"14.00\">class = 1</text>\n</g>\n<!-- 22&#45;&gt;23 -->\n<g id=\"edge23\" class=\"edge\">\n<title>22&#45;&gt;23</title>\n<path fill=\"none\" stroke=\"black\" d=\"M1307,-222.91C1307,-214.65 1307,-205.86 1307,-197.3\"/>\n<polygon fill=\"black\" stroke=\"black\" points=\"1310.5,-197.02 1307,-187.02 1303.5,-197.02 1310.5,-197.02\"/>\n</g>\n<!-- 26 -->\n<g id=\"node27\" class=\"node\">\n<title>26</title>\n<path fill=\"none\" stroke=\"black\" d=\"M1463.5,-179.5C1463.5,-179.5 1392.5,-179.5 1392.5,-179.5 1386.5,-179.5 1380.5,-173.5 1380.5,-167.5 1380.5,-167.5 1380.5,-123.5 1380.5,-123.5 1380.5,-117.5 1386.5,-111.5 1392.5,-111.5 1392.5,-111.5 1463.5,-111.5 1463.5,-111.5 1469.5,-111.5 1475.5,-117.5 1475.5,-123.5 1475.5,-123.5 1475.5,-167.5 1475.5,-167.5 1475.5,-173.5 1469.5,-179.5 1463.5,-179.5\"/>\n<text text-anchor=\"middle\" x=\"1428\" y=\"-164.3\" font-family=\"Helvetica,sans-Serif\" font-size=\"14.00\">gini = 0.0</text>\n<text text-anchor=\"middle\" x=\"1428\" y=\"-149.3\" font-family=\"Helvetica,sans-Serif\" font-size=\"14.00\">samples = 1</text>\n<text text-anchor=\"middle\" x=\"1428\" y=\"-134.3\" font-family=\"Helvetica,sans-Serif\" font-size=\"14.00\">value = [1, 0]</text>\n<text text-anchor=\"middle\" x=\"1428\" y=\"-119.3\" font-family=\"Helvetica,sans-Serif\" font-size=\"14.00\">class = 0</text>\n</g>\n<!-- 22&#45;&gt;26 -->\n<g id=\"edge26\" class=\"edge\">\n<title>22&#45;&gt;26</title>\n<path fill=\"none\" stroke=\"black\" d=\"M1348.98,-222.91C1361.08,-211.21 1374.27,-198.46 1386.34,-186.78\"/>\n<polygon fill=\"black\" stroke=\"black\" points=\"1388.94,-189.13 1393.7,-179.67 1384.08,-184.1 1388.94,-189.13\"/>\n</g>\n<!-- 24 -->\n<g id=\"node25\" class=\"node\">\n<title>24</title>\n<path fill=\"none\" stroke=\"black\" d=\"M1350,-68C1350,-68 1264,-68 1264,-68 1258,-68 1252,-62 1252,-56 1252,-56 1252,-12 1252,-12 1252,-6 1258,0 1264,0 1264,0 1350,0 1350,0 1356,0 1362,-6 1362,-12 1362,-12 1362,-56 1362,-56 1362,-62 1356,-68 1350,-68\"/>\n<text text-anchor=\"middle\" x=\"1307\" y=\"-52.8\" font-family=\"Helvetica,sans-Serif\" font-size=\"14.00\">gini = 0.42</text>\n<text text-anchor=\"middle\" x=\"1307\" y=\"-37.8\" font-family=\"Helvetica,sans-Serif\" font-size=\"14.00\">samples = 40</text>\n<text text-anchor=\"middle\" x=\"1307\" y=\"-22.8\" font-family=\"Helvetica,sans-Serif\" font-size=\"14.00\">value = [12, 28]</text>\n<text text-anchor=\"middle\" x=\"1307\" y=\"-7.8\" font-family=\"Helvetica,sans-Serif\" font-size=\"14.00\">class = 1</text>\n</g>\n<!-- 23&#45;&gt;24 -->\n<g id=\"edge24\" class=\"edge\">\n<title>23&#45;&gt;24</title>\n<path fill=\"none\" stroke=\"black\" d=\"M1307,-103.73C1307,-95.52 1307,-86.86 1307,-78.56\"/>\n<polygon fill=\"black\" stroke=\"black\" points=\"1310.5,-78.3 1307,-68.3 1303.5,-78.3 1310.5,-78.3\"/>\n</g>\n<!-- 25 -->\n<g id=\"node26\" class=\"node\">\n<title>25</title>\n<path fill=\"none\" stroke=\"black\" d=\"M1478,-68C1478,-68 1392,-68 1392,-68 1386,-68 1380,-62 1380,-56 1380,-56 1380,-12 1380,-12 1380,-6 1386,0 1392,0 1392,0 1478,0 1478,0 1484,0 1490,-6 1490,-12 1490,-12 1490,-56 1490,-56 1490,-62 1484,-68 1478,-68\"/>\n<text text-anchor=\"middle\" x=\"1435\" y=\"-52.8\" font-family=\"Helvetica,sans-Serif\" font-size=\"14.00\">gini = 0.293</text>\n<text text-anchor=\"middle\" x=\"1435\" y=\"-37.8\" font-family=\"Helvetica,sans-Serif\" font-size=\"14.00\">samples = 56</text>\n<text text-anchor=\"middle\" x=\"1435\" y=\"-22.8\" font-family=\"Helvetica,sans-Serif\" font-size=\"14.00\">value = [10, 46]</text>\n<text text-anchor=\"middle\" x=\"1435\" y=\"-7.8\" font-family=\"Helvetica,sans-Serif\" font-size=\"14.00\">class = 1</text>\n</g>\n<!-- 23&#45;&gt;25 -->\n<g id=\"edge25\" class=\"edge\">\n<title>23&#45;&gt;25</title>\n<path fill=\"none\" stroke=\"black\" d=\"M1354.66,-103.73C1365.64,-94.33 1377.31,-84.35 1388.26,-74.99\"/>\n<polygon fill=\"black\" stroke=\"black\" points=\"1390.75,-77.46 1396.07,-68.3 1386.2,-72.14 1390.75,-77.46\"/>\n</g>\n</g>\n</svg>\n",
      "text/plain": [
       "<graphviz.sources.Source at 0x7f1803e5fac0>"
      ]
     },
     "metadata": {},
     "execution_count": 32
    }
   ],
   "source": [
    "# 시각화\n",
    "dot_data = tree.export_graphviz(clf, out_file=None, \n",
    "                     feature_names=X.columns,  \n",
    "                     class_names=[str(x) for x in np.unique(y)],  \n",
    "                     filled=False, rounded=True,  \n",
    "                     special_characters=False)  \n",
    "graph = graphviz.Source(dot_data)\n",
    "graph"
   ]
  },
  {
   "cell_type": "code",
   "execution_count": 33,
   "metadata": {
    "ExecuteTime": {
     "end_time": "2021-06-10T12:23:56.924790Z",
     "start_time": "2021-06-10T12:23:56.548704Z"
    },
    "colab": {
     "base_uri": "https://localhost:8080/",
     "height": 35
    },
    "id": "Eq1aaueREKhs",
    "outputId": "7524f041-fc86-4d02-e0f2-b8bc7e05f4b5"
   },
   "outputs": [
    {
     "output_type": "execute_result",
     "data": {
      "text/plain": [
       "'titanic_tree_sk.png'"
      ],
      "application/vnd.google.colaboratory.intrinsic+json": {
       "type": "string"
      }
     },
     "metadata": {},
     "execution_count": 33
    }
   ],
   "source": [
    "graph.format = 'png'\n",
    "graph.render(filename='titanic_tree_sk', directory='./', cleanup=True)"
   ]
  },
  {
   "cell_type": "markdown",
   "metadata": {
    "id": "EqqAin-QEKhs"
   },
   "source": [
    "# Bike Shares Data"
   ]
  },
  {
   "cell_type": "markdown",
   "metadata": {
    "id": "BmDQtCuQEKhs"
   },
   "source": [
    "## Load Data"
   ]
  },
  {
   "cell_type": "code",
   "execution_count": null,
   "metadata": {
    "ExecuteTime": {
     "end_time": "2021-06-10T12:33:55.085896Z",
     "start_time": "2021-06-10T12:33:55.068973Z"
    },
    "id": "xRlDjR_XEKhs",
    "outputId": "9d802210-f9ca-46db-94a7-96a8c51ff741"
   },
   "outputs": [
    {
     "data": {
      "text/html": [
       "<div>\n",
       "<style scoped>\n",
       "    .dataframe tbody tr th:only-of-type {\n",
       "        vertical-align: middle;\n",
       "    }\n",
       "\n",
       "    .dataframe tbody tr th {\n",
       "        vertical-align: top;\n",
       "    }\n",
       "\n",
       "    .dataframe thead th {\n",
       "        text-align: right;\n",
       "    }\n",
       "</style>\n",
       "<table border=\"1\" class=\"dataframe\">\n",
       "  <thead>\n",
       "    <tr style=\"text-align: right;\">\n",
       "      <th></th>\n",
       "      <th>instant</th>\n",
       "      <th>dteday</th>\n",
       "      <th>season</th>\n",
       "      <th>yr</th>\n",
       "      <th>mnth</th>\n",
       "      <th>holiday</th>\n",
       "      <th>weekday</th>\n",
       "      <th>workingday</th>\n",
       "      <th>weathersit</th>\n",
       "      <th>temp</th>\n",
       "      <th>atemp</th>\n",
       "      <th>hum</th>\n",
       "      <th>windspeed</th>\n",
       "      <th>casual</th>\n",
       "      <th>registered</th>\n",
       "      <th>cnt</th>\n",
       "    </tr>\n",
       "  </thead>\n",
       "  <tbody>\n",
       "    <tr>\n",
       "      <th>0</th>\n",
       "      <td>1</td>\n",
       "      <td>2011-01-01</td>\n",
       "      <td>1</td>\n",
       "      <td>0</td>\n",
       "      <td>1</td>\n",
       "      <td>0</td>\n",
       "      <td>6</td>\n",
       "      <td>0</td>\n",
       "      <td>2</td>\n",
       "      <td>0.344167</td>\n",
       "      <td>0.363625</td>\n",
       "      <td>0.805833</td>\n",
       "      <td>0.160446</td>\n",
       "      <td>331</td>\n",
       "      <td>654</td>\n",
       "      <td>985</td>\n",
       "    </tr>\n",
       "    <tr>\n",
       "      <th>1</th>\n",
       "      <td>2</td>\n",
       "      <td>2011-01-02</td>\n",
       "      <td>1</td>\n",
       "      <td>0</td>\n",
       "      <td>1</td>\n",
       "      <td>0</td>\n",
       "      <td>0</td>\n",
       "      <td>0</td>\n",
       "      <td>2</td>\n",
       "      <td>0.363478</td>\n",
       "      <td>0.353739</td>\n",
       "      <td>0.696087</td>\n",
       "      <td>0.248539</td>\n",
       "      <td>131</td>\n",
       "      <td>670</td>\n",
       "      <td>801</td>\n",
       "    </tr>\n",
       "    <tr>\n",
       "      <th>2</th>\n",
       "      <td>3</td>\n",
       "      <td>2011-01-03</td>\n",
       "      <td>1</td>\n",
       "      <td>0</td>\n",
       "      <td>1</td>\n",
       "      <td>0</td>\n",
       "      <td>1</td>\n",
       "      <td>1</td>\n",
       "      <td>1</td>\n",
       "      <td>0.196364</td>\n",
       "      <td>0.189405</td>\n",
       "      <td>0.437273</td>\n",
       "      <td>0.248309</td>\n",
       "      <td>120</td>\n",
       "      <td>1229</td>\n",
       "      <td>1349</td>\n",
       "    </tr>\n",
       "    <tr>\n",
       "      <th>3</th>\n",
       "      <td>4</td>\n",
       "      <td>2011-01-04</td>\n",
       "      <td>1</td>\n",
       "      <td>0</td>\n",
       "      <td>1</td>\n",
       "      <td>0</td>\n",
       "      <td>2</td>\n",
       "      <td>1</td>\n",
       "      <td>1</td>\n",
       "      <td>0.200000</td>\n",
       "      <td>0.212122</td>\n",
       "      <td>0.590435</td>\n",
       "      <td>0.160296</td>\n",
       "      <td>108</td>\n",
       "      <td>1454</td>\n",
       "      <td>1562</td>\n",
       "    </tr>\n",
       "    <tr>\n",
       "      <th>4</th>\n",
       "      <td>5</td>\n",
       "      <td>2011-01-05</td>\n",
       "      <td>1</td>\n",
       "      <td>0</td>\n",
       "      <td>1</td>\n",
       "      <td>0</td>\n",
       "      <td>3</td>\n",
       "      <td>1</td>\n",
       "      <td>1</td>\n",
       "      <td>0.226957</td>\n",
       "      <td>0.229270</td>\n",
       "      <td>0.436957</td>\n",
       "      <td>0.186900</td>\n",
       "      <td>82</td>\n",
       "      <td>1518</td>\n",
       "      <td>1600</td>\n",
       "    </tr>\n",
       "  </tbody>\n",
       "</table>\n",
       "</div>"
      ],
      "text/plain": [
       "   instant      dteday  season  yr  mnth  holiday  weekday  workingday  \\\n",
       "0        1  2011-01-01       1   0     1        0        6           0   \n",
       "1        2  2011-01-02       1   0     1        0        0           0   \n",
       "2        3  2011-01-03       1   0     1        0        1           1   \n",
       "3        4  2011-01-04       1   0     1        0        2           1   \n",
       "4        5  2011-01-05       1   0     1        0        3           1   \n",
       "\n",
       "   weathersit      temp     atemp       hum  windspeed  casual  registered  \\\n",
       "0           2  0.344167  0.363625  0.805833   0.160446     331         654   \n",
       "1           2  0.363478  0.353739  0.696087   0.248539     131         670   \n",
       "2           1  0.196364  0.189405  0.437273   0.248309     120        1229   \n",
       "3           1  0.200000  0.212122  0.590435   0.160296     108        1454   \n",
       "4           1  0.226957  0.229270  0.436957   0.186900      82        1518   \n",
       "\n",
       "    cnt  \n",
       "0   985  \n",
       "1   801  \n",
       "2  1349  \n",
       "3  1562  \n",
       "4  1600  "
      ]
     },
     "execution_count": 37,
     "metadata": {},
     "output_type": "execute_result"
    }
   ],
   "source": [
    "df = pd.read_csv('../dataset/bike_share.csv')\n",
    "df.head()"
   ]
  },
  {
   "cell_type": "markdown",
   "metadata": {
    "id": "uUIo7qJsEKht"
   },
   "source": [
    "## Preprocessing"
   ]
  },
  {
   "cell_type": "code",
   "execution_count": null,
   "metadata": {
    "ExecuteTime": {
     "end_time": "2021-06-10T12:33:56.715115Z",
     "start_time": "2021-06-10T12:33:56.685163Z"
    },
    "id": "k521kXuJEKht"
   },
   "outputs": [],
   "source": [
    "df = df.rename(columns = {\"dteday\": \"date\"})\n",
    "\n",
    "date_column = pd.to_datetime(df.date)\n",
    "\n",
    "df[\"day_of_year\"] = date_column.dt.dayofyear\n",
    "df[\"day_of_month\"] = date_column.dt.day\n",
    "\n",
    "df[\"quarter\"] = date_column.dt.quarter\n",
    "df[\"week\"] = date_column.dt.isocalendar()['week']\n",
    "\n",
    "df[\"is_month_end\"] = date_column.dt.is_month_end\n",
    "df[\"is_month_start\"] = date_column.dt.is_month_start\n",
    "df[\"is_quarter_end\"] = date_column.dt.is_quarter_end\n",
    "df[\"is_quarter_start\"] = date_column.dt.is_quarter_start\n",
    "df[\"is_year_end\"] = date_column.dt.is_year_end\n",
    "df[\"is_year_start\"] = date_column.dt.is_year_start\n",
    "df.set_index('date', inplace=True)\n",
    "df['response'] = df['cnt']\n",
    "df.drop(['cnt','instant','registered'],axis=1,inplace=True)"
   ]
  },
  {
   "cell_type": "code",
   "execution_count": null,
   "metadata": {
    "ExecuteTime": {
     "end_time": "2021-06-10T12:33:57.956008Z",
     "start_time": "2021-06-10T12:33:57.948021Z"
    },
    "id": "v7CUGxQmEKht"
   },
   "outputs": [],
   "source": [
    "## split data\n",
    "train_df = df.iloc[:-61]\n",
    "test_df = df.iloc[-61:]     # Nov and Dec of 2012"
   ]
  },
  {
   "cell_type": "markdown",
   "metadata": {
    "id": "AwD_fY5DEKht"
   },
   "source": [
    "## Model"
   ]
  },
  {
   "cell_type": "code",
   "execution_count": null,
   "metadata": {
    "ExecuteTime": {
     "end_time": "2021-06-10T12:34:04.146124Z",
     "start_time": "2021-06-10T12:34:01.515821Z"
    },
    "id": "TOm1apCuEKht"
   },
   "outputs": [],
   "source": [
    "X = train_df.drop('response',axis=1)\n",
    "y = train_df['response']\n",
    "type_of_col = []\n",
    "for col in X.columns:\n",
    "    if col not in ['temp', 'atemp', 'hum', 'windspeed']:\n",
    "        type_of_col.append('categorical')\n",
    "    else:\n",
    "        type_of_col.append('continuous')\n",
    "    \n",
    "reg = DecisionTree(tree_type = 'regression')\n",
    "reg.fit(X,y,impurity_measure='mse',max_depth=3)"
   ]
  },
  {
   "cell_type": "markdown",
   "metadata": {
    "id": "i60dPIiMEKht"
   },
   "source": [
    "## Visualize"
   ]
  },
  {
   "cell_type": "code",
   "execution_count": null,
   "metadata": {
    "ExecuteTime": {
     "end_time": "2021-06-10T12:37:03.201382Z",
     "start_time": "2021-06-10T12:37:02.916454Z"
    },
    "id": "AV0Rs6NkEKht",
    "outputId": "c6b27113-2779-4e68-d1b0-935258ce5aa0"
   },
   "outputs": [
    {
     "data": {
      "text/plain": [
       "'.\\\\bike_share_tree1.png'"
      ]
     },
     "execution_count": 44,
     "metadata": {},
     "output_type": "execute_result"
    }
   ],
   "source": [
    "dot = visualize_tree(reg.root)\n",
    "dot.format = 'png'\n",
    "dot.render(filename='bike_share_tree1', directory='./', cleanup=True)"
   ]
  },
  {
   "cell_type": "markdown",
   "metadata": {
    "id": "G4DJnbcgEKht"
   },
   "source": [
    "## Test"
   ]
  },
  {
   "cell_type": "code",
   "execution_count": null,
   "metadata": {
    "ExecuteTime": {
     "end_time": "2021-06-10T12:35:03.628017Z",
     "start_time": "2021-06-10T12:35:03.604082Z"
    },
    "id": "tj1RD-sVEKht",
    "outputId": "243f6260-d320-4513-e332-65a725a9a411"
   },
   "outputs": [
    {
     "data": {
      "text/plain": [
       "120894567.2562"
      ]
     },
     "execution_count": 43,
     "metadata": {},
     "output_type": "execute_result"
    }
   ],
   "source": [
    "X_test = test_df.drop('response',axis=1)\n",
    "y_test = test_df['response']\n",
    "\n",
    "np.mean(np.sum(np.square(y_test - reg.predict(X_test))))"
   ]
  },
  {
   "cell_type": "markdown",
   "metadata": {
    "id": "01CyLrhOEKhu"
   },
   "source": [
    "## Using Sklearn - only continuous variables"
   ]
  },
  {
   "cell_type": "code",
   "execution_count": null,
   "metadata": {
    "ExecuteTime": {
     "end_time": "2021-06-10T12:57:26.364556Z",
     "start_time": "2021-06-10T12:57:26.354077Z"
    },
    "id": "KzHKUMHPEKhu"
   },
   "outputs": [],
   "source": [
    "## split data\n",
    "df = df[['temp', 'atemp', 'hum', 'windspeed', 'casual','response']]\n",
    "train_df = df.iloc[:-61]\n",
    "test_df = df.iloc[-61:]     # Nov and Dec of 2012"
   ]
  },
  {
   "cell_type": "code",
   "execution_count": null,
   "metadata": {
    "ExecuteTime": {
     "end_time": "2021-06-10T12:54:38.183057Z",
     "start_time": "2021-06-10T12:54:37.561854Z"
    },
    "id": "czrFMDPQEKhu"
   },
   "outputs": [],
   "source": [
    "X = train_df.drop('response',axis=1)\n",
    "y = train_df['response']\n",
    "    \n",
    "reg = DecisionTree(tree_type = 'regression')\n",
    "reg.fit(X,y,impurity_measure='mse',max_depth=3)"
   ]
  },
  {
   "cell_type": "code",
   "execution_count": null,
   "metadata": {
    "ExecuteTime": {
     "end_time": "2021-06-10T12:54:53.047562Z",
     "start_time": "2021-06-10T12:54:52.754097Z"
    },
    "id": "sDxlH01XEKhu",
    "outputId": "f5fdedd2-877b-407b-8d9d-01823abec44f"
   },
   "outputs": [
    {
     "data": {
      "text/plain": [
       "'.\\\\bike_share_tree2.png'"
      ]
     },
     "execution_count": 58,
     "metadata": {},
     "output_type": "execute_result"
    }
   ],
   "source": [
    "dot = visualize_tree(reg.root)\n",
    "dot.format = 'png'\n",
    "dot.render(filename='bike_share_tree2', directory='./', cleanup=True)"
   ]
  },
  {
   "cell_type": "code",
   "execution_count": null,
   "metadata": {
    "ExecuteTime": {
     "end_time": "2021-06-10T12:57:29.664564Z",
     "start_time": "2021-06-10T12:57:29.650603Z"
    },
    "id": "gOal1nrEEKhu",
    "outputId": "e937eafa-73c9-4d93-cf55-200cd82d3100"
   },
   "outputs": [
    {
     "data": {
      "text/plain": [
       "216335384.83710006"
      ]
     },
     "execution_count": 61,
     "metadata": {},
     "output_type": "execute_result"
    }
   ],
   "source": [
    "X_test = test_df.drop('response',axis=1)\n",
    "y_test = test_df['response']\n",
    "\n",
    "np.mean(np.sum(np.square(y_test - reg.predict(X_test))))"
   ]
  },
  {
   "cell_type": "code",
   "execution_count": null,
   "metadata": {
    "ExecuteTime": {
     "end_time": "2021-06-10T12:47:53.245893Z",
     "start_time": "2021-06-10T12:47:53.226977Z"
    },
    "id": "-Z0sOCPbEKhu",
    "outputId": "cdaa9b11-c1af-4bf8-a389-fca491b78cbf"
   },
   "outputs": [
    {
     "data": {
      "text/plain": [
       "DecisionTreeRegressor(max_depth=3, min_samples_split=5)"
      ]
     },
     "execution_count": 51,
     "metadata": {},
     "output_type": "execute_result"
    }
   ],
   "source": [
    "regressor = tree.DecisionTreeRegressor(max_depth=3, min_samples_split=5) \n",
    "regressor.fit(X, y)"
   ]
  },
  {
   "cell_type": "code",
   "execution_count": null,
   "metadata": {
    "ExecuteTime": {
     "end_time": "2021-06-10T12:47:54.439722Z",
     "start_time": "2021-06-10T12:47:54.426757Z"
    },
    "id": "v3-jyvzeEKhu",
    "outputId": "15a72608-e1a5-421f-8d9e-b46f6510c2ae"
   },
   "outputs": [
    {
     "data": {
      "text/plain": [
       "216335303.04092774"
      ]
     },
     "execution_count": 52,
     "metadata": {},
     "output_type": "execute_result"
    }
   ],
   "source": [
    "np.mean(np.sum(np.square(y_test - regressor.predict(X_test))))"
   ]
  },
  {
   "cell_type": "code",
   "execution_count": null,
   "metadata": {
    "ExecuteTime": {
     "end_time": "2021-06-10T12:51:16.143347Z",
     "start_time": "2021-06-10T12:51:15.875005Z"
    },
    "id": "h-oGqiD_EKhu",
    "outputId": "252f1928-a8b3-4f3b-9532-344f99b2a1c4"
   },
   "outputs": [
    {
     "data": {
      "image/svg+xml": [
       "<?xml version=\"1.0\" encoding=\"UTF-8\" standalone=\"no\"?>\r\n",
       "<!DOCTYPE svg PUBLIC \"-//W3C//DTD SVG 1.1//EN\"\r\n",
       " \"http://www.w3.org/Graphics/SVG/1.1/DTD/svg11.dtd\">\r\n",
       "<!-- Generated by graphviz version 2.47.2 (20210527.0053)\r\n",
       " -->\r\n",
       "<!-- Title: Tree Pages: 1 -->\r\n",
       "<svg width=\"1246pt\" height=\"373pt\"\r\n",
       " viewBox=\"0.00 0.00 1246.00 373.00\" xmlns=\"http://www.w3.org/2000/svg\" xmlns:xlink=\"http://www.w3.org/1999/xlink\">\r\n",
       "<g id=\"graph0\" class=\"graph\" transform=\"scale(1 1) rotate(0) translate(4 369)\">\r\n",
       "<title>Tree</title>\r\n",
       "<polygon fill=\"white\" stroke=\"transparent\" points=\"-4,4 -4,-369 1242,-369 1242,4 -4,4\"/>\r\n",
       "<!-- 0 -->\r\n",
       "<g id=\"node1\" class=\"node\">\r\n",
       "<title>0</title>\r\n",
       "<path fill=\"none\" stroke=\"black\" d=\"M676,-365C676,-365 554,-365 554,-365 548,-365 542,-359 542,-353 542,-353 542,-309 542,-309 542,-303 548,-297 554,-297 554,-297 676,-297 676,-297 682,-297 688,-303 688,-309 688,-309 688,-353 688,-353 688,-359 682,-365 676,-365\"/>\r\n",
       "<text text-anchor=\"middle\" x=\"615\" y=\"-349.8\" font-family=\"Helvetica,sans-Serif\" font-size=\"14.00\">casual &lt;= 643.0</text>\r\n",
       "<text text-anchor=\"middle\" x=\"615\" y=\"-334.8\" font-family=\"Helvetica,sans-Serif\" font-size=\"14.00\">mse = 3860515.015</text>\r\n",
       "<text text-anchor=\"middle\" x=\"615\" y=\"-319.8\" font-family=\"Helvetica,sans-Serif\" font-size=\"14.00\">samples = 670</text>\r\n",
       "<text text-anchor=\"middle\" x=\"615\" y=\"-304.8\" font-family=\"Helvetica,sans-Serif\" font-size=\"14.00\">value = 4501.943</text>\r\n",
       "</g>\r\n",
       "<!-- 1 -->\r\n",
       "<g id=\"node2\" class=\"node\">\r\n",
       "<title>1</title>\r\n",
       "<path fill=\"none\" stroke=\"black\" d=\"M559,-261C559,-261 437,-261 437,-261 431,-261 425,-255 425,-249 425,-249 425,-205 425,-205 425,-199 431,-193 437,-193 437,-193 559,-193 559,-193 565,-193 571,-199 571,-205 571,-205 571,-249 571,-249 571,-255 565,-261 559,-261\"/>\r\n",
       "<text text-anchor=\"middle\" x=\"498\" y=\"-245.8\" font-family=\"Helvetica,sans-Serif\" font-size=\"14.00\">casual &lt;= 303.5</text>\r\n",
       "<text text-anchor=\"middle\" x=\"498\" y=\"-230.8\" font-family=\"Helvetica,sans-Serif\" font-size=\"14.00\">mse = 1596400.122</text>\r\n",
       "<text text-anchor=\"middle\" x=\"498\" y=\"-215.8\" font-family=\"Helvetica,sans-Serif\" font-size=\"14.00\">samples = 276</text>\r\n",
       "<text text-anchor=\"middle\" x=\"498\" y=\"-200.8\" font-family=\"Helvetica,sans-Serif\" font-size=\"14.00\">value = 2826.036</text>\r\n",
       "</g>\r\n",
       "<!-- 0&#45;&gt;1 -->\r\n",
       "<g id=\"edge1\" class=\"edge\">\r\n",
       "<title>0&#45;&gt;1</title>\r\n",
       "<path fill=\"none\" stroke=\"black\" d=\"M577.01,-296.88C566.49,-287.71 554.95,-277.65 544.02,-268.12\"/>\r\n",
       "<polygon fill=\"black\" stroke=\"black\" points=\"546.03,-265.23 536.2,-261.3 541.43,-270.51 546.03,-265.23\"/>\r\n",
       "<text text-anchor=\"middle\" x=\"537.9\" y=\"-282.54\" font-family=\"Helvetica,sans-Serif\" font-size=\"14.00\">True</text>\r\n",
       "</g>\r\n",
       "<!-- 8 -->\r\n",
       "<g id=\"node9\" class=\"node\">\r\n",
       "<title>8</title>\r\n",
       "<path fill=\"none\" stroke=\"black\" d=\"M793,-261C793,-261 671,-261 671,-261 665,-261 659,-255 659,-249 659,-249 659,-205 659,-205 659,-199 665,-193 671,-193 671,-193 793,-193 793,-193 799,-193 805,-199 805,-205 805,-205 805,-249 805,-249 805,-255 799,-261 793,-261\"/>\r\n",
       "<text text-anchor=\"middle\" x=\"732\" y=\"-245.8\" font-family=\"Helvetica,sans-Serif\" font-size=\"14.00\">temp &lt;= 0.423</text>\r\n",
       "<text text-anchor=\"middle\" x=\"732\" y=\"-230.8\" font-family=\"Helvetica,sans-Serif\" font-size=\"14.00\">mse = 2100811.599</text>\r\n",
       "<text text-anchor=\"middle\" x=\"732\" y=\"-215.8\" font-family=\"Helvetica,sans-Serif\" font-size=\"14.00\">samples = 394</text>\r\n",
       "<text text-anchor=\"middle\" x=\"732\" y=\"-200.8\" font-family=\"Helvetica,sans-Serif\" font-size=\"14.00\">value = 5675.929</text>\r\n",
       "</g>\r\n",
       "<!-- 0&#45;&gt;8 -->\r\n",
       "<g id=\"edge8\" class=\"edge\">\r\n",
       "<title>0&#45;&gt;8</title>\r\n",
       "<path fill=\"none\" stroke=\"black\" d=\"M652.99,-296.88C663.51,-287.71 675.05,-277.65 685.98,-268.12\"/>\r\n",
       "<polygon fill=\"black\" stroke=\"black\" points=\"688.57,-270.51 693.8,-261.3 683.97,-265.23 688.57,-270.51\"/>\r\n",
       "<text text-anchor=\"middle\" x=\"692.1\" y=\"-282.54\" font-family=\"Helvetica,sans-Serif\" font-size=\"14.00\">False</text>\r\n",
       "</g>\r\n",
       "<!-- 2 -->\r\n",
       "<g id=\"node3\" class=\"node\">\r\n",
       "<title>2</title>\r\n",
       "<path fill=\"none\" stroke=\"black\" d=\"M286,-157C286,-157 164,-157 164,-157 158,-157 152,-151 152,-145 152,-145 152,-101 152,-101 152,-95 158,-89 164,-89 164,-89 286,-89 286,-89 292,-89 298,-95 298,-101 298,-101 298,-145 298,-145 298,-151 292,-157 286,-157\"/>\r\n",
       "<text text-anchor=\"middle\" x=\"225\" y=\"-141.8\" font-family=\"Helvetica,sans-Serif\" font-size=\"14.00\">casual &lt;= 124.5</text>\r\n",
       "<text text-anchor=\"middle\" x=\"225\" y=\"-126.8\" font-family=\"Helvetica,sans-Serif\" font-size=\"14.00\">mse = 1036844.408</text>\r\n",
       "<text text-anchor=\"middle\" x=\"225\" y=\"-111.8\" font-family=\"Helvetica,sans-Serif\" font-size=\"14.00\">samples = 163</text>\r\n",
       "<text text-anchor=\"middle\" x=\"225\" y=\"-96.8\" font-family=\"Helvetica,sans-Serif\" font-size=\"14.00\">value = 2226.902</text>\r\n",
       "</g>\r\n",
       "<!-- 1&#45;&gt;2 -->\r\n",
       "<g id=\"edge2\" class=\"edge\">\r\n",
       "<title>1&#45;&gt;2</title>\r\n",
       "<path fill=\"none\" stroke=\"black\" d=\"M424.84,-198.67C388.88,-185.23 345.39,-168.98 308.18,-155.08\"/>\r\n",
       "<polygon fill=\"black\" stroke=\"black\" points=\"308.95,-151.63 298.36,-151.41 306.5,-158.19 308.95,-151.63\"/>\r\n",
       "</g>\r\n",
       "<!-- 5 -->\r\n",
       "<g id=\"node6\" class=\"node\">\r\n",
       "<title>5</title>\r\n",
       "<path fill=\"none\" stroke=\"black\" d=\"M559,-157C559,-157 437,-157 437,-157 431,-157 425,-151 425,-145 425,-145 425,-101 425,-101 425,-95 431,-89 437,-89 437,-89 559,-89 559,-89 565,-89 571,-95 571,-101 571,-101 571,-145 571,-145 571,-151 565,-157 559,-157\"/>\r\n",
       "<text text-anchor=\"middle\" x=\"498\" y=\"-141.8\" font-family=\"Helvetica,sans-Serif\" font-size=\"14.00\">atemp &lt;= 0.38</text>\r\n",
       "<text text-anchor=\"middle\" x=\"498\" y=\"-126.8\" font-family=\"Helvetica,sans-Serif\" font-size=\"14.00\">mse = 1138844.588</text>\r\n",
       "<text text-anchor=\"middle\" x=\"498\" y=\"-111.8\" font-family=\"Helvetica,sans-Serif\" font-size=\"14.00\">samples = 113</text>\r\n",
       "<text text-anchor=\"middle\" x=\"498\" y=\"-96.8\" font-family=\"Helvetica,sans-Serif\" font-size=\"14.00\">value = 3690.274</text>\r\n",
       "</g>\r\n",
       "<!-- 1&#45;&gt;5 -->\r\n",
       "<g id=\"edge5\" class=\"edge\">\r\n",
       "<title>1&#45;&gt;5</title>\r\n",
       "<path fill=\"none\" stroke=\"black\" d=\"M498,-192.88C498,-184.78 498,-175.98 498,-167.47\"/>\r\n",
       "<polygon fill=\"black\" stroke=\"black\" points=\"501.5,-167.3 498,-157.3 494.5,-167.3 501.5,-167.3\"/>\r\n",
       "</g>\r\n",
       "<!-- 3 -->\r\n",
       "<g id=\"node4\" class=\"node\">\r\n",
       "<title>3</title>\r\n",
       "<path fill=\"none\" stroke=\"black\" d=\"M126,-53C126,-53 12,-53 12,-53 6,-53 0,-47 0,-41 0,-41 0,-12 0,-12 0,-6 6,0 12,0 12,0 126,0 126,0 132,0 138,-6 138,-12 138,-12 138,-41 138,-41 138,-47 132,-53 126,-53\"/>\r\n",
       "<text text-anchor=\"middle\" x=\"69\" y=\"-37.8\" font-family=\"Helvetica,sans-Serif\" font-size=\"14.00\">mse = 518358.462</text>\r\n",
       "<text text-anchor=\"middle\" x=\"69\" y=\"-22.8\" font-family=\"Helvetica,sans-Serif\" font-size=\"14.00\">samples = 63</text>\r\n",
       "<text text-anchor=\"middle\" x=\"69\" y=\"-7.8\" font-family=\"Helvetica,sans-Serif\" font-size=\"14.00\">value = 1551.603</text>\r\n",
       "</g>\r\n",
       "<!-- 2&#45;&gt;3 -->\r\n",
       "<g id=\"edge3\" class=\"edge\">\r\n",
       "<title>2&#45;&gt;3</title>\r\n",
       "<path fill=\"none\" stroke=\"black\" d=\"M170.44,-88.95C154.13,-79.07 136.31,-68.28 120.22,-58.53\"/>\r\n",
       "<polygon fill=\"black\" stroke=\"black\" points=\"121.85,-55.42 111.49,-53.24 118.23,-61.41 121.85,-55.42\"/>\r\n",
       "</g>\r\n",
       "<!-- 4 -->\r\n",
       "<g id=\"node5\" class=\"node\">\r\n",
       "<title>4</title>\r\n",
       "<path fill=\"none\" stroke=\"black\" d=\"M282,-53C282,-53 168,-53 168,-53 162,-53 156,-47 156,-41 156,-41 156,-12 156,-12 156,-6 162,0 168,0 168,0 282,0 282,0 288,0 294,-6 294,-12 294,-12 294,-41 294,-41 294,-47 288,-53 282,-53\"/>\r\n",
       "<text text-anchor=\"middle\" x=\"225\" y=\"-37.8\" font-family=\"Helvetica,sans-Serif\" font-size=\"14.00\">mse = 895195.104</text>\r\n",
       "<text text-anchor=\"middle\" x=\"225\" y=\"-22.8\" font-family=\"Helvetica,sans-Serif\" font-size=\"14.00\">samples = 100</text>\r\n",
       "<text text-anchor=\"middle\" x=\"225\" y=\"-7.8\" font-family=\"Helvetica,sans-Serif\" font-size=\"14.00\">value = 2652.34</text>\r\n",
       "</g>\r\n",
       "<!-- 2&#45;&gt;4 -->\r\n",
       "<g id=\"edge4\" class=\"edge\">\r\n",
       "<title>2&#45;&gt;4</title>\r\n",
       "<path fill=\"none\" stroke=\"black\" d=\"M225,-88.95C225,-80.72 225,-71.85 225,-63.48\"/>\r\n",
       "<polygon fill=\"black\" stroke=\"black\" points=\"228.5,-63.24 225,-53.24 221.5,-63.24 228.5,-63.24\"/>\r\n",
       "</g>\r\n",
       "<!-- 6 -->\r\n",
       "<g id=\"node7\" class=\"node\">\r\n",
       "<title>6</title>\r\n",
       "<path fill=\"none\" stroke=\"black\" d=\"M438,-53C438,-53 324,-53 324,-53 318,-53 312,-47 312,-41 312,-41 312,-12 312,-12 312,-6 318,0 324,0 324,0 438,0 438,0 444,0 450,-6 450,-12 450,-12 450,-41 450,-41 450,-47 444,-53 438,-53\"/>\r\n",
       "<text text-anchor=\"middle\" x=\"381\" y=\"-37.8\" font-family=\"Helvetica,sans-Serif\" font-size=\"14.00\">mse = 1162022.06</text>\r\n",
       "<text text-anchor=\"middle\" x=\"381\" y=\"-22.8\" font-family=\"Helvetica,sans-Serif\" font-size=\"14.00\">samples = 39</text>\r\n",
       "<text text-anchor=\"middle\" x=\"381\" y=\"-7.8\" font-family=\"Helvetica,sans-Serif\" font-size=\"14.00\">value = 2951.872</text>\r\n",
       "</g>\r\n",
       "<!-- 5&#45;&gt;6 -->\r\n",
       "<g id=\"edge6\" class=\"edge\">\r\n",
       "<title>5&#45;&gt;6</title>\r\n",
       "<path fill=\"none\" stroke=\"black\" d=\"M457.08,-88.95C445.3,-79.43 432.47,-69.07 420.76,-59.62\"/>\r\n",
       "<polygon fill=\"black\" stroke=\"black\" points=\"422.84,-56.8 412.86,-53.24 418.44,-62.24 422.84,-56.8\"/>\r\n",
       "</g>\r\n",
       "<!-- 7 -->\r\n",
       "<g id=\"node8\" class=\"node\">\r\n",
       "<title>7</title>\r\n",
       "<path fill=\"none\" stroke=\"black\" d=\"M594,-53C594,-53 480,-53 480,-53 474,-53 468,-47 468,-41 468,-41 468,-12 468,-12 468,-6 474,0 480,0 480,0 594,0 594,0 600,0 606,-6 606,-12 606,-12 606,-41 606,-41 606,-47 600,-53 594,-53\"/>\r\n",
       "<text text-anchor=\"middle\" x=\"537\" y=\"-37.8\" font-family=\"Helvetica,sans-Serif\" font-size=\"14.00\">mse = 687830.083</text>\r\n",
       "<text text-anchor=\"middle\" x=\"537\" y=\"-22.8\" font-family=\"Helvetica,sans-Serif\" font-size=\"14.00\">samples = 74</text>\r\n",
       "<text text-anchor=\"middle\" x=\"537\" y=\"-7.8\" font-family=\"Helvetica,sans-Serif\" font-size=\"14.00\">value = 4079.432</text>\r\n",
       "</g>\r\n",
       "<!-- 5&#45;&gt;7 -->\r\n",
       "<g id=\"edge7\" class=\"edge\">\r\n",
       "<title>5&#45;&gt;7</title>\r\n",
       "<path fill=\"none\" stroke=\"black\" d=\"M511.64,-88.95C515.15,-80.44 518.94,-71.26 522.5,-62.65\"/>\r\n",
       "<polygon fill=\"black\" stroke=\"black\" points=\"525.8,-63.82 526.38,-53.24 519.33,-61.15 525.8,-63.82\"/>\r\n",
       "</g>\r\n",
       "<!-- 9 -->\r\n",
       "<g id=\"node10\" class=\"node\">\r\n",
       "<title>9</title>\r\n",
       "<path fill=\"none\" stroke=\"black\" d=\"M793,-157C793,-157 671,-157 671,-157 665,-157 659,-151 659,-145 659,-145 659,-101 659,-101 659,-95 665,-89 671,-89 671,-89 793,-89 793,-89 799,-89 805,-95 805,-101 805,-101 805,-145 805,-145 805,-151 799,-157 793,-157\"/>\r\n",
       "<text text-anchor=\"middle\" x=\"732\" y=\"-141.8\" font-family=\"Helvetica,sans-Serif\" font-size=\"14.00\">casual &lt;= 1732.5</text>\r\n",
       "<text text-anchor=\"middle\" x=\"732\" y=\"-126.8\" font-family=\"Helvetica,sans-Serif\" font-size=\"14.00\">mse = 1469595.489</text>\r\n",
       "<text text-anchor=\"middle\" x=\"732\" y=\"-111.8\" font-family=\"Helvetica,sans-Serif\" font-size=\"14.00\">samples = 34</text>\r\n",
       "<text text-anchor=\"middle\" x=\"732\" y=\"-96.8\" font-family=\"Helvetica,sans-Serif\" font-size=\"14.00\">value = 3778.735</text>\r\n",
       "</g>\r\n",
       "<!-- 8&#45;&gt;9 -->\r\n",
       "<g id=\"edge9\" class=\"edge\">\r\n",
       "<title>8&#45;&gt;9</title>\r\n",
       "<path fill=\"none\" stroke=\"black\" d=\"M732,-192.88C732,-184.78 732,-175.98 732,-167.47\"/>\r\n",
       "<polygon fill=\"black\" stroke=\"black\" points=\"735.5,-167.3 732,-157.3 728.5,-167.3 735.5,-167.3\"/>\r\n",
       "</g>\r\n",
       "<!-- 12 -->\r\n",
       "<g id=\"node13\" class=\"node\">\r\n",
       "<title>12</title>\r\n",
       "<path fill=\"none\" stroke=\"black\" d=\"M1058,-157C1058,-157 944,-157 944,-157 938,-157 932,-151 932,-145 932,-145 932,-101 932,-101 932,-95 938,-89 944,-89 944,-89 1058,-89 1058,-89 1064,-89 1070,-95 1070,-101 1070,-101 1070,-145 1070,-145 1070,-151 1064,-157 1058,-157\"/>\r\n",
       "<text text-anchor=\"middle\" x=\"1001\" y=\"-141.8\" font-family=\"Helvetica,sans-Serif\" font-size=\"14.00\">casual &lt;= 915.0</text>\r\n",
       "<text text-anchor=\"middle\" x=\"1001\" y=\"-126.8\" font-family=\"Helvetica,sans-Serif\" font-size=\"14.00\">mse = 1788383.18</text>\r\n",
       "<text text-anchor=\"middle\" x=\"1001\" y=\"-111.8\" font-family=\"Helvetica,sans-Serif\" font-size=\"14.00\">samples = 360</text>\r\n",
       "<text text-anchor=\"middle\" x=\"1001\" y=\"-96.8\" font-family=\"Helvetica,sans-Serif\" font-size=\"14.00\">value = 5855.108</text>\r\n",
       "</g>\r\n",
       "<!-- 8&#45;&gt;12 -->\r\n",
       "<g id=\"edge12\" class=\"edge\">\r\n",
       "<title>8&#45;&gt;12</title>\r\n",
       "<path fill=\"none\" stroke=\"black\" d=\"M805.15,-198.26C841.28,-184.56 884.93,-168.01 921.85,-154.01\"/>\r\n",
       "<polygon fill=\"black\" stroke=\"black\" points=\"923.46,-157.14 931.57,-150.33 920.98,-150.6 923.46,-157.14\"/>\r\n",
       "</g>\r\n",
       "<!-- 10 -->\r\n",
       "<g id=\"node11\" class=\"node\">\r\n",
       "<title>10</title>\r\n",
       "<path fill=\"none\" stroke=\"black\" d=\"M750,-53C750,-53 636,-53 636,-53 630,-53 624,-47 624,-41 624,-41 624,-12 624,-12 624,-6 630,0 636,0 636,0 750,0 750,0 756,0 762,-6 762,-12 762,-12 762,-41 762,-41 762,-47 756,-53 750,-53\"/>\r\n",
       "<text text-anchor=\"middle\" x=\"693\" y=\"-37.8\" font-family=\"Helvetica,sans-Serif\" font-size=\"14.00\">mse = 954908.609</text>\r\n",
       "<text text-anchor=\"middle\" x=\"693\" y=\"-22.8\" font-family=\"Helvetica,sans-Serif\" font-size=\"14.00\">samples = 32</text>\r\n",
       "<text text-anchor=\"middle\" x=\"693\" y=\"-7.8\" font-family=\"Helvetica,sans-Serif\" font-size=\"14.00\">value = 3590.875</text>\r\n",
       "</g>\r\n",
       "<!-- 9&#45;&gt;10 -->\r\n",
       "<g id=\"edge10\" class=\"edge\">\r\n",
       "<title>9&#45;&gt;10</title>\r\n",
       "<path fill=\"none\" stroke=\"black\" d=\"M718.36,-88.95C714.85,-80.44 711.06,-71.26 707.5,-62.65\"/>\r\n",
       "<polygon fill=\"black\" stroke=\"black\" points=\"710.67,-61.15 703.62,-53.24 704.2,-63.82 710.67,-61.15\"/>\r\n",
       "</g>\r\n",
       "<!-- 11 -->\r\n",
       "<g id=\"node12\" class=\"node\">\r\n",
       "<title>11</title>\r\n",
       "<path fill=\"none\" stroke=\"black\" d=\"M898,-53C898,-53 792,-53 792,-53 786,-53 780,-47 780,-41 780,-41 780,-12 780,-12 780,-6 786,0 792,0 792,0 898,0 898,0 904,0 910,-6 910,-12 910,-12 910,-41 910,-41 910,-47 904,-53 898,-53\"/>\r\n",
       "<text text-anchor=\"middle\" x=\"845\" y=\"-37.8\" font-family=\"Helvetica,sans-Serif\" font-size=\"14.00\">mse = 105300.25</text>\r\n",
       "<text text-anchor=\"middle\" x=\"845\" y=\"-22.8\" font-family=\"Helvetica,sans-Serif\" font-size=\"14.00\">samples = 2</text>\r\n",
       "<text text-anchor=\"middle\" x=\"845\" y=\"-7.8\" font-family=\"Helvetica,sans-Serif\" font-size=\"14.00\">value = 6784.5</text>\r\n",
       "</g>\r\n",
       "<!-- 9&#45;&gt;11 -->\r\n",
       "<g id=\"edge11\" class=\"edge\">\r\n",
       "<title>9&#45;&gt;11</title>\r\n",
       "<path fill=\"none\" stroke=\"black\" d=\"M771.52,-88.95C782.79,-79.53 795.05,-69.27 806.27,-59.89\"/>\r\n",
       "<polygon fill=\"black\" stroke=\"black\" points=\"808.8,-62.34 814.22,-53.24 804.31,-56.97 808.8,-62.34\"/>\r\n",
       "</g>\r\n",
       "<!-- 13 -->\r\n",
       "<g id=\"node14\" class=\"node\">\r\n",
       "<title>13</title>\r\n",
       "<path fill=\"none\" stroke=\"black\" d=\"M1062,-53C1062,-53 940,-53 940,-53 934,-53 928,-47 928,-41 928,-41 928,-12 928,-12 928,-6 934,0 940,0 940,0 1062,0 1062,0 1068,0 1074,-6 1074,-12 1074,-12 1074,-41 1074,-41 1074,-47 1068,-53 1062,-53\"/>\r\n",
       "<text text-anchor=\"middle\" x=\"1001\" y=\"-37.8\" font-family=\"Helvetica,sans-Serif\" font-size=\"14.00\">mse = 1167511.376</text>\r\n",
       "<text text-anchor=\"middle\" x=\"1001\" y=\"-22.8\" font-family=\"Helvetica,sans-Serif\" font-size=\"14.00\">samples = 131</text>\r\n",
       "<text text-anchor=\"middle\" x=\"1001\" y=\"-7.8\" font-family=\"Helvetica,sans-Serif\" font-size=\"14.00\">value = 5123.855</text>\r\n",
       "</g>\r\n",
       "<!-- 12&#45;&gt;13 -->\r\n",
       "<g id=\"edge13\" class=\"edge\">\r\n",
       "<title>12&#45;&gt;13</title>\r\n",
       "<path fill=\"none\" stroke=\"black\" d=\"M1001,-88.95C1001,-80.72 1001,-71.85 1001,-63.48\"/>\r\n",
       "<polygon fill=\"black\" stroke=\"black\" points=\"1004.5,-63.24 1001,-53.24 997.5,-63.24 1004.5,-63.24\"/>\r\n",
       "</g>\r\n",
       "<!-- 14 -->\r\n",
       "<g id=\"node15\" class=\"node\">\r\n",
       "<title>14</title>\r\n",
       "<path fill=\"none\" stroke=\"black\" d=\"M1226,-53C1226,-53 1104,-53 1104,-53 1098,-53 1092,-47 1092,-41 1092,-41 1092,-12 1092,-12 1092,-6 1098,0 1104,0 1104,0 1226,0 1226,0 1232,0 1238,-6 1238,-12 1238,-12 1238,-41 1238,-41 1238,-47 1232,-53 1226,-53\"/>\r\n",
       "<text text-anchor=\"middle\" x=\"1165\" y=\"-37.8\" font-family=\"Helvetica,sans-Serif\" font-size=\"14.00\">mse = 1662672.305</text>\r\n",
       "<text text-anchor=\"middle\" x=\"1165\" y=\"-22.8\" font-family=\"Helvetica,sans-Serif\" font-size=\"14.00\">samples = 229</text>\r\n",
       "<text text-anchor=\"middle\" x=\"1165\" y=\"-7.8\" font-family=\"Helvetica,sans-Serif\" font-size=\"14.00\">value = 6273.424</text>\r\n",
       "</g>\r\n",
       "<!-- 12&#45;&gt;14 -->\r\n",
       "<g id=\"edge14\" class=\"edge\">\r\n",
       "<title>12&#45;&gt;14</title>\r\n",
       "<path fill=\"none\" stroke=\"black\" d=\"M1058.36,-88.95C1075.74,-78.93 1094.75,-67.98 1111.85,-58.13\"/>\r\n",
       "<polygon fill=\"black\" stroke=\"black\" points=\"1113.68,-61.11 1120.6,-53.09 1110.18,-55.05 1113.68,-61.11\"/>\r\n",
       "</g>\r\n",
       "</g>\r\n",
       "</svg>\r\n"
      ],
      "text/plain": [
       "<graphviz.files.Source at 0x1eecf05fb48>"
      ]
     },
     "execution_count": 53,
     "metadata": {},
     "output_type": "execute_result"
    }
   ],
   "source": [
    "dot_data = tree.export_graphviz(regressor, out_file=None, \n",
    "                     feature_names=X.columns,\n",
    "                     filled=False, rounded=True,  \n",
    "                     special_characters=False)  \n",
    "graph = graphviz.Source(dot_data)  \n",
    "graph "
   ]
  },
  {
   "cell_type": "code",
   "execution_count": null,
   "metadata": {
    "ExecuteTime": {
     "end_time": "2021-06-10T12:51:40.826838Z",
     "start_time": "2021-06-10T12:51:40.522827Z"
    },
    "id": "QEgRb6_wEKhv",
    "outputId": "33a0a3b1-7d30-427f-d351-734d5a28a60d"
   },
   "outputs": [
    {
     "data": {
      "text/plain": [
       "'.\\\\bike_share_tree_sk.png'"
      ]
     },
     "execution_count": 54,
     "metadata": {},
     "output_type": "execute_result"
    }
   ],
   "source": [
    "graph.format = 'png'\n",
    "graph.render(filename='bike_share_tree_sk', directory='./', cleanup=True)"
   ]
  },
  {
   "cell_type": "code",
   "execution_count": null,
   "metadata": {
    "id": "hbnAryqOEKhv"
   },
   "outputs": [],
   "source": []
  }
 ],
 "metadata": {
  "kernelspec": {
   "display_name": "Python 3",
   "language": "python",
   "name": "python3"
  },
  "language_info": {
   "codemirror_mode": {
    "name": "ipython",
    "version": 3
   },
   "file_extension": ".py",
   "mimetype": "text/x-python",
   "name": "python",
   "nbconvert_exporter": "python",
   "pygments_lexer": "ipython3",
   "version": "3.7.7"
  },
  "toc": {
   "base_numbering": 1,
   "nav_menu": {},
   "number_sections": true,
   "sideBar": true,
   "skip_h1_title": false,
   "title_cell": "Table of Contents",
   "title_sidebar": "Contents",
   "toc_cell": false,
   "toc_position": {
    "height": "calc(100% - 180px)",
    "left": "10px",
    "top": "150px",
    "width": "307.2px"
   },
   "toc_section_display": true,
   "toc_window_display": true
  },
  "varInspector": {
   "cols": {
    "lenName": 16,
    "lenType": 16,
    "lenVar": 40
   },
   "kernels_config": {
    "python": {
     "delete_cmd_postfix": "",
     "delete_cmd_prefix": "del ",
     "library": "var_list.py",
     "varRefreshCmd": "print(var_dic_list())"
    },
    "r": {
     "delete_cmd_postfix": ") ",
     "delete_cmd_prefix": "rm(",
     "library": "var_list.r",
     "varRefreshCmd": "cat(var_dic_list()) "
    }
   },
   "types_to_exclude": [
    "module",
    "function",
    "builtin_function_or_method",
    "instance",
    "_Feature"
   ],
   "window_display": false
  },
  "colab": {
   "provenance": []
  }
 },
 "nbformat": 4,
 "nbformat_minor": 0
}
