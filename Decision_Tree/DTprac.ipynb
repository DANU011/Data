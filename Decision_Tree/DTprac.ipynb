{
 "cells": [
  {
   "cell_type": "markdown",
   "source": [
    "의사결정나무\n",
    " - 입력값에 대한 예측값을 나무 형태로 나타내주는 모형\n",
    " - 용어 (노드 = 마디)\n",
    "  - 뿌리마디 : 시작되는 마디 전체 자료 포함\n",
    "  - 자식마디 : 하나의 마디롭퉈 분리된 2개 이상의 마디들\n",
    "  - 부모마디 : 주어진 마디의 상위 마디\n",
    "  - 끝마디 : 자식 마디가 없는 마디\n",
    "  - 중간마디 : 부모 마디와 자식 마디가 모두 있는 마디\n",
    "  - 가지 : 연결되어있는 2개 이상의 마디 집합\n",
    "  - 깊이 : 뿌리 마디로부터 끝마디까지 연결된 마디의 개수\n",
    " - 장점 : 입력값이 주어졌을 때 설명변수의 영역을 따라가며 출력값이 어떻게 나올 수 있는지 알기 쉽다\n",
    " - 단점 : 예측력이 떨어짐. 특히 회귀나무의 예측력은 더 떨어짐. 해당 마디에 포함된 반응 변수의 평균을 예측값으로 추정하기때문에 이상치에 영향을 받을 수 있기 때문."
   ],
   "metadata": {
    "collapsed": false
   }
  }
 ],
 "metadata": {
  "kernelspec": {
   "display_name": "Python 3",
   "language": "python",
   "name": "python3"
  },
  "language_info": {
   "codemirror_mode": {
    "name": "ipython",
    "version": 2
   },
   "file_extension": ".py",
   "mimetype": "text/x-python",
   "name": "python",
   "nbconvert_exporter": "python",
   "pygments_lexer": "ipython2",
   "version": "2.7.6"
  }
 },
 "nbformat": 4,
 "nbformat_minor": 0
}
