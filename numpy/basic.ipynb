{
 "cells": [
  {
   "cell_type": "markdown",
   "source": [
    "# 넘파이\n",
    "## 넘파이 배열\n",
    "  - 배열을 사용하면 적은 메모리로 많은 데이터 빠르게 처리\n",
    "  - 배열 : 모든 원소가 같은 자료형, 원소의 갯수를 바꿀 수 없다.\n",
    "  - 파이썬은 자체적으로 배열을 제공하지 않기 때문에 numpy 사용.\n",
    "  - 수치 해적용 파이선 패키지.\n",
    "  - 다차원 배열 자료구조 클래스인 ndarray 지원. -> 선형대수 계산에 주로 사용.\n",
    "    - a[:, [True, False, False, True]] 배열의 특정 행, 열을 골라내는 데 응용 가능할 듯.\n",
    "    - a[[2, 0, 1], :] 특정 배열의 열, 행 순서를 바꿀 때도 응용 가능할 듯.\n",
    "  - 파이썬 반복문에 비해 속도가 빠르며 벡터화 연산을 이용해서 간단한 코드로 복잡한 선형 대수 연산을 수행 가능."
   ],
   "metadata": {
    "collapsed": false
   }
  },
  {
   "cell_type": "markdown",
   "source": [
    "### 넘파이 패키지 임포트"
   ],
   "metadata": {
    "collapsed": false
   }
  },
  {
   "cell_type": "code",
   "execution_count": 1,
   "outputs": [],
   "source": [
    "import numpy as np"
   ],
   "metadata": {
    "collapsed": false,
    "ExecuteTime": {
     "start_time": "2023-04-15T11:46:39.638759Z",
     "end_time": "2023-04-15T11:46:39.941978Z"
    }
   }
  },
  {
   "cell_type": "code",
   "execution_count": 2,
   "outputs": [
    {
     "data": {
      "text/plain": "array([0, 1, 2, 3, 4, 5, 6, 7, 8, 9])"
     },
     "execution_count": 2,
     "metadata": {},
     "output_type": "execute_result"
    }
   ],
   "source": [
    "ar = np.array([0,1,2,3,4,5,6,7,8,9])\n",
    "ar"
   ],
   "metadata": {
    "collapsed": false,
    "ExecuteTime": {
     "start_time": "2023-04-15T11:46:39.941978Z",
     "end_time": "2023-04-15T11:46:39.954951Z"
    }
   }
  },
  {
   "cell_type": "code",
   "execution_count": 3,
   "outputs": [
    {
     "data": {
      "text/plain": "numpy.ndarray"
     },
     "execution_count": 3,
     "metadata": {},
     "output_type": "execute_result"
    }
   ],
   "source": [
    "type(ar)"
   ],
   "metadata": {
    "collapsed": false,
    "ExecuteTime": {
     "start_time": "2023-04-15T11:46:39.951922Z",
     "end_time": "2023-04-15T11:46:39.954951Z"
    }
   }
  },
  {
   "cell_type": "markdown",
   "source": [
    "- ndarray 객체와 리스트는 동일한 구조처럼 보이지만 많은 차이가 있다.\n",
    "- 리스트 클래스 객체는 각각의 원소가 다른 자료형일 수 있지만 ndarray 객체는 연속적인 메모리 배치를 가지기 때문에 모든 원소가 같은 자료형이어야 한다. (C 베이스) but 접근 실행이 빠르다."
   ],
   "metadata": {
    "collapsed": false
   }
  },
  {
   "cell_type": "markdown",
   "source": [
    "## 백터화 연산\n",
    "배열 객체는 배열의 각 원소에 대한 반복 연산을 하나의 명령어로 처리하는 벡터화 연산을 지원"
   ],
   "metadata": {
    "collapsed": false
   }
  },
  {
   "cell_type": "code",
   "execution_count": 4,
   "outputs": [],
   "source": [
    "# 데이터를 모두 2배\n",
    "data = [0, 1, 2, 3, 4, 5, 6, 7, 8, 9]"
   ],
   "metadata": {
    "collapsed": false,
    "ExecuteTime": {
     "start_time": "2023-04-15T11:46:39.957906Z",
     "end_time": "2023-04-15T11:46:39.969873Z"
    }
   }
  },
  {
   "cell_type": "code",
   "execution_count": 5,
   "outputs": [
    {
     "data": {
      "text/plain": "[0, 2, 4, 6, 8, 10, 12, 14, 16, 18]"
     },
     "execution_count": 5,
     "metadata": {},
     "output_type": "execute_result"
    }
   ],
   "source": [
    "#for문\n",
    "answer=[]\n",
    "for i in data:\n",
    "    answer.append(2*i)\n",
    "answer"
   ],
   "metadata": {
    "collapsed": false,
    "ExecuteTime": {
     "start_time": "2023-04-15T11:46:39.963891Z",
     "end_time": "2023-04-15T11:46:40.014369Z"
    }
   }
  },
  {
   "cell_type": "code",
   "execution_count": 6,
   "outputs": [
    {
     "data": {
      "text/plain": "array([0, 1, 2, 3, 4, 5, 6, 7, 8, 9])"
     },
     "execution_count": 6,
     "metadata": {},
     "output_type": "execute_result"
    }
   ],
   "source": [
    "# 백터화 연산\n",
    "x=np.array(data)\n",
    "x"
   ],
   "metadata": {
    "collapsed": false,
    "ExecuteTime": {
     "start_time": "2023-04-15T11:46:39.969873Z",
     "end_time": "2023-04-15T11:46:40.015369Z"
    }
   }
  },
  {
   "cell_type": "code",
   "execution_count": 7,
   "outputs": [
    {
     "data": {
      "text/plain": "array([ 0,  2,  4,  6,  8, 10, 12, 14, 16, 18])"
     },
     "execution_count": 7,
     "metadata": {},
     "output_type": "execute_result"
    }
   ],
   "source": [
    "2*x"
   ],
   "metadata": {
    "collapsed": false,
    "ExecuteTime": {
     "start_time": "2023-04-15T11:46:39.974861Z",
     "end_time": "2023-04-15T11:46:40.016367Z"
    }
   }
  },
  {
   "cell_type": "code",
   "execution_count": 8,
   "outputs": [
    {
     "name": "stdout",
     "output_type": "stream",
     "text": [
      "[0, 1, 2, 3, 4, 5, 6, 7, 8, 9, 0, 1, 2, 3, 4, 5, 6, 7, 8, 9]\n"
     ]
    }
   ],
   "source": [
    "# 리스트에 적용하면? 객체의 크기가 정수배 만큼 증가.\n",
    "L = [0, 1, 2, 3, 4, 5, 6, 7, 8, 9]\n",
    "print(2 * L)"
   ],
   "metadata": {
    "collapsed": false,
    "ExecuteTime": {
     "start_time": "2023-04-15T11:46:39.981842Z",
     "end_time": "2023-04-15T11:46:40.017362Z"
    }
   }
  },
  {
   "cell_type": "code",
   "execution_count": 9,
   "outputs": [
    {
     "data": {
      "text/plain": "array([10, 20, 30])"
     },
     "execution_count": 9,
     "metadata": {},
     "output_type": "execute_result"
    }
   ],
   "source": [
    "a=np.array([1,2,3])\n",
    "b=np.array([10,20,30])\n",
    "a\n",
    "b"
   ],
   "metadata": {
    "collapsed": false,
    "ExecuteTime": {
     "start_time": "2023-04-15T11:46:39.988823Z",
     "end_time": "2023-04-15T11:46:40.017362Z"
    }
   }
  },
  {
   "cell_type": "code",
   "execution_count": 10,
   "outputs": [
    {
     "data": {
      "text/plain": "array([12, 24, 36])"
     },
     "execution_count": 10,
     "metadata": {},
     "output_type": "execute_result"
    }
   ],
   "source": [
    "2*a+b"
   ],
   "metadata": {
    "collapsed": false,
    "ExecuteTime": {
     "start_time": "2023-04-15T11:46:39.994807Z",
     "end_time": "2023-04-15T11:46:40.018360Z"
    }
   }
  },
  {
   "cell_type": "code",
   "execution_count": 11,
   "outputs": [
    {
     "data": {
      "text/plain": "array([False,  True, False])"
     },
     "execution_count": 11,
     "metadata": {},
     "output_type": "execute_result"
    }
   ],
   "source": [
    "a==2"
   ],
   "metadata": {
    "collapsed": false,
    "ExecuteTime": {
     "start_time": "2023-04-15T11:46:40.001788Z",
     "end_time": "2023-04-15T11:46:40.018360Z"
    }
   }
  },
  {
   "cell_type": "code",
   "execution_count": 12,
   "outputs": [
    {
     "data": {
      "text/plain": "array([False,  True,  True])"
     },
     "execution_count": 12,
     "metadata": {},
     "output_type": "execute_result"
    }
   ],
   "source": [
    "b>10"
   ],
   "metadata": {
    "collapsed": false,
    "ExecuteTime": {
     "start_time": "2023-04-15T11:46:40.006775Z",
     "end_time": "2023-04-15T11:46:40.018360Z"
    }
   }
  },
  {
   "cell_type": "code",
   "execution_count": 13,
   "outputs": [
    {
     "data": {
      "text/plain": "array([False,  True, False])"
     },
     "execution_count": 13,
     "metadata": {},
     "output_type": "execute_result"
    }
   ],
   "source": [
    "(a==2)&(b>10)"
   ],
   "metadata": {
    "collapsed": false,
    "ExecuteTime": {
     "start_time": "2023-04-15T11:46:40.010764Z",
     "end_time": "2023-04-15T11:46:40.027364Z"
    }
   }
  },
  {
   "cell_type": "markdown",
   "source": [
    "## 2차원 배열 만들기\n",
    "- ndarray == N-dimensional Array\n",
    "- 리스트의 리스트(list of list)를 이용하면 2차원 배열을 생성 ex. [[0, 1, 2], [3, 4, 5]]"
   ],
   "metadata": {
    "collapsed": false
   }
  },
  {
   "cell_type": "code",
   "execution_count": 14,
   "outputs": [
    {
     "data": {
      "text/plain": "array([[0, 1, 2],\n       [3, 4, 5]])"
     },
     "execution_count": 14,
     "metadata": {},
     "output_type": "execute_result"
    }
   ],
   "source": [
    "c = np.array([[0,1,2],[3,4,5]])\n",
    "                    #[[0,1,2],\n",
    "                    # [3,4,5]]\n",
    "c"
   ],
   "metadata": {
    "collapsed": false,
    "ExecuteTime": {
     "start_time": "2023-04-15T11:46:40.016367Z",
     "end_time": "2023-04-15T11:46:40.027364Z"
    }
   }
  },
  {
   "cell_type": "code",
   "execution_count": 15,
   "outputs": [
    {
     "data": {
      "text/plain": "2"
     },
     "execution_count": 15,
     "metadata": {},
     "output_type": "execute_result"
    }
   ],
   "source": [
    "# 2차원 배열의 행과 열의 갯수확인\n",
    "# 행의 갯수 : 배열 안에 있는 배열의 갯수\n",
    "len(c)"
   ],
   "metadata": {
    "collapsed": false,
    "ExecuteTime": {
     "start_time": "2023-04-15T11:46:40.022349Z",
     "end_time": "2023-04-15T11:46:40.028359Z"
    }
   }
  },
  {
   "cell_type": "code",
   "execution_count": 16,
   "outputs": [
    {
     "data": {
      "text/plain": "3"
     },
     "execution_count": 16,
     "metadata": {},
     "output_type": "execute_result"
    }
   ],
   "source": [
    "# 열의 갯수 : 배열의 길이\n",
    "len(c[0])"
   ],
   "metadata": {
    "collapsed": false,
    "ExecuteTime": {
     "start_time": "2023-04-15T11:46:40.028359Z",
     "end_time": "2023-04-15T11:46:40.042295Z"
    }
   }
  },
  {
   "cell_type": "markdown",
   "source": [
    "#### 연습 문제 1\n",
    "\n",
    "넘파이를 사용하여 다음과 같은 행렬을 만든다.\n",
    "\n",
    "10 20 30 40\n",
    "50 60 70 80"
   ],
   "metadata": {
    "collapsed": false
   }
  },
  {
   "cell_type": "code",
   "execution_count": 17,
   "outputs": [
    {
     "data": {
      "text/plain": "array([[10, 20, 30, 40],\n       [50, 60, 70, 80]])"
     },
     "execution_count": 17,
     "metadata": {},
     "output_type": "execute_result"
    }
   ],
   "source": [
    "F = np.array([[10,20,30,40],[50,60,70,80]])\n",
    "F"
   ],
   "metadata": {
    "collapsed": false,
    "ExecuteTime": {
     "start_time": "2023-04-15T11:46:40.033320Z",
     "end_time": "2023-04-15T11:46:40.161830Z"
    }
   }
  },
  {
   "cell_type": "markdown",
   "source": [
    "## 3차원 배열 만들기\n",
    "- 크기를 나타낼 때는 가장 바깥쪽의 리스트 길이부터 가장 안족 리스트의 길이의 순서로 표시"
   ],
   "metadata": {
    "collapsed": false
   }
  },
  {
   "cell_type": "code",
   "execution_count": 18,
   "outputs": [],
   "source": [
    "d = np.array([[[1,2,3,4],\n",
    "               [5,6,7,8],\n",
    "               [9,10,11,12]],\n",
    "              [[11,12,13,14],\n",
    "               [15,16,17,18],\n",
    "               [19,20,21,22]]])\n",
    "# 2*3*4 array"
   ],
   "metadata": {
    "collapsed": false,
    "ExecuteTime": {
     "start_time": "2023-04-15T11:46:40.039330Z",
     "end_time": "2023-04-15T11:46:40.162829Z"
    }
   }
  },
  {
   "cell_type": "code",
   "execution_count": 19,
   "outputs": [
    {
     "data": {
      "text/plain": "2"
     },
     "execution_count": 19,
     "metadata": {},
     "output_type": "execute_result"
    }
   ],
   "source": [
    "# 3차원 배열의 깊이, 행, 열\n",
    "# 깊이\n",
    "len(d)"
   ],
   "metadata": {
    "collapsed": false,
    "ExecuteTime": {
     "start_time": "2023-04-15T11:46:40.043293Z",
     "end_time": "2023-04-15T11:46:40.162829Z"
    }
   }
  },
  {
   "cell_type": "code",
   "execution_count": 20,
   "outputs": [
    {
     "data": {
      "text/plain": "3"
     },
     "execution_count": 20,
     "metadata": {},
     "output_type": "execute_result"
    }
   ],
   "source": [
    "# 행\n",
    "len(d[0])"
   ],
   "metadata": {
    "collapsed": false,
    "ExecuteTime": {
     "start_time": "2023-04-15T11:46:40.049278Z",
     "end_time": "2023-04-15T11:46:40.180782Z"
    }
   }
  },
  {
   "cell_type": "code",
   "execution_count": 21,
   "outputs": [
    {
     "data": {
      "text/plain": "4"
     },
     "execution_count": 21,
     "metadata": {},
     "output_type": "execute_result"
    }
   ],
   "source": [
    "# 열\n",
    "len(d[0][0])"
   ],
   "metadata": {
    "collapsed": false,
    "ExecuteTime": {
     "start_time": "2023-04-15T11:46:40.054264Z",
     "end_time": "2023-04-15T11:46:40.181796Z"
    }
   }
  },
  {
   "cell_type": "markdown",
   "source": [
    "| 행 __ 열 / 깊이"
   ],
   "metadata": {
    "collapsed": false
   }
  },
  {
   "cell_type": "markdown",
   "source": [
    "## 배열의 차원과 크기 알아내기\n",
    "- 더 간단한 방법 ndim, shape 속성을 이용.\n",
    "- ndim : 배열의 차원\n",
    "- shape : 배열의 크기 반환"
   ],
   "metadata": {
    "collapsed": false
   }
  },
  {
   "cell_type": "code",
   "execution_count": 22,
   "outputs": [
    {
     "name": "stdout",
     "output_type": "stream",
     "text": [
      "1\n",
      "(3,)\n"
     ]
    }
   ],
   "source": [
    "# a = np.array([1, 2, 3])\n",
    "print(a.ndim)\n",
    "print(a.shape)"
   ],
   "metadata": {
    "collapsed": false,
    "ExecuteTime": {
     "start_time": "2023-04-15T11:46:40.061244Z",
     "end_time": "2023-04-15T11:46:40.181796Z"
    }
   }
  },
  {
   "cell_type": "code",
   "execution_count": 23,
   "outputs": [
    {
     "name": "stdout",
     "output_type": "stream",
     "text": [
      "2\n",
      "(2, 3)\n"
     ]
    }
   ],
   "source": [
    "# c = np.array([[0, 1, 2], [3, 4, 5]])\n",
    "print(c.ndim)\n",
    "print(c.shape)"
   ],
   "metadata": {
    "collapsed": false,
    "ExecuteTime": {
     "start_time": "2023-04-15T11:46:40.066232Z",
     "end_time": "2023-04-15T11:46:40.182775Z"
    }
   }
  },
  {
   "cell_type": "code",
   "execution_count": 24,
   "outputs": [
    {
     "name": "stdout",
     "output_type": "stream",
     "text": [
      "3\n",
      "(2, 3, 4)\n"
     ]
    }
   ],
   "source": [
    "print(d.ndim)\n",
    "print(d.shape)"
   ],
   "metadata": {
    "collapsed": false,
    "ExecuteTime": {
     "start_time": "2023-04-15T11:46:40.071219Z",
     "end_time": "2023-04-15T11:46:40.182775Z"
    }
   }
  },
  {
   "cell_type": "markdown",
   "source": [
    "## 배열의 인덱싱¶\n",
    "일차원 배열의 인덱싱은 리스트의 인덱싱과 같음."
   ],
   "metadata": {
    "collapsed": false
   }
  },
  {
   "cell_type": "code",
   "execution_count": 25,
   "outputs": [],
   "source": [
    "a = np.array([0, 1, 2, 3, 4])"
   ],
   "metadata": {
    "collapsed": false,
    "ExecuteTime": {
     "start_time": "2023-04-15T11:46:40.077228Z",
     "end_time": "2023-04-15T11:46:40.183772Z"
    }
   }
  },
  {
   "cell_type": "code",
   "execution_count": 26,
   "outputs": [
    {
     "data": {
      "text/plain": "2"
     },
     "execution_count": 26,
     "metadata": {},
     "output_type": "execute_result"
    }
   ],
   "source": [
    "a[2]"
   ],
   "metadata": {
    "collapsed": false,
    "ExecuteTime": {
     "start_time": "2023-04-15T11:46:40.082188Z",
     "end_time": "2023-04-15T11:46:40.183772Z"
    }
   }
  },
  {
   "cell_type": "code",
   "execution_count": 27,
   "outputs": [
    {
     "data": {
      "text/plain": "4"
     },
     "execution_count": 27,
     "metadata": {},
     "output_type": "execute_result"
    }
   ],
   "source": [
    "a[-1]"
   ],
   "metadata": {
    "collapsed": false,
    "ExecuteTime": {
     "start_time": "2023-04-15T11:46:40.088198Z",
     "end_time": "2023-04-15T11:46:40.183772Z"
    }
   }
  },
  {
   "cell_type": "markdown",
   "source": [
    "다차원 배열일 때 : \",\"를 사용하여 접근. 콤마로 구분된 차원을 axis(축)이라고도 함."
   ],
   "metadata": {
    "collapsed": false
   }
  },
  {
   "cell_type": "code",
   "execution_count": 28,
   "outputs": [
    {
     "data": {
      "text/plain": "array([[0, 1, 2],\n       [3, 4, 5]])"
     },
     "execution_count": 28,
     "metadata": {},
     "output_type": "execute_result"
    }
   ],
   "source": [
    "a = np.array([[0, 1, 2], [3, 4, 5]])\n",
    "a"
   ],
   "metadata": {
    "collapsed": false,
    "ExecuteTime": {
     "start_time": "2023-04-15T11:46:40.099142Z",
     "end_time": "2023-04-15T11:46:40.184771Z"
    }
   }
  },
  {
   "cell_type": "code",
   "execution_count": 29,
   "outputs": [
    {
     "data": {
      "text/plain": "0"
     },
     "execution_count": 29,
     "metadata": {},
     "output_type": "execute_result"
    }
   ],
   "source": [
    "# 첫번째 행의 첫번째 열\n",
    "a[0,0]"
   ],
   "metadata": {
    "collapsed": false,
    "ExecuteTime": {
     "start_time": "2023-04-15T11:46:40.104141Z",
     "end_time": "2023-04-15T11:46:40.184771Z"
    }
   }
  },
  {
   "cell_type": "code",
   "execution_count": 30,
   "outputs": [
    {
     "data": {
      "text/plain": "1"
     },
     "execution_count": 30,
     "metadata": {},
     "output_type": "execute_result"
    }
   ],
   "source": [
    "# 첫번째 행의 두번째 열\n",
    "a[0,1]"
   ],
   "metadata": {
    "collapsed": false,
    "ExecuteTime": {
     "start_time": "2023-04-15T11:46:40.112006Z",
     "end_time": "2023-04-15T11:46:40.184771Z"
    }
   }
  },
  {
   "cell_type": "code",
   "execution_count": 31,
   "outputs": [
    {
     "data": {
      "text/plain": "5"
     },
     "execution_count": 31,
     "metadata": {},
     "output_type": "execute_result"
    }
   ],
   "source": [
    "# 마지막 행의 마지막 열\n",
    "a[-1,-1]"
   ],
   "metadata": {
    "collapsed": false,
    "ExecuteTime": {
     "start_time": "2023-04-15T11:46:40.115953Z",
     "end_time": "2023-04-15T11:46:40.185767Z"
    }
   }
  },
  {
   "cell_type": "markdown",
   "source": [
    "## 배열 슬라이싱\n",
    "배열 객체로 구현한 다차원 배열의 원소 중 복수 개를 접근하려면 일반적인 파이썬 슬라이싱과 comma(,)를 함께 사용"
   ],
   "metadata": {
    "collapsed": false
   }
  },
  {
   "cell_type": "code",
   "execution_count": 32,
   "outputs": [
    {
     "data": {
      "text/plain": "array([[0, 1, 2, 3],\n       [4, 5, 6, 7]])"
     },
     "execution_count": 32,
     "metadata": {},
     "output_type": "execute_result"
    }
   ],
   "source": [
    "a = np.array([[0, 1, 2, 3], [4, 5, 6, 7]])\n",
    "a"
   ],
   "metadata": {
    "collapsed": false,
    "ExecuteTime": {
     "start_time": "2023-04-15T11:46:40.120941Z",
     "end_time": "2023-04-15T11:46:40.185767Z"
    }
   }
  },
  {
   "cell_type": "code",
   "execution_count": 33,
   "outputs": [
    {
     "data": {
      "text/plain": "array([0, 1, 2, 3])"
     },
     "execution_count": 33,
     "metadata": {},
     "output_type": "execute_result"
    }
   ],
   "source": [
    " # 첫번째 행 전체\n",
    "a[0, :]"
   ],
   "metadata": {
    "collapsed": false,
    "ExecuteTime": {
     "start_time": "2023-04-15T11:46:40.127922Z",
     "end_time": "2023-04-15T11:46:40.191751Z"
    }
   }
  },
  {
   "cell_type": "code",
   "execution_count": 34,
   "outputs": [
    {
     "data": {
      "text/plain": "array([[0, 1, 2, 3]])"
     },
     "execution_count": 34,
     "metadata": {},
     "output_type": "execute_result"
    }
   ],
   "source": [
    "# 두번째 열 전체\n",
    "a[: 1]"
   ],
   "metadata": {
    "collapsed": false,
    "ExecuteTime": {
     "start_time": "2023-04-15T11:46:40.132908Z",
     "end_time": "2023-04-15T11:46:40.192748Z"
    }
   }
  },
  {
   "cell_type": "code",
   "execution_count": 35,
   "outputs": [
    {
     "data": {
      "text/plain": "array([5, 6, 7])"
     },
     "execution_count": 35,
     "metadata": {},
     "output_type": "execute_result"
    }
   ],
   "source": [
    "# 두번째 행의 두번째 열부터 끝열까지\n",
    "a[1, 1:]"
   ],
   "metadata": {
    "collapsed": false,
    "ExecuteTime": {
     "start_time": "2023-04-15T11:46:40.137894Z",
     "end_time": "2023-04-15T11:46:40.192748Z"
    }
   }
  },
  {
   "cell_type": "code",
   "execution_count": 36,
   "outputs": [
    {
     "data": {
      "text/plain": "array([[0, 1],\n       [4, 5]])"
     },
     "execution_count": 36,
     "metadata": {},
     "output_type": "execute_result"
    }
   ],
   "source": [
    "# 두번째 행까지 * 두번째 열까지\n",
    "a[:2,:2]"
   ],
   "metadata": {
    "collapsed": false,
    "ExecuteTime": {
     "start_time": "2023-04-15T11:46:40.143879Z",
     "end_time": "2023-04-15T11:46:40.193745Z"
    }
   }
  },
  {
   "cell_type": "markdown",
   "source": [
    "#### 연습 문제 2\n",
    "\n",
    "다음 행렬과 같은 행렬이 있다.\n",
    "\n",
    "1. 이 행렬에서 값 7 을 인덱싱한다.\n",
    "2. 이 행렬에서 값 14 을 인덱싱한다.\n",
    "3. 이 행렬에서 배열 [6, 7] 을 슬라이싱한다.\n",
    "4. 이 행렬에서 배열 [7, 12] 을 슬라이싱한다.\n",
    "5. 이 행렬에서 배열 [[3, 4], [8, 9]] 을 슬라이싱한다."
   ],
   "metadata": {
    "collapsed": false
   }
  },
  {
   "cell_type": "code",
   "execution_count": 37,
   "outputs": [],
   "source": [
    "m = np.array([[ 0,  1,  2,  3,  4],\n",
    "              [ 5,  6,  7,  8,  9],\n",
    "              [10, 11, 12, 13, 14]])"
   ],
   "metadata": {
    "collapsed": false,
    "ExecuteTime": {
     "start_time": "2023-04-15T11:46:40.149863Z",
     "end_time": "2023-04-15T11:46:40.193745Z"
    }
   }
  },
  {
   "cell_type": "code",
   "execution_count": 38,
   "outputs": [
    {
     "data": {
      "text/plain": "7"
     },
     "execution_count": 38,
     "metadata": {},
     "output_type": "execute_result"
    }
   ],
   "source": [
    "# 1\n",
    "m[1,2]\n"
   ],
   "metadata": {
    "collapsed": false,
    "ExecuteTime": {
     "start_time": "2023-04-15T11:46:40.154850Z",
     "end_time": "2023-04-15T11:46:40.194743Z"
    }
   }
  },
  {
   "cell_type": "code",
   "execution_count": 39,
   "outputs": [
    {
     "data": {
      "text/plain": "14"
     },
     "execution_count": 39,
     "metadata": {},
     "output_type": "execute_result"
    }
   ],
   "source": [
    "# 2\n",
    "m[2,4]\n"
   ],
   "metadata": {
    "collapsed": false,
    "ExecuteTime": {
     "start_time": "2023-04-15T11:46:40.159836Z",
     "end_time": "2023-04-15T11:46:40.194743Z"
    }
   }
  },
  {
   "cell_type": "code",
   "execution_count": 40,
   "outputs": [
    {
     "data": {
      "text/plain": "array([6, 7])"
     },
     "execution_count": 40,
     "metadata": {},
     "output_type": "execute_result"
    }
   ],
   "source": [
    "# 3\n",
    "m[1,1:2+1]"
   ],
   "metadata": {
    "collapsed": false,
    "ExecuteTime": {
     "start_time": "2023-04-15T11:46:40.164823Z",
     "end_time": "2023-04-15T11:46:40.195742Z"
    }
   }
  },
  {
   "cell_type": "code",
   "execution_count": 41,
   "outputs": [
    {
     "data": {
      "text/plain": "array([ 7, 12])"
     },
     "execution_count": 41,
     "metadata": {},
     "output_type": "execute_result"
    }
   ],
   "source": [
    "# 4\n",
    "m[1:2+1,2]"
   ],
   "metadata": {
    "collapsed": false,
    "ExecuteTime": {
     "start_time": "2023-04-15T11:46:40.170809Z",
     "end_time": "2023-04-15T11:46:40.195742Z"
    }
   }
  },
  {
   "cell_type": "code",
   "execution_count": 42,
   "outputs": [
    {
     "data": {
      "text/plain": "array([[3, 4],\n       [8, 9]])"
     },
     "execution_count": 42,
     "metadata": {},
     "output_type": "execute_result"
    }
   ],
   "source": [
    "# 5\n",
    "m[:1+1,3:]"
   ],
   "metadata": {
    "collapsed": false,
    "ExecuteTime": {
     "start_time": "2023-04-15T11:46:40.178786Z",
     "end_time": "2023-04-15T11:46:40.453107Z"
    }
   }
  },
  {
   "cell_type": "markdown",
   "source": [
    "## 배열 인덱싱 == 팬시 인덱싱\n",
    "- 질의 기능 수행\n",
    "- 배열 인덱싱에서는 [] 안의 인덱스 정보로 숫자나 슬라이스가 아니라 위치 정보를 나타내는 또 다른 ndarray 배열을 받을 수 있음.(==인덱스배열)\n",
    "- 인덱스 배열\n",
    "    - 불리언 배열 방식 : 인덱스 배열의 원소가 True, False 두 값으로만 구성, 원래 ndarray 객체의 크기와 같아야 함.\n",
    "    - 정수 배열 방식 : 인덱스 배열의 원소 각각이 원래 ndarray 객체 원소 하나를 가리키는 인덱스 정수여야 함."
   ],
   "metadata": {
    "collapsed": false
   }
  },
  {
   "cell_type": "markdown",
   "source": [
    "불리언 배열 방식"
   ],
   "metadata": {
    "collapsed": false
   }
  },
  {
   "cell_type": "code",
   "execution_count": 43,
   "outputs": [
    {
     "data": {
      "text/plain": "array([0, 2, 4, 6, 8])"
     },
     "execution_count": 43,
     "metadata": {},
     "output_type": "execute_result"
    }
   ],
   "source": [
    "# ndarray에서 짝수인 원소만 골라내려면\n",
    "# 짝수인 원소에 대응하는 인덱스 값이 True이고 홀수인 원소에 대응하는 인덱스 값이 False인 인덱스 배열을 넣으면 됨.\n",
    "a = np.array([0, 1, 2, 3, 4, 5, 6, 7, 8, 9])\n",
    "idx = np.array([True, False, True, False, True,\n",
    "               False, True, False, True, False])\n",
    "a[idx]"
   ],
   "metadata": {
    "collapsed": false,
    "ExecuteTime": {
     "start_time": "2023-04-15T11:46:40.186764Z",
     "end_time": "2023-04-15T11:46:40.454091Z"
    }
   }
  },
  {
   "cell_type": "code",
   "execution_count": 44,
   "outputs": [
    {
     "data": {
      "text/plain": "array([0, 1, 0, 1, 0, 1, 0, 1, 0, 1], dtype=int32)"
     },
     "execution_count": 44,
     "metadata": {},
     "output_type": "execute_result"
    }
   ],
   "source": [
    "# 조건문 연산\n",
    "a%2 # 0, 1로"
   ],
   "metadata": {
    "collapsed": false,
    "ExecuteTime": {
     "start_time": "2023-04-15T11:46:40.191751Z",
     "end_time": "2023-04-15T11:46:40.454091Z"
    }
   }
  },
  {
   "cell_type": "code",
   "execution_count": 45,
   "outputs": [
    {
     "data": {
      "text/plain": "array([ True, False,  True, False,  True, False,  True, False,  True,\n       False])"
     },
     "execution_count": 45,
     "metadata": {},
     "output_type": "execute_result"
    }
   ],
   "source": [
    "a%2==0 # true, false로"
   ],
   "metadata": {
    "collapsed": false,
    "ExecuteTime": {
     "start_time": "2023-04-15T11:46:40.196739Z",
     "end_time": "2023-04-15T11:46:40.455075Z"
    }
   }
  },
  {
   "cell_type": "code",
   "execution_count": 46,
   "outputs": [
    {
     "data": {
      "text/plain": "array([0, 2, 4, 6, 8])"
     },
     "execution_count": 46,
     "metadata": {},
     "output_type": "execute_result"
    }
   ],
   "source": [
    "a[a%2==0] # 0인값 -> 짝수인 값"
   ],
   "metadata": {
    "collapsed": false,
    "ExecuteTime": {
     "start_time": "2023-04-15T11:46:40.202723Z",
     "end_time": "2023-04-15T11:46:40.455075Z"
    }
   }
  },
  {
   "cell_type": "markdown",
   "source": [
    "정수 배열 방식"
   ],
   "metadata": {
    "collapsed": false
   }
  },
  {
   "cell_type": "code",
   "execution_count": 47,
   "outputs": [
    {
     "data": {
      "text/plain": "array([11, 33, 55, 77, 99])"
     },
     "execution_count": 47,
     "metadata": {},
     "output_type": "execute_result"
    }
   ],
   "source": [
    "#  1차원 배열에서 홀수번째 원소만 골라내기\n",
    "a = np.array([11, 22, 33, 44, 55, 66, 77, 88, 99])\n",
    "idx = np.array([0, 2, 4, 6, 8])\n",
    "a[idx]"
   ],
   "metadata": {
    "collapsed": false,
    "ExecuteTime": {
     "start_time": "2023-04-15T11:46:40.209703Z",
     "end_time": "2023-04-15T11:46:40.456097Z"
    }
   }
  },
  {
   "cell_type": "code",
   "execution_count": 48,
   "outputs": [
    {
     "data": {
      "text/plain": "array([11, 11, 11, 11, 11, 11, 22, 22, 22, 22, 22, 33, 33, 33, 33, 33])"
     },
     "execution_count": 48,
     "metadata": {},
     "output_type": "execute_result"
    }
   ],
   "source": [
    "# 이 때는 배열 인덱스의 크기가 원래의 배열 크기와 달라도 상관없음.\n",
    "# 같은 원소를 반복해서 가리키는 경우에는 배열 인덱스가 원래의 배열보다 더 커지기도 한다.\n",
    "a = np.array([11, 22, 33, 44, 55, 66, 77, 88, 99])\n",
    "idx = np.array([0, 0, 0, 0, 0, 0, 1, 1, 1, 1, 1, 2, 2, 2, 2, 2])\n",
    "a[idx]"
   ],
   "metadata": {
    "collapsed": false,
    "ExecuteTime": {
     "start_time": "2023-04-15T11:46:40.217682Z",
     "end_time": "2023-04-15T11:46:40.502970Z"
    }
   }
  },
  {
   "cell_type": "code",
   "execution_count": 49,
   "outputs": [
    {
     "data": {
      "text/plain": "array([[ 1,  2,  3,  4],\n       [ 5,  6,  7,  8],\n       [ 9, 10, 11, 12]])"
     },
     "execution_count": 49,
     "metadata": {},
     "output_type": "execute_result"
    }
   ],
   "source": [
    "# 다차원 배열의 각 차원에 대해서도 할 수 있음.\n",
    "a = np.array([[1, 2, 3, 4], [5, 6, 7, 8], [9, 10, 11, 12]])\n",
    "a"
   ],
   "metadata": {
    "collapsed": false,
    "ExecuteTime": {
     "start_time": "2023-04-15T11:46:40.221671Z",
     "end_time": "2023-04-15T11:46:40.507958Z"
    }
   }
  },
  {
   "cell_type": "code",
   "execution_count": 50,
   "outputs": [
    {
     "data": {
      "text/plain": "array([[ 1,  3],\n       [ 5,  7],\n       [ 9, 11]])"
     },
     "execution_count": 50,
     "metadata": {},
     "output_type": "execute_result"
    }
   ],
   "source": [
    "a[:,[True,False,True,False]] # 전체 행에서 0,2열만 출력"
   ],
   "metadata": {
    "collapsed": false,
    "ExecuteTime": {
     "start_time": "2023-04-15T11:46:40.230646Z",
     "end_time": "2023-04-15T11:46:40.507958Z"
    }
   }
  },
  {
   "cell_type": "markdown",
   "source": [
    "#### 콜론(:)을 사용하여 범위를 지정\n",
    "start:stop:step 형식\n",
    "start: 슬라이스의 시작 위치를 지정. 포함.\n",
    "stop: 슬라이스의 끝 위치를 지정. 포함되지 않음.\n",
    "step: 슬라이스에서 건너뛸 원소의 간격을 지정. 생략되면 기본 값인 1이 사용.\n",
    "\n",
    "ex.\n",
    "- 처음 다섯개 list[:5]\n",
    "- 모든 원소를 거꾸로 list[::-1]\n",
    "- 2번째 원소부터 list[1:]\n",
    "- 2번째 원소부터 4번째 원소까지 list[1:4]\n"
   ],
   "metadata": {
    "collapsed": false
   }
  },
  {
   "cell_type": "code",
   "execution_count": 51,
   "outputs": [
    {
     "data": {
      "text/plain": "array([[ 9, 10, 11, 12],\n       [ 1,  2,  3,  4],\n       [ 5,  6,  7,  8]])"
     },
     "execution_count": 51,
     "metadata": {},
     "output_type": "execute_result"
    }
   ],
   "source": [
    "a[[2,0,1],:] # 행의 순서를 변경"
   ],
   "metadata": {
    "collapsed": false,
    "ExecuteTime": {
     "start_time": "2023-04-15T11:46:40.233663Z",
     "end_time": "2023-04-15T11:46:40.508957Z"
    }
   }
  },
  {
   "cell_type": "markdown",
   "source": [
    "#### 연습 문제 3\n",
    "다음 행렬과 같은 배열이 있다.\n",
    "1. 이 배열에서 3의 배수를 찾아라.\n",
    "2. 이 배열에서 4로 나누면 1이 남는 수를 찾아라.\n",
    "3. 이 배열에서 3으로 나누면 나누어지고 4로 나누면 1이 남는 수를 찾아라"
   ],
   "metadata": {
    "collapsed": false
   }
  },
  {
   "cell_type": "code",
   "execution_count": 52,
   "outputs": [],
   "source": [
    "x = np.array([1, 2, 3, 4, 5, 6, 7, 8, 9, 10,\n",
    "             11, 12, 13, 14, 15, 16, 17, 18, 19, 20])"
   ],
   "metadata": {
    "collapsed": false,
    "ExecuteTime": {
     "start_time": "2023-04-15T11:46:40.241618Z",
     "end_time": "2023-04-15T11:46:40.508957Z"
    }
   }
  },
  {
   "cell_type": "code",
   "execution_count": 53,
   "outputs": [
    {
     "data": {
      "text/plain": "array([1, 2, 0, 1, 2, 0, 1, 2, 0, 1, 2, 0, 1, 2, 0, 1, 2, 0, 1, 2],\n      dtype=int32)"
     },
     "execution_count": 53,
     "metadata": {},
     "output_type": "execute_result"
    }
   ],
   "source": [
    "# 1\n",
    "x%3"
   ],
   "metadata": {
    "collapsed": false,
    "ExecuteTime": {
     "start_time": "2023-04-15T11:46:40.244610Z",
     "end_time": "2023-04-15T11:46:40.508957Z"
    }
   }
  },
  {
   "cell_type": "code",
   "execution_count": 54,
   "outputs": [
    {
     "data": {
      "text/plain": "array([False, False,  True, False, False,  True, False, False,  True,\n       False, False,  True, False, False,  True, False, False,  True,\n       False, False])"
     },
     "execution_count": 54,
     "metadata": {},
     "output_type": "execute_result"
    }
   ],
   "source": [
    "x%3==0"
   ],
   "metadata": {
    "collapsed": false,
    "ExecuteTime": {
     "start_time": "2023-04-15T11:46:40.250594Z",
     "end_time": "2023-04-15T11:46:40.509935Z"
    }
   }
  },
  {
   "cell_type": "code",
   "execution_count": 55,
   "outputs": [
    {
     "data": {
      "text/plain": "array([ 3,  6,  9, 12, 15, 18])"
     },
     "execution_count": 55,
     "metadata": {},
     "output_type": "execute_result"
    }
   ],
   "source": [
    "x[x%3==0]"
   ],
   "metadata": {
    "collapsed": false,
    "ExecuteTime": {
     "start_time": "2023-04-15T11:46:40.256577Z",
     "end_time": "2023-04-15T11:46:40.509935Z"
    }
   }
  },
  {
   "cell_type": "code",
   "execution_count": 56,
   "outputs": [
    {
     "data": {
      "text/plain": "array([ 1,  5,  9, 13, 17])"
     },
     "execution_count": 56,
     "metadata": {},
     "output_type": "execute_result"
    }
   ],
   "source": [
    "# 2\n",
    "x[x%4==1]"
   ],
   "metadata": {
    "collapsed": false,
    "ExecuteTime": {
     "start_time": "2023-04-15T11:46:40.262565Z",
     "end_time": "2023-04-15T11:46:40.509935Z"
    }
   }
  },
  {
   "cell_type": "code",
   "execution_count": 57,
   "outputs": [
    {
     "data": {
      "text/plain": "array([9])"
     },
     "execution_count": 57,
     "metadata": {},
     "output_type": "execute_result"
    }
   ],
   "source": [
    "x[(x%3==0) & (x%4==1)]\n",
    "# & 연산자를 사용하여 불리언 값의 요소별 논리곱을 계산할 때\n",
    "# !!! 조건식을 괄호로 묶어야 함. !!!"
   ],
   "metadata": {
    "collapsed": false,
    "ExecuteTime": {
     "start_time": "2023-04-15T11:46:40.268545Z",
     "end_time": "2023-04-15T11:46:40.510953Z"
    }
   }
  },
  {
   "cell_type": "markdown",
   "source": [
    "## 배열의 생성과 변형"
   ],
   "metadata": {
    "collapsed": false
   }
  },
  {
   "cell_type": "markdown",
   "source": [
    "### 넘파이의 자료형\n",
    "- ndarray 클래스는 원소가 모두 같은 자료형이어야 함.\n",
    "- array 명령으로 배열을 만들 때 dtype 인수를 사용하면 명시적으로 적용 가능.\n",
    "- dtype 인수가 없으면 스스로 자료형을 유추해야함.\n",
    "- 만들어진 배열의 자료형을 알아내려면 dtype 속성을 보면 된다."
   ],
   "metadata": {
    "collapsed": false
   }
  },
  {
   "cell_type": "code",
   "execution_count": 58,
   "outputs": [
    {
     "data": {
      "text/plain": "dtype('int32')"
     },
     "execution_count": 58,
     "metadata": {},
     "output_type": "execute_result"
    }
   ],
   "source": [
    "x = np.array([1,2,3])\n",
    "x.dtype"
   ],
   "metadata": {
    "collapsed": false,
    "ExecuteTime": {
     "start_time": "2023-04-15T11:46:40.275527Z",
     "end_time": "2023-04-15T11:46:40.510953Z"
    }
   }
  },
  {
   "cell_type": "code",
   "execution_count": 59,
   "outputs": [
    {
     "data": {
      "text/plain": "dtype('float64')"
     },
     "execution_count": 59,
     "metadata": {},
     "output_type": "execute_result"
    }
   ],
   "source": [
    "x = np.array([1.0,2.0,3.0])\n",
    "x.dtype"
   ],
   "metadata": {
    "collapsed": false,
    "ExecuteTime": {
     "start_time": "2023-04-15T11:46:40.280513Z",
     "end_time": "2023-04-15T11:46:40.510953Z"
    }
   }
  },
  {
   "cell_type": "code",
   "execution_count": 60,
   "outputs": [
    {
     "data": {
      "text/plain": "dtype('float64')"
     },
     "execution_count": 60,
     "metadata": {},
     "output_type": "execute_result"
    }
   ],
   "source": [
    "x = np.array([1,2,3.0])\n",
    "x.dtype"
   ],
   "metadata": {
    "collapsed": false,
    "ExecuteTime": {
     "start_time": "2023-04-15T11:46:40.285500Z",
     "end_time": "2023-04-15T11:46:40.511948Z"
    }
   }
  },
  {
   "cell_type": "markdown",
   "source": [
    "dtype 인수로 지정할 자료형은 dtype 접두사로 시작하는 문자열.\n",
    "뒤에 오는 숫자는 바이트수 혹은 글자수.\n",
    "ex. f8 -> 8바이트 부동소수점 실수"
   ],
   "metadata": {
    "collapsed": false
   }
  },
  {
   "cell_type": "code",
   "execution_count": 61,
   "outputs": [
    {
     "data": {
      "text/plain": "dtype('float32')"
     },
     "execution_count": 61,
     "metadata": {},
     "output_type": "execute_result"
    }
   ],
   "source": [
    "x= np.array([1,2,3], dtype='f')\n",
    "x.dtype"
   ],
   "metadata": {
    "collapsed": false,
    "ExecuteTime": {
     "start_time": "2023-04-15T11:46:40.290486Z",
     "end_time": "2023-04-15T11:46:40.511948Z"
    }
   }
  },
  {
   "cell_type": "code",
   "execution_count": 62,
   "outputs": [
    {
     "data": {
      "text/plain": "3.0"
     },
     "execution_count": 62,
     "metadata": {},
     "output_type": "execute_result"
    }
   ],
   "source": [
    "x[0]+x[1] # dtype이 8바이트 부동소수점 실수이기 때문에 결과 3.0"
   ],
   "metadata": {
    "collapsed": false,
    "ExecuteTime": {
     "start_time": "2023-04-15T11:46:40.296471Z",
     "end_time": "2023-04-15T11:46:40.512920Z"
    }
   }
  },
  {
   "cell_type": "code",
   "execution_count": 63,
   "outputs": [
    {
     "data": {
      "text/plain": "dtype('<U1')"
     },
     "execution_count": 63,
     "metadata": {},
     "output_type": "execute_result"
    }
   ],
   "source": [
    "x = np.array([1, 2, 3], dtype='U')\n",
    "x.dtype"
   ],
   "metadata": {
    "collapsed": false,
    "ExecuteTime": {
     "start_time": "2023-04-15T11:47:03.565715Z",
     "end_time": "2023-04-15T11:47:03.604611Z"
    }
   }
  },
  {
   "cell_type": "code",
   "execution_count": 64,
   "outputs": [
    {
     "data": {
      "text/plain": "'12'"
     },
     "execution_count": 64,
     "metadata": {},
     "output_type": "execute_result"
    }
   ],
   "source": [
    "x[0]+x[1]\n",
    "# dtype이 유니코드 문자이기 때문에\n",
    "# 배열의 첫 번째 원소와 두 번째 원소를 이어붙여서 '12'라는 문자열을 만든다."
   ],
   "metadata": {
    "collapsed": false,
    "ExecuteTime": {
     "start_time": "2023-04-15T11:47:21.784626Z",
     "end_time": "2023-04-15T11:47:21.828532Z"
    }
   }
  },
  {
   "cell_type": "markdown",
   "source": [
    "## Inf와 NaN\n",
    "\n",
    "넘파이에서는 무한대를 표현하기 위한 np.inf(infinity)와\n",
    "정의할 수 없는 숫자를 나타내는 np.nan(not a number)을 사용할 수 있다."
   ],
   "metadata": {
    "collapsed": false
   }
  },
  {
   "cell_type": "code",
   "execution_count": 65,
   "outputs": [
    {
     "name": "stderr",
     "output_type": "stream",
     "text": [
      "C:\\Users\\SW\\AppData\\Local\\Temp\\ipykernel_4924\\3307251011.py:2: RuntimeWarning: divide by zero encountered in divide\n",
      "  np.array([0,1,-1,0])/np.array([1,0,0,0])\n",
      "C:\\Users\\SW\\AppData\\Local\\Temp\\ipykernel_4924\\3307251011.py:2: RuntimeWarning: invalid value encountered in divide\n",
      "  np.array([0,1,-1,0])/np.array([1,0,0,0])\n"
     ]
    },
    {
     "data": {
      "text/plain": "array([  0.,  inf, -inf,  nan])"
     },
     "execution_count": 65,
     "metadata": {},
     "output_type": "execute_result"
    }
   ],
   "source": [
    "# 1을 0으로 나누려고 하거나 0에 대한 로그 값을 계산하면 무한대인 np.inf이 나온다.\n",
    "np.array([0,1,-1,0])/np.array([1,0,0,0])"
   ],
   "metadata": {
    "collapsed": false,
    "ExecuteTime": {
     "start_time": "2023-04-15T11:53:50.085986Z",
     "end_time": "2023-04-15T11:53:50.132858Z"
    }
   }
  },
  {
   "cell_type": "code",
   "execution_count": 66,
   "outputs": [
    {
     "name": "stderr",
     "output_type": "stream",
     "text": [
      "C:\\Users\\SW\\AppData\\Local\\Temp\\ipykernel_4924\\2933082444.py:1: RuntimeWarning: divide by zero encountered in log\n",
      "  np.log(0)\n"
     ]
    },
    {
     "data": {
      "text/plain": "-inf"
     },
     "execution_count": 66,
     "metadata": {},
     "output_type": "execute_result"
    }
   ],
   "source": [
    "np.log(0)"
   ],
   "metadata": {
    "collapsed": false,
    "ExecuteTime": {
     "start_time": "2023-04-15T11:54:24.111018Z",
     "end_time": "2023-04-15T11:54:24.149895Z"
    }
   }
  },
  {
   "cell_type": "code",
   "execution_count": 68,
   "outputs": [
    {
     "data": {
      "text/plain": "0.0"
     },
     "execution_count": 68,
     "metadata": {},
     "output_type": "execute_result"
    }
   ],
   "source": [
    "np.exp(-np.inf)"
   ],
   "metadata": {
    "collapsed": false,
    "ExecuteTime": {
     "start_time": "2023-04-15T11:56:59.764502Z",
     "end_time": "2023-04-15T11:56:59.771484Z"
    }
   }
  },
  {
   "cell_type": "markdown",
   "source": [
    "NumPy의 exp 함수를 사용하여 -inf 값을 지수 함수에 적용\n",
    "inf는 무한히 작은 음의 무한대를 나타내는 특수한 부동소수점 값.\n",
    "지수 함수에 매우 작은 값 (음의 무한대에 가까운)을 넣어 계산한 결과.\n",
    "np.exp 함수는 자연상수 e의 지수 함수를 계산하는 함수.\n",
    "=> np.exp(-np.inf)는 e의 -inf 거듭제곱을 계산한 값.\n",
    "==> 이는 0에 매우 가까운 아주 작은 양수 (즉, 0에 수렴하는 값)\n",
    "===> 결과적으로 np.exp(-np.inf)의 값은 0에 매우 가까운 아주 작은 양수"
   ],
   "metadata": {
    "collapsed": false
   }
  },
  {
   "cell_type": "markdown",
   "source": [
    "## 배열의 생성\n",
    "NumPy는 몇가지 단순한 배열을 생성하는 명령을 제공.\n",
    "- zeros, ones\n",
    "- zeros_like, ones_like\n",
    "- empty\n",
    "- arange\n",
    "- linspace, logspace"
   ],
   "metadata": {
    "collapsed": false
   }
  },
  {
   "cell_type": "code",
   "execution_count": 69,
   "outputs": [
    {
     "data": {
      "text/plain": "array([0., 0., 0., 0., 0.])"
     },
     "execution_count": 69,
     "metadata": {},
     "output_type": "execute_result"
    }
   ],
   "source": [
    "# 크기가 정해져 있고 모든 값이 0인 배열을 생성하려면 zeros 명령 사용.\n",
    "a= np.zeros(5) # 크기 5\n",
    "a"
   ],
   "metadata": {
    "collapsed": false,
    "ExecuteTime": {
     "start_time": "2023-04-15T11:59:16.694529Z",
     "end_time": "2023-04-15T11:59:16.735418Z"
    }
   }
  },
  {
   "cell_type": "code",
   "execution_count": 70,
   "outputs": [
    {
     "data": {
      "text/plain": "array([[0., 0., 0.],\n       [0., 0., 0.]])"
     },
     "execution_count": 70,
     "metadata": {},
     "output_type": "execute_result"
    }
   ],
   "source": [
    "# 크기를 뜻하는 튜플을 입력하면 다차원 배열이 만들어짐.\n",
    "b = np.zeros((2,3))\n",
    "b"
   ],
   "metadata": {
    "collapsed": false,
    "ExecuteTime": {
     "start_time": "2023-04-15T12:00:20.062067Z",
     "end_time": "2023-04-15T12:00:20.119941Z"
    }
   }
  },
  {
   "cell_type": "code",
   "execution_count": 71,
   "outputs": [],
   "source": [
    "# dtype 인수를 명시하면 해당 자료형 원소를 가진 배열을 만들 수 있음."
   ],
   "metadata": {
    "collapsed": false,
    "ExecuteTime": {
     "start_time": "2023-04-15T12:01:02.700277Z",
     "end_time": "2023-04-15T12:01:02.742165Z"
    }
   }
  },
  {
   "cell_type": "code",
   "execution_count": 72,
   "outputs": [
    {
     "data": {
      "text/plain": "array([[0, 0],\n       [0, 0],\n       [0, 0],\n       [0, 0],\n       [0, 0]], dtype=int32)"
     },
     "execution_count": 72,
     "metadata": {},
     "output_type": "execute_result"
    }
   ],
   "source": [
    "c= np.zeros((5,2),dtype=\"i\")\n",
    "c"
   ],
   "metadata": {
    "collapsed": false,
    "ExecuteTime": {
     "start_time": "2023-04-15T12:01:34.564789Z",
     "end_time": "2023-04-15T12:01:34.611691Z"
    }
   }
  },
  {
   "cell_type": "code",
   "execution_count": 77,
   "outputs": [
    {
     "data": {
      "text/plain": "array(['', '', '', '', ''], dtype='<U4')"
     },
     "execution_count": 77,
     "metadata": {},
     "output_type": "execute_result"
    }
   ],
   "source": [
    "# 문자열 배열도 가능.\n",
    "# 더 큰 크기의 문자열을 할당하면 잘리기 때문에 주의.\n",
    "d= np.zeros(5,dtype='U4')\n",
    "d"
   ],
   "metadata": {
    "collapsed": false,
    "ExecuteTime": {
     "start_time": "2023-04-15T12:03:43.452655Z",
     "end_time": "2023-04-15T12:03:43.463626Z"
    }
   }
  },
  {
   "cell_type": "code",
   "execution_count": 78,
   "outputs": [
    {
     "data": {
      "text/plain": "dtype('<U4')"
     },
     "execution_count": 78,
     "metadata": {},
     "output_type": "execute_result"
    }
   ],
   "source": [
    "d.dtype"
   ],
   "metadata": {
    "collapsed": false,
    "ExecuteTime": {
     "start_time": "2023-04-15T12:03:45.612900Z",
     "end_time": "2023-04-15T12:03:45.624865Z"
    }
   }
  },
  {
   "cell_type": "code",
   "execution_count": 81,
   "outputs": [
    {
     "data": {
      "text/plain": "array(['a', 'abcd', 'ABCD', '', ''], dtype='<U4')"
     },
     "execution_count": 81,
     "metadata": {},
     "output_type": "execute_result"
    }
   ],
   "source": [
    "d[0]= 'a'\n",
    "d[1]= 'abcd'\n",
    "d[2]= 'ABCDE' # 잘림\n",
    "d"
   ],
   "metadata": {
    "collapsed": false,
    "ExecuteTime": {
     "start_time": "2023-04-15T12:05:21.739585Z",
     "end_time": "2023-04-15T12:05:21.753573Z"
    }
   }
  },
  {
   "cell_type": "code",
   "execution_count": 82,
   "outputs": [
    {
     "data": {
      "text/plain": "array([[[1, 1, 1, 1],\n        [1, 1, 1, 1],\n        [1, 1, 1, 1]],\n\n       [[1, 1, 1, 1],\n        [1, 1, 1, 1],\n        [1, 1, 1, 1]]], dtype=int64)"
     },
     "execution_count": 82,
     "metadata": {},
     "output_type": "execute_result"
    }
   ],
   "source": [
    "# 1로 초기화된 배열을 생성하려면 ones 명령어 사용\n",
    "e = np.ones((2,3,4), dtype=\"i8\")\n",
    "e"
   ],
   "metadata": {
    "collapsed": false,
    "ExecuteTime": {
     "start_time": "2023-04-15T12:06:29.605202Z",
     "end_time": "2023-04-15T12:06:29.654063Z"
    }
   }
  },
  {
   "cell_type": "code",
   "execution_count": 84,
   "outputs": [
    {
     "data": {
      "text/plain": "array([[1., 1., 1.],\n       [1., 1., 1.]], dtype=float32)"
     },
     "execution_count": 84,
     "metadata": {},
     "output_type": "execute_result"
    }
   ],
   "source": [
    "# 크기를 튜플로 명시하지 않고 다른 배열과 같은 크기의 배열을 생성하고 싶다면\n",
    "# ones_like, zeros_like 명령을 사용\n",
    "f = np.ones_like(b, dtype=\"f\")\n",
    "f"
   ],
   "metadata": {
    "collapsed": false,
    "ExecuteTime": {
     "start_time": "2023-04-15T12:07:33.842402Z",
     "end_time": "2023-04-15T12:07:33.851399Z"
    }
   }
  },
  {
   "cell_type": "code",
   "execution_count": 85,
   "outputs": [
    {
     "data": {
      "text/plain": "array([[4.24399158e-314, 8.48798317e-314, 1.27319747e-313],\n       [1.69759663e-313, 2.12199579e-313, 2.54639495e-313],\n       [2.54639495e-313, 2.97079411e-313, 3.39519327e-313],\n       [3.81959242e-313, 4.24399158e-313, 4.66839074e-313]])"
     },
     "execution_count": 85,
     "metadata": {},
     "output_type": "execute_result"
    }
   ],
   "source": [
    "# 배열의 크기가 커지면 배열을 초기화 하는데도 시간이 걸림.\n",
    "# 이 시간을 단축하려면 배열을 생성만 하고 특정한 값으로 초기화를 하지 않는 empty 명령을 사용할 수 있다.\n",
    "# empty 명령으로 생성된 배열에는 기존 메모리에 저장되어 있던 값이 있으므로 배열의 원소의 값을 미리 알 수 없다.\n",
    "g = np.empty((4, 3))\n",
    "g"
   ],
   "metadata": {
    "collapsed": false,
    "ExecuteTime": {
     "start_time": "2023-04-15T12:08:44.972471Z",
     "end_time": "2023-04-15T12:08:45.016353Z"
    }
   }
  },
  {
   "cell_type": "code",
   "execution_count": 86,
   "outputs": [
    {
     "data": {
      "text/plain": "array([0, 1, 2, 3, 4, 5, 6, 7, 8, 9])"
     },
     "execution_count": 86,
     "metadata": {},
     "output_type": "execute_result"
    }
   ],
   "source": [
    "# arange 명령은 NumPy 버전의 range 명령. 특정한 규칙에 따라 증가하는 수열을 만든다.\n",
    "np.arange(10)"
   ],
   "metadata": {
    "collapsed": false,
    "ExecuteTime": {
     "start_time": "2023-04-15T12:09:26.111500Z",
     "end_time": "2023-04-15T12:09:26.156404Z"
    }
   }
  },
  {
   "cell_type": "code",
   "execution_count": 87,
   "outputs": [
    {
     "data": {
      "text/plain": "array([ 3,  5,  7,  9, 11, 13, 15, 17, 19])"
     },
     "execution_count": 87,
     "metadata": {},
     "output_type": "execute_result"
    }
   ],
   "source": [
    "np.arange(3,20+1,2) # 시작, 끝(포함x), 단계"
   ],
   "metadata": {
    "collapsed": false,
    "ExecuteTime": {
     "start_time": "2023-04-15T12:10:11.787639Z",
     "end_time": "2023-04-15T12:10:11.840495Z"
    }
   }
  },
  {
   "cell_type": "code",
   "execution_count": 88,
   "outputs": [
    {
     "data": {
      "text/plain": "array([  0.,  25.,  50.,  75., 100.])"
     },
     "execution_count": 88,
     "metadata": {},
     "output_type": "execute_result"
    }
   ],
   "source": [
    "# linspace 명령이나 logspace 명령은 선형 구간 혹은 로그 구간을 지정한 구간의 수만큼 분할\n",
    "np.linspace(0,100,5) # 시작, 끝(포함), 갯수 # 분석에 많이 쓸일듯?"
   ],
   "metadata": {
    "collapsed": false,
    "ExecuteTime": {
     "start_time": "2023-04-15T12:11:29.126369Z",
     "end_time": "2023-04-15T12:11:29.177232Z"
    }
   }
  },
  {
   "cell_type": "code",
   "execution_count": 89,
   "outputs": [
    {
     "data": {
      "text/plain": "array([ 1.25892541,  1.58489319,  1.99526231,  2.51188643,  3.16227766,\n        3.98107171,  5.01187234,  6.30957344,  7.94328235, 10.        ])"
     },
     "execution_count": 89,
     "metadata": {},
     "output_type": "execute_result"
    }
   ],
   "source": [
    "np.logspace(0.1,1,10)\n",
    "# 데이터 시각화나 과학 계산에서 사용\n",
    "# 로그 스케일의 값을 사용하면 작은 값과 큰 값 모두를 포괄적으로 표시 가능.\n",
    "# 따라서 이 함수를 사용하여 로그 스케일의 값을 생성하고 그 값을 그래프의 x축 또는 y축 값으로 사용하면, 작은 값과 큰 값 모두를 적절하게 표시할 수 있다.\n",
    "# ex) np.logspace(0.1, 1, 10) -> x축 값으로 10의 거듭제곱 값을 생성"
   ],
   "metadata": {
    "collapsed": false,
    "ExecuteTime": {
     "start_time": "2023-04-15T12:12:16.061653Z",
     "end_time": "2023-04-15T12:12:16.114478Z"
    }
   }
  },
  {
   "cell_type": "code",
   "execution_count": 90,
   "outputs": [
    {
     "data": {
      "text/plain": "<Figure size 640x480 with 1 Axes>",
      "image/png": "[encoded data removed]"
     },
     "metadata": {},
     "output_type": "display_data"
    }
   ],
   "source": [
    "# 작은 값과 큰 값 모두를 포함한 그래프를 그릴 수 있다.\n",
    "import matplotlib.pyplot as plt\n",
    "import numpy as np\n",
    "\n",
    "x = np.logspace(0.1, 1, 10)\n",
    "y = np.sin(x)\n",
    "plt.plot(x, y)\n",
    "plt.show()\n",
    "\n",
    "# x축 값으로 10의 거듭제곱 값을 생성하고, 그 값에 대한 사인 값을 y축 값으로 사용하는 그래프.\n",
    "# 결과적으로 x축 값은 작은 값에서 큰 값으로 증가하면서 y축 값은 사인 곡선으로 변화."
   ],
   "metadata": {
    "collapsed": false,
    "ExecuteTime": {
     "start_time": "2023-04-15T12:14:22.332142Z",
     "end_time": "2023-04-15T12:14:23.177872Z"
    }
   }
  },
  {
   "cell_type": "markdown",
   "source": [
    "## 전치 연산\n",
    "2차원 배열의 전치(transpose) 연산은 행과 열을 바꾸는 작업.\n",
    "배열의 T 속성으로 구할 수 있다.\n",
    "메서드가 아닌 속성이라는 점에 유의. => 속성에 값을 할당하면 원래 배열의 값이 변경\n",
    "==> .copy() 메서드로 복사본을 생성해서 할당해야 원본은 변경되지 않음."
   ],
   "metadata": {
    "collapsed": false
   }
  },
  {
   "cell_type": "code",
   "execution_count": 120,
   "outputs": [
    {
     "name": "stdout",
     "output_type": "stream",
     "text": [
      "[[1 3 5]\n",
      " [2 4 6]]\n"
     ]
    }
   ],
   "source": [
    "arr = np.array([[1, 2], [3, 4], [5, 6]])\n",
    "arr_T = arr.T.copy()\n",
    "print(arr_T)"
   ],
   "metadata": {
    "collapsed": false,
    "ExecuteTime": {
     "start_time": "2023-04-15T12:36:20.571262Z",
     "end_time": "2023-04-15T12:36:20.581778Z"
    }
   }
  },
  {
   "cell_type": "code",
   "execution_count": 121,
   "outputs": [
    {
     "name": "stdout",
     "output_type": "stream",
     "text": [
      "[[100   3   5]\n",
      " [  2   4   6]]\n",
      "[[1 2]\n",
      " [3 4]\n",
      " [5 6]]\n"
     ]
    }
   ],
   "source": [
    "arr_T[0, 0] = 100\n",
    "print(arr_T)\n",
    "print(arr)\n",
    "# 모양은 유지 되지만 값 할당시 원본 배열의 값도 할당값으로 바뀌므로 주의!"
   ],
   "metadata": {
    "collapsed": false,
    "ExecuteTime": {
     "start_time": "2023-04-15T12:36:21.458469Z",
     "end_time": "2023-04-15T12:36:21.469440Z"
    }
   }
  },
  {
   "cell_type": "markdown",
   "source": [
    "transpose는 NumPy 배열의 메서드 중 하나로, 배열의 차원을 변경하는데 사용.\n",
    "전치(transpose) 연산은 행렬의 행과 열을 바꾸는 것을 의미하며, 이를 NumPy 배열에 적용하면\n",
    "배열의 차원 순서를 바꾼다.\n",
    "transpose 메서드는 ndarray.transpose 혹은 numpy.transpose 함수로 호출.\n",
    "이 메서드는 order 매개변수를 지원하여, 반환된 배열의 차원 순서를 지정할 수 있다.\n",
    "order 매개변수는 0부터 시작하는 정수의 튜플로, 이를 사용하여 원하는 차원 순서를 지정할 수 있다."
   ],
   "metadata": {
    "collapsed": false
   }
  },
  {
   "cell_type": "code",
   "execution_count": 122,
   "outputs": [
    {
     "data": {
      "text/plain": "array([[1, 2, 3],\n       [4, 5, 6]])"
     },
     "execution_count": 122,
     "metadata": {},
     "output_type": "execute_result"
    }
   ],
   "source": [
    "arr = np.array([[1, 2, 3], [4, 5, 6]])\n",
    "arr"
   ],
   "metadata": {
    "collapsed": false,
    "ExecuteTime": {
     "start_time": "2023-04-15T12:36:25.283431Z",
     "end_time": "2023-04-15T12:36:25.295421Z"
    }
   }
  },
  {
   "cell_type": "code",
   "execution_count": 123,
   "outputs": [
    {
     "data": {
      "text/plain": "array([[1, 4],\n       [2, 5],\n       [3, 6]])"
     },
     "execution_count": 123,
     "metadata": {},
     "output_type": "execute_result"
    }
   ],
   "source": [
    "arr_T = arr.transpose()\n",
    "# or arr_T = np.transpose(arr)\n",
    "arr_T"
   ],
   "metadata": {
    "collapsed": false,
    "ExecuteTime": {
     "start_time": "2023-04-15T12:36:25.858333Z",
     "end_time": "2023-04-15T12:36:25.872296Z"
    }
   }
  },
  {
   "cell_type": "code",
   "execution_count": 124,
   "outputs": [
    {
     "data": {
      "text/plain": "array([[100,   4],\n       [  2,   5],\n       [  3,   6]])"
     },
     "execution_count": 124,
     "metadata": {},
     "output_type": "execute_result"
    }
   ],
   "source": [
    "arr_T[0,0] = 100\n",
    "arr_T"
   ],
   "metadata": {
    "collapsed": false,
    "ExecuteTime": {
     "start_time": "2023-04-15T12:36:26.538241Z",
     "end_time": "2023-04-15T12:36:26.551210Z"
    }
   }
  },
  {
   "cell_type": "code",
   "execution_count": 125,
   "outputs": [
    {
     "data": {
      "text/plain": "array([[100,   2,   3],\n       [  4,   5,   6]])"
     },
     "execution_count": 125,
     "metadata": {},
     "output_type": "execute_result"
    }
   ],
   "source": [
    "arr # 원본배열에도 영향을 미친다. arr_T만 변경하려면 복사본을 만들어서 작업해야함."
   ],
   "metadata": {
    "collapsed": false,
    "ExecuteTime": {
     "start_time": "2023-04-15T12:36:27.053363Z",
     "end_time": "2023-04-15T12:36:27.065329Z"
    }
   }
  },
  {
   "cell_type": "code",
   "execution_count": 126,
   "outputs": [
    {
     "name": "stdout",
     "output_type": "stream",
     "text": [
      "[[1 2 3]\n",
      " [4 5 6]]\n",
      "[[100   4]\n",
      " [  2   5]\n",
      " [  3   6]]\n"
     ]
    }
   ],
   "source": [
    "arr = np.array([[1, 2, 3], [4, 5, 6]])\n",
    "arr_T = arr.transpose().copy()  # copy 메서드를 사용하여 arr_T 배열의 복사본 생성\n",
    "\n",
    "arr_T[0, 0] = 100  # arr_T 배열의 1행 1열의 값을 100으로 변경\n",
    "\n",
    "print(arr)  # 변경되지 않음\n",
    "print(arr_T)  # 1행 1열의 값이 100으로 변경됨"
   ],
   "metadata": {
    "collapsed": false,
    "ExecuteTime": {
     "start_time": "2023-04-15T12:36:27.604574Z",
     "end_time": "2023-04-15T12:36:27.614547Z"
    }
   }
  },
  {
   "cell_type": "markdown",
   "source": [
    "=> T 속성과 transpose() 함수의 가장 큰 차이점은 인자를 전달할 수 있는지 여부.\n",
    "   transpose() 함수는 전치행렬을 만들 때 축(axis)을 지정할 수 있고,(->지정 변경)\n",
    "   T 속성은 축을 지정할 수 없다.(->단순 변경)"
   ],
   "metadata": {
    "collapsed": false
   }
  },
  {
   "cell_type": "markdown",
   "source": [
    "## 배열의 크기 변형\n",
    "일단 만들어진 배열의 내부 데이터는 보존한 채로 형태만 바꾸려면 reshape 명령이나 메서드를 사용"
   ],
   "metadata": {
    "collapsed": false
   }
  },
  {
   "cell_type": "code",
   "execution_count": 128,
   "outputs": [
    {
     "data": {
      "text/plain": "array([ 0,  1,  2,  3,  4,  5,  6,  7,  8,  9, 10, 11])"
     },
     "execution_count": 128,
     "metadata": {},
     "output_type": "execute_result"
    }
   ],
   "source": [
    "# 12개의 원소를 가진 1차원 행렬은 3x4 형태의 2차원 행렬로 만들 수 있다.\n",
    "a = np.arange(12)\n",
    "a"
   ],
   "metadata": {
    "collapsed": false,
    "ExecuteTime": {
     "start_time": "2023-04-15T12:37:20.692915Z",
     "end_time": "2023-04-15T12:37:20.702916Z"
    }
   }
  },
  {
   "cell_type": "code",
   "execution_count": 130,
   "outputs": [
    {
     "data": {
      "text/plain": "array([[ 0,  1,  2,  3],\n       [ 4,  5,  6,  7],\n       [ 8,  9, 10, 11]])"
     },
     "execution_count": 130,
     "metadata": {},
     "output_type": "execute_result"
    }
   ],
   "source": [
    "b = a.reshape(3,4)\n",
    "b"
   ],
   "metadata": {
    "collapsed": false,
    "ExecuteTime": {
     "start_time": "2023-04-15T12:37:46.648138Z",
     "end_time": "2023-04-15T12:37:46.661099Z"
    }
   }
  },
  {
   "cell_type": "code",
   "execution_count": 131,
   "outputs": [
    {
     "data": {
      "text/plain": "array([[ 0,  1,  2],\n       [ 3,  4,  5],\n       [ 6,  7,  8],\n       [ 9, 10, 11]])"
     },
     "execution_count": 131,
     "metadata": {},
     "output_type": "execute_result"
    }
   ],
   "source": [
    "#사용하는 원소의 갯수가 정해저 있기 때문에 reshape 명령의 형태 튜플의 원소 중 하나는 -1이라는 숫자로 대체할 수 있다.\n",
    "a.reshape(4,-1)"
   ],
   "metadata": {
    "collapsed": false,
    "ExecuteTime": {
     "start_time": "2023-04-15T12:38:51.875711Z",
     "end_time": "2023-04-15T12:38:51.932583Z"
    }
   }
  },
  {
   "cell_type": "code",
   "execution_count": 134,
   "outputs": [
    {
     "data": {
      "text/plain": "array([[ 0,  1,  2,  3,  4,  5],\n       [ 6,  7,  8,  9, 10, 11]])"
     },
     "execution_count": 134,
     "metadata": {},
     "output_type": "execute_result"
    }
   ],
   "source": [
    "a.reshape(-1,6)"
   ],
   "metadata": {
    "collapsed": false,
    "ExecuteTime": {
     "start_time": "2023-04-15T12:39:42.150754Z",
     "end_time": "2023-04-15T12:39:42.172693Z"
    }
   }
  },
  {
   "cell_type": "code",
   "execution_count": 135,
   "outputs": [
    {
     "data": {
      "text/plain": "array([[[ 0,  1],\n        [ 2,  3],\n        [ 4,  5]],\n\n       [[ 6,  7],\n        [ 8,  9],\n        [10, 11]]])"
     },
     "execution_count": 135,
     "metadata": {},
     "output_type": "execute_result"
    }
   ],
   "source": [
    "a.reshape(2,-1,2)"
   ],
   "metadata": {
    "collapsed": false,
    "ExecuteTime": {
     "start_time": "2023-04-15T12:40:04.255358Z",
     "end_time": "2023-04-15T12:40:04.314233Z"
    }
   }
  },
  {
   "cell_type": "code",
   "execution_count": 136,
   "outputs": [
    {
     "data": {
      "text/plain": "array([ 0,  1,  2,  3,  4,  5,  6,  7,  8,  9, 10, 11])"
     },
     "execution_count": 136,
     "metadata": {},
     "output_type": "execute_result"
    }
   ],
   "source": [
    "# 다차원 배열을 무조건 1차원으로 만들기 위해서는 flatten 나 ravel 메서드를 사용\n",
    "a.flatten()"
   ],
   "metadata": {
    "collapsed": false,
    "ExecuteTime": {
     "start_time": "2023-04-15T12:40:39.038565Z",
     "end_time": "2023-04-15T12:40:39.111397Z"
    }
   }
  },
  {
   "cell_type": "code",
   "execution_count": 137,
   "outputs": [
    {
     "data": {
      "text/plain": "array([ 0,  1,  2,  3,  4,  5,  6,  7,  8,  9, 10, 11])"
     },
     "execution_count": 137,
     "metadata": {},
     "output_type": "execute_result"
    }
   ],
   "source": [
    "a.ravel()"
   ],
   "metadata": {
    "collapsed": false,
    "ExecuteTime": {
     "start_time": "2023-04-15T12:40:45.846654Z",
     "end_time": "2023-04-15T12:40:45.907491Z"
    }
   }
  },
  {
   "cell_type": "markdown",
   "source": [
    "!!! 배열 사용에서 주의 !!!\n",
    "길이가 5인 1차원 배열과 행\n",
    "열의 갯수가 (5,1)인 2차원 배열 또는 행\n",
    "열의 갯수가 (1, 5)인 2차원 배열\n",
    "\n",
    "=> 데이터가 같아도 엄연히 다른 객체"
   ],
   "metadata": {
    "collapsed": false
   }
  },
  {
   "cell_type": "code",
   "execution_count": 138,
   "outputs": [
    {
     "data": {
      "text/plain": "array([0, 1, 2, 3, 4])"
     },
     "execution_count": 138,
     "metadata": {},
     "output_type": "execute_result"
    }
   ],
   "source": [
    "x = np.arange(5)\n",
    "x\n",
    "# array([0, 1, 2, 3, 4])"
   ],
   "metadata": {
    "collapsed": false,
    "ExecuteTime": {
     "start_time": "2023-04-15T12:42:30.286329Z",
     "end_time": "2023-04-15T12:42:30.342204Z"
    }
   }
  },
  {
   "cell_type": "code",
   "execution_count": 140,
   "outputs": [
    {
     "data": {
      "text/plain": "array([[0, 1, 2, 3, 4]])"
     },
     "execution_count": 140,
     "metadata": {},
     "output_type": "execute_result"
    }
   ],
   "source": [
    "x.reshape(1,5) # array([[0, 1, 2, 3, 4]])"
   ],
   "metadata": {
    "collapsed": false,
    "ExecuteTime": {
     "start_time": "2023-04-15T12:42:57.444926Z",
     "end_time": "2023-04-15T12:42:57.460572Z"
    }
   }
  },
  {
   "cell_type": "code",
   "execution_count": 141,
   "outputs": [
    {
     "data": {
      "text/plain": "array([[0],\n       [1],\n       [2],\n       [3],\n       [4]])"
     },
     "execution_count": 141,
     "metadata": {},
     "output_type": "execute_result"
    }
   ],
   "source": [
    "x.reshape(5,1)\n",
    "# array([[0],\n",
    "#        [1],\n",
    "#        [2],\n",
    "#        [3],\n",
    "#        [4]])"
   ],
   "metadata": {
    "collapsed": false,
    "ExecuteTime": {
     "start_time": "2023-04-15T12:43:04.491993Z",
     "end_time": "2023-04-15T12:43:04.538882Z"
    }
   }
  },
  {
   "cell_type": "code",
   "execution_count": 142,
   "outputs": [
    {
     "data": {
      "text/plain": "array([[0],\n       [1],\n       [2],\n       [3],\n       [4]])"
     },
     "execution_count": 142,
     "metadata": {},
     "output_type": "execute_result"
    }
   ],
   "source": [
    "#  같은 배열에 대해 차원만 1차원 증가시키는 경우에는 newaxis 명령을 사용\n",
    "x[:, np.newaxis]"
   ],
   "metadata": {
    "collapsed": false,
    "ExecuteTime": {
     "start_time": "2023-04-15T12:44:50.698207Z",
     "end_time": "2023-04-15T12:44:50.745102Z"
    }
   }
  },
  {
   "cell_type": "markdown",
   "source": [
    "## 배열 연결\n",
    "행의 수나 열의 수가 같은 두 개 이상의 배열을 연결하여(concatenate) 더 큰 배열을 만들 때는 다음과 같은 명령을 사용.\n",
    "- hstack\n",
    "- vstack\n",
    "- dstack\n",
    "- stack\n",
    "- r_\n",
    "- c_\n",
    "- tile"
   ],
   "metadata": {
    "collapsed": false
   }
  },
  {
   "cell_type": "code",
   "execution_count": 143,
   "outputs": [
    {
     "data": {
      "text/plain": "array([[1., 1., 1.],\n       [1., 1., 1.]])"
     },
     "execution_count": 143,
     "metadata": {},
     "output_type": "execute_result"
    }
   ],
   "source": [
    "# hstack 명령은 행의 수가 같은 두 개 이상의 배열을 옆으로 연결.\n",
    "# 연결할 배열은 하나의 리스트에 담아야 한다.\n",
    "a1 = np.ones((2, 3))\n",
    "a1"
   ],
   "metadata": {
    "collapsed": false,
    "ExecuteTime": {
     "start_time": "2023-04-15T13:02:25.721978Z",
     "end_time": "2023-04-15T13:02:25.779822Z"
    }
   }
  },
  {
   "cell_type": "code",
   "execution_count": 144,
   "outputs": [
    {
     "data": {
      "text/plain": "array([[0., 0.],\n       [0., 0.]])"
     },
     "execution_count": 144,
     "metadata": {},
     "output_type": "execute_result"
    }
   ],
   "source": [
    "a2 = np.zeros((2, 2))\n",
    "a2"
   ],
   "metadata": {
    "collapsed": false,
    "ExecuteTime": {
     "start_time": "2023-04-15T13:02:43.950657Z",
     "end_time": "2023-04-15T13:02:44.008502Z"
    }
   }
  },
  {
   "cell_type": "code",
   "execution_count": 146,
   "outputs": [
    {
     "data": {
      "text/plain": "array([[1., 1., 1., 0., 0.],\n       [1., 1., 1., 0., 0.]])"
     },
     "execution_count": 146,
     "metadata": {},
     "output_type": "execute_result"
    }
   ],
   "source": [
    "np.hstack([a1,a2]) # 연결할 배열을 하나의 리스트에 담아줌."
   ],
   "metadata": {
    "collapsed": false,
    "ExecuteTime": {
     "start_time": "2023-04-15T13:03:51.254886Z",
     "end_time": "2023-04-15T13:03:51.267852Z"
    }
   }
  },
  {
   "cell_type": "code",
   "execution_count": 147,
   "outputs": [
    {
     "data": {
      "text/plain": "array([[1., 1., 1.],\n       [1., 1., 1.]])"
     },
     "execution_count": 147,
     "metadata": {},
     "output_type": "execute_result"
    }
   ],
   "source": [
    "# vstack 명령은 열의 수가 같은 두 개 이상의 배열을 위아래로 연결하.\n",
    "# 연결할 배열은 하나의 리스트에 담아야 한다.\n",
    "b1 = np.ones((2, 3))\n",
    "b1"
   ],
   "metadata": {
    "collapsed": false,
    "ExecuteTime": {
     "start_time": "2023-04-15T13:04:52.846350Z",
     "end_time": "2023-04-15T13:04:52.906159Z"
    }
   }
  },
  {
   "cell_type": "code",
   "execution_count": 148,
   "outputs": [
    {
     "data": {
      "text/plain": "array([[0., 0., 0.],\n       [0., 0., 0.],\n       [0., 0., 0.]])"
     },
     "execution_count": 148,
     "metadata": {},
     "output_type": "execute_result"
    }
   ],
   "source": [
    "b2 = np.zeros((3, 3))\n",
    "b2"
   ],
   "metadata": {
    "collapsed": false,
    "ExecuteTime": {
     "start_time": "2023-04-15T13:05:04.707632Z",
     "end_time": "2023-04-15T13:05:04.771479Z"
    }
   }
  },
  {
   "cell_type": "code",
   "execution_count": 150,
   "outputs": [
    {
     "data": {
      "text/plain": "array([[0., 0., 0.],\n       [0., 0., 0.],\n       [0., 0., 0.],\n       [1., 1., 1.],\n       [1., 1., 1.]])"
     },
     "execution_count": 150,
     "metadata": {},
     "output_type": "execute_result"
    }
   ],
   "source": [
    "np.vstack([b2,b1])"
   ],
   "metadata": {
    "collapsed": false,
    "ExecuteTime": {
     "start_time": "2023-04-15T13:05:39.151901Z",
     "end_time": "2023-04-15T13:05:39.164866Z"
    }
   }
  },
  {
   "cell_type": "markdown",
   "source": [
    "dstack 명령은 행이나 열이 아닌 깊이(depth) 방향으로 배열을 합친다.\n",
    "가장 안쪽의 원소의 차원이 증가.\n",
    "즉 가장 내부의 숫자 원소가 배열이 된다.\n",
    "shape 정보로 보자면 가장 끝에 값이 2인 차원이 추가되는 것이다.\n",
    "이 예제의 경우 shape 변화가 2개의 (3 x 4) -> 1개의 (3 x 4 x 2)가 된다."
   ],
   "metadata": {
    "collapsed": false
   }
  },
  {
   "cell_type": "code",
   "execution_count": 152,
   "outputs": [
    {
     "data": {
      "text/plain": "array([[1., 1., 1., 1.],\n       [1., 1., 1., 1.],\n       [1., 1., 1., 1.]])"
     },
     "execution_count": 152,
     "metadata": {},
     "output_type": "execute_result"
    }
   ],
   "source": [
    "c1 = np.ones((3, 4))\n",
    "c1"
   ],
   "metadata": {
    "collapsed": false
   }
  },
  {
   "cell_type": "code",
   "execution_count": 153,
   "outputs": [
    {
     "data": {
      "text/plain": "array([[0., 0., 0., 0.],\n       [0., 0., 0., 0.],\n       [0., 0., 0., 0.]])"
     },
     "execution_count": 153,
     "metadata": {},
     "output_type": "execute_result"
    }
   ],
   "source": [
    "c2 = np.zeros((3, 4))\n",
    "c2"
   ],
   "metadata": {
    "collapsed": false,
    "ExecuteTime": {
     "start_time": "2023-04-15T13:08:15.089671Z",
     "end_time": "2023-04-15T13:08:15.155521Z"
    }
   }
  },
  {
   "cell_type": "code",
   "execution_count": 154,
   "outputs": [
    {
     "data": {
      "text/plain": "array([[[1., 0.],\n        [1., 0.],\n        [1., 0.],\n        [1., 0.]],\n\n       [[1., 0.],\n        [1., 0.],\n        [1., 0.],\n        [1., 0.]],\n\n       [[1., 0.],\n        [1., 0.],\n        [1., 0.],\n        [1., 0.]]])"
     },
     "execution_count": 154,
     "metadata": {},
     "output_type": "execute_result"
    }
   ],
   "source": [
    "np.dstack([c1,c2])"
   ],
   "metadata": {
    "collapsed": false,
    "ExecuteTime": {
     "start_time": "2023-04-15T13:08:39.176130Z",
     "end_time": "2023-04-15T13:08:39.247962Z"
    }
   }
  },
  {
   "cell_type": "code",
   "execution_count": 155,
   "outputs": [
    {
     "data": {
      "text/plain": "(3, 4, 2)"
     },
     "execution_count": 155,
     "metadata": {},
     "output_type": "execute_result"
    }
   ],
   "source": [
    "(np.dstack([c1,c2])).shape"
   ],
   "metadata": {
    "collapsed": false,
    "ExecuteTime": {
     "start_time": "2023-04-15T13:09:28.924062Z",
     "end_time": "2023-04-15T13:09:28.989910Z"
    }
   }
  },
  {
   "cell_type": "markdown",
   "source": [
    "stack 명령은 dstack의 기능을 확장한 것\n",
    "dstack처럼 마지막 차원으로 연결하는 것이 아니라 사용자가 지정한 차원(축으로) 배열을 연결한다.\n",
    "axis 인수(디폴트 0)를 사용하여 연결후의 회전 방향을 정한다.\n",
    "디폴트 인수값은 0이고 가장 앞쪽에 차원이 생성된다.\n",
    "즉, 배열 두 개가 겹치게 되므로 연결하고자 하는 배열들의 크기가 모두 같아야 한다.\n",
    "다음 예에서는 axis=0 이므로 가장 바깥에 값이 2인 차원이 추가된다.\n",
    "즉, shape 변화는 2개의 (3 x 4) -> 1개의 (2 x 3 x 4) 이다."
   ],
   "metadata": {
    "collapsed": false
   }
  },
  {
   "cell_type": "code",
   "execution_count": 156,
   "outputs": [
    {
     "data": {
      "text/plain": "array([[[1., 1., 1., 1.],\n        [1., 1., 1., 1.],\n        [1., 1., 1., 1.]],\n\n       [[0., 0., 0., 0.],\n        [0., 0., 0., 0.],\n        [0., 0., 0., 0.]]])"
     },
     "execution_count": 156,
     "metadata": {},
     "output_type": "execute_result"
    }
   ],
   "source": [
    "c = np.stack([c1, c2])\n",
    "c"
   ],
   "metadata": {
    "collapsed": false,
    "ExecuteTime": {
     "start_time": "2023-04-15T13:11:44.729504Z",
     "end_time": "2023-04-15T13:11:44.794382Z"
    }
   }
  },
  {
   "cell_type": "code",
   "execution_count": 158,
   "outputs": [
    {
     "data": {
      "text/plain": "array([[[1., 1., 1., 1.],\n        [0., 0., 0., 0.]],\n\n       [[1., 1., 1., 1.],\n        [0., 0., 0., 0.]],\n\n       [[1., 1., 1., 1.],\n        [0., 0., 0., 0.]]])"
     },
     "execution_count": 158,
     "metadata": {},
     "output_type": "execute_result"
    }
   ],
   "source": [
    "# axis 인수가 1이면 두번째 차원으로 새로운 차원이 삽입된다.\n",
    "# shape 변화는 2개의 (3 x 4) -> 1개의 (3 x 2 x 4) 이다.\n",
    "c= np.stack([c1,c2], axis=1)\n",
    "c"
   ],
   "metadata": {
    "collapsed": false,
    "ExecuteTime": {
     "start_time": "2023-04-15T13:13:29.431171Z",
     "end_time": "2023-04-15T13:13:29.449150Z"
    }
   }
  },
  {
   "cell_type": "code",
   "execution_count": null,
   "outputs": [],
   "source": [],
   "metadata": {
    "collapsed": false
   }
  }
 ],
 "metadata": {
  "kernelspec": {
   "display_name": "Python 3",
   "language": "python",
   "name": "python3"
  },
  "language_info": {
   "codemirror_mode": {
    "name": "ipython",
    "version": 2
   },
   "file_extension": ".py",
   "mimetype": "text/x-python",
   "name": "python",
   "nbconvert_exporter": "python",
   "pygments_lexer": "ipython2",
   "version": "2.7.6"
  }
 },
 "nbformat": 4,
 "nbformat_minor": 0
}
