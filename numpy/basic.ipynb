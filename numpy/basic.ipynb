{
 "cells": [
  {
   "cell_type": "markdown",
   "source": [
    "# 넘파이\n",
    "## 넘파이 배열\n",
    "  - 배열을 사용하면 적은 메모리로 많은 데이터 빠르게 처리\n",
    "  - 배열 : 모든 원소가 같은 자료형, 원소의 갯수를 바꿀 수 없다.\n",
    "  - 파이썬은 자체적으로 배열을 제공하지 않기 때문에 numpy 사용.\n",
    "  - 수치 해적용 파이선 패키지.\n",
    "  - 다차원 배열 자료구조 클래스인 ndarray 지원. -> 선형대수 계산에 주로 사용.\n",
    "    - a[:, [True, False, False, True]] 배열의 특정 행, 열을 골라내는 데 응용 가능할 듯.\n",
    "    - a[[2, 0, 1], :] 특정 배열의 열, 행 순서를 바꿀 때도 응용 가능할 듯.\n",
    "  - 파이썬 반복문에 비해 속도가 빠르며 벡터화 연산을 이용해서 간단한 코드로 복잡한 선형 대수 연산을 수행 가능."
   ],
   "metadata": {
    "collapsed": false
   }
  },
  {
   "cell_type": "markdown",
   "source": [
    "### 넘파이 패키지 임포트"
   ],
   "metadata": {
    "collapsed": false
   }
  },
  {
   "cell_type": "code",
   "execution_count": 2,
   "outputs": [],
   "source": [
    "import numpy as np"
   ],
   "metadata": {
    "collapsed": false,
    "ExecuteTime": {
     "start_time": "2023-04-16T11:23:55.051378Z",
     "end_time": "2023-04-16T11:23:56.759682Z"
    }
   }
  },
  {
   "cell_type": "code",
   "execution_count": 3,
   "outputs": [
    {
     "data": {
      "text/plain": "array([0, 1, 2, 3, 4, 5, 6, 7, 8, 9])"
     },
     "execution_count": 3,
     "metadata": {},
     "output_type": "execute_result"
    }
   ],
   "source": [
    "ar = np.array([0,1,2,3,4,5,6,7,8,9])\n",
    "ar"
   ],
   "metadata": {
    "collapsed": false,
    "ExecuteTime": {
     "start_time": "2023-04-16T11:23:55.486216Z",
     "end_time": "2023-04-16T11:23:56.777634Z"
    }
   }
  },
  {
   "cell_type": "code",
   "execution_count": 4,
   "outputs": [
    {
     "data": {
      "text/plain": "numpy.ndarray"
     },
     "execution_count": 4,
     "metadata": {},
     "output_type": "execute_result"
    }
   ],
   "source": [
    "type(ar)"
   ],
   "metadata": {
    "collapsed": false,
    "ExecuteTime": {
     "start_time": "2023-04-16T11:23:55.490205Z",
     "end_time": "2023-04-16T11:23:56.778632Z"
    }
   }
  },
  {
   "cell_type": "markdown",
   "source": [
    "- ndarray 객체와 리스트는 동일한 구조처럼 보이지만 많은 차이가 있다.\n",
    "- 리스트 클래스 객체는 각각의 원소가 다른 자료형일 수 있지만 ndarray 객체는 연속적인 메모리 배치를 가지기 때문에 모든 원소가 같은 자료형이어야 한다. (C 베이스) but 접근 실행이 빠르다."
   ],
   "metadata": {
    "collapsed": false
   }
  },
  {
   "cell_type": "markdown",
   "source": [
    "## 백터화 연산\n",
    "배열 객체는 배열의 각 원소에 대한 반복 연산을 하나의 명령어로 처리하는 벡터화 연산을 지원"
   ],
   "metadata": {
    "collapsed": false
   }
  },
  {
   "cell_type": "code",
   "execution_count": 5,
   "outputs": [],
   "source": [
    "# 데이터를 모두 2배\n",
    "data = [0, 1, 2, 3, 4, 5, 6, 7, 8, 9]"
   ],
   "metadata": {
    "collapsed": false,
    "ExecuteTime": {
     "start_time": "2023-04-16T11:23:55.494194Z",
     "end_time": "2023-04-16T11:23:56.778632Z"
    }
   }
  },
  {
   "cell_type": "code",
   "execution_count": 6,
   "outputs": [
    {
     "data": {
      "text/plain": "[0, 2, 4, 6, 8, 10, 12, 14, 16, 18]"
     },
     "execution_count": 6,
     "metadata": {},
     "output_type": "execute_result"
    }
   ],
   "source": [
    "#for문\n",
    "answer=[]\n",
    "for i in data:\n",
    "    answer.append(2*i)\n",
    "answer"
   ],
   "metadata": {
    "collapsed": false,
    "ExecuteTime": {
     "start_time": "2023-04-16T11:23:55.499180Z",
     "end_time": "2023-04-16T11:23:56.800573Z"
    }
   }
  },
  {
   "cell_type": "code",
   "execution_count": 7,
   "outputs": [
    {
     "data": {
      "text/plain": "array([0, 1, 2, 3, 4, 5, 6, 7, 8, 9])"
     },
     "execution_count": 7,
     "metadata": {},
     "output_type": "execute_result"
    }
   ],
   "source": [
    "# 백터화 연산\n",
    "x=np.array(data)\n",
    "x"
   ],
   "metadata": {
    "collapsed": false,
    "ExecuteTime": {
     "start_time": "2023-04-16T11:23:55.504167Z",
     "end_time": "2023-04-16T11:23:56.821517Z"
    }
   }
  },
  {
   "cell_type": "code",
   "execution_count": 8,
   "outputs": [
    {
     "data": {
      "text/plain": "array([ 0,  2,  4,  6,  8, 10, 12, 14, 16, 18])"
     },
     "execution_count": 8,
     "metadata": {},
     "output_type": "execute_result"
    }
   ],
   "source": [
    "2*x"
   ],
   "metadata": {
    "collapsed": false,
    "ExecuteTime": {
     "start_time": "2023-04-16T11:23:55.509154Z",
     "end_time": "2023-04-16T11:23:56.822514Z"
    }
   }
  },
  {
   "cell_type": "code",
   "execution_count": 9,
   "outputs": [
    {
     "name": "stdout",
     "output_type": "stream",
     "text": [
      "[0, 1, 2, 3, 4, 5, 6, 7, 8, 9, 0, 1, 2, 3, 4, 5, 6, 7, 8, 9]\n"
     ]
    }
   ],
   "source": [
    "# 리스트에 적용하면? 객체의 크기가 정수배 만큼 증가.\n",
    "L = [0, 1, 2, 3, 4, 5, 6, 7, 8, 9]\n",
    "print(2 * L)"
   ],
   "metadata": {
    "collapsed": false,
    "ExecuteTime": {
     "start_time": "2023-04-16T11:23:55.515137Z",
     "end_time": "2023-04-16T11:23:56.822514Z"
    }
   }
  },
  {
   "cell_type": "code",
   "execution_count": 10,
   "outputs": [
    {
     "data": {
      "text/plain": "array([10, 20, 30])"
     },
     "execution_count": 10,
     "metadata": {},
     "output_type": "execute_result"
    }
   ],
   "source": [
    "a=np.array([1,2,3])\n",
    "b=np.array([10,20,30])\n",
    "a\n",
    "b"
   ],
   "metadata": {
    "collapsed": false,
    "ExecuteTime": {
     "start_time": "2023-04-16T11:23:55.518129Z",
     "end_time": "2023-04-16T11:23:56.822514Z"
    }
   }
  },
  {
   "cell_type": "code",
   "execution_count": 11,
   "outputs": [
    {
     "data": {
      "text/plain": "array([12, 24, 36])"
     },
     "execution_count": 11,
     "metadata": {},
     "output_type": "execute_result"
    }
   ],
   "source": [
    "2*a+b"
   ],
   "metadata": {
    "collapsed": false,
    "ExecuteTime": {
     "start_time": "2023-04-16T11:23:55.524119Z",
     "end_time": "2023-04-16T11:23:56.822514Z"
    }
   }
  },
  {
   "cell_type": "code",
   "execution_count": 12,
   "outputs": [
    {
     "data": {
      "text/plain": "array([False,  True, False])"
     },
     "execution_count": 12,
     "metadata": {},
     "output_type": "execute_result"
    }
   ],
   "source": [
    "a==2"
   ],
   "metadata": {
    "collapsed": false,
    "ExecuteTime": {
     "start_time": "2023-04-16T11:23:55.531095Z",
     "end_time": "2023-04-16T11:23:56.823511Z"
    }
   }
  },
  {
   "cell_type": "code",
   "execution_count": 13,
   "outputs": [
    {
     "data": {
      "text/plain": "array([False,  True,  True])"
     },
     "execution_count": 13,
     "metadata": {},
     "output_type": "execute_result"
    }
   ],
   "source": [
    "b>10"
   ],
   "metadata": {
    "collapsed": false,
    "ExecuteTime": {
     "start_time": "2023-04-16T11:23:55.536081Z",
     "end_time": "2023-04-16T11:23:56.823511Z"
    }
   }
  },
  {
   "cell_type": "code",
   "execution_count": 14,
   "outputs": [
    {
     "data": {
      "text/plain": "array([False,  True, False])"
     },
     "execution_count": 14,
     "metadata": {},
     "output_type": "execute_result"
    }
   ],
   "source": [
    "(a==2)&(b>10)"
   ],
   "metadata": {
    "collapsed": false,
    "ExecuteTime": {
     "start_time": "2023-04-16T11:23:55.539073Z",
     "end_time": "2023-04-16T11:23:56.861411Z"
    }
   }
  },
  {
   "cell_type": "markdown",
   "source": [
    "## 2차원 배열 만들기\n",
    "- ndarray == N-dimensional Array\n",
    "- 리스트의 리스트(list of list)를 이용하면 2차원 배열을 생성 ex. [[0, 1, 2], [3, 4, 5]]"
   ],
   "metadata": {
    "collapsed": false
   }
  },
  {
   "cell_type": "code",
   "execution_count": 15,
   "outputs": [
    {
     "data": {
      "text/plain": "array([[0, 1, 2],\n       [3, 4, 5]])"
     },
     "execution_count": 15,
     "metadata": {},
     "output_type": "execute_result"
    }
   ],
   "source": [
    "c = np.array([[0,1,2],[3,4,5]])\n",
    "                    #[[0,1,2],\n",
    "                    # [3,4,5]]\n",
    "c"
   ],
   "metadata": {
    "collapsed": false,
    "ExecuteTime": {
     "start_time": "2023-04-16T11:23:55.546055Z",
     "end_time": "2023-04-16T11:23:56.862409Z"
    }
   }
  },
  {
   "cell_type": "code",
   "execution_count": 16,
   "outputs": [
    {
     "data": {
      "text/plain": "2"
     },
     "execution_count": 16,
     "metadata": {},
     "output_type": "execute_result"
    }
   ],
   "source": [
    "# 2차원 배열의 행과 열의 갯수확인\n",
    "# 행의 갯수 : 배열 안에 있는 배열의 갯수\n",
    "len(c)"
   ],
   "metadata": {
    "collapsed": false,
    "ExecuteTime": {
     "start_time": "2023-04-16T11:23:55.552039Z",
     "end_time": "2023-04-16T11:23:56.862409Z"
    }
   }
  },
  {
   "cell_type": "code",
   "execution_count": 17,
   "outputs": [
    {
     "data": {
      "text/plain": "3"
     },
     "execution_count": 17,
     "metadata": {},
     "output_type": "execute_result"
    }
   ],
   "source": [
    "# 열의 갯수 : 배열의 길이\n",
    "len(c[0])"
   ],
   "metadata": {
    "collapsed": false,
    "ExecuteTime": {
     "start_time": "2023-04-16T11:23:55.556028Z",
     "end_time": "2023-04-16T11:23:56.886344Z"
    }
   }
  },
  {
   "cell_type": "markdown",
   "source": [
    "#### 연습 문제 1\n",
    "\n",
    "넘파이를 사용하여 다음과 같은 행렬을 만든다.\n",
    "\n",
    "10 20 30 40\n",
    "50 60 70 80"
   ],
   "metadata": {
    "collapsed": false
   }
  },
  {
   "cell_type": "code",
   "execution_count": 18,
   "outputs": [
    {
     "data": {
      "text/plain": "array([[10, 20, 30, 40],\n       [50, 60, 70, 80]])"
     },
     "execution_count": 18,
     "metadata": {},
     "output_type": "execute_result"
    }
   ],
   "source": [
    "F = np.array([[10,20,30,40],[50,60,70,80]])\n",
    "F"
   ],
   "metadata": {
    "collapsed": false,
    "ExecuteTime": {
     "start_time": "2023-04-16T11:23:55.562013Z",
     "end_time": "2023-04-16T11:23:56.886344Z"
    }
   }
  },
  {
   "cell_type": "markdown",
   "source": [
    "## 3차원 배열 만들기\n",
    "- 크기를 나타낼 때는 가장 바깥쪽의 리스트 길이부터 가장 안족 리스트의 길이의 순서로 표시"
   ],
   "metadata": {
    "collapsed": false
   }
  },
  {
   "cell_type": "code",
   "execution_count": 19,
   "outputs": [],
   "source": [
    "d = np.array([[[1,2,3,4],\n",
    "               [5,6,7,8],\n",
    "               [9,10,11,12]],\n",
    "              [[11,12,13,14],\n",
    "               [15,16,17,18],\n",
    "               [19,20,21,22]]])\n",
    "# 2*3*4 array"
   ],
   "metadata": {
    "collapsed": false,
    "ExecuteTime": {
     "start_time": "2023-04-16T11:23:55.566999Z",
     "end_time": "2023-04-16T11:23:56.887342Z"
    }
   }
  },
  {
   "cell_type": "code",
   "execution_count": 20,
   "outputs": [
    {
     "data": {
      "text/plain": "2"
     },
     "execution_count": 20,
     "metadata": {},
     "output_type": "execute_result"
    }
   ],
   "source": [
    "# 3차원 배열의 깊이, 행, 열\n",
    "# 깊이\n",
    "len(d)"
   ],
   "metadata": {
    "collapsed": false,
    "ExecuteTime": {
     "start_time": "2023-04-16T11:23:55.570988Z",
     "end_time": "2023-04-16T11:23:56.887342Z"
    }
   }
  },
  {
   "cell_type": "code",
   "execution_count": 21,
   "outputs": [
    {
     "data": {
      "text/plain": "3"
     },
     "execution_count": 21,
     "metadata": {},
     "output_type": "execute_result"
    }
   ],
   "source": [
    "# 행\n",
    "len(d[0])"
   ],
   "metadata": {
    "collapsed": false,
    "ExecuteTime": {
     "start_time": "2023-04-16T11:23:55.575975Z",
     "end_time": "2023-04-16T11:23:56.934216Z"
    }
   }
  },
  {
   "cell_type": "code",
   "execution_count": 22,
   "outputs": [
    {
     "data": {
      "text/plain": "4"
     },
     "execution_count": 22,
     "metadata": {},
     "output_type": "execute_result"
    }
   ],
   "source": [
    "# 열\n",
    "len(d[0][0])"
   ],
   "metadata": {
    "collapsed": false,
    "ExecuteTime": {
     "start_time": "2023-04-16T11:23:55.582956Z",
     "end_time": "2023-04-16T11:23:56.934216Z"
    }
   }
  },
  {
   "cell_type": "markdown",
   "source": [
    "| 행 __ 열 / 깊이"
   ],
   "metadata": {
    "collapsed": false
   }
  },
  {
   "cell_type": "markdown",
   "source": [
    "## 배열의 차원과 크기 알아내기\n",
    "- 더 간단한 방법 ndim, shape 속성을 이용.\n",
    "- ndim : 배열의 차원\n",
    "- shape : 배열의 크기 반환"
   ],
   "metadata": {
    "collapsed": false
   }
  },
  {
   "cell_type": "code",
   "execution_count": 23,
   "outputs": [
    {
     "name": "stdout",
     "output_type": "stream",
     "text": [
      "1\n",
      "(3,)\n"
     ]
    }
   ],
   "source": [
    "# a = np.array([1, 2, 3])\n",
    "print(a.ndim)\n",
    "print(a.shape)"
   ],
   "metadata": {
    "collapsed": false,
    "ExecuteTime": {
     "start_time": "2023-04-16T11:23:55.585948Z",
     "end_time": "2023-04-16T11:23:56.935213Z"
    }
   }
  },
  {
   "cell_type": "code",
   "execution_count": 24,
   "outputs": [
    {
     "name": "stdout",
     "output_type": "stream",
     "text": [
      "2\n",
      "(2, 3)\n"
     ]
    }
   ],
   "source": [
    "# c = np.array([[0, 1, 2], [3, 4, 5]])\n",
    "print(c.ndim)\n",
    "print(c.shape)"
   ],
   "metadata": {
    "collapsed": false,
    "ExecuteTime": {
     "start_time": "2023-04-16T11:23:55.588940Z",
     "end_time": "2023-04-16T11:23:56.935213Z"
    }
   }
  },
  {
   "cell_type": "code",
   "execution_count": 25,
   "outputs": [
    {
     "name": "stdout",
     "output_type": "stream",
     "text": [
      "3\n",
      "(2, 3, 4)\n"
     ]
    }
   ],
   "source": [
    "print(d.ndim)\n",
    "print(d.shape)"
   ],
   "metadata": {
    "collapsed": false,
    "ExecuteTime": {
     "start_time": "2023-04-16T11:23:55.593927Z",
     "end_time": "2023-04-16T11:23:56.961144Z"
    }
   }
  },
  {
   "cell_type": "markdown",
   "source": [
    "## 배열의 인덱싱¶\n",
    "일차원 배열의 인덱싱은 리스트의 인덱싱과 같음."
   ],
   "metadata": {
    "collapsed": false
   }
  },
  {
   "cell_type": "code",
   "execution_count": 26,
   "outputs": [],
   "source": [
    "a = np.array([0, 1, 2, 3, 4])"
   ],
   "metadata": {
    "collapsed": false,
    "ExecuteTime": {
     "start_time": "2023-04-16T11:23:55.599911Z",
     "end_time": "2023-04-16T11:23:56.961144Z"
    }
   }
  },
  {
   "cell_type": "code",
   "execution_count": 27,
   "outputs": [
    {
     "data": {
      "text/plain": "2"
     },
     "execution_count": 27,
     "metadata": {},
     "output_type": "execute_result"
    }
   ],
   "source": [
    "a[2]"
   ],
   "metadata": {
    "collapsed": false,
    "ExecuteTime": {
     "start_time": "2023-04-16T11:23:55.603900Z",
     "end_time": "2023-04-16T11:23:56.962142Z"
    }
   }
  },
  {
   "cell_type": "code",
   "execution_count": 28,
   "outputs": [
    {
     "data": {
      "text/plain": "4"
     },
     "execution_count": 28,
     "metadata": {},
     "output_type": "execute_result"
    }
   ],
   "source": [
    "a[-1]"
   ],
   "metadata": {
    "collapsed": false,
    "ExecuteTime": {
     "start_time": "2023-04-16T11:23:55.607889Z",
     "end_time": "2023-04-16T11:23:56.962142Z"
    }
   }
  },
  {
   "cell_type": "markdown",
   "source": [
    "다차원 배열일 때 : \",\"를 사용하여 접근. 콤마로 구분된 차원을 axis(축)이라고도 함."
   ],
   "metadata": {
    "collapsed": false
   }
  },
  {
   "cell_type": "code",
   "execution_count": 29,
   "outputs": [
    {
     "data": {
      "text/plain": "array([[0, 1, 2],\n       [3, 4, 5]])"
     },
     "execution_count": 29,
     "metadata": {},
     "output_type": "execute_result"
    }
   ],
   "source": [
    "a = np.array([[0, 1, 2], [3, 4, 5]])\n",
    "a"
   ],
   "metadata": {
    "collapsed": false,
    "ExecuteTime": {
     "start_time": "2023-04-16T11:23:55.618862Z",
     "end_time": "2023-04-16T11:23:56.983087Z"
    }
   }
  },
  {
   "cell_type": "code",
   "execution_count": 30,
   "outputs": [
    {
     "data": {
      "text/plain": "0"
     },
     "execution_count": 30,
     "metadata": {},
     "output_type": "execute_result"
    }
   ],
   "source": [
    "# 첫번째 행의 첫번째 열\n",
    "a[0,0]"
   ],
   "metadata": {
    "collapsed": false,
    "ExecuteTime": {
     "start_time": "2023-04-16T11:23:55.624844Z",
     "end_time": "2023-04-16T11:23:56.983087Z"
    }
   }
  },
  {
   "cell_type": "code",
   "execution_count": 31,
   "outputs": [
    {
     "data": {
      "text/plain": "1"
     },
     "execution_count": 31,
     "metadata": {},
     "output_type": "execute_result"
    }
   ],
   "source": [
    "# 첫번째 행의 두번째 열\n",
    "a[0,1]"
   ],
   "metadata": {
    "collapsed": false,
    "ExecuteTime": {
     "start_time": "2023-04-16T11:23:55.628835Z",
     "end_time": "2023-04-16T11:23:56.983087Z"
    }
   }
  },
  {
   "cell_type": "code",
   "execution_count": 32,
   "outputs": [
    {
     "data": {
      "text/plain": "5"
     },
     "execution_count": 32,
     "metadata": {},
     "output_type": "execute_result"
    }
   ],
   "source": [
    "# 마지막 행의 마지막 열\n",
    "a[-1,-1]"
   ],
   "metadata": {
    "collapsed": false,
    "ExecuteTime": {
     "start_time": "2023-04-16T11:23:55.635815Z",
     "end_time": "2023-04-16T11:23:56.984082Z"
    }
   }
  },
  {
   "cell_type": "markdown",
   "source": [
    "## 배열 슬라이싱\n",
    "배열 객체로 구현한 다차원 배열의 원소 중 복수 개를 접근하려면 일반적인 파이썬 슬라이싱과 comma(,)를 함께 사용"
   ],
   "metadata": {
    "collapsed": false
   }
  },
  {
   "cell_type": "code",
   "execution_count": 33,
   "outputs": [
    {
     "data": {
      "text/plain": "array([[0, 1, 2, 3],\n       [4, 5, 6, 7]])"
     },
     "execution_count": 33,
     "metadata": {},
     "output_type": "execute_result"
    }
   ],
   "source": [
    "a = np.array([[0, 1, 2, 3], [4, 5, 6, 7]])\n",
    "a"
   ],
   "metadata": {
    "collapsed": false,
    "ExecuteTime": {
     "start_time": "2023-04-16T11:23:55.641799Z",
     "end_time": "2023-04-16T11:23:56.984082Z"
    }
   }
  },
  {
   "cell_type": "code",
   "execution_count": 34,
   "outputs": [
    {
     "data": {
      "text/plain": "array([0, 1, 2, 3])"
     },
     "execution_count": 34,
     "metadata": {},
     "output_type": "execute_result"
    }
   ],
   "source": [
    " # 첫번째 행 전체\n",
    "a[0, :]"
   ],
   "metadata": {
    "collapsed": false,
    "ExecuteTime": {
     "start_time": "2023-04-16T11:23:55.647783Z",
     "end_time": "2023-04-16T11:23:56.984082Z"
    }
   }
  },
  {
   "cell_type": "code",
   "execution_count": 35,
   "outputs": [
    {
     "data": {
      "text/plain": "array([[0, 1, 2, 3]])"
     },
     "execution_count": 35,
     "metadata": {},
     "output_type": "execute_result"
    }
   ],
   "source": [
    "# 두번째 열 전체\n",
    "a[: 1]"
   ],
   "metadata": {
    "collapsed": false,
    "ExecuteTime": {
     "start_time": "2023-04-16T11:23:55.651772Z",
     "end_time": "2023-04-16T11:23:56.984082Z"
    }
   }
  },
  {
   "cell_type": "code",
   "execution_count": 36,
   "outputs": [
    {
     "data": {
      "text/plain": "array([5, 6, 7])"
     },
     "execution_count": 36,
     "metadata": {},
     "output_type": "execute_result"
    }
   ],
   "source": [
    "# 두번째 행의 두번째 열부터 끝열까지\n",
    "a[1, 1:]"
   ],
   "metadata": {
    "collapsed": false,
    "ExecuteTime": {
     "start_time": "2023-04-16T11:23:55.656759Z",
     "end_time": "2023-04-16T11:23:56.985079Z"
    }
   }
  },
  {
   "cell_type": "code",
   "execution_count": 37,
   "outputs": [
    {
     "data": {
      "text/plain": "array([[0, 1],\n       [4, 5]])"
     },
     "execution_count": 37,
     "metadata": {},
     "output_type": "execute_result"
    }
   ],
   "source": [
    "# 두번째 행까지 * 두번째 열까지\n",
    "a[:2,:2]"
   ],
   "metadata": {
    "collapsed": false,
    "ExecuteTime": {
     "start_time": "2023-04-16T11:23:55.661745Z",
     "end_time": "2023-04-16T11:23:56.985079Z"
    }
   }
  },
  {
   "cell_type": "markdown",
   "source": [
    "#### 연습 문제 2\n",
    "\n",
    "다음 행렬과 같은 행렬이 있다.\n",
    "\n",
    "1. 이 행렬에서 값 7 을 인덱싱한다.\n",
    "2. 이 행렬에서 값 14 을 인덱싱한다.\n",
    "3. 이 행렬에서 배열 [6, 7] 을 슬라이싱한다.\n",
    "4. 이 행렬에서 배열 [7, 12] 을 슬라이싱한다.\n",
    "5. 이 행렬에서 배열 [[3, 4], [8, 9]] 을 슬라이싱한다."
   ],
   "metadata": {
    "collapsed": false
   }
  },
  {
   "cell_type": "code",
   "execution_count": 38,
   "outputs": [],
   "source": [
    "m = np.array([[ 0,  1,  2,  3,  4],\n",
    "              [ 5,  6,  7,  8,  9],\n",
    "              [10, 11, 12, 13, 14]])"
   ],
   "metadata": {
    "collapsed": false,
    "ExecuteTime": {
     "start_time": "2023-04-16T11:23:55.667730Z",
     "end_time": "2023-04-16T11:23:56.985079Z"
    }
   }
  },
  {
   "cell_type": "code",
   "execution_count": 39,
   "outputs": [
    {
     "data": {
      "text/plain": "7"
     },
     "execution_count": 39,
     "metadata": {},
     "output_type": "execute_result"
    }
   ],
   "source": [
    "# 1\n",
    "m[1,2]\n"
   ],
   "metadata": {
    "collapsed": false,
    "ExecuteTime": {
     "start_time": "2023-04-16T11:23:55.672716Z",
     "end_time": "2023-04-16T11:23:56.986077Z"
    }
   }
  },
  {
   "cell_type": "code",
   "execution_count": 40,
   "outputs": [
    {
     "data": {
      "text/plain": "14"
     },
     "execution_count": 40,
     "metadata": {},
     "output_type": "execute_result"
    }
   ],
   "source": [
    "# 2\n",
    "m[2,4]\n"
   ],
   "metadata": {
    "collapsed": false,
    "ExecuteTime": {
     "start_time": "2023-04-16T11:23:55.676706Z",
     "end_time": "2023-04-16T11:23:56.986077Z"
    }
   }
  },
  {
   "cell_type": "code",
   "execution_count": 41,
   "outputs": [
    {
     "data": {
      "text/plain": "array([6, 7])"
     },
     "execution_count": 41,
     "metadata": {},
     "output_type": "execute_result"
    }
   ],
   "source": [
    "# 3\n",
    "m[1,1:2+1]"
   ],
   "metadata": {
    "collapsed": false,
    "ExecuteTime": {
     "start_time": "2023-04-16T11:23:55.682690Z",
     "end_time": "2023-04-16T11:23:56.986077Z"
    }
   }
  },
  {
   "cell_type": "code",
   "execution_count": 42,
   "outputs": [
    {
     "data": {
      "text/plain": "array([ 7, 12])"
     },
     "execution_count": 42,
     "metadata": {},
     "output_type": "execute_result"
    }
   ],
   "source": [
    "# 4\n",
    "m[1:2+1,2]"
   ],
   "metadata": {
    "collapsed": false,
    "ExecuteTime": {
     "start_time": "2023-04-16T11:23:55.688674Z",
     "end_time": "2023-04-16T11:23:56.986077Z"
    }
   }
  },
  {
   "cell_type": "code",
   "execution_count": 43,
   "outputs": [
    {
     "data": {
      "text/plain": "array([[3, 4],\n       [8, 9]])"
     },
     "execution_count": 43,
     "metadata": {},
     "output_type": "execute_result"
    }
   ],
   "source": [
    "# 5\n",
    "m[:1+1,3:]"
   ],
   "metadata": {
    "collapsed": false,
    "ExecuteTime": {
     "start_time": "2023-04-16T11:23:55.693660Z",
     "end_time": "2023-04-16T11:23:56.990067Z"
    }
   }
  },
  {
   "cell_type": "markdown",
   "source": [
    "## 배열 인덱싱 == 팬시 인덱싱\n",
    "- 질의 기능 수행\n",
    "- 배열 인덱싱에서는 [] 안의 인덱스 정보로 숫자나 슬라이스가 아니라 위치 정보를 나타내는 또 다른 ndarray 배열을 받을 수 있음.(==인덱스배열)\n",
    "- 인덱스 배열\n",
    "    - 불리언 배열 방식 : 인덱스 배열의 원소가 True, False 두 값으로만 구성, 원래 ndarray 객체의 크기와 같아야 함.\n",
    "    - 정수 배열 방식 : 인덱스 배열의 원소 각각이 원래 ndarray 객체 원소 하나를 가리키는 인덱스 정수여야 함."
   ],
   "metadata": {
    "collapsed": false
   }
  },
  {
   "cell_type": "markdown",
   "source": [
    "불리언 배열 방식"
   ],
   "metadata": {
    "collapsed": false
   }
  },
  {
   "cell_type": "code",
   "execution_count": 44,
   "outputs": [
    {
     "data": {
      "text/plain": "array([0, 2, 4, 6, 8])"
     },
     "execution_count": 44,
     "metadata": {},
     "output_type": "execute_result"
    }
   ],
   "source": [
    "# ndarray에서 짝수인 원소만 골라내려면\n",
    "# 짝수인 원소에 대응하는 인덱스 값이 True이고 홀수인 원소에 대응하는 인덱스 값이 False인 인덱스 배열을 넣으면 됨.\n",
    "a = np.array([0, 1, 2, 3, 4, 5, 6, 7, 8, 9])\n",
    "idx = np.array([True, False, True, False, True,\n",
    "               False, True, False, True, False])\n",
    "a[idx]"
   ],
   "metadata": {
    "collapsed": false,
    "ExecuteTime": {
     "start_time": "2023-04-16T11:23:55.699644Z",
     "end_time": "2023-04-16T11:23:56.990067Z"
    }
   }
  },
  {
   "cell_type": "code",
   "execution_count": 45,
   "outputs": [
    {
     "data": {
      "text/plain": "array([0, 1, 0, 1, 0, 1, 0, 1, 0, 1], dtype=int32)"
     },
     "execution_count": 45,
     "metadata": {},
     "output_type": "execute_result"
    }
   ],
   "source": [
    "# 조건문 연산\n",
    "a%2 # 0, 1로"
   ],
   "metadata": {
    "collapsed": false,
    "ExecuteTime": {
     "start_time": "2023-04-16T11:23:55.705629Z",
     "end_time": "2023-04-16T11:23:56.991063Z"
    }
   }
  },
  {
   "cell_type": "code",
   "execution_count": 46,
   "outputs": [
    {
     "data": {
      "text/plain": "array([ True, False,  True, False,  True, False,  True, False,  True,\n       False])"
     },
     "execution_count": 46,
     "metadata": {},
     "output_type": "execute_result"
    }
   ],
   "source": [
    "a%2==0 # true, false로"
   ],
   "metadata": {
    "collapsed": false,
    "ExecuteTime": {
     "start_time": "2023-04-16T11:23:55.711613Z",
     "end_time": "2023-04-16T11:23:56.991063Z"
    }
   }
  },
  {
   "cell_type": "code",
   "execution_count": 47,
   "outputs": [
    {
     "data": {
      "text/plain": "array([0, 2, 4, 6, 8])"
     },
     "execution_count": 47,
     "metadata": {},
     "output_type": "execute_result"
    }
   ],
   "source": [
    "a[a%2==0] # 0인값 -> 짝수인 값"
   ],
   "metadata": {
    "collapsed": false,
    "ExecuteTime": {
     "start_time": "2023-04-16T11:23:55.716599Z",
     "end_time": "2023-04-16T11:23:56.991063Z"
    }
   }
  },
  {
   "cell_type": "markdown",
   "source": [
    "정수 배열 방식"
   ],
   "metadata": {
    "collapsed": false
   }
  },
  {
   "cell_type": "code",
   "execution_count": 48,
   "outputs": [
    {
     "data": {
      "text/plain": "array([11, 33, 55, 77, 99])"
     },
     "execution_count": 48,
     "metadata": {},
     "output_type": "execute_result"
    }
   ],
   "source": [
    "#  1차원 배열에서 홀수번째 원소만 골라내기\n",
    "a = np.array([11, 22, 33, 44, 55, 66, 77, 88, 99])\n",
    "idx = np.array([0, 2, 4, 6, 8])\n",
    "a[idx]"
   ],
   "metadata": {
    "collapsed": false,
    "ExecuteTime": {
     "start_time": "2023-04-16T11:23:55.721586Z",
     "end_time": "2023-04-16T11:23:56.992062Z"
    }
   }
  },
  {
   "cell_type": "code",
   "execution_count": 49,
   "outputs": [
    {
     "data": {
      "text/plain": "array([11, 11, 11, 11, 11, 11, 22, 22, 22, 22, 22, 33, 33, 33, 33, 33])"
     },
     "execution_count": 49,
     "metadata": {},
     "output_type": "execute_result"
    }
   ],
   "source": [
    "# 이 때는 배열 인덱스의 크기가 원래의 배열 크기와 달라도 상관없음.\n",
    "# 같은 원소를 반복해서 가리키는 경우에는 배열 인덱스가 원래의 배열보다 더 커지기도 한다.\n",
    "a = np.array([11, 22, 33, 44, 55, 66, 77, 88, 99])\n",
    "idx = np.array([0, 0, 0, 0, 0, 0, 1, 1, 1, 1, 1, 2, 2, 2, 2, 2])\n",
    "a[idx]"
   ],
   "metadata": {
    "collapsed": false,
    "ExecuteTime": {
     "start_time": "2023-04-16T11:23:55.728568Z",
     "end_time": "2023-04-16T11:23:56.992062Z"
    }
   }
  },
  {
   "cell_type": "code",
   "execution_count": 50,
   "outputs": [
    {
     "data": {
      "text/plain": "array([[ 1,  2,  3,  4],\n       [ 5,  6,  7,  8],\n       [ 9, 10, 11, 12]])"
     },
     "execution_count": 50,
     "metadata": {},
     "output_type": "execute_result"
    }
   ],
   "source": [
    "# 다차원 배열의 각 차원에 대해서도 할 수 있음.\n",
    "a = np.array([[1, 2, 3, 4], [5, 6, 7, 8], [9, 10, 11, 12]])\n",
    "a"
   ],
   "metadata": {
    "collapsed": false,
    "ExecuteTime": {
     "start_time": "2023-04-16T11:23:55.735549Z",
     "end_time": "2023-04-16T11:23:56.992062Z"
    }
   }
  },
  {
   "cell_type": "code",
   "execution_count": 51,
   "outputs": [
    {
     "data": {
      "text/plain": "array([[ 1,  3],\n       [ 5,  7],\n       [ 9, 11]])"
     },
     "execution_count": 51,
     "metadata": {},
     "output_type": "execute_result"
    }
   ],
   "source": [
    "a[:,[True,False,True,False]] # 전체 행에서 0,2열만 출력"
   ],
   "metadata": {
    "collapsed": false,
    "ExecuteTime": {
     "start_time": "2023-04-16T11:23:55.741533Z",
     "end_time": "2023-04-16T11:23:56.992062Z"
    }
   }
  },
  {
   "cell_type": "markdown",
   "source": [
    "#### 콜론(:)을 사용하여 범위를 지정\n",
    "start:stop:step 형식\n",
    "start: 슬라이스의 시작 위치를 지정. 포함.\n",
    "stop: 슬라이스의 끝 위치를 지정. 포함되지 않음.\n",
    "step: 슬라이스에서 건너뛸 원소의 간격을 지정. 생략되면 기본 값인 1이 사용.\n",
    "\n",
    "ex.\n",
    "- 처음 다섯개 list[:5]\n",
    "- 모든 원소를 거꾸로 list[::-1]\n",
    "- 2번째 원소부터 list[1:]\n",
    "- 2번째 원소부터 4번째 원소까지 list[1:4]\n"
   ],
   "metadata": {
    "collapsed": false
   }
  },
  {
   "cell_type": "code",
   "execution_count": 52,
   "outputs": [
    {
     "data": {
      "text/plain": "array([[ 9, 10, 11, 12],\n       [ 1,  2,  3,  4],\n       [ 5,  6,  7,  8]])"
     },
     "execution_count": 52,
     "metadata": {},
     "output_type": "execute_result"
    }
   ],
   "source": [
    "a[[2,0,1],:] # 행의 순서를 변경"
   ],
   "metadata": {
    "collapsed": false,
    "ExecuteTime": {
     "start_time": "2023-04-16T11:23:55.747517Z",
     "end_time": "2023-04-16T11:23:56.993059Z"
    }
   }
  },
  {
   "cell_type": "markdown",
   "source": [
    "#### 연습 문제 3\n",
    "다음 행렬과 같은 배열이 있다.\n",
    "1. 이 배열에서 3의 배수를 찾아라.\n",
    "2. 이 배열에서 4로 나누면 1이 남는 수를 찾아라.\n",
    "3. 이 배열에서 3으로 나누면 나누어지고 4로 나누면 1이 남는 수를 찾아라"
   ],
   "metadata": {
    "collapsed": false
   }
  },
  {
   "cell_type": "code",
   "execution_count": 53,
   "outputs": [],
   "source": [
    "x = np.array([1, 2, 3, 4, 5, 6, 7, 8, 9, 10,\n",
    "             11, 12, 13, 14, 15, 16, 17, 18, 19, 20])"
   ],
   "metadata": {
    "collapsed": false,
    "ExecuteTime": {
     "start_time": "2023-04-16T11:23:55.753502Z",
     "end_time": "2023-04-16T11:23:56.993059Z"
    }
   }
  },
  {
   "cell_type": "code",
   "execution_count": 54,
   "outputs": [
    {
     "data": {
      "text/plain": "array([1, 2, 0, 1, 2, 0, 1, 2, 0, 1, 2, 0, 1, 2, 0, 1, 2, 0, 1, 2],\n      dtype=int32)"
     },
     "execution_count": 54,
     "metadata": {},
     "output_type": "execute_result"
    }
   ],
   "source": [
    "# 1\n",
    "x%3"
   ],
   "metadata": {
    "collapsed": false,
    "ExecuteTime": {
     "start_time": "2023-04-16T11:23:55.758487Z",
     "end_time": "2023-04-16T11:23:56.993059Z"
    }
   }
  },
  {
   "cell_type": "code",
   "execution_count": 55,
   "outputs": [
    {
     "data": {
      "text/plain": "array([False, False,  True, False, False,  True, False, False,  True,\n       False, False,  True, False, False,  True, False, False,  True,\n       False, False])"
     },
     "execution_count": 55,
     "metadata": {},
     "output_type": "execute_result"
    }
   ],
   "source": [
    "x%3==0"
   ],
   "metadata": {
    "collapsed": false,
    "ExecuteTime": {
     "start_time": "2023-04-16T11:23:55.764471Z",
     "end_time": "2023-04-16T11:23:56.994057Z"
    }
   }
  },
  {
   "cell_type": "code",
   "execution_count": 56,
   "outputs": [
    {
     "data": {
      "text/plain": "array([ 3,  6,  9, 12, 15, 18])"
     },
     "execution_count": 56,
     "metadata": {},
     "output_type": "execute_result"
    }
   ],
   "source": [
    "x[x%3==0]"
   ],
   "metadata": {
    "collapsed": false,
    "ExecuteTime": {
     "start_time": "2023-04-16T11:23:55.771452Z",
     "end_time": "2023-04-16T11:23:56.994057Z"
    }
   }
  },
  {
   "cell_type": "code",
   "execution_count": 57,
   "outputs": [
    {
     "data": {
      "text/plain": "array([ 1,  5,  9, 13, 17])"
     },
     "execution_count": 57,
     "metadata": {},
     "output_type": "execute_result"
    }
   ],
   "source": [
    "# 2\n",
    "x[x%4==1]"
   ],
   "metadata": {
    "collapsed": false,
    "ExecuteTime": {
     "start_time": "2023-04-16T11:23:55.777437Z",
     "end_time": "2023-04-16T11:23:56.995053Z"
    }
   }
  },
  {
   "cell_type": "code",
   "execution_count": 58,
   "outputs": [
    {
     "data": {
      "text/plain": "array([9])"
     },
     "execution_count": 58,
     "metadata": {},
     "output_type": "execute_result"
    }
   ],
   "source": [
    "x[(x%3==0) & (x%4==1)]\n",
    "# & 연산자를 사용하여 불리언 값의 요소별 논리곱을 계산할 때\n",
    "# !!! 조건식을 괄호로 묶어야 함. !!!"
   ],
   "metadata": {
    "collapsed": false,
    "ExecuteTime": {
     "start_time": "2023-04-16T11:23:55.782423Z",
     "end_time": "2023-04-16T11:23:56.995053Z"
    }
   }
  },
  {
   "cell_type": "markdown",
   "source": [
    "## 배열의 생성과 변형"
   ],
   "metadata": {
    "collapsed": false
   }
  },
  {
   "cell_type": "markdown",
   "source": [
    "### 넘파이의 자료형\n",
    "- ndarray 클래스는 원소가 모두 같은 자료형이어야 함.\n",
    "- array 명령으로 배열을 만들 때 dtype 인수를 사용하면 명시적으로 적용 가능.\n",
    "- dtype 인수가 없으면 스스로 자료형을 유추해야함.\n",
    "- 만들어진 배열의 자료형을 알아내려면 dtype 속성을 보면 된다."
   ],
   "metadata": {
    "collapsed": false
   }
  },
  {
   "cell_type": "code",
   "execution_count": 59,
   "outputs": [
    {
     "data": {
      "text/plain": "dtype('int32')"
     },
     "execution_count": 59,
     "metadata": {},
     "output_type": "execute_result"
    }
   ],
   "source": [
    "x = np.array([1,2,3])\n",
    "x.dtype"
   ],
   "metadata": {
    "collapsed": false,
    "ExecuteTime": {
     "start_time": "2023-04-16T11:23:55.787410Z",
     "end_time": "2023-04-16T11:23:56.995053Z"
    }
   }
  },
  {
   "cell_type": "code",
   "execution_count": 60,
   "outputs": [
    {
     "data": {
      "text/plain": "dtype('float64')"
     },
     "execution_count": 60,
     "metadata": {},
     "output_type": "execute_result"
    }
   ],
   "source": [
    "x = np.array([1.0,2.0,3.0])\n",
    "x.dtype"
   ],
   "metadata": {
    "collapsed": false,
    "ExecuteTime": {
     "start_time": "2023-04-16T11:23:55.793394Z",
     "end_time": "2023-04-16T11:23:56.995053Z"
    }
   }
  },
  {
   "cell_type": "code",
   "execution_count": 61,
   "outputs": [
    {
     "data": {
      "text/plain": "dtype('float64')"
     },
     "execution_count": 61,
     "metadata": {},
     "output_type": "execute_result"
    }
   ],
   "source": [
    "x = np.array([1,2,3.0])\n",
    "x.dtype"
   ],
   "metadata": {
    "collapsed": false,
    "ExecuteTime": {
     "start_time": "2023-04-16T11:23:55.798380Z",
     "end_time": "2023-04-16T11:23:56.996050Z"
    }
   }
  },
  {
   "cell_type": "markdown",
   "source": [
    "dtype 인수로 지정할 자료형은 dtype 접두사로 시작하는 문자열.\n",
    "뒤에 오는 숫자는 바이트수 혹은 글자수.\n",
    "ex. f8 -> 8바이트 부동소수점 실수"
   ],
   "metadata": {
    "collapsed": false
   }
  },
  {
   "cell_type": "code",
   "execution_count": 62,
   "outputs": [
    {
     "data": {
      "text/plain": "dtype('float32')"
     },
     "execution_count": 62,
     "metadata": {},
     "output_type": "execute_result"
    }
   ],
   "source": [
    "x= np.array([1,2,3], dtype='f')\n",
    "x.dtype"
   ],
   "metadata": {
    "collapsed": false,
    "ExecuteTime": {
     "start_time": "2023-04-16T11:23:55.804366Z",
     "end_time": "2023-04-16T11:23:56.996050Z"
    }
   }
  },
  {
   "cell_type": "code",
   "execution_count": 63,
   "outputs": [
    {
     "data": {
      "text/plain": "3.0"
     },
     "execution_count": 63,
     "metadata": {},
     "output_type": "execute_result"
    }
   ],
   "source": [
    "x[0]+x[1] # dtype이 8바이트 부동소수점 실수이기 때문에 결과 3.0"
   ],
   "metadata": {
    "collapsed": false,
    "ExecuteTime": {
     "start_time": "2023-04-16T11:23:55.809814Z",
     "end_time": "2023-04-16T11:23:56.996050Z"
    }
   }
  },
  {
   "cell_type": "code",
   "execution_count": 64,
   "outputs": [
    {
     "data": {
      "text/plain": "dtype('<U1')"
     },
     "execution_count": 64,
     "metadata": {},
     "output_type": "execute_result"
    }
   ],
   "source": [
    "x = np.array([1, 2, 3], dtype='U')\n",
    "x.dtype"
   ],
   "metadata": {
    "collapsed": false,
    "ExecuteTime": {
     "start_time": "2023-04-16T11:23:55.813790Z",
     "end_time": "2023-04-16T11:23:56.997048Z"
    }
   }
  },
  {
   "cell_type": "code",
   "execution_count": 65,
   "outputs": [
    {
     "data": {
      "text/plain": "'12'"
     },
     "execution_count": 65,
     "metadata": {},
     "output_type": "execute_result"
    }
   ],
   "source": [
    "x[0]+x[1]\n",
    "# dtype이 유니코드 문자이기 때문에\n",
    "# 배열의 첫 번째 원소와 두 번째 원소를 이어붙여서 '12'라는 문자열을 만든다."
   ],
   "metadata": {
    "collapsed": false,
    "ExecuteTime": {
     "start_time": "2023-04-16T11:23:55.819774Z",
     "end_time": "2023-04-16T11:23:56.997048Z"
    }
   }
  },
  {
   "cell_type": "markdown",
   "source": [
    "## Inf와 NaN\n",
    "\n",
    "넘파이에서는 무한대를 표현하기 위한 np.inf(infinity)와\n",
    "정의할 수 없는 숫자를 나타내는 np.nan(not a number)을 사용할 수 있다."
   ],
   "metadata": {
    "collapsed": false
   }
  },
  {
   "cell_type": "code",
   "execution_count": 66,
   "outputs": [
    {
     "name": "stderr",
     "output_type": "stream",
     "text": [
      "C:\\Users\\SW\\AppData\\Local\\Temp\\ipykernel_2284\\3347930688.py:2: RuntimeWarning: divide by zero encountered in divide\n",
      "  np.array([0,1,-1,0])/np.array([1,0,0,0])\n",
      "C:\\Users\\SW\\AppData\\Local\\Temp\\ipykernel_2284\\3347930688.py:2: RuntimeWarning: invalid value encountered in divide\n",
      "  np.array([0,1,-1,0])/np.array([1,0,0,0])\n"
     ]
    },
    {
     "data": {
      "text/plain": "array([  0.,  inf, -inf,  nan])"
     },
     "execution_count": 66,
     "metadata": {},
     "output_type": "execute_result"
    }
   ],
   "source": [
    "# 1을 0으로 나누려고 하거나 0에 대한 로그 값을 계산하면 무한대인 np.inf이 나온다.\n",
    "np.array([0,1,-1,0])/np.array([1,0,0,0])"
   ],
   "metadata": {
    "collapsed": false,
    "ExecuteTime": {
     "start_time": "2023-04-16T11:23:55.827752Z",
     "end_time": "2023-04-16T11:23:56.997048Z"
    }
   }
  },
  {
   "cell_type": "code",
   "execution_count": 67,
   "outputs": [
    {
     "name": "stderr",
     "output_type": "stream",
     "text": [
      "C:\\Users\\SW\\AppData\\Local\\Temp\\ipykernel_2284\\1608527138.py:1: RuntimeWarning: divide by zero encountered in log\n",
      "  np.log(0)\n"
     ]
    },
    {
     "data": {
      "text/plain": "-inf"
     },
     "execution_count": 67,
     "metadata": {},
     "output_type": "execute_result"
    }
   ],
   "source": [
    "np.log(0)"
   ],
   "metadata": {
    "collapsed": false,
    "ExecuteTime": {
     "start_time": "2023-04-16T11:23:55.830745Z",
     "end_time": "2023-04-16T11:23:56.998045Z"
    }
   }
  },
  {
   "cell_type": "code",
   "execution_count": 68,
   "outputs": [
    {
     "data": {
      "text/plain": "0.0"
     },
     "execution_count": 68,
     "metadata": {},
     "output_type": "execute_result"
    }
   ],
   "source": [
    "np.exp(-np.inf)"
   ],
   "metadata": {
    "collapsed": false,
    "ExecuteTime": {
     "start_time": "2023-04-16T11:23:55.836728Z",
     "end_time": "2023-04-16T11:23:56.998045Z"
    }
   }
  },
  {
   "cell_type": "markdown",
   "source": [
    "NumPy의 exp 함수를 사용하여 -inf 값을 지수 함수에 적용\n",
    "inf는 무한히 작은 음의 무한대를 나타내는 특수한 부동소수점 값.\n",
    "지수 함수에 매우 작은 값 (음의 무한대에 가까운)을 넣어 계산한 결과.\n",
    "np.exp 함수는 자연상수 e의 지수 함수를 계산하는 함수.\n",
    "=> np.exp(-np.inf)는 e의 -inf 거듭제곱을 계산한 값.\n",
    "==> 이는 0에 매우 가까운 아주 작은 양수 (즉, 0에 수렴하는 값)\n",
    "===> 결과적으로 np.exp(-np.inf)의 값은 0에 매우 가까운 아주 작은 양수"
   ],
   "metadata": {
    "collapsed": false
   }
  },
  {
   "cell_type": "markdown",
   "source": [
    "## 배열의 생성\n",
    "NumPy는 몇가지 단순한 배열을 생성하는 명령을 제공.\n",
    "- zeros, ones\n",
    "- zeros_like, ones_like\n",
    "- empty\n",
    "- arange\n",
    "- linspace, logspace"
   ],
   "metadata": {
    "collapsed": false
   }
  },
  {
   "cell_type": "code",
   "execution_count": 69,
   "outputs": [
    {
     "data": {
      "text/plain": "array([0., 0., 0., 0., 0.])"
     },
     "execution_count": 69,
     "metadata": {},
     "output_type": "execute_result"
    }
   ],
   "source": [
    "# 크기가 정해져 있고 모든 값이 0인 배열을 생성하려면 zeros 명령 사용.\n",
    "a= np.zeros(5) # 크기 5\n",
    "a"
   ],
   "metadata": {
    "collapsed": false,
    "ExecuteTime": {
     "start_time": "2023-04-16T11:23:55.841715Z",
     "end_time": "2023-04-16T11:23:56.998045Z"
    }
   }
  },
  {
   "cell_type": "code",
   "execution_count": 70,
   "outputs": [
    {
     "data": {
      "text/plain": "array([[0., 0., 0.],\n       [0., 0., 0.]])"
     },
     "execution_count": 70,
     "metadata": {},
     "output_type": "execute_result"
    }
   ],
   "source": [
    "# 크기를 뜻하는 튜플을 입력하면 다차원 배열이 만들어짐.\n",
    "b = np.zeros((2,3))\n",
    "b"
   ],
   "metadata": {
    "collapsed": false,
    "ExecuteTime": {
     "start_time": "2023-04-16T11:23:55.848699Z",
     "end_time": "2023-04-16T11:23:56.998045Z"
    }
   }
  },
  {
   "cell_type": "code",
   "execution_count": 71,
   "outputs": [],
   "source": [
    "# dtype 인수를 명시하면 해당 자료형 원소를 가진 배열을 만들 수 있음."
   ],
   "metadata": {
    "collapsed": false,
    "ExecuteTime": {
     "start_time": "2023-04-16T11:23:55.854682Z",
     "end_time": "2023-04-16T11:23:56.998045Z"
    }
   }
  },
  {
   "cell_type": "code",
   "execution_count": 72,
   "outputs": [
    {
     "data": {
      "text/plain": "array([[0, 0],\n       [0, 0],\n       [0, 0],\n       [0, 0],\n       [0, 0]], dtype=int32)"
     },
     "execution_count": 72,
     "metadata": {},
     "output_type": "execute_result"
    }
   ],
   "source": [
    "c= np.zeros((5,2),dtype=\"i\")\n",
    "c"
   ],
   "metadata": {
    "collapsed": false,
    "ExecuteTime": {
     "start_time": "2023-04-16T11:23:55.860665Z",
     "end_time": "2023-04-16T11:23:56.999042Z"
    }
   }
  },
  {
   "cell_type": "code",
   "execution_count": 73,
   "outputs": [
    {
     "data": {
      "text/plain": "array(['', '', '', '', ''], dtype='<U4')"
     },
     "execution_count": 73,
     "metadata": {},
     "output_type": "execute_result"
    }
   ],
   "source": [
    "# 문자열 배열도 가능.\n",
    "# 더 큰 크기의 문자열을 할당하면 잘리기 때문에 주의.\n",
    "d= np.zeros(5,dtype='U4')\n",
    "d"
   ],
   "metadata": {
    "collapsed": false,
    "ExecuteTime": {
     "start_time": "2023-04-16T11:23:55.866648Z",
     "end_time": "2023-04-16T11:23:56.999042Z"
    }
   }
  },
  {
   "cell_type": "code",
   "execution_count": 74,
   "outputs": [
    {
     "data": {
      "text/plain": "dtype('<U4')"
     },
     "execution_count": 74,
     "metadata": {},
     "output_type": "execute_result"
    }
   ],
   "source": [
    "d.dtype"
   ],
   "metadata": {
    "collapsed": false,
    "ExecuteTime": {
     "start_time": "2023-04-16T11:23:55.870638Z",
     "end_time": "2023-04-16T11:23:56.999042Z"
    }
   }
  },
  {
   "cell_type": "code",
   "execution_count": 75,
   "outputs": [
    {
     "data": {
      "text/plain": "array(['a', 'abcd', 'ABCD', '', ''], dtype='<U4')"
     },
     "execution_count": 75,
     "metadata": {},
     "output_type": "execute_result"
    }
   ],
   "source": [
    "d[0]= 'a'\n",
    "d[1]= 'abcd'\n",
    "d[2]= 'ABCDE' # 잘림\n",
    "d"
   ],
   "metadata": {
    "collapsed": false,
    "ExecuteTime": {
     "start_time": "2023-04-16T11:23:55.876622Z",
     "end_time": "2023-04-16T11:23:56.999042Z"
    }
   }
  },
  {
   "cell_type": "code",
   "execution_count": 76,
   "outputs": [
    {
     "data": {
      "text/plain": "array([[[1, 1, 1, 1],\n        [1, 1, 1, 1],\n        [1, 1, 1, 1]],\n\n       [[1, 1, 1, 1],\n        [1, 1, 1, 1],\n        [1, 1, 1, 1]]], dtype=int64)"
     },
     "execution_count": 76,
     "metadata": {},
     "output_type": "execute_result"
    }
   ],
   "source": [
    "# 1로 초기화된 배열을 생성하려면 ones 명령어 사용\n",
    "e = np.ones((2,3,4), dtype=\"i8\")\n",
    "e"
   ],
   "metadata": {
    "collapsed": false,
    "ExecuteTime": {
     "start_time": "2023-04-16T11:23:55.883603Z",
     "end_time": "2023-04-16T11:23:57.000040Z"
    }
   }
  },
  {
   "cell_type": "code",
   "execution_count": 77,
   "outputs": [
    {
     "data": {
      "text/plain": "array([[1., 1., 1.],\n       [1., 1., 1.]], dtype=float32)"
     },
     "execution_count": 77,
     "metadata": {},
     "output_type": "execute_result"
    }
   ],
   "source": [
    "# 크기를 튜플로 명시하지 않고 다른 배열과 같은 크기의 배열을 생성하고 싶다면\n",
    "# ones_like, zeros_like 명령을 사용\n",
    "f = np.ones_like(b, dtype=\"f\")\n",
    "f"
   ],
   "metadata": {
    "collapsed": false,
    "ExecuteTime": {
     "start_time": "2023-04-16T11:23:55.888591Z",
     "end_time": "2023-04-16T11:23:57.000040Z"
    }
   }
  },
  {
   "cell_type": "code",
   "execution_count": 78,
   "outputs": [
    {
     "data": {
      "text/plain": "array([[4.24399158e-314, 8.48798317e-314, 1.27319747e-313],\n       [1.69759663e-313, 2.12199579e-313, 2.54639495e-313],\n       [2.54639495e-313, 2.97079411e-313, 3.39519327e-313],\n       [3.81959242e-313, 4.24399158e-313, 4.66839074e-313]])"
     },
     "execution_count": 78,
     "metadata": {},
     "output_type": "execute_result"
    }
   ],
   "source": [
    "# 배열의 크기가 커지면 배열을 초기화 하는데도 시간이 걸림.\n",
    "# 이 시간을 단축하려면 배열을 생성만 하고 특정한 값으로 초기화를 하지 않는 empty 명령을 사용할 수 있다.\n",
    "# empty 명령으로 생성된 배열에는 기존 메모리에 저장되어 있던 값이 있으므로 배열의 원소의 값을 미리 알 수 없다.\n",
    "g = np.empty((4, 3))\n",
    "g"
   ],
   "metadata": {
    "collapsed": false,
    "ExecuteTime": {
     "start_time": "2023-04-16T11:23:55.894574Z",
     "end_time": "2023-04-16T11:23:57.000040Z"
    }
   }
  },
  {
   "cell_type": "code",
   "execution_count": 79,
   "outputs": [
    {
     "data": {
      "text/plain": "array([0, 1, 2, 3, 4, 5, 6, 7, 8, 9])"
     },
     "execution_count": 79,
     "metadata": {},
     "output_type": "execute_result"
    }
   ],
   "source": [
    "# arange 명령은 NumPy 버전의 range 명령. 특정한 규칙에 따라 증가하는 수열을 만든다.\n",
    "np.arange(10)"
   ],
   "metadata": {
    "collapsed": false,
    "ExecuteTime": {
     "start_time": "2023-04-16T11:23:55.898564Z",
     "end_time": "2023-04-16T11:23:57.000040Z"
    }
   }
  },
  {
   "cell_type": "code",
   "execution_count": 80,
   "outputs": [
    {
     "data": {
      "text/plain": "array([ 3,  5,  7,  9, 11, 13, 15, 17, 19])"
     },
     "execution_count": 80,
     "metadata": {},
     "output_type": "execute_result"
    }
   ],
   "source": [
    "np.arange(3,20+1,2) # 시작, 끝(포함x), 단계"
   ],
   "metadata": {
    "collapsed": false,
    "ExecuteTime": {
     "start_time": "2023-04-16T11:23:55.904548Z",
     "end_time": "2023-04-16T11:23:57.001037Z"
    }
   }
  },
  {
   "cell_type": "code",
   "execution_count": 81,
   "outputs": [
    {
     "data": {
      "text/plain": "array([  0.,  25.,  50.,  75., 100.])"
     },
     "execution_count": 81,
     "metadata": {},
     "output_type": "execute_result"
    }
   ],
   "source": [
    "# linspace 명령이나 logspace 명령은 선형 구간 혹은 로그 구간을 지정한 구간의 수만큼 분할\n",
    "np.linspace(0,100,5) # 시작, 끝(포함), 갯수 # 분석에 많이 쓸일듯?"
   ],
   "metadata": {
    "collapsed": false,
    "ExecuteTime": {
     "start_time": "2023-04-16T11:23:55.910532Z",
     "end_time": "2023-04-16T11:23:57.001037Z"
    }
   }
  },
  {
   "cell_type": "code",
   "execution_count": 82,
   "outputs": [
    {
     "data": {
      "text/plain": "array([ 1.25892541,  1.58489319,  1.99526231,  2.51188643,  3.16227766,\n        3.98107171,  5.01187234,  6.30957344,  7.94328235, 10.        ])"
     },
     "execution_count": 82,
     "metadata": {},
     "output_type": "execute_result"
    }
   ],
   "source": [
    "np.logspace(0.1,1,10)\n",
    "# 데이터 시각화나 과학 계산에서 사용\n",
    "# 로그 스케일의 값을 사용하면 작은 값과 큰 값 모두를 포괄적으로 표시 가능.\n",
    "# 따라서 이 함수를 사용하여 로그 스케일의 값을 생성하고 그 값을 그래프의 x축 또는 y축 값으로 사용하면, 작은 값과 큰 값 모두를 적절하게 표시할 수 있다.\n",
    "# ex) np.logspace(0.1, 1, 10) -> x축 값으로 10의 거듭제곱 값을 생성"
   ],
   "metadata": {
    "collapsed": false,
    "ExecuteTime": {
     "start_time": "2023-04-16T11:23:55.915518Z",
     "end_time": "2023-04-16T11:23:57.001037Z"
    }
   }
  },
  {
   "cell_type": "code",
   "execution_count": 83,
   "outputs": [
    {
     "data": {
      "text/plain": "<Figure size 640x480 with 1 Axes>",
      "image/png": "[encoded data removed]"
     },
     "metadata": {},
     "output_type": "display_data"
    }
   ],
   "source": [
    "# 작은 값과 큰 값 모두를 포함한 그래프를 그릴 수 있다.\n",
    "import matplotlib.pyplot as plt\n",
    "import numpy as np\n",
    "\n",
    "x = np.logspace(0.1, 1, 10)\n",
    "y = np.sin(x)\n",
    "plt.plot(x, y)\n",
    "plt.show()\n",
    "\n",
    "# x축 값으로 10의 거듭제곱 값을 생성하고, 그 값에 대한 사인 값을 y축 값으로 사용하는 그래프.\n",
    "# 결과적으로 x축 값은 작은 값에서 큰 값으로 증가하면서 y축 값은 사인 곡선으로 변화."
   ],
   "metadata": {
    "collapsed": false,
    "ExecuteTime": {
     "start_time": "2023-04-16T11:23:55.930479Z",
     "end_time": "2023-04-16T11:23:57.603095Z"
    }
   }
  },
  {
   "cell_type": "markdown",
   "source": [
    "## 전치 연산\n",
    "2차원 배열의 전치(transpose) 연산은 행과 열을 바꾸는 작업.\n",
    "배열의 T 속성으로 구할 수 있다.\n",
    "메서드가 아닌 속성이라는 점에 유의. => 속성에 값을 할당하면 원래 배열의 값이 변경\n",
    "==> .copy() 메서드로 복사본을 생성해서 할당해야 원본은 변경되지 않음."
   ],
   "metadata": {
    "collapsed": false
   }
  },
  {
   "cell_type": "code",
   "execution_count": 84,
   "outputs": [
    {
     "name": "stdout",
     "output_type": "stream",
     "text": [
      "[[1 3 5]\n",
      " [2 4 6]]\n"
     ]
    }
   ],
   "source": [
    "arr = np.array([[1, 2], [3, 4], [5, 6]])\n",
    "arr_T = arr.T.copy()\n",
    "print(arr_T)"
   ],
   "metadata": {
    "collapsed": false,
    "ExecuteTime": {
     "start_time": "2023-04-16T11:23:56.837475Z",
     "end_time": "2023-04-16T11:23:57.603095Z"
    }
   }
  },
  {
   "cell_type": "code",
   "execution_count": 85,
   "outputs": [
    {
     "name": "stdout",
     "output_type": "stream",
     "text": [
      "[[100   3   5]\n",
      " [  2   4   6]]\n",
      "[[1 2]\n",
      " [3 4]\n",
      " [5 6]]\n"
     ]
    }
   ],
   "source": [
    "arr_T[0, 0] = 100\n",
    "print(arr_T)\n",
    "print(arr)\n",
    "# 모양은 유지 되지만 값 할당시 원본 배열의 값도 할당값으로 바뀌므로 주의!"
   ],
   "metadata": {
    "collapsed": false,
    "ExecuteTime": {
     "start_time": "2023-04-16T11:23:56.842461Z",
     "end_time": "2023-04-16T11:23:57.603095Z"
    }
   }
  },
  {
   "cell_type": "markdown",
   "source": [
    "transpose는 NumPy 배열의 메서드 중 하나로, 배열의 차원을 변경하는데 사용.\n",
    "전치(transpose) 연산은 행렬의 행과 열을 바꾸는 것을 의미하며, 이를 NumPy 배열에 적용하면\n",
    "배열의 차원 순서를 바꾼다.\n",
    "transpose 메서드는 ndarray.transpose 혹은 numpy.transpose 함수로 호출.\n",
    "이 메서드는 order 매개변수를 지원하여, 반환된 배열의 차원 순서를 지정할 수 있다.\n",
    "order 매개변수는 0부터 시작하는 정수의 튜플로, 이를 사용하여 원하는 차원 순서를 지정할 수 있다."
   ],
   "metadata": {
    "collapsed": false
   }
  },
  {
   "cell_type": "code",
   "execution_count": 86,
   "outputs": [
    {
     "data": {
      "text/plain": "array([[1, 2, 3],\n       [4, 5, 6]])"
     },
     "execution_count": 86,
     "metadata": {},
     "output_type": "execute_result"
    }
   ],
   "source": [
    "arr = np.array([[1, 2, 3], [4, 5, 6]])\n",
    "arr"
   ],
   "metadata": {
    "collapsed": false,
    "ExecuteTime": {
     "start_time": "2023-04-16T11:23:56.846450Z",
     "end_time": "2023-04-16T11:23:57.604093Z"
    }
   }
  },
  {
   "cell_type": "code",
   "execution_count": 87,
   "outputs": [
    {
     "data": {
      "text/plain": "array([[1, 4],\n       [2, 5],\n       [3, 6]])"
     },
     "execution_count": 87,
     "metadata": {},
     "output_type": "execute_result"
    }
   ],
   "source": [
    "arr_T = arr.transpose()\n",
    "# or arr_T = np.transpose(arr)\n",
    "arr_T"
   ],
   "metadata": {
    "collapsed": false,
    "ExecuteTime": {
     "start_time": "2023-04-16T11:23:56.851437Z",
     "end_time": "2023-04-16T11:23:57.604093Z"
    }
   }
  },
  {
   "cell_type": "code",
   "execution_count": 88,
   "outputs": [
    {
     "data": {
      "text/plain": "array([[100,   4],\n       [  2,   5],\n       [  3,   6]])"
     },
     "execution_count": 88,
     "metadata": {},
     "output_type": "execute_result"
    }
   ],
   "source": [
    "arr_T[0,0] = 100\n",
    "arr_T"
   ],
   "metadata": {
    "collapsed": false,
    "ExecuteTime": {
     "start_time": "2023-04-16T11:23:56.856423Z",
     "end_time": "2023-04-16T11:23:57.604093Z"
    }
   }
  },
  {
   "cell_type": "code",
   "execution_count": 89,
   "outputs": [
    {
     "data": {
      "text/plain": "array([[100,   2,   3],\n       [  4,   5,   6]])"
     },
     "execution_count": 89,
     "metadata": {},
     "output_type": "execute_result"
    }
   ],
   "source": [
    "arr # 원본배열에도 영향을 미친다. arr_T만 변경하려면 복사본을 만들어서 작업해야함."
   ],
   "metadata": {
    "collapsed": false,
    "ExecuteTime": {
     "start_time": "2023-04-16T11:23:56.862409Z",
     "end_time": "2023-04-16T11:23:57.604093Z"
    }
   }
  },
  {
   "cell_type": "code",
   "execution_count": 90,
   "outputs": [
    {
     "name": "stdout",
     "output_type": "stream",
     "text": [
      "[[1 2 3]\n",
      " [4 5 6]]\n",
      "[[100   4]\n",
      " [  2   5]\n",
      " [  3   6]]\n"
     ]
    }
   ],
   "source": [
    "arr = np.array([[1, 2, 3], [4, 5, 6]])\n",
    "arr_T = arr.transpose().copy()  # copy 메서드를 사용하여 arr_T 배열의 복사본 생성\n",
    "\n",
    "arr_T[0, 0] = 100  # arr_T 배열의 1행 1열의 값을 100으로 변경\n",
    "\n",
    "print(arr)  # 변경되지 않음\n",
    "print(arr_T)  # 1행 1열의 값이 100으로 변경됨"
   ],
   "metadata": {
    "collapsed": false,
    "ExecuteTime": {
     "start_time": "2023-04-16T11:23:56.868392Z",
     "end_time": "2023-04-16T11:23:57.605090Z"
    }
   }
  },
  {
   "cell_type": "markdown",
   "source": [
    "=> T 속성과 transpose() 함수의 가장 큰 차이점은 인자를 전달할 수 있는지 여부.\n",
    "   transpose() 함수는 전치행렬을 만들 때 축(axis)을 지정할 수 있고,(->지정 변경)\n",
    "   T 속성은 축을 지정할 수 없다.(->단순 변경)"
   ],
   "metadata": {
    "collapsed": false
   }
  },
  {
   "cell_type": "markdown",
   "source": [
    "## 배열의 크기 변형\n",
    "일단 만들어진 배열의 내부 데이터는 보존한 채로 형태만 바꾸려면 reshape 명령이나 메서드를 사용"
   ],
   "metadata": {
    "collapsed": false
   }
  },
  {
   "cell_type": "code",
   "execution_count": 91,
   "outputs": [
    {
     "data": {
      "text/plain": "array([ 0,  1,  2,  3,  4,  5,  6,  7,  8,  9, 10, 11])"
     },
     "execution_count": 91,
     "metadata": {},
     "output_type": "execute_result"
    }
   ],
   "source": [
    "# 12개의 원소를 가진 1차원 행렬은 3x4 형태의 2차원 행렬로 만들 수 있다.\n",
    "a = np.arange(12)\n",
    "a"
   ],
   "metadata": {
    "collapsed": false,
    "ExecuteTime": {
     "start_time": "2023-04-16T11:23:56.873378Z",
     "end_time": "2023-04-16T11:23:57.605090Z"
    }
   }
  },
  {
   "cell_type": "code",
   "execution_count": 92,
   "outputs": [
    {
     "data": {
      "text/plain": "array([[ 0,  1,  2,  3],\n       [ 4,  5,  6,  7],\n       [ 8,  9, 10, 11]])"
     },
     "execution_count": 92,
     "metadata": {},
     "output_type": "execute_result"
    }
   ],
   "source": [
    "b = a.reshape(3,4)\n",
    "b"
   ],
   "metadata": {
    "collapsed": false,
    "ExecuteTime": {
     "start_time": "2023-04-16T11:23:56.879363Z",
     "end_time": "2023-04-16T11:23:57.605090Z"
    }
   }
  },
  {
   "cell_type": "code",
   "execution_count": 93,
   "outputs": [
    {
     "data": {
      "text/plain": "array([[ 0,  1,  2],\n       [ 3,  4,  5],\n       [ 6,  7,  8],\n       [ 9, 10, 11]])"
     },
     "execution_count": 93,
     "metadata": {},
     "output_type": "execute_result"
    }
   ],
   "source": [
    "#사용하는 원소의 갯수가 정해저 있기 때문에 reshape 명령의 형태 튜플의 원소 중 하나는 -1이라는 숫자로 대체할 수 있다.\n",
    "a.reshape(4,-1)"
   ],
   "metadata": {
    "collapsed": false,
    "ExecuteTime": {
     "start_time": "2023-04-16T11:23:56.884350Z",
     "end_time": "2023-04-16T11:23:57.605090Z"
    }
   }
  },
  {
   "cell_type": "code",
   "execution_count": 94,
   "outputs": [
    {
     "data": {
      "text/plain": "array([[ 0,  1,  2,  3,  4,  5],\n       [ 6,  7,  8,  9, 10, 11]])"
     },
     "execution_count": 94,
     "metadata": {},
     "output_type": "execute_result"
    }
   ],
   "source": [
    "a.reshape(-1,6)"
   ],
   "metadata": {
    "collapsed": false,
    "ExecuteTime": {
     "start_time": "2023-04-16T11:23:56.889336Z",
     "end_time": "2023-04-16T11:23:57.605090Z"
    }
   }
  },
  {
   "cell_type": "code",
   "execution_count": 95,
   "outputs": [
    {
     "data": {
      "text/plain": "array([[[ 0,  1],\n        [ 2,  3],\n        [ 4,  5]],\n\n       [[ 6,  7],\n        [ 8,  9],\n        [10, 11]]])"
     },
     "execution_count": 95,
     "metadata": {},
     "output_type": "execute_result"
    }
   ],
   "source": [
    "a.reshape(2,-1,2)"
   ],
   "metadata": {
    "collapsed": false,
    "ExecuteTime": {
     "start_time": "2023-04-16T11:23:56.894322Z",
     "end_time": "2023-04-16T11:23:57.606087Z"
    }
   }
  },
  {
   "cell_type": "code",
   "execution_count": 96,
   "outputs": [
    {
     "data": {
      "text/plain": "array([ 0,  1,  2,  3,  4,  5,  6,  7,  8,  9, 10, 11])"
     },
     "execution_count": 96,
     "metadata": {},
     "output_type": "execute_result"
    }
   ],
   "source": [
    "# 다차원 배열을 무조건 1차원으로 만들기 위해서는 flatten 나 ravel 메서드를 사용\n",
    "a.flatten()"
   ],
   "metadata": {
    "collapsed": false,
    "ExecuteTime": {
     "start_time": "2023-04-16T11:23:56.901304Z",
     "end_time": "2023-04-16T11:23:57.606087Z"
    }
   }
  },
  {
   "cell_type": "code",
   "execution_count": 97,
   "outputs": [
    {
     "data": {
      "text/plain": "array([ 0,  1,  2,  3,  4,  5,  6,  7,  8,  9, 10, 11])"
     },
     "execution_count": 97,
     "metadata": {},
     "output_type": "execute_result"
    }
   ],
   "source": [
    "a.ravel()"
   ],
   "metadata": {
    "collapsed": false,
    "ExecuteTime": {
     "start_time": "2023-04-16T11:23:56.906291Z",
     "end_time": "2023-04-16T11:23:57.606087Z"
    }
   }
  },
  {
   "cell_type": "markdown",
   "source": [
    "!!! 배열 사용에서 주의 !!!\n",
    "길이가 5인 1차원 배열과 행\n",
    "열의 갯수가 (5,1)인 2차원 배열 또는 행\n",
    "열의 갯수가 (1, 5)인 2차원 배열\n",
    "\n",
    "=> 데이터가 같아도 엄연히 다른 객체"
   ],
   "metadata": {
    "collapsed": false
   }
  },
  {
   "cell_type": "code",
   "execution_count": 98,
   "outputs": [
    {
     "data": {
      "text/plain": "array([0, 1, 2, 3, 4])"
     },
     "execution_count": 98,
     "metadata": {},
     "output_type": "execute_result"
    }
   ],
   "source": [
    "x = np.arange(5)\n",
    "x\n",
    "# array([0, 1, 2, 3, 4])"
   ],
   "metadata": {
    "collapsed": false,
    "ExecuteTime": {
     "start_time": "2023-04-16T11:23:56.927235Z",
     "end_time": "2023-04-16T11:23:57.606087Z"
    }
   }
  },
  {
   "cell_type": "code",
   "execution_count": 99,
   "outputs": [
    {
     "data": {
      "text/plain": "array([[0, 1, 2, 3, 4]])"
     },
     "execution_count": 99,
     "metadata": {},
     "output_type": "execute_result"
    }
   ],
   "source": [
    "x.reshape(1,5) # array([[0, 1, 2, 3, 4]])"
   ],
   "metadata": {
    "collapsed": false,
    "ExecuteTime": {
     "start_time": "2023-04-16T11:23:56.933218Z",
     "end_time": "2023-04-16T11:23:57.607085Z"
    }
   }
  },
  {
   "cell_type": "code",
   "execution_count": 100,
   "outputs": [
    {
     "data": {
      "text/plain": "array([[0],\n       [1],\n       [2],\n       [3],\n       [4]])"
     },
     "execution_count": 100,
     "metadata": {},
     "output_type": "execute_result"
    }
   ],
   "source": [
    "x.reshape(5,1)\n",
    "# array([[0],\n",
    "#        [1],\n",
    "#        [2],\n",
    "#        [3],\n",
    "#        [4]])"
   ],
   "metadata": {
    "collapsed": false,
    "ExecuteTime": {
     "start_time": "2023-04-16T11:23:56.939202Z",
     "end_time": "2023-04-16T11:23:57.607085Z"
    }
   }
  },
  {
   "cell_type": "code",
   "execution_count": 101,
   "outputs": [
    {
     "data": {
      "text/plain": "array([[0],\n       [1],\n       [2],\n       [3],\n       [4]])"
     },
     "execution_count": 101,
     "metadata": {},
     "output_type": "execute_result"
    }
   ],
   "source": [
    "#  같은 배열에 대해 차원만 1차원 증가시키는 경우에는 newaxis 명령을 사용\n",
    "x[:, np.newaxis]"
   ],
   "metadata": {
    "collapsed": false,
    "ExecuteTime": {
     "start_time": "2023-04-16T11:23:56.945188Z",
     "end_time": "2023-04-16T11:23:57.607085Z"
    }
   }
  },
  {
   "cell_type": "markdown",
   "source": [
    "## 배열 연결\n",
    "행의 수나 열의 수가 같은 두 개 이상의 배열을 연결하여(concatenate) 더 큰 배열을 만들 때는 다음과 같은 명령을 사용.\n",
    "- hstack\n",
    "- vstack\n",
    "- dstack\n",
    "- stack\n",
    "- r_\n",
    "- c_\n",
    "- tile"
   ],
   "metadata": {
    "collapsed": false
   }
  },
  {
   "cell_type": "code",
   "execution_count": 102,
   "outputs": [
    {
     "data": {
      "text/plain": "array([[1., 1., 1.],\n       [1., 1., 1.]])"
     },
     "execution_count": 102,
     "metadata": {},
     "output_type": "execute_result"
    }
   ],
   "source": [
    "# hstack 명령은 행의 수가 같은 두 개 이상의 배열을 옆으로 연결.\n",
    "# 연결할 배열은 하나의 리스트에 담아야 한다.\n",
    "a1 = np.ones((2, 3))\n",
    "a1"
   ],
   "metadata": {
    "collapsed": false,
    "ExecuteTime": {
     "start_time": "2023-04-16T11:23:56.952167Z",
     "end_time": "2023-04-16T11:23:57.702830Z"
    }
   }
  },
  {
   "cell_type": "code",
   "execution_count": 103,
   "outputs": [
    {
     "data": {
      "text/plain": "array([[0., 0.],\n       [0., 0.]])"
     },
     "execution_count": 103,
     "metadata": {},
     "output_type": "execute_result"
    }
   ],
   "source": [
    "a2 = np.zeros((2, 2))\n",
    "a2"
   ],
   "metadata": {
    "collapsed": false,
    "ExecuteTime": {
     "start_time": "2023-04-16T11:23:56.957155Z",
     "end_time": "2023-04-16T11:23:57.730756Z"
    }
   }
  },
  {
   "cell_type": "code",
   "execution_count": 104,
   "outputs": [
    {
     "data": {
      "text/plain": "array([[1., 1., 1., 0., 0.],\n       [1., 1., 1., 0., 0.]])"
     },
     "execution_count": 104,
     "metadata": {},
     "output_type": "execute_result"
    }
   ],
   "source": [
    "np.hstack([a1,a2]) # 연결할 배열을 하나의 리스트에 담아줌."
   ],
   "metadata": {
    "collapsed": false,
    "ExecuteTime": {
     "start_time": "2023-04-16T11:23:56.963139Z",
     "end_time": "2023-04-16T11:23:57.730756Z"
    }
   }
  },
  {
   "cell_type": "code",
   "execution_count": 105,
   "outputs": [
    {
     "data": {
      "text/plain": "array([[1., 1., 1.],\n       [1., 1., 1.]])"
     },
     "execution_count": 105,
     "metadata": {},
     "output_type": "execute_result"
    }
   ],
   "source": [
    "# vstack 명령은 열의 수가 같은 두 개 이상의 배열을 위아래로 연결하.\n",
    "# 연결할 배열은 하나의 리스트에 담아야 한다.\n",
    "b1 = np.ones((2, 3))\n",
    "b1"
   ],
   "metadata": {
    "collapsed": false,
    "ExecuteTime": {
     "start_time": "2023-04-16T11:23:56.969123Z",
     "end_time": "2023-04-16T11:23:57.731752Z"
    }
   }
  },
  {
   "cell_type": "code",
   "execution_count": 106,
   "outputs": [
    {
     "data": {
      "text/plain": "array([[0., 0., 0.],\n       [0., 0., 0.],\n       [0., 0., 0.]])"
     },
     "execution_count": 106,
     "metadata": {},
     "output_type": "execute_result"
    }
   ],
   "source": [
    "b2 = np.zeros((3, 3))\n",
    "b2"
   ],
   "metadata": {
    "collapsed": false,
    "ExecuteTime": {
     "start_time": "2023-04-16T11:23:56.974109Z",
     "end_time": "2023-04-16T11:23:57.731752Z"
    }
   }
  },
  {
   "cell_type": "code",
   "execution_count": 107,
   "outputs": [
    {
     "data": {
      "text/plain": "array([[0., 0., 0.],\n       [0., 0., 0.],\n       [0., 0., 0.],\n       [1., 1., 1.],\n       [1., 1., 1.]])"
     },
     "execution_count": 107,
     "metadata": {},
     "output_type": "execute_result"
    }
   ],
   "source": [
    "np.vstack([b2,b1])"
   ],
   "metadata": {
    "collapsed": false,
    "ExecuteTime": {
     "start_time": "2023-04-16T11:23:56.981091Z",
     "end_time": "2023-04-16T11:23:57.731752Z"
    }
   }
  },
  {
   "cell_type": "markdown",
   "source": [
    "dstack 명령은 행이나 열이 아닌 깊이(depth) 방향으로 배열을 합친다.\n",
    "가장 안쪽의 원소의 차원이 증가.\n",
    "즉 가장 내부의 숫자 원소가 배열이 된다.\n",
    "shape 정보로 보자면 가장 끝에 값이 2인 차원이 추가되는 것이다.\n",
    "이 예제의 경우 shape 변화가 2개의 (3 x 4) -> 1개의 (3 x 4 x 2)가 된다."
   ],
   "metadata": {
    "collapsed": false
   }
  },
  {
   "cell_type": "code",
   "execution_count": 108,
   "outputs": [
    {
     "data": {
      "text/plain": "array([[1., 1., 1., 1.],\n       [1., 1., 1., 1.],\n       [1., 1., 1., 1.]])"
     },
     "execution_count": 108,
     "metadata": {},
     "output_type": "execute_result"
    }
   ],
   "source": [
    "c1 = np.ones((3, 4))\n",
    "c1"
   ],
   "metadata": {
    "collapsed": false,
    "ExecuteTime": {
     "start_time": "2023-04-16T11:23:56.987075Z",
     "end_time": "2023-04-16T11:23:57.731752Z"
    }
   }
  },
  {
   "cell_type": "code",
   "execution_count": 109,
   "outputs": [
    {
     "data": {
      "text/plain": "array([[0., 0., 0., 0.],\n       [0., 0., 0., 0.],\n       [0., 0., 0., 0.]])"
     },
     "execution_count": 109,
     "metadata": {},
     "output_type": "execute_result"
    }
   ],
   "source": [
    "c2 = np.zeros((3, 4))\n",
    "c2"
   ],
   "metadata": {
    "collapsed": false,
    "ExecuteTime": {
     "start_time": "2023-04-16T11:23:56.993059Z",
     "end_time": "2023-04-16T11:23:57.732749Z"
    }
   }
  },
  {
   "cell_type": "code",
   "execution_count": 110,
   "outputs": [
    {
     "data": {
      "text/plain": "array([[[1., 0.],\n        [1., 0.],\n        [1., 0.],\n        [1., 0.]],\n\n       [[1., 0.],\n        [1., 0.],\n        [1., 0.],\n        [1., 0.]],\n\n       [[1., 0.],\n        [1., 0.],\n        [1., 0.],\n        [1., 0.]]])"
     },
     "execution_count": 110,
     "metadata": {},
     "output_type": "execute_result"
    }
   ],
   "source": [
    "np.dstack([c1,c2])"
   ],
   "metadata": {
    "collapsed": false,
    "ExecuteTime": {
     "start_time": "2023-04-16T11:23:57.001037Z",
     "end_time": "2023-04-16T11:23:57.733746Z"
    }
   }
  },
  {
   "cell_type": "code",
   "execution_count": 111,
   "outputs": [
    {
     "data": {
      "text/plain": "(3, 4, 2)"
     },
     "execution_count": 111,
     "metadata": {},
     "output_type": "execute_result"
    }
   ],
   "source": [
    "(np.dstack([c1,c2])).shape"
   ],
   "metadata": {
    "collapsed": false,
    "ExecuteTime": {
     "start_time": "2023-04-16T11:23:57.007022Z",
     "end_time": "2023-04-16T11:23:57.733746Z"
    }
   }
  },
  {
   "cell_type": "markdown",
   "source": [
    "stack 명령은 dstack의 기능을 확장한 것\n",
    "dstack처럼 마지막 차원으로 연결하는 것이 아니라 사용자가 지정한 차원(축으로) 배열을 연결한다.\n",
    "axis 인수(디폴트 0)를 사용하여 연결후의 회전 방향을 정한다.\n",
    "디폴트 인수값은 0이고 가장 앞쪽에 차원이 생성된다.\n",
    "즉, 배열 두 개가 겹치게 되므로 연결하고자 하는 배열들의 크기가 모두 같아야 한다.\n",
    "다음 예에서는 axis=0 이므로 가장 바깥에 값이 2인 차원이 추가된다.\n",
    "즉, shape 변화는 2개의 (3 x 4) -> 1개의 (2 x 3 x 4) 이다."
   ],
   "metadata": {
    "collapsed": false
   }
  },
  {
   "cell_type": "code",
   "execution_count": 112,
   "outputs": [
    {
     "data": {
      "text/plain": "array([[[1., 1., 1., 1.],\n        [1., 1., 1., 1.],\n        [1., 1., 1., 1.]],\n\n       [[0., 0., 0., 0.],\n        [0., 0., 0., 0.],\n        [0., 0., 0., 0.]]])"
     },
     "execution_count": 112,
     "metadata": {},
     "output_type": "execute_result"
    }
   ],
   "source": [
    "c = np.stack([c1, c2])\n",
    "c"
   ],
   "metadata": {
    "collapsed": false,
    "ExecuteTime": {
     "start_time": "2023-04-16T11:23:57.012009Z",
     "end_time": "2023-04-16T11:23:57.733746Z"
    }
   }
  },
  {
   "cell_type": "code",
   "execution_count": 113,
   "outputs": [
    {
     "data": {
      "text/plain": "array([[[1., 1., 1., 1.],\n        [0., 0., 0., 0.]],\n\n       [[1., 1., 1., 1.],\n        [0., 0., 0., 0.]],\n\n       [[1., 1., 1., 1.],\n        [0., 0., 0., 0.]]])"
     },
     "execution_count": 113,
     "metadata": {},
     "output_type": "execute_result"
    }
   ],
   "source": [
    "# axis 인수가 1이면 두번째 차원으로 새로운 차원이 삽입된다.\n",
    "# shape 변화는 2개의 (3 x 4) -> 1개의 (3 x 2 x 4) 이다.\n",
    "c= np.stack([c1,c2], axis=1)\n",
    "c"
   ],
   "metadata": {
    "collapsed": false,
    "ExecuteTime": {
     "start_time": "2023-04-16T11:23:57.018990Z",
     "end_time": "2023-04-16T11:23:57.734744Z"
    }
   }
  },
  {
   "cell_type": "code",
   "execution_count": 114,
   "outputs": [
    {
     "data": {
      "text/plain": "(3, 2, 4)"
     },
     "execution_count": 114,
     "metadata": {},
     "output_type": "execute_result"
    }
   ],
   "source": [
    "c.shape"
   ],
   "metadata": {
    "collapsed": false,
    "ExecuteTime": {
     "start_time": "2023-04-16T11:23:57.024974Z",
     "end_time": "2023-04-16T11:23:57.734744Z"
    }
   }
  },
  {
   "cell_type": "markdown",
   "source": [
    "r_ 메서드는 hstack 명령과 비슷. 배열을 좌우로 연결.\n",
    "다만 메서드임에도 불구하고 소괄호()를 사용하지 않고 인덱싱과 같이 대괄호[]를 사용.\n",
    "(이런 특수 메서드를 인덱서(indexer)라고 한다.)"
   ],
   "metadata": {
    "collapsed": false
   }
  },
  {
   "cell_type": "code",
   "execution_count": 115,
   "outputs": [
    {
     "data": {
      "text/plain": "array([1, 2, 3, 4, 5, 6])"
     },
     "execution_count": 115,
     "metadata": {},
     "output_type": "execute_result"
    }
   ],
   "source": [
    "np.r_[np.array([1,2,3]),np.array([4,5,6])]\n",
    "#array([1, 2, 3, 4, 5, 6])"
   ],
   "metadata": {
    "collapsed": false,
    "ExecuteTime": {
     "start_time": "2023-04-16T11:25:54.827099Z",
     "end_time": "2023-04-16T11:25:54.909901Z"
    }
   }
  },
  {
   "cell_type": "code",
   "execution_count": 117,
   "outputs": [
    {
     "data": {
      "text/plain": "array([[1, 4],\n       [2, 5],\n       [3, 6]])"
     },
     "execution_count": 117,
     "metadata": {},
     "output_type": "execute_result"
    }
   ],
   "source": [
    "# c_ 메서드는 배열의 차원을 증가시킨 후 좌우로 연결.\n",
    "# ex. 만약 1차원 배열을 연결하면 2차원 배열이 된다.\n",
    "np.c_[np.array([1,2,3]),np.array([4,5,6])]\n",
    "# array([[1, 4],\n",
    "#        [2, 5],\n",
    "#        [3, 6]])"
   ],
   "metadata": {
    "collapsed": false,
    "ExecuteTime": {
     "start_time": "2023-04-16T11:27:47.919692Z",
     "end_time": "2023-04-16T11:27:47.943705Z"
    }
   }
  },
  {
   "cell_type": "code",
   "execution_count": 118,
   "outputs": [
    {
     "data": {
      "text/plain": "array([[0, 1, 2, 0, 1, 2],\n       [3, 4, 5, 3, 4, 5]])"
     },
     "execution_count": 118,
     "metadata": {},
     "output_type": "execute_result"
    }
   ],
   "source": [
    "# tile 명령은 동일한 배열을 반복하여 연결\n",
    "a = np.array([[0,1,2],[3,4,5]])\n",
    "np.tile(a,2)\n",
    "# array([[0, 1, 2, 0, 1, 2],\n",
    "#        [3, 4, 5, 3, 4, 5]])"
   ],
   "metadata": {
    "collapsed": false,
    "ExecuteTime": {
     "start_time": "2023-04-16T11:29:54.560314Z",
     "end_time": "2023-04-16T11:29:54.681989Z"
    }
   }
  },
  {
   "cell_type": "code",
   "execution_count": 119,
   "outputs": [
    {
     "data": {
      "text/plain": "array([[0, 1, 2, 0, 1, 2],\n       [3, 4, 5, 3, 4, 5],\n       [0, 1, 2, 0, 1, 2],\n       [3, 4, 5, 3, 4, 5],\n       [0, 1, 2, 0, 1, 2],\n       [3, 4, 5, 3, 4, 5]])"
     },
     "execution_count": 119,
     "metadata": {},
     "output_type": "execute_result"
    }
   ],
   "source": [
    "np.tile(a,(3,2)) #(3, 2)는 배열 a를 복사하여 만들 새로운 배열의 shape 튜플(행,열)"
   ],
   "metadata": {
    "collapsed": false,
    "ExecuteTime": {
     "start_time": "2023-04-16T11:33:56.629413Z",
     "end_time": "2023-04-16T11:33:56.703215Z"
    }
   }
  },
  {
   "cell_type": "markdown",
   "source": [
    "#### 연습 문제 3.2.1\n",
    "지금까지 공부한 명령어를 사용하여 다음과 같은 배열을 만들어라."
   ],
   "metadata": {
    "collapsed": false
   }
  },
  {
   "cell_type": "code",
   "execution_count": 121,
   "outputs": [],
   "source": [
    "# array([[   0.,    0.,    0.,    1.,    1.],\n",
    "#        [   0.,    0.,    0.,    1.,    1.],\n",
    "#        [   0.,    0.,    0.,    1.,    1.],\n",
    "#        [  10.,   20.,   30.,   40.,   50.],\n",
    "#        [  60.,   70.,   80.,   90.,  100.],\n",
    "#        [ 110.,  120.,  130.,  140.,  150.],\n",
    "#        [   0.,    0.,    0.,    1.,    1.],\n",
    "#        [   0.,    0.,    0.,    1.,    1.],\n",
    "#        [   0.,    0.,    0.,    1.,    1.],\n",
    "#        [  10.,   20.,   30.,   40.,   50.],\n",
    "#        [  60.,   70.,   80.,   90.,  100.],\n",
    "#        [ 110.,  120.,  130.,  140.,  150.]])"
   ],
   "metadata": {
    "collapsed": false,
    "ExecuteTime": {
     "start_time": "2023-04-16T11:36:42.916137Z",
     "end_time": "2023-04-16T11:36:42.941083Z"
    }
   }
  },
  {
   "cell_type": "code",
   "execution_count": 126,
   "outputs": [
    {
     "data": {
      "text/plain": "array([[0., 0., 0.],\n       [0., 0., 0.],\n       [0., 0., 0.]])"
     },
     "execution_count": 126,
     "metadata": {},
     "output_type": "execute_result"
    }
   ],
   "source": [
    "# 12행 5열 1-6행 6-12행 반복 3행 3열 까지 0 3행 5열까지 1\n",
    "zero = np.zeros((3,3))\n",
    "zero"
   ],
   "metadata": {
    "collapsed": false,
    "ExecuteTime": {
     "start_time": "2023-04-16T11:41:22.871313Z",
     "end_time": "2023-04-16T11:41:22.896265Z"
    }
   }
  },
  {
   "cell_type": "code",
   "execution_count": 127,
   "outputs": [
    {
     "data": {
      "text/plain": "array([[1., 1.],\n       [1., 1.],\n       [1., 1.]])"
     },
     "execution_count": 127,
     "metadata": {},
     "output_type": "execute_result"
    }
   ],
   "source": [
    "one = np.ones((3,2))\n",
    "one"
   ],
   "metadata": {
    "collapsed": false,
    "ExecuteTime": {
     "start_time": "2023-04-16T11:41:36.620734Z",
     "end_time": "2023-04-16T11:41:36.636700Z"
    }
   }
  },
  {
   "cell_type": "code",
   "execution_count": 143,
   "outputs": [
    {
     "data": {
      "text/plain": "array([[0., 0., 0., 1., 1.],\n       [0., 0., 0., 1., 1.],\n       [0., 0., 0., 1., 1.]])"
     },
     "execution_count": 143,
     "metadata": {},
     "output_type": "execute_result"
    }
   ],
   "source": [
    "zero_one = np.hstack([zero,one])\n",
    "zero_one"
   ],
   "metadata": {
    "collapsed": false,
    "ExecuteTime": {
     "start_time": "2023-04-16T11:53:25.160706Z",
     "end_time": "2023-04-16T11:53:25.190626Z"
    }
   }
  },
  {
   "cell_type": "code",
   "execution_count": 138,
   "outputs": [
    {
     "data": {
      "text/plain": "array([ 10,  20,  30,  40,  50,  60,  70,  80,  90, 100, 110, 120, 130,\n       140, 150])"
     },
     "execution_count": 138,
     "metadata": {},
     "output_type": "execute_result"
    }
   ],
   "source": [
    "tens = np.arange(10,150+1,10)\n",
    "tens"
   ],
   "metadata": {
    "collapsed": false,
    "ExecuteTime": {
     "start_time": "2023-04-16T11:50:12.501650Z",
     "end_time": "2023-04-16T11:50:12.525586Z"
    }
   }
  },
  {
   "cell_type": "code",
   "execution_count": 141,
   "outputs": [
    {
     "data": {
      "text/plain": "array([[ 10,  20,  30,  40,  50],\n       [ 60,  70,  80,  90, 100],\n       [110, 120, 130, 140, 150]])"
     },
     "execution_count": 141,
     "metadata": {},
     "output_type": "execute_result"
    }
   ],
   "source": [
    "tens_reshape = tens.reshape((3,5))\n",
    "tens_reshape"
   ],
   "metadata": {
    "collapsed": false,
    "ExecuteTime": {
     "start_time": "2023-04-16T11:52:20.168171Z",
     "end_time": "2023-04-16T11:52:20.192133Z"
    }
   }
  },
  {
   "cell_type": "code",
   "execution_count": 145,
   "outputs": [
    {
     "data": {
      "text/plain": "array([[  0.,   0.,   0.,   1.,   1.],\n       [  0.,   0.,   0.,   1.,   1.],\n       [  0.,   0.,   0.,   1.,   1.],\n       [ 10.,  20.,  30.,  40.,  50.],\n       [ 60.,  70.,  80.,  90., 100.],\n       [110., 120., 130., 140., 150.]])"
     },
     "execution_count": 145,
     "metadata": {},
     "output_type": "execute_result"
    }
   ],
   "source": [
    "a = np.vstack([zero_one, tens_reshape])\n",
    "a"
   ],
   "metadata": {
    "collapsed": false,
    "ExecuteTime": {
     "start_time": "2023-04-16T11:53:41.483302Z",
     "end_time": "2023-04-16T11:53:41.503275Z"
    }
   }
  },
  {
   "cell_type": "code",
   "execution_count": 149,
   "outputs": [
    {
     "data": {
      "text/plain": "array([[  0.,   0.,   0.,   1.,   1.],\n       [  0.,   0.,   0.,   1.,   1.],\n       [  0.,   0.,   0.,   1.,   1.],\n       [ 10.,  20.,  30.,  40.,  50.],\n       [ 60.,  70.,  80.,  90., 100.],\n       [110., 120., 130., 140., 150.],\n       [  0.,   0.,   0.,   1.,   1.],\n       [  0.,   0.,   0.,   1.,   1.],\n       [  0.,   0.,   0.,   1.,   1.],\n       [ 10.,  20.,  30.,  40.,  50.],\n       [ 60.,  70.,  80.,  90., 100.],\n       [110., 120., 130., 140., 150.]])"
     },
     "execution_count": 149,
     "metadata": {},
     "output_type": "execute_result"
    }
   ],
   "source": [
    "result = np.vstack([a,a])\n",
    "result"
   ],
   "metadata": {
    "collapsed": false,
    "ExecuteTime": {
     "start_time": "2023-04-16T11:55:27.400140Z",
     "end_time": "2023-04-16T11:55:27.428065Z"
    }
   }
  },
  {
   "cell_type": "markdown",
   "source": [
    "## 2차원 그리드 포인트 생성¶\n",
    "변수가 2개인 2차원 함수의 그래프를 그리거나 표를 작성하려면 2차원 영역에 대한 (x,y) 좌표값 쌍 즉, 그리드 포인트(grid point)를 생성하여 각 좌표에 대한 함수 값을 계산해야 한다.\n",
    "예를 들어 x, y 라는 두 변수를 가진 함수에서 x가 0부터 2까지, y가 0부터 4까지의 사각형 영역에서 변화하는 과정을 보고 싶다면 이 사각형 영역 안의 다음과 같은 그리드 포인트들에 대해 함수를 계산해야 한다.\n",
    "=> (x,y)=(0,0),(0,1),(0,2),(0,3),(0,4),(1,0),⋯(2,4)\n",
    "이러한 그리드 포인트를 만드는 과정을 도와주는 것이 meshgrid 명령이다. meshgrid 명령은 사각형 영역을 구성하는 가로축의 점들과 세로축의 점을 나타내는 두 벡터를 인수로 받아서 이 사각형 영역을 이루는 조합을 출력한다. 결과는 그리드 포인트의 x 값만을 표시하는 행렬과 y 값만을 표시하는 행렬 두 개로 분리하여 출력한다."
   ],
   "metadata": {
    "collapsed": false
   }
  },
  {
   "cell_type": "code",
   "execution_count": 150,
   "outputs": [
    {
     "data": {
      "text/plain": "array([0, 1, 2])"
     },
     "execution_count": 150,
     "metadata": {},
     "output_type": "execute_result"
    }
   ],
   "source": [
    "x = np.arange(3)\n",
    "x"
   ],
   "metadata": {
    "collapsed": false,
    "ExecuteTime": {
     "start_time": "2023-04-16T11:58:41.907916Z",
     "end_time": "2023-04-16T11:58:41.980721Z"
    }
   }
  },
  {
   "cell_type": "code",
   "execution_count": 152,
   "outputs": [
    {
     "data": {
      "text/plain": "array([0, 1, 2, 3, 4])"
     },
     "execution_count": 152,
     "metadata": {},
     "output_type": "execute_result"
    }
   ],
   "source": [
    "y= np.arange(5)\n",
    "y"
   ],
   "metadata": {
    "collapsed": false,
    "ExecuteTime": {
     "start_time": "2023-04-16T11:59:03.431964Z",
     "end_time": "2023-04-16T11:59:03.471911Z"
    }
   }
  },
  {
   "cell_type": "code",
   "execution_count": 153,
   "outputs": [],
   "source": [
    "x,y = np.meshgrid(x,y)"
   ],
   "metadata": {
    "collapsed": false,
    "ExecuteTime": {
     "start_time": "2023-04-16T11:59:31.258158Z",
     "end_time": "2023-04-16T11:59:31.339992Z"
    }
   }
  },
  {
   "cell_type": "code",
   "execution_count": 154,
   "outputs": [
    {
     "data": {
      "text/plain": "array([[0, 1, 2],\n       [0, 1, 2],\n       [0, 1, 2],\n       [0, 1, 2],\n       [0, 1, 2]])"
     },
     "execution_count": 154,
     "metadata": {},
     "output_type": "execute_result"
    }
   ],
   "source": [
    "x"
   ],
   "metadata": {
    "collapsed": false,
    "ExecuteTime": {
     "start_time": "2023-04-16T11:59:43.457455Z",
     "end_time": "2023-04-16T11:59:43.549789Z"
    }
   }
  },
  {
   "cell_type": "code",
   "execution_count": 155,
   "outputs": [
    {
     "data": {
      "text/plain": "array([[0, 0, 0],\n       [1, 1, 1],\n       [2, 2, 2],\n       [3, 3, 3],\n       [4, 4, 4]])"
     },
     "execution_count": 155,
     "metadata": {},
     "output_type": "execute_result"
    }
   ],
   "source": [
    "y"
   ],
   "metadata": {
    "collapsed": false,
    "ExecuteTime": {
     "start_time": "2023-04-16T11:59:46.826211Z",
     "end_time": "2023-04-16T11:59:46.908496Z"
    }
   }
  },
  {
   "cell_type": "code",
   "execution_count": 156,
   "outputs": [
    {
     "data": {
      "text/plain": "[[(0, 0), (1, 0), (2, 0)],\n [(0, 1), (1, 1), (2, 1)],\n [(0, 2), (1, 2), (2, 2)],\n [(0, 3), (1, 3), (2, 3)],\n [(0, 4), (1, 4), (2, 4)]]"
     },
     "execution_count": 156,
     "metadata": {},
     "output_type": "execute_result"
    }
   ],
   "source": [
    "[list(zip(x,y)) for x, y in zip(x,y)]\n",
    "#                           zip(x,y)는 x와 y를 인덱스별로 묶어서 튜플로 만든 이터레이터를 반환\n",
    "#               for x, y in zip(x,y)는 zip(x,y)에서 반환된 튜플들을 하나씩 언패킹해서 x와 y에 할당\n",
    "# list(zip(x, y))는 zip(x, y)에서 반환된 튜플들을 리스트로 변환"
   ],
   "metadata": {
    "collapsed": false,
    "ExecuteTime": {
     "start_time": "2023-04-16T12:00:33.179962Z",
     "end_time": "2023-04-16T12:00:33.296649Z"
    }
   }
  },
  {
   "cell_type": "markdown",
   "source": [
    "## 배열의 연산"
   ],
   "metadata": {
    "collapsed": false
   }
  },
  {
   "cell_type": "markdown",
   "source": [
    "### 벡터화 연산\n",
    "넘파이는 벡터화 연산을 지원한다. 벡터화 연산을 쓰면 명시적으로 반복문을 사용하지 않고도 배열의 모든 원소에 대해 반복연산을 할 수 있다. 벡터화 연산의 또다른 장점은 선형 대수 공식과 동일한 아주 간단한 파이썬 코드를 작성할 수 있다는 점이다.\n",
    "\n",
    "%%time -> 셀 코드 실행시간 측정\n",
    "만약 벡터화 연산을 사용하지 않는다면 반복문을 사용하여 다음과 같이 만들어야 한다."
   ],
   "metadata": {
    "collapsed": false
   }
  },
  {
   "cell_type": "code",
   "execution_count": 157,
   "outputs": [],
   "source": [
    "x = np.arange(1,10000+1)\n",
    "y = np.arange(10001,20000+1)"
   ],
   "metadata": {
    "collapsed": false,
    "ExecuteTime": {
     "start_time": "2023-04-16T12:17:42.464971Z",
     "end_time": "2023-04-16T12:17:42.540274Z"
    }
   }
  },
  {
   "cell_type": "code",
   "execution_count": 159,
   "outputs": [
    {
     "name": "stdout",
     "output_type": "stream",
     "text": [
      "CPU times: total: 0 ns\n",
      "Wall time: 3.02 ms\n"
     ]
    }
   ],
   "source": [
    "%%time\n",
    "z = np.zeros_like(x)\n",
    "for i in range(10000):\n",
    "    z[i] = x[i] + y[i]"
   ],
   "metadata": {
    "collapsed": false,
    "ExecuteTime": {
     "start_time": "2023-04-16T12:18:58.975431Z",
     "end_time": "2023-04-16T12:18:59.000365Z"
    }
   }
  },
  {
   "cell_type": "code",
   "execution_count": 160,
   "outputs": [
    {
     "data": {
      "text/plain": "array([10001, 10002, 10003, 10004, 10005, 10006, 10007, 10008, 10009,\n       10010])"
     },
     "execution_count": 160,
     "metadata": {},
     "output_type": "execute_result"
    }
   ],
   "source": [
    "z[:10]"
   ],
   "metadata": {
    "collapsed": false,
    "ExecuteTime": {
     "start_time": "2023-04-16T12:19:14.091173Z",
     "end_time": "2023-04-16T12:19:14.166969Z"
    }
   }
  },
  {
   "cell_type": "code",
   "execution_count": 161,
   "outputs": [],
   "source": [
    "#  벡터화 연산을 사용하면 덧셈 연산 하나로 끝남.\n",
    "z = x + y"
   ],
   "metadata": {
    "collapsed": false,
    "ExecuteTime": {
     "start_time": "2023-04-16T12:19:52.989337Z",
     "end_time": "2023-04-16T12:19:53.069120Z"
    }
   }
  },
  {
   "cell_type": "code",
   "execution_count": 162,
   "outputs": [
    {
     "data": {
      "text/plain": "array([10001, 10002, 10003, 10004, 10005, 10006, 10007, 10008, 10009,\n       10010])"
     },
     "execution_count": 162,
     "metadata": {},
     "output_type": "execute_result"
    }
   ],
   "source": [
    "z[:10]"
   ],
   "metadata": {
    "collapsed": false,
    "ExecuteTime": {
     "start_time": "2023-04-16T12:20:01.011390Z",
     "end_time": "2023-04-16T12:20:01.090202Z"
    }
   }
  },
  {
   "cell_type": "code",
   "execution_count": 168,
   "outputs": [
    {
     "data": {
      "text/plain": "array([False,  True, False,  True])"
     },
     "execution_count": 168,
     "metadata": {},
     "output_type": "execute_result"
    }
   ],
   "source": [
    "# 사칙 연산뿐 아니라 비교 연산과 같은 논리 연산도 벡터화 연산이 가능\n",
    "a = np.arange(1,4+1)\n",
    "b = np.array([4,2,2,4])\n",
    "a == b"
   ],
   "metadata": {
    "collapsed": false,
    "ExecuteTime": {
     "start_time": "2023-04-16T12:22:20.938217Z",
     "end_time": "2023-04-16T12:22:20.966142Z"
    }
   }
  },
  {
   "cell_type": "code",
   "execution_count": 169,
   "outputs": [
    {
     "data": {
      "text/plain": "array([False,  True,  True,  True])"
     },
     "execution_count": 169,
     "metadata": {},
     "output_type": "execute_result"
    }
   ],
   "source": [
    "a >= b"
   ],
   "metadata": {
    "collapsed": false,
    "ExecuteTime": {
     "start_time": "2023-04-16T12:22:34.467713Z",
     "end_time": "2023-04-16T12:22:34.549522Z"
    }
   }
  },
  {
   "cell_type": "code",
   "execution_count": 181,
   "outputs": [
    {
     "data": {
      "text/plain": "array([4, 3, 2, 1])"
     },
     "execution_count": 181,
     "metadata": {},
     "output_type": "execute_result"
    }
   ],
   "source": [
    "# 배열의 모든 원소가 다 같은지 알고 싶다면 all 명령을 사용\n",
    "a = np.arange(1,4+1)\n",
    "b = np.array([4,2,2,4])\n",
    "c = np.arange(1,4+1)\n",
    "d = np.arange(4,1-1,-1)\n",
    "d"
   ],
   "metadata": {
    "collapsed": false,
    "ExecuteTime": {
     "start_time": "2023-04-16T12:27:51.361201Z",
     "end_time": "2023-04-16T12:27:51.393139Z"
    }
   }
  },
  {
   "cell_type": "code",
   "execution_count": 176,
   "outputs": [
    {
     "data": {
      "text/plain": "False"
     },
     "execution_count": 176,
     "metadata": {},
     "output_type": "execute_result"
    }
   ],
   "source": [
    "np.all(a == b)"
   ],
   "metadata": {
    "collapsed": false,
    "ExecuteTime": {
     "start_time": "2023-04-16T12:25:40.402398Z",
     "end_time": "2023-04-16T12:25:40.483181Z"
    }
   }
  },
  {
   "cell_type": "code",
   "execution_count": 177,
   "outputs": [
    {
     "data": {
      "text/plain": "True"
     },
     "execution_count": 177,
     "metadata": {},
     "output_type": "execute_result"
    }
   ],
   "source": [
    "np.all(a == c)"
   ],
   "metadata": {
    "collapsed": false,
    "ExecuteTime": {
     "start_time": "2023-04-16T12:25:54.932135Z",
     "end_time": "2023-04-16T12:25:55.019925Z"
    }
   }
  },
  {
   "cell_type": "code",
   "execution_count": 178,
   "outputs": [
    {
     "data": {
      "text/plain": "False"
     },
     "execution_count": 178,
     "metadata": {},
     "output_type": "execute_result"
    }
   ],
   "source": [
    "np.all(a == d)"
   ],
   "metadata": {
    "collapsed": false,
    "ExecuteTime": {
     "start_time": "2023-04-16T12:26:05.720941Z",
     "end_time": "2023-04-16T12:26:05.806709Z"
    }
   }
  },
  {
   "cell_type": "code",
   "execution_count": 182,
   "outputs": [
    {
     "data": {
      "text/plain": "array([0, 1, 2, 3, 4])"
     },
     "execution_count": 182,
     "metadata": {},
     "output_type": "execute_result"
    }
   ],
   "source": [
    "# 지수 함수, 로그 함수 등의 수학 함수도 벡터화 연산을 지원\n",
    "a = np.arange(5)\n",
    "a"
   ],
   "metadata": {
    "collapsed": false,
    "ExecuteTime": {
     "start_time": "2023-04-16T12:28:21.813765Z",
     "end_time": "2023-04-16T12:28:21.895557Z"
    }
   }
  },
  {
   "cell_type": "code",
   "execution_count": 184,
   "outputs": [
    {
     "data": {
      "text/plain": "array([ 1.        ,  2.71828183,  7.3890561 , 20.08553692, 54.59815003])"
     },
     "execution_count": 184,
     "metadata": {},
     "output_type": "execute_result"
    }
   ],
   "source": [
    "np.exp(a)\n",
    "# np.exp(x) : e의 x 거듭제곱값을 계산해 반환 ex) np.exp(1)의 결과는 자연상수 e의 1승 즉, 2.718281828459045"
   ],
   "metadata": {
    "collapsed": false,
    "ExecuteTime": {
     "start_time": "2023-04-16T12:29:55.340002Z",
     "end_time": "2023-04-16T12:29:55.375905Z"
    }
   }
  },
  {
   "cell_type": "code",
   "execution_count": 185,
   "outputs": [
    {
     "data": {
      "text/plain": "array([    1,    10,   100,  1000, 10000], dtype=int32)"
     },
     "execution_count": 185,
     "metadata": {},
     "output_type": "execute_result"
    }
   ],
   "source": [
    "10**a"
   ],
   "metadata": {
    "collapsed": false,
    "ExecuteTime": {
     "start_time": "2023-04-16T12:32:05.881710Z",
     "end_time": "2023-04-16T12:32:05.965509Z"
    }
   }
  },
  {
   "cell_type": "code",
   "execution_count": 186,
   "outputs": [
    {
     "data": {
      "text/plain": "array([0.        , 0.69314718, 1.09861229, 1.38629436, 1.60943791])"
     },
     "execution_count": 186,
     "metadata": {},
     "output_type": "execute_result"
    }
   ],
   "source": [
    "np.log(a+1)"
   ],
   "metadata": {
    "collapsed": false,
    "ExecuteTime": {
     "start_time": "2023-04-16T12:32:16.069138Z",
     "end_time": "2023-04-16T12:32:16.157900Z"
    }
   }
  },
  {
   "cell_type": "markdown",
   "source": [
    "### 스칼라와 벡터/행렬의 곱셈¶\n",
    "스칼라와 벡터/행렬의 곱도 선형 대수에서 사용하는 식과 넘파이 코드가 일치."
   ],
   "metadata": {
    "collapsed": false
   }
  },
  {
   "cell_type": "code",
   "execution_count": 188,
   "outputs": [
    {
     "data": {
      "text/plain": "array([0, 1, 2, 3, 4, 5, 6, 7, 8, 9])"
     },
     "execution_count": 188,
     "metadata": {},
     "output_type": "execute_result"
    }
   ],
   "source": [
    "x = np.arange(10)\n",
    "x"
   ],
   "metadata": {
    "collapsed": false,
    "ExecuteTime": {
     "start_time": "2023-04-16T12:33:11.608086Z",
     "end_time": "2023-04-16T12:33:11.719294Z"
    }
   }
  },
  {
   "cell_type": "code",
   "execution_count": 189,
   "outputs": [
    {
     "data": {
      "text/plain": "array([  0, 100, 200, 300, 400, 500, 600, 700, 800, 900])"
     },
     "execution_count": 189,
     "metadata": {},
     "output_type": "execute_result"
    }
   ],
   "source": [
    "100*x"
   ],
   "metadata": {
    "collapsed": false,
    "ExecuteTime": {
     "start_time": "2023-04-16T12:33:18.546466Z",
     "end_time": "2023-04-16T12:33:18.641239Z"
    }
   }
  },
  {
   "cell_type": "code",
   "execution_count": 190,
   "outputs": [
    {
     "data": {
      "text/plain": "array([[ 0,  1,  2,  3],\n       [ 4,  5,  6,  7],\n       [ 8,  9, 10, 11]])"
     },
     "execution_count": 190,
     "metadata": {},
     "output_type": "execute_result"
    }
   ],
   "source": [
    "x=np.arange(12).reshape(3,4)\n",
    "x"
   ],
   "metadata": {
    "collapsed": false,
    "ExecuteTime": {
     "start_time": "2023-04-16T12:33:45.921174Z",
     "end_time": "2023-04-16T12:33:46.007936Z"
    }
   }
  },
  {
   "cell_type": "code",
   "execution_count": 192,
   "outputs": [
    {
     "data": {
      "text/plain": "array([[   0,  100,  200,  300],\n       [ 400,  500,  600,  700],\n       [ 800,  900, 1000, 1100]])"
     },
     "execution_count": 192,
     "metadata": {},
     "output_type": "execute_result"
    }
   ],
   "source": [
    "100*x"
   ],
   "metadata": {
    "collapsed": false,
    "ExecuteTime": {
     "start_time": "2023-04-16T12:34:09.546234Z",
     "end_time": "2023-04-16T12:34:09.579133Z"
    }
   }
  },
  {
   "cell_type": "markdown",
   "source": [
    "### 브로드캐스팅¶\n",
    "벡터(또는 행렬)끼리 덧셈 혹은 뺄셈을 하려면 두 벡터(또는 행렬)의 크기가 같아야 한다.\n",
    "넘파이에서는 서로 다른 크기를 가진 두 배열의 사칙 연산도 지원한다.\n",
    "이 기능을 브로드캐스팅이라고 하는데 크기가 작은 배열을 자동으로 반복 확장하여 크기가 큰 배열에 맞추는 방법이다.\n",
    "=> 스칼라를 벡터와 같은 크기로 확장시켜서 덧셈 계산을 하는 것\n",
    "\n",
    "- 벡터(Vector): 크기와 방향을 가지는 양\n",
    "- 스칼라(Scalar): 크기만 가지는 양"
   ],
   "metadata": {
    "collapsed": false
   }
  },
  {
   "cell_type": "code",
   "execution_count": 194,
   "outputs": [
    {
     "data": {
      "text/plain": "array([0, 1, 2, 3, 4])"
     },
     "execution_count": 194,
     "metadata": {},
     "output_type": "execute_result"
    }
   ],
   "source": [
    "x = np.arange(5)\n",
    "x"
   ],
   "metadata": {
    "collapsed": false,
    "ExecuteTime": {
     "start_time": "2023-04-16T12:39:32.720308Z",
     "end_time": "2023-04-16T12:39:32.813058Z"
    }
   }
  },
  {
   "cell_type": "code",
   "execution_count": 195,
   "outputs": [
    {
     "data": {
      "text/plain": "array([1, 1, 1, 1, 1])"
     },
     "execution_count": 195,
     "metadata": {},
     "output_type": "execute_result"
    }
   ],
   "source": [
    "y = np.ones_like(x)\n",
    "y"
   ],
   "metadata": {
    "collapsed": false,
    "ExecuteTime": {
     "start_time": "2023-04-16T12:41:11.268170Z",
     "end_time": "2023-04-16T12:41:11.359924Z"
    }
   }
  },
  {
   "cell_type": "markdown",
   "source": [
    "numpy.ones(shape, dtype=None, order='C')는 shape으로 지정된 모양(shape)을 가진 배열\n",
    "numpy.ones_like(a, dtype=None, order='K', subok=True, shape=None)는 입력값 a와 같은 모양(shape)을 가지는 배열\n",
    "입력값과 같은 모양의 배열을 만들어준다는 점에서 numpy.ones와 차이가 있다.\n",
    "numpy.ones_like는 입력값의 shape를 그대로 가져와서 사용하므로, 새로운 배열의 shape을 입력하지 않아도 됨."
   ],
   "metadata": {
    "collapsed": false
   }
  },
  {
   "cell_type": "code",
   "execution_count": 196,
   "outputs": [
    {
     "data": {
      "text/plain": "array([1, 2, 3, 4, 5])"
     },
     "execution_count": 196,
     "metadata": {},
     "output_type": "execute_result"
    }
   ],
   "source": [
    "x+y"
   ],
   "metadata": {
    "collapsed": false,
    "ExecuteTime": {
     "start_time": "2023-04-16T12:43:21.615971Z",
     "end_time": "2023-04-16T12:43:21.708725Z"
    }
   }
  },
  {
   "cell_type": "code",
   "execution_count": 197,
   "outputs": [
    {
     "data": {
      "text/plain": "array([1, 2, 3, 4, 5])"
     },
     "execution_count": 197,
     "metadata": {},
     "output_type": "execute_result"
    }
   ],
   "source": [
    "x+1"
   ],
   "metadata": {
    "collapsed": false,
    "ExecuteTime": {
     "start_time": "2023-04-16T12:43:30.986629Z",
     "end_time": "2023-04-16T12:43:31.078383Z"
    }
   }
  },
  {
   "cell_type": "code",
   "execution_count": 200,
   "outputs": [
    {
     "data": {
      "text/plain": "array([[0, 1, 2],\n       [1, 2, 3],\n       [2, 3, 4],\n       [3, 4, 5],\n       [4, 5, 6]])"
     },
     "execution_count": 200,
     "metadata": {},
     "output_type": "execute_result"
    }
   ],
   "source": [
    "# 브로드캐스팅은 다음처럼 더 차원이 높은 경우에도 적용\n",
    "x = np.vstack([range(6+1)[i:i+3] for i in range(5)])\n",
    "x"
   ],
   "metadata": {
    "collapsed": false,
    "ExecuteTime": {
     "start_time": "2023-04-16T12:44:53.482028Z",
     "end_time": "2023-04-16T12:44:53.515937Z"
    }
   }
  },
  {
   "cell_type": "code",
   "execution_count": 201,
   "outputs": [
    {
     "data": {
      "text/plain": "array([[0],\n       [1],\n       [2],\n       [3],\n       [4]])"
     },
     "execution_count": 201,
     "metadata": {},
     "output_type": "execute_result"
    }
   ],
   "source": [
    "y = np.arange(5)[:,np.newaxis] # np.arange(5) 1차원 [:,np.newaxis] 축 추가 2차원으로\n",
    "y\n",
    "# ...는 나머지 모든 차원을 선택한다는 의미 == :는 모든 행(row) 또는 열(column)"
   ],
   "metadata": {
    "collapsed": false,
    "ExecuteTime": {
     "start_time": "2023-04-16T12:48:52.459509Z",
     "end_time": "2023-04-16T12:48:52.561263Z"
    }
   }
  },
  {
   "cell_type": "code",
   "execution_count": 202,
   "outputs": [
    {
     "data": {
      "text/plain": "array([[ 0,  1,  2],\n       [ 2,  3,  4],\n       [ 4,  5,  6],\n       [ 6,  7,  8],\n       [ 8,  9, 10]])"
     },
     "execution_count": 202,
     "metadata": {},
     "output_type": "execute_result"
    }
   ],
   "source": [
    "x+y"
   ],
   "metadata": {
    "collapsed": false,
    "ExecuteTime": {
     "start_time": "2023-04-16T12:52:33.877311Z",
     "end_time": "2023-04-16T12:52:33.968068Z"
    }
   }
  },
  {
   "cell_type": "code",
   "execution_count": 203,
   "outputs": [
    {
     "data": {
      "text/plain": "array([0, 1, 2])"
     },
     "execution_count": 203,
     "metadata": {},
     "output_type": "execute_result"
    }
   ],
   "source": [
    "y=np.arange(3)\n",
    "y"
   ],
   "metadata": {
    "collapsed": false,
    "ExecuteTime": {
     "start_time": "2023-04-16T12:52:51.349760Z",
     "end_time": "2023-04-16T12:52:51.496472Z"
    }
   }
  },
  {
   "cell_type": "code",
   "execution_count": 204,
   "outputs": [
    {
     "data": {
      "text/plain": "array([[0, 2, 4],\n       [1, 3, 5],\n       [2, 4, 6],\n       [3, 5, 7],\n       [4, 6, 8]])"
     },
     "execution_count": 204,
     "metadata": {},
     "output_type": "execute_result"
    }
   ],
   "source": [
    "x+y"
   ],
   "metadata": {
    "collapsed": false,
    "ExecuteTime": {
     "start_time": "2023-04-16T12:52:56.258157Z",
     "end_time": "2023-04-16T12:52:56.357916Z"
    }
   }
  },
  {
   "cell_type": "markdown",
   "source": [
    "### 차원 축소 연산\n",
    "행렬의 하나의 행에 있는 원소들을 하나의 데이터 집합으로 보고 그 집합의 평균을 구하면 각 행에 대해 하나의 숫자가 나오게 된다. 예를 들어 10x5 크기의 2차원 배열에 대해 행-평균을 구하면 10개의 숫자를 가진 1차원 벡터가 나오게 된다. 이러한 연산을 차원 축소 연산이라고 한다.\n",
    "\n",
    "넘파이는 다음과 같은 차원 축소 연산 명령 혹은 메서드를 지원한다.\n",
    " - 최대/최소: min, max, argmin, argmax\n",
    " - 통계: sum, mean, median, std, var\n",
    " - 불리언: all, any"
   ],
   "metadata": {
    "collapsed": false
   }
  },
  {
   "cell_type": "code",
   "execution_count": 205,
   "outputs": [
    {
     "data": {
      "text/plain": "array([1, 2, 3, 4])"
     },
     "execution_count": 205,
     "metadata": {},
     "output_type": "execute_result"
    }
   ],
   "source": [
    "x = np.arange(1,4+1)\n",
    "x"
   ],
   "metadata": {
    "collapsed": false,
    "ExecuteTime": {
     "start_time": "2023-04-16T12:55:13.331373Z",
     "end_time": "2023-04-16T12:55:13.456066Z"
    }
   }
  },
  {
   "cell_type": "code",
   "execution_count": 206,
   "outputs": [
    {
     "data": {
      "text/plain": "10"
     },
     "execution_count": 206,
     "metadata": {},
     "output_type": "execute_result"
    }
   ],
   "source": [
    "np.sum(x)"
   ],
   "metadata": {
    "collapsed": false,
    "ExecuteTime": {
     "start_time": "2023-04-16T12:55:21.018095Z",
     "end_time": "2023-04-16T12:55:21.146775Z"
    }
   }
  },
  {
   "cell_type": "code",
   "execution_count": 207,
   "outputs": [
    {
     "data": {
      "text/plain": "10"
     },
     "execution_count": 207,
     "metadata": {},
     "output_type": "execute_result"
    }
   ],
   "source": [
    "x.sum()"
   ],
   "metadata": {
    "collapsed": false,
    "ExecuteTime": {
     "start_time": "2023-04-16T12:55:35.429933Z",
     "end_time": "2023-04-16T12:55:35.528667Z"
    }
   }
  },
  {
   "cell_type": "code",
   "execution_count": 209,
   "outputs": [
    {
     "data": {
      "text/plain": "1"
     },
     "execution_count": 209,
     "metadata": {},
     "output_type": "execute_result"
    }
   ],
   "source": [
    "np.min(x)"
   ],
   "metadata": {
    "collapsed": false,
    "ExecuteTime": {
     "start_time": "2023-04-16T12:56:15.271801Z",
     "end_time": "2023-04-16T12:56:15.302195Z"
    }
   }
  },
  {
   "cell_type": "code",
   "execution_count": 210,
   "outputs": [
    {
     "data": {
      "text/plain": "4"
     },
     "execution_count": 210,
     "metadata": {},
     "output_type": "execute_result"
    }
   ],
   "source": [
    "x.max()"
   ],
   "metadata": {
    "collapsed": false,
    "ExecuteTime": {
     "start_time": "2023-04-16T12:56:23.169108Z",
     "end_time": "2023-04-16T12:56:23.303748Z"
    }
   }
  },
  {
   "cell_type": "code",
   "execution_count": 211,
   "outputs": [
    {
     "data": {
      "text/plain": "0"
     },
     "execution_count": 211,
     "metadata": {},
     "output_type": "execute_result"
    }
   ],
   "source": [
    "x.argmin() # 최솟값의 위치"
   ],
   "metadata": {
    "collapsed": false,
    "ExecuteTime": {
     "start_time": "2023-04-16T12:57:04.579639Z",
     "end_time": "2023-04-16T12:57:04.681366Z"
    }
   }
  },
  {
   "cell_type": "code",
   "execution_count": 212,
   "outputs": [
    {
     "data": {
      "text/plain": "3"
     },
     "execution_count": 212,
     "metadata": {},
     "output_type": "execute_result"
    }
   ],
   "source": [
    "np.argmax(x) # 최댓값의 위치"
   ],
   "metadata": {
    "collapsed": false,
    "ExecuteTime": {
     "start_time": "2023-04-16T12:57:29.006925Z",
     "end_time": "2023-04-16T12:57:29.110179Z"
    }
   }
  },
  {
   "cell_type": "code",
   "execution_count": 213,
   "outputs": [],
   "source": [
    "x = np.array([1, 2, 3, 1])"
   ],
   "metadata": {
    "collapsed": false,
    "ExecuteTime": {
     "start_time": "2023-04-16T12:57:42.711768Z",
     "end_time": "2023-04-16T12:57:42.810503Z"
    }
   }
  },
  {
   "cell_type": "code",
   "execution_count": 219,
   "outputs": [
    {
     "data": {
      "text/plain": "1.75"
     },
     "execution_count": 219,
     "metadata": {},
     "output_type": "execute_result"
    }
   ],
   "source": [
    "x.mean()\n",
    "np.mean(x)"
   ],
   "metadata": {
    "collapsed": false,
    "ExecuteTime": {
     "start_time": "2023-04-16T12:59:29.460828Z",
     "end_time": "2023-04-16T12:59:29.495735Z"
    }
   }
  },
  {
   "cell_type": "code",
   "execution_count": 216,
   "outputs": [
    {
     "data": {
      "text/plain": "1.5"
     },
     "execution_count": 216,
     "metadata": {},
     "output_type": "execute_result"
    }
   ],
   "source": [
    "np.median(x)"
   ],
   "metadata": {
    "collapsed": false,
    "ExecuteTime": {
     "start_time": "2023-04-16T12:58:22.283861Z",
     "end_time": "2023-04-16T12:58:22.318792Z"
    }
   }
  },
  {
   "cell_type": "code",
   "execution_count": 220,
   "outputs": [
    {
     "data": {
      "text/plain": "False"
     },
     "execution_count": 220,
     "metadata": {},
     "output_type": "execute_result"
    }
   ],
   "source": [
    "np.all([True,False,True]) ###"
   ],
   "metadata": {
    "collapsed": false,
    "ExecuteTime": {
     "start_time": "2023-04-16T13:06:38.466119Z",
     "end_time": "2023-04-16T13:06:38.522967Z"
    }
   }
  },
  {
   "cell_type": "code",
   "execution_count": 221,
   "outputs": [
    {
     "data": {
      "text/plain": "True"
     },
     "execution_count": 221,
     "metadata": {},
     "output_type": "execute_result"
    }
   ],
   "source": [
    "np.any([True,True,False])"
   ],
   "metadata": {
    "collapsed": false,
    "ExecuteTime": {
     "start_time": "2023-04-16T13:07:47.933701Z",
     "end_time": "2023-04-16T13:07:48.033434Z"
    }
   }
  },
  {
   "cell_type": "code",
   "execution_count": 224,
   "outputs": [
    {
     "data": {
      "text/plain": "array([[0, 0, 0, ..., 0, 0, 0],\n       [0, 0, 0, ..., 0, 0, 0],\n       [0, 0, 0, ..., 0, 0, 0],\n       ...,\n       [0, 0, 0, ..., 0, 0, 0],\n       [0, 0, 0, ..., 0, 0, 0],\n       [0, 0, 0, ..., 0, 0, 0]])"
     },
     "execution_count": 224,
     "metadata": {},
     "output_type": "execute_result"
    }
   ],
   "source": [
    "a = np.zeros((100,100),dtype=int)\n",
    "a"
   ],
   "metadata": {
    "collapsed": false,
    "ExecuteTime": {
     "start_time": "2023-04-16T13:09:34.754560Z",
     "end_time": "2023-04-16T13:09:34.784480Z"
    }
   }
  },
  {
   "cell_type": "code",
   "execution_count": 225,
   "outputs": [
    {
     "data": {
      "text/plain": "False"
     },
     "execution_count": 225,
     "metadata": {},
     "output_type": "execute_result"
    }
   ],
   "source": [
    "np.any(a != 0)"
   ],
   "metadata": {
    "collapsed": false,
    "ExecuteTime": {
     "start_time": "2023-04-16T13:09:54.058315Z",
     "end_time": "2023-04-16T13:09:54.162262Z"
    }
   }
  },
  {
   "cell_type": "code",
   "execution_count": 226,
   "outputs": [
    {
     "data": {
      "text/plain": "True"
     },
     "execution_count": 226,
     "metadata": {},
     "output_type": "execute_result"
    }
   ],
   "source": [
    "np.all(a == a) # 어디에 쓰이나? 열 내의 모든 값이 같은지 검사하는 데 자주 사용"
   ],
   "metadata": {
    "collapsed": false,
    "ExecuteTime": {
     "start_time": "2023-04-16T13:10:13.583816Z",
     "end_time": "2023-04-16T13:10:13.679586Z"
    }
   }
  },
  {
   "cell_type": "code",
   "execution_count": 227,
   "outputs": [],
   "source": [
    "a = np.array([1, 2, 3, 2])\n",
    "b = np.array([2, 2, 3, 2])\n",
    "c = np.array([6, 4, 4, 5])"
   ],
   "metadata": {
    "collapsed": false,
    "ExecuteTime": {
     "start_time": "2023-04-16T13:11:18.731759Z",
     "end_time": "2023-04-16T13:11:18.837501Z"
    }
   }
  },
  {
   "cell_type": "code",
   "execution_count": 228,
   "outputs": [
    {
     "data": {
      "text/plain": "True"
     },
     "execution_count": 228,
     "metadata": {},
     "output_type": "execute_result"
    }
   ],
   "source": [
    "((a <= b) & (b <= c)).all()"
   ],
   "metadata": {
    "collapsed": false,
    "ExecuteTime": {
     "start_time": "2023-04-16T13:11:33.497506Z",
     "end_time": "2023-04-16T13:11:33.605242Z"
    }
   }
  },
  {
   "cell_type": "code",
   "execution_count": 239,
   "outputs": [
    {
     "data": {
      "text/plain": "array([[1, 1],\n       [2, 2]])"
     },
     "execution_count": 239,
     "metadata": {},
     "output_type": "execute_result"
    }
   ],
   "source": [
    "x = np.array([[1, 1], [2, 2]])\n",
    "x"
   ],
   "metadata": {
    "collapsed": false,
    "ExecuteTime": {
     "start_time": "2023-04-16T13:27:14.698779Z",
     "end_time": "2023-04-16T13:27:14.733712Z"
    }
   }
  },
  {
   "cell_type": "code",
   "execution_count": 240,
   "outputs": [
    {
     "data": {
      "text/plain": "6"
     },
     "execution_count": 240,
     "metadata": {},
     "output_type": "execute_result"
    }
   ],
   "source": [
    "x.sum()"
   ],
   "metadata": {
    "collapsed": false,
    "ExecuteTime": {
     "start_time": "2023-04-16T13:27:17.314725Z",
     "end_time": "2023-04-16T13:27:17.352648Z"
    }
   }
  },
  {
   "cell_type": "code",
   "execution_count": 241,
   "outputs": [
    {
     "data": {
      "text/plain": "array([3, 3])"
     },
     "execution_count": 241,
     "metadata": {},
     "output_type": "execute_result"
    }
   ],
   "source": [
    "x.sum(axis=0) # 열 합계"
   ],
   "metadata": {
    "collapsed": false,
    "ExecuteTime": {
     "start_time": "2023-04-16T13:27:17.967386Z",
     "end_time": "2023-04-16T13:27:18.004795Z"
    }
   }
  },
  {
   "cell_type": "code",
   "execution_count": 242,
   "outputs": [
    {
     "data": {
      "text/plain": "array([2, 4])"
     },
     "execution_count": 242,
     "metadata": {},
     "output_type": "execute_result"
    }
   ],
   "source": [
    "x.sum(axis=1) # 행 합계"
   ],
   "metadata": {
    "collapsed": false,
    "ExecuteTime": {
     "start_time": "2023-04-16T13:27:18.945717Z",
     "end_time": "2023-04-16T13:27:18.983640Z"
    }
   }
  },
  {
   "cell_type": "markdown",
   "source": [
    "연산의 대상이 2차원 이상인 경우에는 어느 차원으로 계산을 할 지를 axis 인수를 사용하여 지시한다. axis=0인 경우는 열 연산, axis=1인 경우는 행 연산이다. 디폴트 값은 axis=0이다. axis 인수는 대부분의 차원 축소 명령에 적용할 수 있다."
   ],
   "metadata": {
    "collapsed": false
   }
  },
  {
   "cell_type": "markdown",
   "source": [
    "#### 연습 문제 3.3.1\n",
    "실수로 이루어진 5 x 6 형태의 데이터 행렬을 만들고 이 데이터에 대해 다음과 같은 값을 구한다.\n",
    "1. 전체의 최댓값\n",
    "2. 각 행의 합\n",
    "3. 각 행의 최댓값\n",
    "4. 각 열의 평균\n",
    "5. 각 열의 최솟값"
   ],
   "metadata": {
    "collapsed": false
   }
  },
  {
   "cell_type": "code",
   "execution_count": 232,
   "outputs": [
    {
     "data": {
      "text/plain": "array([[8, 9, 1, 7, 4, 7],\n       [0, 2, 0, 3, 2, 3],\n       [3, 8, 8, 5, 6, 8],\n       [1, 2, 1, 1, 0, 3],\n       [5, 7, 4, 6, 4, 7]])"
     },
     "execution_count": 232,
     "metadata": {},
     "output_type": "execute_result"
    }
   ],
   "source": [
    "num = (np.random.rand(5,6)*10).astype(int)\n",
    "num"
   ],
   "metadata": {
    "collapsed": false,
    "ExecuteTime": {
     "start_time": "2023-04-16T13:21:48.829009Z",
     "end_time": "2023-04-16T13:21:48.905804Z"
    }
   }
  },
  {
   "cell_type": "code",
   "execution_count": 235,
   "outputs": [
    {
     "data": {
      "text/plain": "array([9, 3, 8, 3, 7])"
     },
     "execution_count": 235,
     "metadata": {},
     "output_type": "execute_result"
    }
   ],
   "source": [
    "# 1\n",
    "np.max(num, axis=1)"
   ],
   "metadata": {
    "collapsed": false,
    "ExecuteTime": {
     "start_time": "2023-04-16T13:25:23.101131Z",
     "end_time": "2023-04-16T13:25:23.139054Z"
    }
   }
  },
  {
   "cell_type": "code",
   "execution_count": 234,
   "outputs": [
    {
     "data": {
      "text/plain": "array([36, 10, 38,  8, 33])"
     },
     "execution_count": 234,
     "metadata": {},
     "output_type": "execute_result"
    }
   ],
   "source": [
    "# 2\n",
    "np.sum(num, axis=1)"
   ],
   "metadata": {
    "collapsed": false,
    "ExecuteTime": {
     "start_time": "2023-04-16T13:25:02.930142Z",
     "end_time": "2023-04-16T13:25:03.073785Z"
    }
   }
  },
  {
   "cell_type": "code",
   "execution_count": 243,
   "outputs": [
    {
     "data": {
      "text/plain": "array([9, 3, 8, 3, 7])"
     },
     "execution_count": 243,
     "metadata": {},
     "output_type": "execute_result"
    }
   ],
   "source": [
    "# 3\n",
    "np.max(num, axis=1)"
   ],
   "metadata": {
    "collapsed": false,
    "ExecuteTime": {
     "start_time": "2023-04-16T13:28:04.586893Z",
     "end_time": "2023-04-16T13:28:04.716546Z"
    }
   }
  },
  {
   "cell_type": "code",
   "execution_count": 245,
   "outputs": [
    {
     "data": {
      "text/plain": "array([3.4, 5.6, 2.8, 4.4, 3.2, 5.6])"
     },
     "execution_count": 245,
     "metadata": {},
     "output_type": "execute_result"
    }
   ],
   "source": [
    "# 4\n",
    "np.average(num, axis=0)"
   ],
   "metadata": {
    "collapsed": false,
    "ExecuteTime": {
     "start_time": "2023-04-16T13:28:37.417704Z",
     "end_time": "2023-04-16T13:28:37.453608Z"
    }
   }
  },
  {
   "cell_type": "code",
   "execution_count": 246,
   "outputs": [
    {
     "data": {
      "text/plain": "array([0, 2, 0, 1, 0, 3])"
     },
     "execution_count": 246,
     "metadata": {},
     "output_type": "execute_result"
    }
   ],
   "source": [
    "np.min(num, axis=0)"
   ],
   "metadata": {
    "collapsed": false,
    "ExecuteTime": {
     "start_time": "2023-04-16T13:29:08.314693Z",
     "end_time": "2023-04-16T13:29:08.449814Z"
    }
   }
  },
  {
   "cell_type": "markdown",
   "source": [
    "### 정렬\n",
    "sort 함수나 메서드를 사용하여 배열 안의 원소를 크기에 따라 정렬하여 새로운 배열을 만들 수도 있다. 2차원 이상인 경우에는 행이나 열을 각각 따로따로 정렬하는데 axis 인수를 사용하여 행을 정렬할 것인지 열을 정렬한 것인지 결정한다. axis=0 이면 각각의 행을 따로따로 정렬하고 axis=1 이면 각각의 열을 따로따로 정렬한다. 디폴트 값은 -1 즉 가장 안쪽(나중)의 차원이다."
   ],
   "metadata": {
    "collapsed": false
   }
  },
  {
   "cell_type": "code",
   "execution_count": 247,
   "outputs": [
    {
     "data": {
      "text/plain": "array([[ 4,  3,  5,  7],\n       [ 1, 12, 11,  9],\n       [ 2, 15,  1, 14]])"
     },
     "execution_count": 247,
     "metadata": {},
     "output_type": "execute_result"
    }
   ],
   "source": [
    "a = np.array([[4,  3,  5,  7],\n",
    "              [1, 12, 11,  9],\n",
    "              [2, 15,  1, 14]])\n",
    "a"
   ],
   "metadata": {
    "collapsed": false,
    "ExecuteTime": {
     "start_time": "2023-04-16T13:30:34.953338Z",
     "end_time": "2023-04-16T13:30:35.069027Z"
    }
   }
  },
  {
   "cell_type": "code",
   "execution_count": 248,
   "outputs": [
    {
     "data": {
      "text/plain": "array([[ 3,  4,  5,  7],\n       [ 1,  9, 11, 12],\n       [ 1,  2, 14, 15]])"
     },
     "execution_count": 248,
     "metadata": {},
     "output_type": "execute_result"
    }
   ],
   "source": [
    "np.sort(a) # axis=-1 또는 axis=1 과 동일"
   ],
   "metadata": {
    "collapsed": false,
    "ExecuteTime": {
     "start_time": "2023-04-16T13:31:16.492085Z",
     "end_time": "2023-04-16T13:31:16.608829Z"
    }
   }
  },
  {
   "cell_type": "code",
   "execution_count": 249,
   "outputs": [
    {
     "data": {
      "text/plain": "array([[ 1,  3,  1,  7],\n       [ 2, 12,  5,  9],\n       [ 4, 15, 11, 14]])"
     },
     "execution_count": 249,
     "metadata": {},
     "output_type": "execute_result"
    }
   ],
   "source": [
    "np.sort(a, axis=0)"
   ],
   "metadata": {
    "collapsed": false,
    "ExecuteTime": {
     "start_time": "2023-04-16T13:31:41.292358Z",
     "end_time": "2023-04-16T13:31:41.421040Z"
    }
   }
  },
  {
   "cell_type": "code",
   "execution_count": 250,
   "outputs": [
    {
     "data": {
      "text/plain": "array([[ 3,  4,  5,  7],\n       [ 1,  9, 11, 12],\n       [ 1,  2, 14, 15]])"
     },
     "execution_count": 250,
     "metadata": {},
     "output_type": "execute_result"
    }
   ],
   "source": [
    "# sort 메서드는 해당 객체의 자료 자체가 변화하는 자체변화(in-place) 메서드 사용할 때 주의!\n",
    "a.sort(axis=1)\n",
    "a"
   ],
   "metadata": {
    "collapsed": false,
    "ExecuteTime": {
     "start_time": "2023-04-16T13:33:02.610100Z",
     "end_time": "2023-04-16T13:33:02.768676Z"
    }
   }
  },
  {
   "cell_type": "code",
   "execution_count": 251,
   "outputs": [
    {
     "data": {
      "text/plain": "array([2, 3, 1, 0], dtype=int64)"
     },
     "execution_count": 251,
     "metadata": {},
     "output_type": "execute_result"
    }
   ],
   "source": [
    "# 자료를 정렬하는 것이 아니라 순서만 알고 싶다면 argsort 명령을 사용\n",
    "a = np.array([42, 38, 12, 25])\n",
    "j = np.argsort(a)\n",
    "j"
   ],
   "metadata": {
    "collapsed": false,
    "ExecuteTime": {
     "start_time": "2023-04-16T13:33:39.987525Z",
     "end_time": "2023-04-16T13:33:40.107707Z"
    }
   }
  },
  {
   "cell_type": "code",
   "execution_count": 254,
   "outputs": [
    {
     "data": {
      "text/plain": "array([12, 25, 38, 42])"
     },
     "execution_count": 254,
     "metadata": {},
     "output_type": "execute_result"
    }
   ],
   "source": [
    "a[j] # 크기 순으로 정렬"
   ],
   "metadata": {
    "collapsed": false,
    "ExecuteTime": {
     "start_time": "2023-04-16T13:34:31.652977Z",
     "end_time": "2023-04-16T13:34:31.687884Z"
    }
   }
  },
  {
   "cell_type": "code",
   "execution_count": 255,
   "outputs": [
    {
     "data": {
      "text/plain": "array([42, 38, 12, 25])"
     },
     "execution_count": 255,
     "metadata": {},
     "output_type": "execute_result"
    }
   ],
   "source": [
    "a"
   ],
   "metadata": {
    "collapsed": false,
    "ExecuteTime": {
     "start_time": "2023-04-16T13:34:41.392503Z",
     "end_time": "2023-04-16T13:34:41.550113Z"
    }
   }
  },
  {
   "cell_type": "code",
   "execution_count": 258,
   "outputs": [
    {
     "data": {
      "text/plain": "array([42, 38, 12, 25])"
     },
     "execution_count": 258,
     "metadata": {},
     "output_type": "execute_result"
    }
   ],
   "source": [
    "np.sort(a) # np.sort 할 때에는 원본배열은 변하지 않음. 그럼 굳이 idx 구해서 확인할 필요 없지 않나?"
   ],
   "metadata": {
    "collapsed": false,
    "ExecuteTime": {
     "start_time": "2023-04-16T13:36:26.351472Z",
     "end_time": "2023-04-16T13:36:26.394358Z"
    }
   }
  },
  {
   "cell_type": "markdown",
   "source": [
    "### 연습 문제 3.3.2\n",
    "다음 배열은 첫번째 행(row)에 학번, 두번째 행에 영어 성적, 세번째 행에 수학 성적을 적은 배열이다. 영어 성적을 기준으로 각 열(column)을 재정렬하라."
   ],
   "metadata": {
    "collapsed": false
   }
  },
  {
   "cell_type": "code",
   "execution_count": 260,
   "outputs": [],
   "source": [
    "# array([[  1,    2,    3,    4],\n",
    "#        [ 46,   99,  100,   71],\n",
    "#        [ 81,   59,   90,  100]])"
   ],
   "metadata": {
    "collapsed": false,
    "ExecuteTime": {
     "start_time": "2023-04-16T13:39:17.596562Z",
     "end_time": "2023-04-16T13:39:17.720257Z"
    }
   }
  },
  {
   "cell_type": "code",
   "execution_count": 270,
   "outputs": [],
   "source": [
    "scores = np.array([[1, 2, 3, 4],\n",
    "                   [46, 99, 100, 71],\n",
    "                   [81, 59, 90, 100]])"
   ],
   "metadata": {
    "collapsed": false,
    "ExecuteTime": {
     "start_time": "2023-04-16T13:48:14.288457Z",
     "end_time": "2023-04-16T13:48:14.386196Z"
    }
   }
  },
  {
   "cell_type": "code",
   "execution_count": 272,
   "outputs": [
    {
     "data": {
      "text/plain": "array([0, 3, 1, 2], dtype=int64)"
     },
     "execution_count": 272,
     "metadata": {},
     "output_type": "execute_result"
    }
   ],
   "source": [
    "english_scores = scores[1]  # 영어 성적을 담은 배열\n",
    "sorted_order = np.argsort(english_scores)  # 정렬한 배열의 인덱스 반환\n",
    "sorted_order"
   ],
   "metadata": {
    "collapsed": false,
    "ExecuteTime": {
     "start_time": "2023-04-16T13:48:25.645108Z",
     "end_time": "2023-04-16T13:48:25.720891Z"
    }
   }
  },
  {
   "cell_type": "code",
   "execution_count": 274,
   "outputs": [
    {
     "name": "stdout",
     "output_type": "stream",
     "text": [
      "[[  1   4   2   3]\n",
      " [ 46  71  99 100]\n",
      " [ 81 100  59  90]]\n"
     ]
    }
   ],
   "source": [
    "sorted_scores = scores[:, sorted_order]\n",
    "print(sorted_scores)"
   ],
   "metadata": {
    "collapsed": false,
    "ExecuteTime": {
     "start_time": "2023-04-16T13:48:38.115795Z",
     "end_time": "2023-04-16T13:48:38.188627Z"
    }
   }
  },
  {
   "cell_type": "code",
   "execution_count": 276,
   "outputs": [
    {
     "data": {
      "text/plain": "array([[  1,   4,   2,   3],\n       [ 46,  71,  99, 100],\n       [ 81, 100,  59,  90]])"
     },
     "execution_count": 276,
     "metadata": {},
     "output_type": "execute_result"
    }
   ],
   "source": [
    "sorted_scores = scores[:,np.argsort(scores[1])]\n",
    "sorted_scores"
   ],
   "metadata": {
    "collapsed": false,
    "ExecuteTime": {
     "start_time": "2023-04-16T13:53:12.700828Z",
     "end_time": "2023-04-16T13:53:12.739724Z"
    }
   }
  },
  {
   "cell_type": "markdown",
   "source": [
    "### 기술 통계\n",
    "넘파이는 다음과 같은 데이터 집합에 대해 간단한 통계를 계산하는 함수를 제공한다.\n",
    "이러한 값들을 통틀어 기술 통계라고 한다.\n",
    " - 데이터의 개수(count)\n",
    " - 평균(mean, average)\n",
    " - 분산(variance)\n",
    " - 표준 편차(standard deviation)\n",
    " - 최댓값(maximum)\n",
    " - 최솟값(minimum)\n",
    " - 중앙값(median)\n",
    " - 사분위수(quartile)\n",
    "\n",
    "예를 들어 다음과 같은 데이터 x가 있다고 하자.\n",
    "x={18,5,10,23,19,−8,10,0,0,5,2,15,8,2,5,4,15,−1,4,−7,−24,7,9,−6,23,−13}\n",
    "x를 이루는 숫자 하나하나를 수학 기호로는 x1,x2,⋯,xN 처럼 표시한다.\n",
    "위 예에서 $$x_{1}=18, x_{2}=5$$이다.\n",
    "넘파이에서는 이러한 데이터를 1차원 배열로 구현한다."
   ],
   "metadata": {
    "collapsed": false
   }
  },
  {
   "cell_type": "code",
   "execution_count": 277,
   "outputs": [],
   "source": [
    "x = np.array([18,   5,  10,  23,  19,  -8,  10,   0,   0,   5,   2,  15,   8,\n",
    "              2,   5,   4,  15,  -1,   4,  -7, -24,   7,   9,  -6,  23, -13])"
   ],
   "metadata": {
    "collapsed": false,
    "ExecuteTime": {
     "start_time": "2023-04-16T13:59:07.519793Z",
     "end_time": "2023-04-16T13:59:07.710334Z"
    }
   }
  },
  {
   "cell_type": "markdown",
   "source": [
    "### 데이터의 개수\n",
    "데이터의 개수는 len 명령을 구할 수 있다."
   ],
   "metadata": {
    "collapsed": false
   }
  },
  {
   "cell_type": "code",
   "execution_count": 278,
   "outputs": [
    {
     "data": {
      "text/plain": "26"
     },
     "execution_count": 278,
     "metadata": {},
     "output_type": "execute_result"
    }
   ],
   "source": [
    "len(x) # 갯수"
   ],
   "metadata": {
    "collapsed": false,
    "ExecuteTime": {
     "start_time": "2023-04-16T14:00:02.600916Z",
     "end_time": "2023-04-16T14:00:02.724599Z"
    }
   }
  },
  {
   "cell_type": "markdown",
   "source": [
    "### 표본 평균\n",
    "평균을 통계용어로는 표본 평균(sample average, sample mean)이라고 함."
   ],
   "metadata": {
    "collapsed": false
   }
  },
  {
   "cell_type": "code",
   "execution_count": 283,
   "outputs": [
    {
     "data": {
      "text/plain": "4.8076923076923075"
     },
     "execution_count": 283,
     "metadata": {},
     "output_type": "execute_result"
    }
   ],
   "source": [
    "np.mean(x)"
   ],
   "metadata": {
    "collapsed": false,
    "ExecuteTime": {
     "start_time": "2023-04-16T14:03:55.200565Z",
     "end_time": "2023-04-16T14:03:55.341157Z"
    }
   }
  },
  {
   "cell_type": "code",
   "execution_count": null,
   "outputs": [],
   "source": [],
   "metadata": {
    "collapsed": false
   }
  }
 ],
 "metadata": {
  "kernelspec": {
   "display_name": "Python 3",
   "language": "python",
   "name": "python3"
  },
  "language_info": {
   "codemirror_mode": {
    "name": "ipython",
    "version": 2
   },
   "file_extension": ".py",
   "mimetype": "text/x-python",
   "name": "python",
   "nbconvert_exporter": "python",
   "pygments_lexer": "ipython2",
   "version": "2.7.6"
  }
 },
 "nbformat": 4,
 "nbformat_minor": 0
}
